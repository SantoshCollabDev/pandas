{
 "cells": [
  {
   "cell_type": "markdown",
   "id": "e8e4f1fc-480f-4a06-a5fa-cc0c73df6e30",
   "metadata": {},
   "source": [
    "## Multiple DataFrames"
   ]
  },
  {
   "cell_type": "code",
   "execution_count": 1,
   "id": "bd59184e-1ea4-42a4-869c-bc3477d6834b",
   "metadata": {},
   "outputs": [],
   "source": [
    "import pandas as pd"
   ]
  },
  {
   "cell_type": "markdown",
   "id": "f1c3d940-5310-47e1-be23-79a100699c18",
   "metadata": {},
   "source": [
    "In order to efficiently store data, we often spread related information across multiple tables.\n",
    "\n",
    "For instance, imagine that we own an e-commerce business and we want to track the products that have been ordered from our website.\n",
    "\n",
    "We could have one table with all of the following information:\n",
    "\n",
    "order_id\n",
    "customer_id\n",
    "customer_name\n",
    "customer_address\n",
    "customer_phone_number\n",
    "product_id\n",
    "product_description\n",
    "product_price\n",
    "quantity\n",
    "timestamp\n",
    "\n",
    "However, a lot of this information would be repeated. \n",
    "\n",
    " If the same customer makes multiple orders, that customer’s name, address, and phone number will be reported multiple times. \n",
    "\n",
    " If the same product is ordered by multiple customers, then the product price and description will be repeated. \n",
    "\n",
    "This will make our orders table big and unmanageable."
   ]
  },
  {
   "cell_type": "code",
   "execution_count": null,
   "id": "83f93bd3-ab92-42d7-b2f4-87bd7baeb5f5",
   "metadata": {},
   "outputs": [],
   "source": [
    "So instead, we can split our data into three tables:  customers ,  products , orders\n",
    "\n",
    "where \n",
    "\n",
    "customers: contain the information for each customer\n",
    "           customer_id, customer_name, customer_address, and customer_phone_number\n",
    "\n",
    "products: contain the information to describe each product\n",
    "          product_id, product_description and product_price\n",
    "\n",
    "orders  : contain the information necessary to describe an order\n",
    "          order_id, customer_id, product_id, quantity, and timestamp\n"
   ]
  },
  {
   "cell_type": "code",
   "execution_count": 2,
   "id": "f1dfb910-83f0-43ee-8850-bb4e3cfb7fe3",
   "metadata": {},
   "outputs": [],
   "source": [
    "orders = pd.read_csv(r'D:\\GIT_Repositories\\pandas\\multids_orders.csv')"
   ]
  },
  {
   "cell_type": "code",
   "execution_count": 3,
   "id": "b037becc-4e65-4974-b296-15285ddaa49e",
   "metadata": {},
   "outputs": [],
   "source": [
    "products = pd.read_csv(r'D:\\GIT_Repositories\\pandas\\multids_products.csv')"
   ]
  },
  {
   "cell_type": "code",
   "execution_count": 4,
   "id": "86b45b2d-fc15-4807-9011-a885091deb5a",
   "metadata": {},
   "outputs": [],
   "source": [
    "customers = pd.read_csv(r'D:\\GIT_Repositories\\pandas\\multids_customers.csv')"
   ]
  },
  {
   "cell_type": "code",
   "execution_count": 5,
   "id": "1926fe32-cd67-4dbb-bac9-b9bb086479de",
   "metadata": {},
   "outputs": [
    {
     "data": {
      "text/html": [
       "<div>\n",
       "<style scoped>\n",
       "    .dataframe tbody tr th:only-of-type {\n",
       "        vertical-align: middle;\n",
       "    }\n",
       "\n",
       "    .dataframe tbody tr th {\n",
       "        vertical-align: top;\n",
       "    }\n",
       "\n",
       "    .dataframe thead th {\n",
       "        text-align: right;\n",
       "    }\n",
       "</style>\n",
       "<table border=\"1\" class=\"dataframe\">\n",
       "  <thead>\n",
       "    <tr style=\"text-align: right;\">\n",
       "      <th></th>\n",
       "      <th>order_id</th>\n",
       "      <th>customer_id</th>\n",
       "      <th>product_id</th>\n",
       "      <th>quantity</th>\n",
       "      <th>timestamp</th>\n",
       "    </tr>\n",
       "  </thead>\n",
       "  <tbody>\n",
       "    <tr>\n",
       "      <th>0</th>\n",
       "      <td>1</td>\n",
       "      <td>2</td>\n",
       "      <td>3</td>\n",
       "      <td>1</td>\n",
       "      <td>01-01-2017</td>\n",
       "    </tr>\n",
       "    <tr>\n",
       "      <th>1</th>\n",
       "      <td>2</td>\n",
       "      <td>2</td>\n",
       "      <td>2</td>\n",
       "      <td>3</td>\n",
       "      <td>01-01-2017</td>\n",
       "    </tr>\n",
       "    <tr>\n",
       "      <th>2</th>\n",
       "      <td>3</td>\n",
       "      <td>3</td>\n",
       "      <td>1</td>\n",
       "      <td>1</td>\n",
       "      <td>01-01-2017</td>\n",
       "    </tr>\n",
       "    <tr>\n",
       "      <th>3</th>\n",
       "      <td>4</td>\n",
       "      <td>3</td>\n",
       "      <td>2</td>\n",
       "      <td>2</td>\n",
       "      <td>01-02-2017</td>\n",
       "    </tr>\n",
       "    <tr>\n",
       "      <th>4</th>\n",
       "      <td>5</td>\n",
       "      <td>3</td>\n",
       "      <td>3</td>\n",
       "      <td>3</td>\n",
       "      <td>01-02-2017</td>\n",
       "    </tr>\n",
       "  </tbody>\n",
       "</table>\n",
       "</div>"
      ],
      "text/plain": [
       "   order_id  customer_id  product_id  quantity   timestamp\n",
       "0         1            2           3         1  01-01-2017\n",
       "1         2            2           2         3  01-01-2017\n",
       "2         3            3           1         1  01-01-2017\n",
       "3         4            3           2         2  01-02-2017\n",
       "4         5            3           3         3  01-02-2017"
      ]
     },
     "execution_count": 5,
     "metadata": {},
     "output_type": "execute_result"
    }
   ],
   "source": [
    "orders.head()"
   ]
  },
  {
   "cell_type": "code",
   "execution_count": 6,
   "id": "d4954b33-da2f-4eba-8224-cae7350535e2",
   "metadata": {},
   "outputs": [
    {
     "data": {
      "text/html": [
       "<div>\n",
       "<style scoped>\n",
       "    .dataframe tbody tr th:only-of-type {\n",
       "        vertical-align: middle;\n",
       "    }\n",
       "\n",
       "    .dataframe tbody tr th {\n",
       "        vertical-align: top;\n",
       "    }\n",
       "\n",
       "    .dataframe thead th {\n",
       "        text-align: right;\n",
       "    }\n",
       "</style>\n",
       "<table border=\"1\" class=\"dataframe\">\n",
       "  <thead>\n",
       "    <tr style=\"text-align: right;\">\n",
       "      <th></th>\n",
       "      <th>product_id</th>\n",
       "      <th>description</th>\n",
       "      <th>price</th>\n",
       "    </tr>\n",
       "  </thead>\n",
       "  <tbody>\n",
       "    <tr>\n",
       "      <th>0</th>\n",
       "      <td>1</td>\n",
       "      <td>thing-a-ma-jig</td>\n",
       "      <td>5</td>\n",
       "    </tr>\n",
       "    <tr>\n",
       "      <th>1</th>\n",
       "      <td>2</td>\n",
       "      <td>whatcha-ma-call-it</td>\n",
       "      <td>10</td>\n",
       "    </tr>\n",
       "    <tr>\n",
       "      <th>2</th>\n",
       "      <td>3</td>\n",
       "      <td>doo-hickey</td>\n",
       "      <td>7</td>\n",
       "    </tr>\n",
       "    <tr>\n",
       "      <th>3</th>\n",
       "      <td>4</td>\n",
       "      <td>gizmo</td>\n",
       "      <td>3</td>\n",
       "    </tr>\n",
       "  </tbody>\n",
       "</table>\n",
       "</div>"
      ],
      "text/plain": [
       "   product_id         description  price\n",
       "0           1      thing-a-ma-jig      5\n",
       "1           2  whatcha-ma-call-it     10\n",
       "2           3          doo-hickey      7\n",
       "3           4               gizmo      3"
      ]
     },
     "execution_count": 6,
     "metadata": {},
     "output_type": "execute_result"
    }
   ],
   "source": [
    "products.head()"
   ]
  },
  {
   "cell_type": "code",
   "execution_count": 7,
   "id": "423fdaa9-21eb-48dc-b5a8-b0020a44d974",
   "metadata": {},
   "outputs": [
    {
     "data": {
      "text/html": [
       "<div>\n",
       "<style scoped>\n",
       "    .dataframe tbody tr th:only-of-type {\n",
       "        vertical-align: middle;\n",
       "    }\n",
       "\n",
       "    .dataframe tbody tr th {\n",
       "        vertical-align: top;\n",
       "    }\n",
       "\n",
       "    .dataframe thead th {\n",
       "        text-align: right;\n",
       "    }\n",
       "</style>\n",
       "<table border=\"1\" class=\"dataframe\">\n",
       "  <thead>\n",
       "    <tr style=\"text-align: right;\">\n",
       "      <th></th>\n",
       "      <th>customer_id</th>\n",
       "      <th>customer_name</th>\n",
       "      <th>address</th>\n",
       "      <th>phone_number</th>\n",
       "    </tr>\n",
       "  </thead>\n",
       "  <tbody>\n",
       "    <tr>\n",
       "      <th>0</th>\n",
       "      <td>1</td>\n",
       "      <td>John Smith</td>\n",
       "      <td>123 Main St.</td>\n",
       "      <td>212-123-4567</td>\n",
       "    </tr>\n",
       "    <tr>\n",
       "      <th>1</th>\n",
       "      <td>2</td>\n",
       "      <td>Jane Doe</td>\n",
       "      <td>456 Park Ave.</td>\n",
       "      <td>949-867-5309</td>\n",
       "    </tr>\n",
       "    <tr>\n",
       "      <th>2</th>\n",
       "      <td>3</td>\n",
       "      <td>Joe Schmo</td>\n",
       "      <td>798 Broadway</td>\n",
       "      <td>112-358-1321</td>\n",
       "    </tr>\n",
       "  </tbody>\n",
       "</table>\n",
       "</div>"
      ],
      "text/plain": [
       "   customer_id customer_name        address  phone_number\n",
       "0            1    John Smith   123 Main St.  212-123-4567\n",
       "1            2      Jane Doe  456 Park Ave.  949-867-5309\n",
       "2            3     Joe Schmo   798 Broadway  112-358-1321"
      ]
     },
     "execution_count": 7,
     "metadata": {},
     "output_type": "execute_result"
    }
   ],
   "source": [
    "customers.head()"
   ]
  },
  {
   "cell_type": "markdown",
   "id": "394965ad-1edf-4b90-948a-a7500811309d",
   "metadata": {},
   "source": [
    "## Question\n",
    "\n",
    "Given a single table, how can we split it into multiple tables?"
   ]
  },
  {
   "cell_type": "code",
   "execution_count": null,
   "id": "3ed97d42-ac28-4f47-a42e-ad6856de8066",
   "metadata": {},
   "outputs": [],
   "source": [
    "In this context, the tables are dataframes. \n",
    "\n",
    "Because they are dataframes, we just need to split the dataframe into separate CSV files using methods from Pandas.\n",
    "\n",
    "Example: \n",
    "========\n",
    "To split a dataframe (“table”) into separate dataframes (“tables”), and save them into separate CSV files, \n",
    "to make them more manageable to work with.\n",
    "\n",
    "# First, read the original CSV and store in \n",
    "# a variable. This is the original \"table\".\n",
    "data = pd.read_csv(\"filename.csv\")\n",
    "\n",
    "# Split the dataframe into separate ones, by columns.\n",
    "# These are the \"tables\".\n",
    "df1 = data[['col1', 'col2']]\n",
    "df2 = data[['col3', 'col4', 'col5']]\n",
    "df3 = data[['col6', 'col7', 'col8']]\n",
    "\n",
    "# Now, we just need to store these into # their own CSV files.\n",
    "# Note: index=False is used to remove the added index column.\n",
    "df1.to_csv('table1.csv', index=False)\n",
    "df2.to_csv('table2.csv', index=False)\n",
    "df3.to_csv('table3.csv', index=False)"
   ]
  },
  {
   "cell_type": "markdown",
   "id": "235ca1ec-8613-4e8f-9920-5a40c7916eec",
   "metadata": {},
   "source": [
    "## Inner Merge I\n"
   ]
  },
  {
   "cell_type": "code",
   "execution_count": 8,
   "id": "bd6ff250-a080-44bb-9e2c-adf173156e32",
   "metadata": {},
   "outputs": [
    {
     "data": {
      "text/html": [
       "<div>\n",
       "<style scoped>\n",
       "    .dataframe tbody tr th:only-of-type {\n",
       "        vertical-align: middle;\n",
       "    }\n",
       "\n",
       "    .dataframe tbody tr th {\n",
       "        vertical-align: top;\n",
       "    }\n",
       "\n",
       "    .dataframe thead th {\n",
       "        text-align: right;\n",
       "    }\n",
       "</style>\n",
       "<table border=\"1\" class=\"dataframe\">\n",
       "  <thead>\n",
       "    <tr style=\"text-align: right;\">\n",
       "      <th></th>\n",
       "      <th>order_id</th>\n",
       "      <th>customer_id</th>\n",
       "      <th>product_id</th>\n",
       "      <th>quantity</th>\n",
       "      <th>timestamp</th>\n",
       "    </tr>\n",
       "  </thead>\n",
       "  <tbody>\n",
       "    <tr>\n",
       "      <th>0</th>\n",
       "      <td>1</td>\n",
       "      <td>2</td>\n",
       "      <td>3</td>\n",
       "      <td>1</td>\n",
       "      <td>01-01-2017</td>\n",
       "    </tr>\n",
       "    <tr>\n",
       "      <th>1</th>\n",
       "      <td>2</td>\n",
       "      <td>2</td>\n",
       "      <td>2</td>\n",
       "      <td>3</td>\n",
       "      <td>01-01-2017</td>\n",
       "    </tr>\n",
       "    <tr>\n",
       "      <th>2</th>\n",
       "      <td>3</td>\n",
       "      <td>3</td>\n",
       "      <td>1</td>\n",
       "      <td>1</td>\n",
       "      <td>01-01-2017</td>\n",
       "    </tr>\n",
       "    <tr>\n",
       "      <th>3</th>\n",
       "      <td>4</td>\n",
       "      <td>3</td>\n",
       "      <td>2</td>\n",
       "      <td>2</td>\n",
       "      <td>01-02-2017</td>\n",
       "    </tr>\n",
       "    <tr>\n",
       "      <th>4</th>\n",
       "      <td>5</td>\n",
       "      <td>3</td>\n",
       "      <td>3</td>\n",
       "      <td>3</td>\n",
       "      <td>01-02-2017</td>\n",
       "    </tr>\n",
       "  </tbody>\n",
       "</table>\n",
       "</div>"
      ],
      "text/plain": [
       "   order_id  customer_id  product_id  quantity   timestamp\n",
       "0         1            2           3         1  01-01-2017\n",
       "1         2            2           2         3  01-01-2017\n",
       "2         3            3           1         1  01-01-2017\n",
       "3         4            3           2         2  01-02-2017\n",
       "4         5            3           3         3  01-02-2017"
      ]
     },
     "execution_count": 8,
     "metadata": {},
     "output_type": "execute_result"
    }
   ],
   "source": [
    "orders.head()"
   ]
  },
  {
   "cell_type": "code",
   "execution_count": 9,
   "id": "65d627a1-bfc7-4bf6-8140-af00cd867d95",
   "metadata": {},
   "outputs": [
    {
     "data": {
      "text/html": [
       "<div>\n",
       "<style scoped>\n",
       "    .dataframe tbody tr th:only-of-type {\n",
       "        vertical-align: middle;\n",
       "    }\n",
       "\n",
       "    .dataframe tbody tr th {\n",
       "        vertical-align: top;\n",
       "    }\n",
       "\n",
       "    .dataframe thead th {\n",
       "        text-align: right;\n",
       "    }\n",
       "</style>\n",
       "<table border=\"1\" class=\"dataframe\">\n",
       "  <thead>\n",
       "    <tr style=\"text-align: right;\">\n",
       "      <th></th>\n",
       "      <th>customer_id</th>\n",
       "      <th>customer_name</th>\n",
       "      <th>address</th>\n",
       "      <th>phone_number</th>\n",
       "    </tr>\n",
       "  </thead>\n",
       "  <tbody>\n",
       "    <tr>\n",
       "      <th>0</th>\n",
       "      <td>1</td>\n",
       "      <td>John Smith</td>\n",
       "      <td>123 Main St.</td>\n",
       "      <td>212-123-4567</td>\n",
       "    </tr>\n",
       "    <tr>\n",
       "      <th>1</th>\n",
       "      <td>2</td>\n",
       "      <td>Jane Doe</td>\n",
       "      <td>456 Park Ave.</td>\n",
       "      <td>949-867-5309</td>\n",
       "    </tr>\n",
       "    <tr>\n",
       "      <th>2</th>\n",
       "      <td>3</td>\n",
       "      <td>Joe Schmo</td>\n",
       "      <td>798 Broadway</td>\n",
       "      <td>112-358-1321</td>\n",
       "    </tr>\n",
       "  </tbody>\n",
       "</table>\n",
       "</div>"
      ],
      "text/plain": [
       "   customer_id customer_name        address  phone_number\n",
       "0            1    John Smith   123 Main St.  212-123-4567\n",
       "1            2      Jane Doe  456 Park Ave.  949-867-5309\n",
       "2            3     Joe Schmo   798 Broadway  112-358-1321"
      ]
     },
     "execution_count": 9,
     "metadata": {},
     "output_type": "execute_result"
    }
   ],
   "source": [
    "customers.head()"
   ]
  },
  {
   "cell_type": "code",
   "execution_count": 10,
   "id": "84e36b5b-fbaf-4309-86ce-caa6b2a7cd74",
   "metadata": {},
   "outputs": [
    {
     "data": {
      "text/html": [
       "<div>\n",
       "<style scoped>\n",
       "    .dataframe tbody tr th:only-of-type {\n",
       "        vertical-align: middle;\n",
       "    }\n",
       "\n",
       "    .dataframe tbody tr th {\n",
       "        vertical-align: top;\n",
       "    }\n",
       "\n",
       "    .dataframe thead th {\n",
       "        text-align: right;\n",
       "    }\n",
       "</style>\n",
       "<table border=\"1\" class=\"dataframe\">\n",
       "  <thead>\n",
       "    <tr style=\"text-align: right;\">\n",
       "      <th></th>\n",
       "      <th>product_id</th>\n",
       "      <th>description</th>\n",
       "      <th>price</th>\n",
       "    </tr>\n",
       "  </thead>\n",
       "  <tbody>\n",
       "    <tr>\n",
       "      <th>0</th>\n",
       "      <td>1</td>\n",
       "      <td>thing-a-ma-jig</td>\n",
       "      <td>5</td>\n",
       "    </tr>\n",
       "    <tr>\n",
       "      <th>1</th>\n",
       "      <td>2</td>\n",
       "      <td>whatcha-ma-call-it</td>\n",
       "      <td>10</td>\n",
       "    </tr>\n",
       "    <tr>\n",
       "      <th>2</th>\n",
       "      <td>3</td>\n",
       "      <td>doo-hickey</td>\n",
       "      <td>7</td>\n",
       "    </tr>\n",
       "    <tr>\n",
       "      <th>3</th>\n",
       "      <td>4</td>\n",
       "      <td>gizmo</td>\n",
       "      <td>3</td>\n",
       "    </tr>\n",
       "  </tbody>\n",
       "</table>\n",
       "</div>"
      ],
      "text/plain": [
       "   product_id         description  price\n",
       "0           1      thing-a-ma-jig      5\n",
       "1           2  whatcha-ma-call-it     10\n",
       "2           3          doo-hickey      7\n",
       "3           4               gizmo      3"
      ]
     },
     "execution_count": 10,
     "metadata": {},
     "output_type": "execute_result"
    }
   ],
   "source": [
    "products.head()"
   ]
  },
  {
   "cell_type": "code",
   "execution_count": null,
   "id": "2026cc91-8d9b-416e-989d-7b1a75b047c6",
   "metadata": {},
   "outputs": [],
   "source": [
    "If we just look at the orders table, we can’t really tell what’s happened in each order. \n",
    "\n",
    "However, if we refer to the other tables, we can get a more complete picture."
   ]
  },
  {
   "cell_type": "code",
   "execution_count": null,
   "id": "5dc2d2ff-9103-4297-a083-ba18f59c486d",
   "metadata": {},
   "outputs": [],
   "source": [
    "Let’s examine the order with an order_id of 1. It was purchased by Customer 2. \n",
    "\n",
    "To find out the customer’s name, we look at the customers table and look for the item with a customer_id value of 2. \n",
    "\n",
    "We can see that Customer 2’s name is Jane Doe and that she lives at 456 Park Ave.\n",
    "\n",
    "Doing this kind of matching is called merging two DataFrames."
   ]
  },
  {
   "cell_type": "markdown",
   "id": "ff2d1d96-debf-4645-a9f9-658b969d96cf",
   "metadata": {},
   "source": [
    "## Question\n",
    "\n",
    "is it possible for there to be duplicate values in the id column of a dataframe?"
   ]
  },
  {
   "cell_type": "code",
   "execution_count": null,
   "id": "df2965b6-7bba-4a78-a8f3-ef7706016de1",
   "metadata": {},
   "outputs": [],
   "source": [
    "Yes, unlike SQL which has primary keys, there is no equivalent method for a column in a pandas dataframe. \n",
    "\n",
    "As a result, a column such as order_id in the orders table can potentially have duplicate values.\n",
    "\n",
    "However, there are a few ways you might deal with this.\n",
    "\n",
    "Approach 1. drop just the duplicate values of a specific column such that you only have unique values. Like so\n",
    "==========\n",
    "    \n",
    "df.drop_duplicates(subset=['column_name'])\n",
    "\n",
    "Approach 2: reset the indexes for each row, and possibly use that as a unique identifier, using reset_index(). \n",
    "==========\n",
    "\n",
    "This method resets the values of the index column to start from 0 and incrementing by 1 for each row, and \n",
    "each one can be guaranteed to be unique."
   ]
  },
  {
   "cell_type": "markdown",
   "id": "34acfdab-327a-47de-9749-6723c92ca338",
   "metadata": {},
   "source": [
    "## .merge()"
   ]
  },
  {
   "cell_type": "code",
   "execution_count": null,
   "id": "dc926629-163f-4003-b0c0-cb7b7ae29db6",
   "metadata": {},
   "outputs": [],
   "source": [
    "method looks for columns that are common between two DataFrames and \n",
    "\n",
    "then looks for rows where those column’s values are the same. \n",
    "\n",
    "It then combines the matching rows into a single row in a new table."
   ]
  },
  {
   "cell_type": "code",
   "execution_count": null,
   "id": "5f7046fb-538b-4ca8-867e-1388fe45bee0",
   "metadata": {},
   "outputs": [],
   "source": [
    "Example/Syntax: pd.merge() method with two tables\n",
    "\n",
    "new_df = pd.merge(orders, customers)\n",
    "\n",
    "This will match up all of the customer information to the orders that each customer made."
   ]
  },
  {
   "cell_type": "markdown",
   "id": "0417a098-746e-44bd-af83-910d42429d7a",
   "metadata": {},
   "source": [
    "## Task 1"
   ]
  },
  {
   "cell_type": "code",
   "execution_count": null,
   "id": "b7f3840c-45e3-4ce1-bf45-796356d8ee9f",
   "metadata": {},
   "outputs": [],
   "source": [
    "You are an analyst at Cool T-Shirts Inc. You are going to help them analyze some of their sales data.\n",
    "\n",
    "There are two DataFrames defined \n",
    "\n",
    "1. sales:  contains the monthly revenue for Cool T-Shirts Inc. \n",
    "It has two columns: month and revenue.\n",
    "\n",
    "2. targets: contains the goals for monthly revenue for each month. \n",
    "It has two columns: month and target.\n",
    "\n",
    "Create a new DataFrame sales_vs_targets which contains the merge of sales and targets."
   ]
  },
  {
   "cell_type": "code",
   "execution_count": 11,
   "id": "faf60e6c-b701-4352-b2f0-4fb29dee19d1",
   "metadata": {},
   "outputs": [],
   "source": [
    "sales = pd.read_csv(r'D:\\GIT_Repositories\\pandas\\T-Shirts_sales.csv')"
   ]
  },
  {
   "cell_type": "code",
   "execution_count": 12,
   "id": "58e1f0aa-6041-4617-9595-5454018e6b6c",
   "metadata": {},
   "outputs": [],
   "source": [
    "targets = pd.read_csv(r'D:\\GIT_Repositories\\pandas\\T-Shirts_targets.csv')"
   ]
  },
  {
   "cell_type": "code",
   "execution_count": 13,
   "id": "62809d37-ac5c-4082-a378-1b16bbca9ac1",
   "metadata": {},
   "outputs": [
    {
     "data": {
      "text/html": [
       "<div>\n",
       "<style scoped>\n",
       "    .dataframe tbody tr th:only-of-type {\n",
       "        vertical-align: middle;\n",
       "    }\n",
       "\n",
       "    .dataframe tbody tr th {\n",
       "        vertical-align: top;\n",
       "    }\n",
       "\n",
       "    .dataframe thead th {\n",
       "        text-align: right;\n",
       "    }\n",
       "</style>\n",
       "<table border=\"1\" class=\"dataframe\">\n",
       "  <thead>\n",
       "    <tr style=\"text-align: right;\">\n",
       "      <th></th>\n",
       "      <th>month</th>\n",
       "      <th>revenue</th>\n",
       "    </tr>\n",
       "  </thead>\n",
       "  <tbody>\n",
       "    <tr>\n",
       "      <th>0</th>\n",
       "      <td>January</td>\n",
       "      <td>300</td>\n",
       "    </tr>\n",
       "    <tr>\n",
       "      <th>1</th>\n",
       "      <td>February</td>\n",
       "      <td>290</td>\n",
       "    </tr>\n",
       "    <tr>\n",
       "      <th>2</th>\n",
       "      <td>March</td>\n",
       "      <td>310</td>\n",
       "    </tr>\n",
       "    <tr>\n",
       "      <th>3</th>\n",
       "      <td>April</td>\n",
       "      <td>325</td>\n",
       "    </tr>\n",
       "    <tr>\n",
       "      <th>4</th>\n",
       "      <td>May</td>\n",
       "      <td>475</td>\n",
       "    </tr>\n",
       "    <tr>\n",
       "      <th>5</th>\n",
       "      <td>June</td>\n",
       "      <td>495</td>\n",
       "    </tr>\n",
       "  </tbody>\n",
       "</table>\n",
       "</div>"
      ],
      "text/plain": [
       "      month  revenue\n",
       "0   January      300\n",
       "1  February      290\n",
       "2     March      310\n",
       "3     April      325\n",
       "4       May      475\n",
       "5      June      495"
      ]
     },
     "execution_count": 13,
     "metadata": {},
     "output_type": "execute_result"
    }
   ],
   "source": [
    "sales"
   ]
  },
  {
   "cell_type": "code",
   "execution_count": 14,
   "id": "5f6d3eff-9c59-414b-8c1d-bd1179a9a441",
   "metadata": {},
   "outputs": [
    {
     "data": {
      "text/html": [
       "<div>\n",
       "<style scoped>\n",
       "    .dataframe tbody tr th:only-of-type {\n",
       "        vertical-align: middle;\n",
       "    }\n",
       "\n",
       "    .dataframe tbody tr th {\n",
       "        vertical-align: top;\n",
       "    }\n",
       "\n",
       "    .dataframe thead th {\n",
       "        text-align: right;\n",
       "    }\n",
       "</style>\n",
       "<table border=\"1\" class=\"dataframe\">\n",
       "  <thead>\n",
       "    <tr style=\"text-align: right;\">\n",
       "      <th></th>\n",
       "      <th>month</th>\n",
       "      <th>target</th>\n",
       "    </tr>\n",
       "  </thead>\n",
       "  <tbody>\n",
       "    <tr>\n",
       "      <th>0</th>\n",
       "      <td>January</td>\n",
       "      <td>310</td>\n",
       "    </tr>\n",
       "    <tr>\n",
       "      <th>1</th>\n",
       "      <td>February</td>\n",
       "      <td>270</td>\n",
       "    </tr>\n",
       "    <tr>\n",
       "      <th>2</th>\n",
       "      <td>March</td>\n",
       "      <td>300</td>\n",
       "    </tr>\n",
       "    <tr>\n",
       "      <th>3</th>\n",
       "      <td>April</td>\n",
       "      <td>350</td>\n",
       "    </tr>\n",
       "    <tr>\n",
       "      <th>4</th>\n",
       "      <td>May</td>\n",
       "      <td>475</td>\n",
       "    </tr>\n",
       "    <tr>\n",
       "      <th>5</th>\n",
       "      <td>June</td>\n",
       "      <td>500</td>\n",
       "    </tr>\n",
       "  </tbody>\n",
       "</table>\n",
       "</div>"
      ],
      "text/plain": [
       "      month  target\n",
       "0   January     310\n",
       "1  February     270\n",
       "2     March     300\n",
       "3     April     350\n",
       "4       May     475\n",
       "5      June     500"
      ]
     },
     "execution_count": 14,
     "metadata": {},
     "output_type": "execute_result"
    }
   ],
   "source": [
    "targets"
   ]
  },
  {
   "cell_type": "code",
   "execution_count": 15,
   "id": "606dcab6-106d-4bb6-a66d-b3cc0a6aca03",
   "metadata": {},
   "outputs": [],
   "source": [
    "sales_vs_targets = pd.merge(sales, targets)"
   ]
  },
  {
   "cell_type": "code",
   "execution_count": 16,
   "id": "a7633616-86d8-47c9-bcff-55078f29d171",
   "metadata": {},
   "outputs": [
    {
     "data": {
      "text/html": [
       "<div>\n",
       "<style scoped>\n",
       "    .dataframe tbody tr th:only-of-type {\n",
       "        vertical-align: middle;\n",
       "    }\n",
       "\n",
       "    .dataframe tbody tr th {\n",
       "        vertical-align: top;\n",
       "    }\n",
       "\n",
       "    .dataframe thead th {\n",
       "        text-align: right;\n",
       "    }\n",
       "</style>\n",
       "<table border=\"1\" class=\"dataframe\">\n",
       "  <thead>\n",
       "    <tr style=\"text-align: right;\">\n",
       "      <th></th>\n",
       "      <th>month</th>\n",
       "      <th>revenue</th>\n",
       "      <th>target</th>\n",
       "    </tr>\n",
       "  </thead>\n",
       "  <tbody>\n",
       "    <tr>\n",
       "      <th>0</th>\n",
       "      <td>January</td>\n",
       "      <td>300</td>\n",
       "      <td>310</td>\n",
       "    </tr>\n",
       "    <tr>\n",
       "      <th>1</th>\n",
       "      <td>February</td>\n",
       "      <td>290</td>\n",
       "      <td>270</td>\n",
       "    </tr>\n",
       "    <tr>\n",
       "      <th>2</th>\n",
       "      <td>March</td>\n",
       "      <td>310</td>\n",
       "      <td>300</td>\n",
       "    </tr>\n",
       "    <tr>\n",
       "      <th>3</th>\n",
       "      <td>April</td>\n",
       "      <td>325</td>\n",
       "      <td>350</td>\n",
       "    </tr>\n",
       "    <tr>\n",
       "      <th>4</th>\n",
       "      <td>May</td>\n",
       "      <td>475</td>\n",
       "      <td>475</td>\n",
       "    </tr>\n",
       "    <tr>\n",
       "      <th>5</th>\n",
       "      <td>June</td>\n",
       "      <td>495</td>\n",
       "      <td>500</td>\n",
       "    </tr>\n",
       "  </tbody>\n",
       "</table>\n",
       "</div>"
      ],
      "text/plain": [
       "      month  revenue  target\n",
       "0   January      300     310\n",
       "1  February      290     270\n",
       "2     March      310     300\n",
       "3     April      325     350\n",
       "4       May      475     475\n",
       "5      June      495     500"
      ]
     },
     "execution_count": 16,
     "metadata": {},
     "output_type": "execute_result"
    }
   ],
   "source": [
    "sales_vs_targets"
   ]
  },
  {
   "cell_type": "markdown",
   "id": "6a0e7220-9faf-4657-a1db-250f5c40d938",
   "metadata": {},
   "source": [
    "## Task "
   ]
  },
  {
   "cell_type": "code",
   "execution_count": null,
   "id": "e93e00ab-6d76-4f03-9e9c-46c8d3c81e8e",
   "metadata": {},
   "outputs": [],
   "source": [
    "Cool T-Shirts Inc. wants to know the months when they crushed their targets.\n",
    "\n",
    "Select the rows from sales_vs_targets where revenue is greater than target. Save these rows to the variable crushing_it."
   ]
  },
  {
   "cell_type": "code",
   "execution_count": 18,
   "id": "341a64f6-60ae-40f3-8884-2256aab3f1eb",
   "metadata": {},
   "outputs": [],
   "source": [
    "crushing_it = sales_vs_targets[sales_vs_targets['revenue'] > sales_vs_targets['target']]"
   ]
  },
  {
   "cell_type": "code",
   "execution_count": 19,
   "id": "047781ac-8afc-4838-8c01-af819e27b8b2",
   "metadata": {},
   "outputs": [
    {
     "data": {
      "text/html": [
       "<div>\n",
       "<style scoped>\n",
       "    .dataframe tbody tr th:only-of-type {\n",
       "        vertical-align: middle;\n",
       "    }\n",
       "\n",
       "    .dataframe tbody tr th {\n",
       "        vertical-align: top;\n",
       "    }\n",
       "\n",
       "    .dataframe thead th {\n",
       "        text-align: right;\n",
       "    }\n",
       "</style>\n",
       "<table border=\"1\" class=\"dataframe\">\n",
       "  <thead>\n",
       "    <tr style=\"text-align: right;\">\n",
       "      <th></th>\n",
       "      <th>month</th>\n",
       "      <th>revenue</th>\n",
       "      <th>target</th>\n",
       "    </tr>\n",
       "  </thead>\n",
       "  <tbody>\n",
       "    <tr>\n",
       "      <th>1</th>\n",
       "      <td>February</td>\n",
       "      <td>290</td>\n",
       "      <td>270</td>\n",
       "    </tr>\n",
       "    <tr>\n",
       "      <th>2</th>\n",
       "      <td>March</td>\n",
       "      <td>310</td>\n",
       "      <td>300</td>\n",
       "    </tr>\n",
       "  </tbody>\n",
       "</table>\n",
       "</div>"
      ],
      "text/plain": [
       "      month  revenue  target\n",
       "1  February      290     270\n",
       "2     March      310     300"
      ]
     },
     "execution_count": 19,
     "metadata": {},
     "output_type": "execute_result"
    }
   ],
   "source": [
    "crushing_it"
   ]
  },
  {
   "cell_type": "markdown",
   "id": "22819c82-122a-45e4-a87f-226e9566808c",
   "metadata": {},
   "source": [
    "## Question"
   ]
  },
  {
   "cell_type": "code",
   "execution_count": null,
   "id": "1bd1d561-695f-42e2-879d-51889db73aa3",
   "metadata": {},
   "outputs": [],
   "source": [
    "if two dataframes share more than one column name, how are they merged? \n",
    "\n",
    "Are they just merged on the first matching column, or every matching column?"
   ]
  },
  {
   "cell_type": "code",
   "execution_count": null,
   "id": "06fc4b82-e499-45f8-aa41-65607869cf0c",
   "metadata": {},
   "outputs": [],
   "source": [
    "The merge will check all columns that match between the two dataframes if they share more than one column name.\n",
    "\n",
    "By default, if we run the pd.merge() method, it performs an inner join. \n",
    "With an inner join, all values of every matching column must match in order for the rows to be returned.\n",
    "\n",
    "In the following example, only the rows for which all values of every matching column are the same will be returned.\n",
    "\n",
    "df1 = pd.DataFrame({\n",
    "  'id': [1, 2, 3],\n",
    "  'name': ['Alice', 'Bob', 'Carl']\n",
    "})\n",
    "\n",
    "df2 = pd.DataFrame({\n",
    "  'id': [1, 2, 3],\n",
    "  'name': ['David', 'Elsa', 'Carl']\n",
    "})\n",
    "\n",
    "merged = pd.merge(df1, df2)\n",
    "print(merged)\n",
    "#       id    name\n",
    "#  0     3    Carl\n",
    "                                                                                                                                                   "
   ]
  },
  {
   "cell_type": "markdown",
   "id": "1667e15c-f551-4d5b-ab23-c9a11f2d5e6b",
   "metadata": {},
   "source": [
    "## Inner Merge II \n"
   ]
  },
  {
   "cell_type": "code",
   "execution_count": null,
   "id": "6bf84c34-d804-4d77-83ad-99e480896fbf",
   "metadata": {},
   "outputs": [],
   "source": [
    "In addition to using pd.merge(), each DataFrame has its own .merge() method. \n",
    "\n",
    "For instance, if you wanted to merge orders with customers, you could use:\n",
    "\n",
    "new_df = orders.merge(customers)\n",
    "\n",
    "This produces the same DataFrame as if we had called pd.merge(orders, customers)."
   ]
  },
  {
   "cell_type": "markdown",
   "id": "f1f7621a-37ab-4f6e-a420-3325bbd20734",
   "metadata": {},
   "source": [
    "#### when do we prefer the Dataframes own merge method over pd.merge() ????"
   ]
  },
  {
   "cell_type": "code",
   "execution_count": null,
   "id": "f9e7ea20-f624-475d-abe9-93f74ba18cb3",
   "metadata": {},
   "outputs": [],
   "source": [
    "We generally use this when we are joining more than two DataFrames together because we can “chain” the commands.\n",
    "\n",
    "The following command would merge orders to customers, and then the resulting DataFrame to products:\n",
    "\n",
    "big_df = orders.merge(customers)\\\n",
    "    .merge(products)"
   ]
  },
  {
   "cell_type": "markdown",
   "id": "93f30f9a-c4e2-4874-8421-0ddf05bacb39",
   "metadata": {},
   "source": [
    "## Task\n"
   ]
  },
  {
   "cell_type": "code",
   "execution_count": null,
   "id": "1cdb37d1-64f1-4d56-a690-f2489af7863b",
   "metadata": {},
   "outputs": [],
   "source": [
    "\n",
    "We have some more data from Cool T-Shirts Inc. \n",
    "\n",
    "The number of men’s and women’s t-shirts sold per month is in a file called men_women_sales.csv. \n",
    "\n",
    "Load this data into a DataFrame called men_women.\n",
    "\n",
    "Merge all three DataFrames (sales, targets, and men_women) into one big DataFrame called all_data.\n",
    "\n",
    "Display all_data using print."
   ]
  },
  {
   "cell_type": "code",
   "execution_count": 20,
   "id": "e0286d6f-815b-4b7e-9d68-011270b40567",
   "metadata": {},
   "outputs": [],
   "source": [
    "men_women = pd.read_csv(r'T-Shirts_men_women_sales.csv')"
   ]
  },
  {
   "cell_type": "code",
   "execution_count": 23,
   "id": "70a89bb9-bd9e-43b5-a100-c2db889b51bc",
   "metadata": {},
   "outputs": [
    {
     "data": {
      "text/html": [
       "<div>\n",
       "<style scoped>\n",
       "    .dataframe tbody tr th:only-of-type {\n",
       "        vertical-align: middle;\n",
       "    }\n",
       "\n",
       "    .dataframe tbody tr th {\n",
       "        vertical-align: top;\n",
       "    }\n",
       "\n",
       "    .dataframe thead th {\n",
       "        text-align: right;\n",
       "    }\n",
       "</style>\n",
       "<table border=\"1\" class=\"dataframe\">\n",
       "  <thead>\n",
       "    <tr style=\"text-align: right;\">\n",
       "      <th></th>\n",
       "      <th>month</th>\n",
       "      <th>men</th>\n",
       "      <th>women</th>\n",
       "    </tr>\n",
       "  </thead>\n",
       "  <tbody>\n",
       "    <tr>\n",
       "      <th>0</th>\n",
       "      <td>January</td>\n",
       "      <td>30</td>\n",
       "      <td>35</td>\n",
       "    </tr>\n",
       "    <tr>\n",
       "      <th>1</th>\n",
       "      <td>February</td>\n",
       "      <td>29</td>\n",
       "      <td>35</td>\n",
       "    </tr>\n",
       "    <tr>\n",
       "      <th>2</th>\n",
       "      <td>March</td>\n",
       "      <td>31</td>\n",
       "      <td>29</td>\n",
       "    </tr>\n",
       "    <tr>\n",
       "      <th>3</th>\n",
       "      <td>April</td>\n",
       "      <td>32</td>\n",
       "      <td>28</td>\n",
       "    </tr>\n",
       "    <tr>\n",
       "      <th>4</th>\n",
       "      <td>May</td>\n",
       "      <td>47</td>\n",
       "      <td>50</td>\n",
       "    </tr>\n",
       "    <tr>\n",
       "      <th>5</th>\n",
       "      <td>June</td>\n",
       "      <td>49</td>\n",
       "      <td>45</td>\n",
       "    </tr>\n",
       "  </tbody>\n",
       "</table>\n",
       "</div>"
      ],
      "text/plain": [
       "      month  men  women\n",
       "0   January   30     35\n",
       "1  February   29     35\n",
       "2     March   31     29\n",
       "3     April   32     28\n",
       "4       May   47     50\n",
       "5      June   49     45"
      ]
     },
     "execution_count": 23,
     "metadata": {},
     "output_type": "execute_result"
    }
   ],
   "source": [
    "men_women"
   ]
  },
  {
   "cell_type": "code",
   "execution_count": 21,
   "id": "873769c7-cbed-4d7a-b6d9-e10aa2870441",
   "metadata": {},
   "outputs": [],
   "source": [
    "all_data = sales \\\n",
    "    .merge(targets) \\\n",
    "    .merge(men_women)"
   ]
  },
  {
   "cell_type": "code",
   "execution_count": 22,
   "id": "bf204b12-9801-4bfc-a252-e7f1901afd2c",
   "metadata": {
    "scrolled": true
   },
   "outputs": [
    {
     "data": {
      "text/html": [
       "<div>\n",
       "<style scoped>\n",
       "    .dataframe tbody tr th:only-of-type {\n",
       "        vertical-align: middle;\n",
       "    }\n",
       "\n",
       "    .dataframe tbody tr th {\n",
       "        vertical-align: top;\n",
       "    }\n",
       "\n",
       "    .dataframe thead th {\n",
       "        text-align: right;\n",
       "    }\n",
       "</style>\n",
       "<table border=\"1\" class=\"dataframe\">\n",
       "  <thead>\n",
       "    <tr style=\"text-align: right;\">\n",
       "      <th></th>\n",
       "      <th>month</th>\n",
       "      <th>revenue</th>\n",
       "      <th>target</th>\n",
       "      <th>men</th>\n",
       "      <th>women</th>\n",
       "    </tr>\n",
       "  </thead>\n",
       "  <tbody>\n",
       "    <tr>\n",
       "      <th>0</th>\n",
       "      <td>January</td>\n",
       "      <td>300</td>\n",
       "      <td>310</td>\n",
       "      <td>30</td>\n",
       "      <td>35</td>\n",
       "    </tr>\n",
       "    <tr>\n",
       "      <th>1</th>\n",
       "      <td>February</td>\n",
       "      <td>290</td>\n",
       "      <td>270</td>\n",
       "      <td>29</td>\n",
       "      <td>35</td>\n",
       "    </tr>\n",
       "    <tr>\n",
       "      <th>2</th>\n",
       "      <td>March</td>\n",
       "      <td>310</td>\n",
       "      <td>300</td>\n",
       "      <td>31</td>\n",
       "      <td>29</td>\n",
       "    </tr>\n",
       "    <tr>\n",
       "      <th>3</th>\n",
       "      <td>April</td>\n",
       "      <td>325</td>\n",
       "      <td>350</td>\n",
       "      <td>32</td>\n",
       "      <td>28</td>\n",
       "    </tr>\n",
       "    <tr>\n",
       "      <th>4</th>\n",
       "      <td>May</td>\n",
       "      <td>475</td>\n",
       "      <td>475</td>\n",
       "      <td>47</td>\n",
       "      <td>50</td>\n",
       "    </tr>\n",
       "    <tr>\n",
       "      <th>5</th>\n",
       "      <td>June</td>\n",
       "      <td>495</td>\n",
       "      <td>500</td>\n",
       "      <td>49</td>\n",
       "      <td>45</td>\n",
       "    </tr>\n",
       "  </tbody>\n",
       "</table>\n",
       "</div>"
      ],
      "text/plain": [
       "      month  revenue  target  men  women\n",
       "0   January      300     310   30     35\n",
       "1  February      290     270   29     35\n",
       "2     March      310     300   31     29\n",
       "3     April      325     350   32     28\n",
       "4       May      475     475   47     50\n",
       "5      June      495     500   49     45"
      ]
     },
     "execution_count": 22,
     "metadata": {},
     "output_type": "execute_result"
    }
   ],
   "source": [
    "all_data"
   ]
  },
  {
   "cell_type": "markdown",
   "id": "52607303-986b-4703-a282-44aaea7a6b64",
   "metadata": {},
   "source": [
    "## Task"
   ]
  },
  {
   "cell_type": "code",
   "execution_count": null,
   "id": "763482e2-d0f9-4b5b-b459-0a935faee658",
   "metadata": {},
   "outputs": [],
   "source": [
    "Cool T-Shirts Inc. thinks that they have more revenue in months where they sell more women’s t-shirts.\n",
    "\n",
    "Select the rows of all_data where:\n",
    "\n",
    "revenue is greater than target\n",
    "AND\n",
    "\n",
    "women is greater than men\n",
    "\n",
    "Save your answer to the variable results."
   ]
  },
  {
   "cell_type": "code",
   "execution_count": 25,
   "id": "6671017a-eafa-41e5-8a4f-22f8afb929f0",
   "metadata": {},
   "outputs": [
    {
     "data": {
      "text/html": [
       "<div>\n",
       "<style scoped>\n",
       "    .dataframe tbody tr th:only-of-type {\n",
       "        vertical-align: middle;\n",
       "    }\n",
       "\n",
       "    .dataframe tbody tr th {\n",
       "        vertical-align: top;\n",
       "    }\n",
       "\n",
       "    .dataframe thead th {\n",
       "        text-align: right;\n",
       "    }\n",
       "</style>\n",
       "<table border=\"1\" class=\"dataframe\">\n",
       "  <thead>\n",
       "    <tr style=\"text-align: right;\">\n",
       "      <th></th>\n",
       "      <th>month</th>\n",
       "      <th>revenue</th>\n",
       "      <th>target</th>\n",
       "      <th>men</th>\n",
       "      <th>women</th>\n",
       "    </tr>\n",
       "  </thead>\n",
       "  <tbody>\n",
       "    <tr>\n",
       "      <th>1</th>\n",
       "      <td>February</td>\n",
       "      <td>290</td>\n",
       "      <td>270</td>\n",
       "      <td>29</td>\n",
       "      <td>35</td>\n",
       "    </tr>\n",
       "    <tr>\n",
       "      <th>2</th>\n",
       "      <td>March</td>\n",
       "      <td>310</td>\n",
       "      <td>300</td>\n",
       "      <td>31</td>\n",
       "      <td>29</td>\n",
       "    </tr>\n",
       "  </tbody>\n",
       "</table>\n",
       "</div>"
      ],
      "text/plain": [
       "      month  revenue  target  men  women\n",
       "1  February      290     270   29     35\n",
       "2     March      310     300   31     29"
      ]
     },
     "execution_count": 25,
     "metadata": {},
     "output_type": "execute_result"
    }
   ],
   "source": [
    "all_data[all_data['revenue'] > all_data['target']]"
   ]
  },
  {
   "cell_type": "code",
   "execution_count": 26,
   "id": "0f93828f-1614-4952-8323-53a22e30594e",
   "metadata": {},
   "outputs": [
    {
     "data": {
      "text/html": [
       "<div>\n",
       "<style scoped>\n",
       "    .dataframe tbody tr th:only-of-type {\n",
       "        vertical-align: middle;\n",
       "    }\n",
       "\n",
       "    .dataframe tbody tr th {\n",
       "        vertical-align: top;\n",
       "    }\n",
       "\n",
       "    .dataframe thead th {\n",
       "        text-align: right;\n",
       "    }\n",
       "</style>\n",
       "<table border=\"1\" class=\"dataframe\">\n",
       "  <thead>\n",
       "    <tr style=\"text-align: right;\">\n",
       "      <th></th>\n",
       "      <th>month</th>\n",
       "      <th>revenue</th>\n",
       "      <th>target</th>\n",
       "      <th>men</th>\n",
       "      <th>women</th>\n",
       "    </tr>\n",
       "  </thead>\n",
       "  <tbody>\n",
       "    <tr>\n",
       "      <th>0</th>\n",
       "      <td>January</td>\n",
       "      <td>300</td>\n",
       "      <td>310</td>\n",
       "      <td>30</td>\n",
       "      <td>35</td>\n",
       "    </tr>\n",
       "    <tr>\n",
       "      <th>1</th>\n",
       "      <td>February</td>\n",
       "      <td>290</td>\n",
       "      <td>270</td>\n",
       "      <td>29</td>\n",
       "      <td>35</td>\n",
       "    </tr>\n",
       "    <tr>\n",
       "      <th>4</th>\n",
       "      <td>May</td>\n",
       "      <td>475</td>\n",
       "      <td>475</td>\n",
       "      <td>47</td>\n",
       "      <td>50</td>\n",
       "    </tr>\n",
       "  </tbody>\n",
       "</table>\n",
       "</div>"
      ],
      "text/plain": [
       "      month  revenue  target  men  women\n",
       "0   January      300     310   30     35\n",
       "1  February      290     270   29     35\n",
       "4       May      475     475   47     50"
      ]
     },
     "execution_count": 26,
     "metadata": {},
     "output_type": "execute_result"
    }
   ],
   "source": [
    "all_data[all_data['women'] > all_data['men']]"
   ]
  },
  {
   "cell_type": "code",
   "execution_count": 29,
   "id": "9344a3da-90e6-4a44-9b81-d47f2109050c",
   "metadata": {},
   "outputs": [],
   "source": [
    "results = all_data [ ( all_data['revenue'] > all_data['target'] )  &  \\\n",
    "                     ( all_data['women'] > all_data['men']     )]"
   ]
  },
  {
   "cell_type": "code",
   "execution_count": 30,
   "id": "f98ef553-3cd1-405a-9c54-f72134e7f27f",
   "metadata": {},
   "outputs": [
    {
     "data": {
      "text/html": [
       "<div>\n",
       "<style scoped>\n",
       "    .dataframe tbody tr th:only-of-type {\n",
       "        vertical-align: middle;\n",
       "    }\n",
       "\n",
       "    .dataframe tbody tr th {\n",
       "        vertical-align: top;\n",
       "    }\n",
       "\n",
       "    .dataframe thead th {\n",
       "        text-align: right;\n",
       "    }\n",
       "</style>\n",
       "<table border=\"1\" class=\"dataframe\">\n",
       "  <thead>\n",
       "    <tr style=\"text-align: right;\">\n",
       "      <th></th>\n",
       "      <th>month</th>\n",
       "      <th>revenue</th>\n",
       "      <th>target</th>\n",
       "      <th>men</th>\n",
       "      <th>women</th>\n",
       "    </tr>\n",
       "  </thead>\n",
       "  <tbody>\n",
       "    <tr>\n",
       "      <th>1</th>\n",
       "      <td>February</td>\n",
       "      <td>290</td>\n",
       "      <td>270</td>\n",
       "      <td>29</td>\n",
       "      <td>35</td>\n",
       "    </tr>\n",
       "  </tbody>\n",
       "</table>\n",
       "</div>"
      ],
      "text/plain": [
       "      month  revenue  target  men  women\n",
       "1  February      290     270   29     35"
      ]
     },
     "execution_count": 30,
     "metadata": {},
     "output_type": "execute_result"
    }
   ],
   "source": [
    "results"
   ]
  },
  {
   "cell_type": "code",
   "execution_count": null,
   "id": "e0c7c27c-3402-4899-a745-9a841fe4f429",
   "metadata": {},
   "outputs": [],
   "source": [
    "##### check if we have any months where revenue > target but women sales < men sales"
   ]
  },
  {
   "cell_type": "code",
   "execution_count": 31,
   "id": "60ed87e4-8489-4c8a-ae3a-067747205eae",
   "metadata": {},
   "outputs": [],
   "source": [
    "results1 = all_data [ ( all_data['revenue'] > all_data['target'] )  &  \\\n",
    "                     ( all_data['women'] < all_data['men']     )]"
   ]
  },
  {
   "cell_type": "code",
   "execution_count": 32,
   "id": "6659eaec-50fb-49d4-97b4-612ea1e680c7",
   "metadata": {},
   "outputs": [
    {
     "data": {
      "text/html": [
       "<div>\n",
       "<style scoped>\n",
       "    .dataframe tbody tr th:only-of-type {\n",
       "        vertical-align: middle;\n",
       "    }\n",
       "\n",
       "    .dataframe tbody tr th {\n",
       "        vertical-align: top;\n",
       "    }\n",
       "\n",
       "    .dataframe thead th {\n",
       "        text-align: right;\n",
       "    }\n",
       "</style>\n",
       "<table border=\"1\" class=\"dataframe\">\n",
       "  <thead>\n",
       "    <tr style=\"text-align: right;\">\n",
       "      <th></th>\n",
       "      <th>month</th>\n",
       "      <th>revenue</th>\n",
       "      <th>target</th>\n",
       "      <th>men</th>\n",
       "      <th>women</th>\n",
       "    </tr>\n",
       "  </thead>\n",
       "  <tbody>\n",
       "    <tr>\n",
       "      <th>2</th>\n",
       "      <td>March</td>\n",
       "      <td>310</td>\n",
       "      <td>300</td>\n",
       "      <td>31</td>\n",
       "      <td>29</td>\n",
       "    </tr>\n",
       "  </tbody>\n",
       "</table>\n",
       "</div>"
      ],
      "text/plain": [
       "   month  revenue  target  men  women\n",
       "2  March      310     300   31     29"
      ]
     },
     "execution_count": 32,
     "metadata": {},
     "output_type": "execute_result"
    }
   ],
   "source": [
    "results1"
   ]
  },
  {
   "cell_type": "markdown",
   "id": "c13de014-fccd-4adc-9060-b3ee3ef2bfb1",
   "metadata": {},
   "source": [
    "#### from above it is evident that below is NOT always true\n",
    "\n",
    "more revenue in months where they sell more women’s t-shirts."
   ]
  },
  {
   "cell_type": "markdown",
   "id": "9afcd01a-684e-4124-9a46-2149c15c206c",
   "metadata": {},
   "source": [
    "## Question\n",
    "\n",
    "does merge order matter for Pandas dataframes?"
   ]
  },
  {
   "cell_type": "code",
   "execution_count": null,
   "id": "8dcbbb44-c014-441d-9f54-9a85414f5100",
   "metadata": {},
   "outputs": [],
   "source": [
    "Yes. Order of the merged dataframes will effect the order of the rows and columns of the merged dataframe.\n",
    "\n",
    "When using the merge() method, it will preserve the order of the left keys.\n",
    "\n",
    "For example,\n",
    "    \n",
    "df1.merge(df2).merge(df3)\n",
    "\n",
    "will preserve the order of df1 when it is merged with df2, then this order will be preserved when finally merging with df3.\n",
    "\n",
    "However, if order of the result dataframe actually does not matter to us, then the merge order will not matter. So,\n",
    "\n",
    "df3.merge(df1).merge(df2)\n",
    "\n",
    "will result in the same result, but in a different order than the previous example.\n"
   ]
  },
  {
   "cell_type": "markdown",
   "id": "011932e5-44ea-4d24-9ad7-375b57c44331",
   "metadata": {},
   "source": [
    "## Merge on Specific Columns"
   ]
  },
  {
   "cell_type": "code",
   "execution_count": null,
   "id": "31e8bf83-d64f-45fe-b5e7-fbcf6fd7b2cc",
   "metadata": {},
   "outputs": [],
   "source": [
    "In the previous example, the .merge() function “knew” how to combine tables based on the columns that were the same between two tables. \n",
    "\n",
    "For instance, products and orders both had a column called product_id.\n",
    "\n",
    "This won’t always be true when we want to perform a merge."
   ]
  },
  {
   "cell_type": "code",
   "execution_count": null,
   "id": "7e0bd5c1-0715-469e-b68f-149fc85af37a",
   "metadata": {},
   "outputs": [],
   "source": [
    "Generally, the products and customers DataFrames would not have the columns product_id or customer_id. \n",
    "\n",
    "Instead, they would both be called id and it would be implied that the id was the product_id for the products table and customer_id \n",
    "for the customers table. \n",
    "\n",
    "They would look like this:\n",
    "\n",
    "Customers\n",
    "---------\n",
    "\n",
    "id\tcustomer_name\taddress\t        phone_number\n",
    "1\tJohn Smith\t    123 Main St.\t212-123-4567\n",
    "2\tJane Doe\t    456 Park Ave.\t949-867-5309\n",
    "3\tJoe Schmo\t    798 Broadway\t112-358-1321\n",
    "\n",
    "Products\n",
    "--------\n",
    "\n",
    "id\tdescription\t        price\n",
    "1\tthing-a-ma-jig\t    5\n",
    "2\twhatcha-ma-call-it\t10\n",
    "3\tdoo-hickey\t        7\n",
    "4\tgizmo\t            3"
   ]
  },
  {
   "cell_type": "markdown",
   "id": "5c3e386c-6c25-4337-8487-e6a734b2d0a3",
   "metadata": {},
   "source": [
    "### **How would this affect our merges?**"
   ]
  },
  {
   "cell_type": "code",
   "execution_count": null,
   "id": "24aefdd0-dac4-45a4-ae3d-15f8cde8a955",
   "metadata": {},
   "outputs": [],
   "source": [
    "Because the id columns would mean something different in each table, our default merges would be wrong."
   ]
  },
  {
   "cell_type": "markdown",
   "id": "6539cbae-c5fb-47b5-8da1-7db541fd9668",
   "metadata": {},
   "source": [
    "One way that we could address this problem is to use .rename() to rename the columns for our merges.\n",
    "\n",
    "Example: \n",
    "\n",
    "rename the column 'id ' to customer_id, so that orders and customers have a common column for the merge.\n",
    "\n",
    "pd.merge(\n",
    "    orders,\n",
    "    customers.rename(columns={'id': 'customer_id'}))"
   ]
  },
  {
   "cell_type": "markdown",
   "id": "ed6d8b63-b2d7-4ac4-b0e5-fa7777dfc898",
   "metadata": {},
   "source": [
    "## Task"
   ]
  },
  {
   "cell_type": "code",
   "execution_count": null,
   "id": "09f15bc1-9606-434b-beb5-f448cc24bcfd",
   "metadata": {},
   "outputs": [],
   "source": [
    "Merge orders and products using .rename(). Save your results to the variable orders_products.\n",
    "\n",
    "rders_products = pd.merge(\n",
    "                  orders, \n",
    "                  products.rename(columns={'id':'product_id'}))"
   ]
  },
  {
   "cell_type": "markdown",
   "id": "d8917d12-6cd2-493d-9626-f391a39a23b9",
   "metadata": {},
   "source": [
    "## Question:\n",
    "\n",
    "are id columns similar to primary keys in SQL?"
   ]
  },
  {
   "cell_type": "code",
   "execution_count": null,
   "id": "a5a6dae8-30f2-4908-8fa3-22e234790668",
   "metadata": {},
   "outputs": [],
   "source": [
    "They are similar, but their functionality is not the same as for SQL.\n",
    "\n",
    "In SQL, primary keys provide a constraint so that the values in a column must be unique. It can throw an error if the values are not unique.\n",
    "\n",
    "In Pandas however, there are not really any primary key constraints, as values under a column like product_id can \n",
    "still have duplicate values.\n",
    "\n",
    "Instead, when working with dataframes, we would need to designate some column to act as a “primary key”, and \n",
    "make sure that any duplicates are removed from or prevented for the column.\n"
   ]
  },
  {
   "cell_type": "markdown",
   "id": "dab0463e-7729-44dd-b384-e7b01d73cf09",
   "metadata": {},
   "source": [
    "## Merge on Specific Columns II\n",
    "\n",
    "Approch 2: to merge columns with different names but same values ---> left_on and right_on"
   ]
  },
  {
   "cell_type": "code",
   "execution_count": null,
   "id": "f3cc31fd-e0e2-47b7-a966-ed3d8efb915d",
   "metadata": {},
   "outputs": [],
   "source": [
    "In the previous exercise, we learned how to use .rename() to merge two DataFrames whose columns don’t match."
   ]
  },
  {
   "cell_type": "code",
   "execution_count": null,
   "id": "f7c0631b-8109-4d4f-827c-61b0dd7e69e2",
   "metadata": {},
   "outputs": [],
   "source": [
    "If we don’t want to do that, we have another option. We could use the keywords left_on and right_on \n",
    "to specify which columns we want to perform the merge on."
   ]
  },
  {
   "cell_type": "code",
   "execution_count": null,
   "id": "e22968d2-1f24-43c8-b554-0343a9e787a6",
   "metadata": {},
   "outputs": [],
   "source": [
    "Example\n",
    "\n",
    "the “left” table is the one that comes first (orders), and the “right” table is the one that comes second (customers). "
   ]
  },
  {
   "cell_type": "code",
   "execution_count": null,
   "id": "6d750954-8dfe-4e88-a767-adddef809d52",
   "metadata": {},
   "outputs": [],
   "source": [
    "pd.merge(\n",
    "    orders,\n",
    "    customers,\n",
    "    left_on='customer_id',\n",
    "    right_on='id')\n",
    "\n",
    "This syntax says that we should match the customer_id from orders to the id in customers."
   ]
  },
  {
   "cell_type": "code",
   "execution_count": 67,
   "id": "93d70b69-2bac-4d1b-a8e2-7312a1ec5899",
   "metadata": {},
   "outputs": [],
   "source": [
    "orders1 = pd.read_csv(r'multids_orders_1.csv')\n",
    "customers1 = pd.read_csv(r'multids_customers_1.csv')"
   ]
  },
  {
   "cell_type": "code",
   "execution_count": 52,
   "id": "5f64ab4e-cc11-471a-b9f7-8628b1b65946",
   "metadata": {
    "scrolled": true
   },
   "outputs": [
    {
     "data": {
      "text/html": [
       "<div>\n",
       "<style scoped>\n",
       "    .dataframe tbody tr th:only-of-type {\n",
       "        vertical-align: middle;\n",
       "    }\n",
       "\n",
       "    .dataframe tbody tr th {\n",
       "        vertical-align: top;\n",
       "    }\n",
       "\n",
       "    .dataframe thead th {\n",
       "        text-align: right;\n",
       "    }\n",
       "</style>\n",
       "<table border=\"1\" class=\"dataframe\">\n",
       "  <thead>\n",
       "    <tr style=\"text-align: right;\">\n",
       "      <th></th>\n",
       "      <th>id</th>\n",
       "      <th>customer_id</th>\n",
       "      <th>product_id</th>\n",
       "      <th>quantity</th>\n",
       "      <th>timestamp</th>\n",
       "    </tr>\n",
       "  </thead>\n",
       "  <tbody>\n",
       "    <tr>\n",
       "      <th>0</th>\n",
       "      <td>1</td>\n",
       "      <td>2</td>\n",
       "      <td>3</td>\n",
       "      <td>1</td>\n",
       "      <td>01-01-2017</td>\n",
       "    </tr>\n",
       "    <tr>\n",
       "      <th>1</th>\n",
       "      <td>2</td>\n",
       "      <td>2</td>\n",
       "      <td>2</td>\n",
       "      <td>3</td>\n",
       "      <td>01-01-2017</td>\n",
       "    </tr>\n",
       "    <tr>\n",
       "      <th>2</th>\n",
       "      <td>3</td>\n",
       "      <td>3</td>\n",
       "      <td>1</td>\n",
       "      <td>1</td>\n",
       "      <td>01-01-2017</td>\n",
       "    </tr>\n",
       "    <tr>\n",
       "      <th>3</th>\n",
       "      <td>4</td>\n",
       "      <td>3</td>\n",
       "      <td>2</td>\n",
       "      <td>2</td>\n",
       "      <td>01-02-2017</td>\n",
       "    </tr>\n",
       "    <tr>\n",
       "      <th>4</th>\n",
       "      <td>5</td>\n",
       "      <td>3</td>\n",
       "      <td>3</td>\n",
       "      <td>3</td>\n",
       "      <td>01-02-2017</td>\n",
       "    </tr>\n",
       "    <tr>\n",
       "      <th>5</th>\n",
       "      <td>6</td>\n",
       "      <td>1</td>\n",
       "      <td>4</td>\n",
       "      <td>2</td>\n",
       "      <td>01-03-2017</td>\n",
       "    </tr>\n",
       "    <tr>\n",
       "      <th>6</th>\n",
       "      <td>7</td>\n",
       "      <td>1</td>\n",
       "      <td>1</td>\n",
       "      <td>1</td>\n",
       "      <td>02-02-2017</td>\n",
       "    </tr>\n",
       "    <tr>\n",
       "      <th>7</th>\n",
       "      <td>8</td>\n",
       "      <td>1</td>\n",
       "      <td>4</td>\n",
       "      <td>1</td>\n",
       "      <td>02-02-2017</td>\n",
       "    </tr>\n",
       "  </tbody>\n",
       "</table>\n",
       "</div>"
      ],
      "text/plain": [
       "   id  customer_id  product_id  quantity   timestamp\n",
       "0   1            2           3         1  01-01-2017\n",
       "1   2            2           2         3  01-01-2017\n",
       "2   3            3           1         1  01-01-2017\n",
       "3   4            3           2         2  01-02-2017\n",
       "4   5            3           3         3  01-02-2017\n",
       "5   6            1           4         2  01-03-2017\n",
       "6   7            1           1         1  02-02-2017\n",
       "7   8            1           4         1  02-02-2017"
      ]
     },
     "execution_count": 52,
     "metadata": {},
     "output_type": "execute_result"
    }
   ],
   "source": [
    "orders1"
   ]
  },
  {
   "cell_type": "code",
   "execution_count": 53,
   "id": "5f1d5e76-b468-454b-a2e2-d2e804175b6e",
   "metadata": {},
   "outputs": [
    {
     "data": {
      "text/html": [
       "<div>\n",
       "<style scoped>\n",
       "    .dataframe tbody tr th:only-of-type {\n",
       "        vertical-align: middle;\n",
       "    }\n",
       "\n",
       "    .dataframe tbody tr th {\n",
       "        vertical-align: top;\n",
       "    }\n",
       "\n",
       "    .dataframe thead th {\n",
       "        text-align: right;\n",
       "    }\n",
       "</style>\n",
       "<table border=\"1\" class=\"dataframe\">\n",
       "  <thead>\n",
       "    <tr style=\"text-align: right;\">\n",
       "      <th></th>\n",
       "      <th>id</th>\n",
       "      <th>customer_name</th>\n",
       "      <th>address</th>\n",
       "      <th>phone_number</th>\n",
       "    </tr>\n",
       "  </thead>\n",
       "  <tbody>\n",
       "    <tr>\n",
       "      <th>0</th>\n",
       "      <td>1</td>\n",
       "      <td>John Smith</td>\n",
       "      <td>123 Main St.</td>\n",
       "      <td>212-123-4567</td>\n",
       "    </tr>\n",
       "    <tr>\n",
       "      <th>1</th>\n",
       "      <td>2</td>\n",
       "      <td>Jane Doe</td>\n",
       "      <td>456 Park Ave.</td>\n",
       "      <td>949-867-5309</td>\n",
       "    </tr>\n",
       "    <tr>\n",
       "      <th>2</th>\n",
       "      <td>3</td>\n",
       "      <td>Joe Schmo</td>\n",
       "      <td>798 Broadway</td>\n",
       "      <td>112-358-1321</td>\n",
       "    </tr>\n",
       "  </tbody>\n",
       "</table>\n",
       "</div>"
      ],
      "text/plain": [
       "   id customer_name        address  phone_number\n",
       "0   1    John Smith   123 Main St.  212-123-4567\n",
       "1   2      Jane Doe  456 Park Ave.  949-867-5309\n",
       "2   3     Joe Schmo   798 Broadway  112-358-1321"
      ]
     },
     "execution_count": 53,
     "metadata": {},
     "output_type": "execute_result"
    }
   ],
   "source": [
    "customers1"
   ]
  },
  {
   "cell_type": "code",
   "execution_count": null,
   "id": "26329dc3-1ef5-47c0-9b85-2de1602d1004",
   "metadata": {},
   "outputs": [],
   "source": [
    "from below we will end up with two columns called id, one from the first table and one from the second. \n",
    "\n",
    "Pandas won’t let you have two columns with the same name, so it will change them to id_x and id_y."
   ]
  },
  {
   "cell_type": "code",
   "execution_count": 54,
   "id": "400543d5-ab70-4373-8f50-84f1dd0e62ee",
   "metadata": {},
   "outputs": [
    {
     "data": {
      "text/html": [
       "<div>\n",
       "<style scoped>\n",
       "    .dataframe tbody tr th:only-of-type {\n",
       "        vertical-align: middle;\n",
       "    }\n",
       "\n",
       "    .dataframe tbody tr th {\n",
       "        vertical-align: top;\n",
       "    }\n",
       "\n",
       "    .dataframe thead th {\n",
       "        text-align: right;\n",
       "    }\n",
       "</style>\n",
       "<table border=\"1\" class=\"dataframe\">\n",
       "  <thead>\n",
       "    <tr style=\"text-align: right;\">\n",
       "      <th></th>\n",
       "      <th>id_x</th>\n",
       "      <th>customer_id</th>\n",
       "      <th>product_id</th>\n",
       "      <th>quantity</th>\n",
       "      <th>timestamp</th>\n",
       "      <th>id_y</th>\n",
       "      <th>customer_name</th>\n",
       "      <th>address</th>\n",
       "      <th>phone_number</th>\n",
       "    </tr>\n",
       "  </thead>\n",
       "  <tbody>\n",
       "    <tr>\n",
       "      <th>0</th>\n",
       "      <td>1</td>\n",
       "      <td>2</td>\n",
       "      <td>3</td>\n",
       "      <td>1</td>\n",
       "      <td>01-01-2017</td>\n",
       "      <td>2</td>\n",
       "      <td>Jane Doe</td>\n",
       "      <td>456 Park Ave.</td>\n",
       "      <td>949-867-5309</td>\n",
       "    </tr>\n",
       "    <tr>\n",
       "      <th>1</th>\n",
       "      <td>2</td>\n",
       "      <td>2</td>\n",
       "      <td>2</td>\n",
       "      <td>3</td>\n",
       "      <td>01-01-2017</td>\n",
       "      <td>2</td>\n",
       "      <td>Jane Doe</td>\n",
       "      <td>456 Park Ave.</td>\n",
       "      <td>949-867-5309</td>\n",
       "    </tr>\n",
       "    <tr>\n",
       "      <th>2</th>\n",
       "      <td>3</td>\n",
       "      <td>3</td>\n",
       "      <td>1</td>\n",
       "      <td>1</td>\n",
       "      <td>01-01-2017</td>\n",
       "      <td>3</td>\n",
       "      <td>Joe Schmo</td>\n",
       "      <td>798 Broadway</td>\n",
       "      <td>112-358-1321</td>\n",
       "    </tr>\n",
       "    <tr>\n",
       "      <th>3</th>\n",
       "      <td>4</td>\n",
       "      <td>3</td>\n",
       "      <td>2</td>\n",
       "      <td>2</td>\n",
       "      <td>01-02-2017</td>\n",
       "      <td>3</td>\n",
       "      <td>Joe Schmo</td>\n",
       "      <td>798 Broadway</td>\n",
       "      <td>112-358-1321</td>\n",
       "    </tr>\n",
       "    <tr>\n",
       "      <th>4</th>\n",
       "      <td>5</td>\n",
       "      <td>3</td>\n",
       "      <td>3</td>\n",
       "      <td>3</td>\n",
       "      <td>01-02-2017</td>\n",
       "      <td>3</td>\n",
       "      <td>Joe Schmo</td>\n",
       "      <td>798 Broadway</td>\n",
       "      <td>112-358-1321</td>\n",
       "    </tr>\n",
       "    <tr>\n",
       "      <th>5</th>\n",
       "      <td>6</td>\n",
       "      <td>1</td>\n",
       "      <td>4</td>\n",
       "      <td>2</td>\n",
       "      <td>01-03-2017</td>\n",
       "      <td>1</td>\n",
       "      <td>John Smith</td>\n",
       "      <td>123 Main St.</td>\n",
       "      <td>212-123-4567</td>\n",
       "    </tr>\n",
       "    <tr>\n",
       "      <th>6</th>\n",
       "      <td>7</td>\n",
       "      <td>1</td>\n",
       "      <td>1</td>\n",
       "      <td>1</td>\n",
       "      <td>02-02-2017</td>\n",
       "      <td>1</td>\n",
       "      <td>John Smith</td>\n",
       "      <td>123 Main St.</td>\n",
       "      <td>212-123-4567</td>\n",
       "    </tr>\n",
       "    <tr>\n",
       "      <th>7</th>\n",
       "      <td>8</td>\n",
       "      <td>1</td>\n",
       "      <td>4</td>\n",
       "      <td>1</td>\n",
       "      <td>02-02-2017</td>\n",
       "      <td>1</td>\n",
       "      <td>John Smith</td>\n",
       "      <td>123 Main St.</td>\n",
       "      <td>212-123-4567</td>\n",
       "    </tr>\n",
       "  </tbody>\n",
       "</table>\n",
       "</div>"
      ],
      "text/plain": [
       "   id_x  customer_id  product_id  quantity   timestamp  id_y customer_name  \\\n",
       "0     1            2           3         1  01-01-2017     2      Jane Doe   \n",
       "1     2            2           2         3  01-01-2017     2      Jane Doe   \n",
       "2     3            3           1         1  01-01-2017     3     Joe Schmo   \n",
       "3     4            3           2         2  01-02-2017     3     Joe Schmo   \n",
       "4     5            3           3         3  01-02-2017     3     Joe Schmo   \n",
       "5     6            1           4         2  01-03-2017     1    John Smith   \n",
       "6     7            1           1         1  02-02-2017     1    John Smith   \n",
       "7     8            1           4         1  02-02-2017     1    John Smith   \n",
       "\n",
       "         address  phone_number  \n",
       "0  456 Park Ave.  949-867-5309  \n",
       "1  456 Park Ave.  949-867-5309  \n",
       "2   798 Broadway  112-358-1321  \n",
       "3   798 Broadway  112-358-1321  \n",
       "4   798 Broadway  112-358-1321  \n",
       "5   123 Main St.  212-123-4567  \n",
       "6   123 Main St.  212-123-4567  \n",
       "7   123 Main St.  212-123-4567  "
      ]
     },
     "execution_count": 54,
     "metadata": {},
     "output_type": "execute_result"
    }
   ],
   "source": [
    "pd.merge(\n",
    "    orders1,\n",
    "    customers1,\n",
    "    left_on='customer_id',\n",
    "    right_on='id')"
   ]
  },
  {
   "cell_type": "code",
   "execution_count": null,
   "id": "37e34273-b924-4e95-bbb6-79abac6a7c87",
   "metadata": {},
   "outputs": [],
   "source": [
    "The new column names id_x and id_y aren’t very helpful for us when we read the table. \n",
    "\n",
    "We can help make them more useful by using the keyword suffixes. \n",
    "\n",
    "We can provide a list of suffixes to use instead of “_x” and “_y”."
   ]
  },
  {
   "cell_type": "code",
   "execution_count": null,
   "id": "6eca5f81-81bf-4be5-9947-b0b57bd91f27",
   "metadata": {},
   "outputs": [],
   "source": [
    "Example: we could use the following code to make the suffixes reflect the table names:"
   ]
  },
  {
   "cell_type": "code",
   "execution_count": 56,
   "id": "2588de5b-4c8e-4d31-b887-2a52b5cad250",
   "metadata": {},
   "outputs": [
    {
     "data": {
      "text/html": [
       "<div>\n",
       "<style scoped>\n",
       "    .dataframe tbody tr th:only-of-type {\n",
       "        vertical-align: middle;\n",
       "    }\n",
       "\n",
       "    .dataframe tbody tr th {\n",
       "        vertical-align: top;\n",
       "    }\n",
       "\n",
       "    .dataframe thead th {\n",
       "        text-align: right;\n",
       "    }\n",
       "</style>\n",
       "<table border=\"1\" class=\"dataframe\">\n",
       "  <thead>\n",
       "    <tr style=\"text-align: right;\">\n",
       "      <th></th>\n",
       "      <th>id_order</th>\n",
       "      <th>customer_id</th>\n",
       "      <th>product_id</th>\n",
       "      <th>quantity</th>\n",
       "      <th>timestamp</th>\n",
       "      <th>id_customer</th>\n",
       "      <th>customer_name</th>\n",
       "      <th>address</th>\n",
       "      <th>phone_number</th>\n",
       "    </tr>\n",
       "  </thead>\n",
       "  <tbody>\n",
       "    <tr>\n",
       "      <th>0</th>\n",
       "      <td>1</td>\n",
       "      <td>2</td>\n",
       "      <td>3</td>\n",
       "      <td>1</td>\n",
       "      <td>01-01-2017</td>\n",
       "      <td>2</td>\n",
       "      <td>Jane Doe</td>\n",
       "      <td>456 Park Ave.</td>\n",
       "      <td>949-867-5309</td>\n",
       "    </tr>\n",
       "    <tr>\n",
       "      <th>1</th>\n",
       "      <td>2</td>\n",
       "      <td>2</td>\n",
       "      <td>2</td>\n",
       "      <td>3</td>\n",
       "      <td>01-01-2017</td>\n",
       "      <td>2</td>\n",
       "      <td>Jane Doe</td>\n",
       "      <td>456 Park Ave.</td>\n",
       "      <td>949-867-5309</td>\n",
       "    </tr>\n",
       "    <tr>\n",
       "      <th>2</th>\n",
       "      <td>3</td>\n",
       "      <td>3</td>\n",
       "      <td>1</td>\n",
       "      <td>1</td>\n",
       "      <td>01-01-2017</td>\n",
       "      <td>3</td>\n",
       "      <td>Joe Schmo</td>\n",
       "      <td>798 Broadway</td>\n",
       "      <td>112-358-1321</td>\n",
       "    </tr>\n",
       "    <tr>\n",
       "      <th>3</th>\n",
       "      <td>4</td>\n",
       "      <td>3</td>\n",
       "      <td>2</td>\n",
       "      <td>2</td>\n",
       "      <td>01-02-2017</td>\n",
       "      <td>3</td>\n",
       "      <td>Joe Schmo</td>\n",
       "      <td>798 Broadway</td>\n",
       "      <td>112-358-1321</td>\n",
       "    </tr>\n",
       "    <tr>\n",
       "      <th>4</th>\n",
       "      <td>5</td>\n",
       "      <td>3</td>\n",
       "      <td>3</td>\n",
       "      <td>3</td>\n",
       "      <td>01-02-2017</td>\n",
       "      <td>3</td>\n",
       "      <td>Joe Schmo</td>\n",
       "      <td>798 Broadway</td>\n",
       "      <td>112-358-1321</td>\n",
       "    </tr>\n",
       "    <tr>\n",
       "      <th>5</th>\n",
       "      <td>6</td>\n",
       "      <td>1</td>\n",
       "      <td>4</td>\n",
       "      <td>2</td>\n",
       "      <td>01-03-2017</td>\n",
       "      <td>1</td>\n",
       "      <td>John Smith</td>\n",
       "      <td>123 Main St.</td>\n",
       "      <td>212-123-4567</td>\n",
       "    </tr>\n",
       "    <tr>\n",
       "      <th>6</th>\n",
       "      <td>7</td>\n",
       "      <td>1</td>\n",
       "      <td>1</td>\n",
       "      <td>1</td>\n",
       "      <td>02-02-2017</td>\n",
       "      <td>1</td>\n",
       "      <td>John Smith</td>\n",
       "      <td>123 Main St.</td>\n",
       "      <td>212-123-4567</td>\n",
       "    </tr>\n",
       "    <tr>\n",
       "      <th>7</th>\n",
       "      <td>8</td>\n",
       "      <td>1</td>\n",
       "      <td>4</td>\n",
       "      <td>1</td>\n",
       "      <td>02-02-2017</td>\n",
       "      <td>1</td>\n",
       "      <td>John Smith</td>\n",
       "      <td>123 Main St.</td>\n",
       "      <td>212-123-4567</td>\n",
       "    </tr>\n",
       "  </tbody>\n",
       "</table>\n",
       "</div>"
      ],
      "text/plain": [
       "   id_order  customer_id  product_id  quantity   timestamp  id_customer  \\\n",
       "0         1            2           3         1  01-01-2017            2   \n",
       "1         2            2           2         3  01-01-2017            2   \n",
       "2         3            3           1         1  01-01-2017            3   \n",
       "3         4            3           2         2  01-02-2017            3   \n",
       "4         5            3           3         3  01-02-2017            3   \n",
       "5         6            1           4         2  01-03-2017            1   \n",
       "6         7            1           1         1  02-02-2017            1   \n",
       "7         8            1           4         1  02-02-2017            1   \n",
       "\n",
       "  customer_name        address  phone_number  \n",
       "0      Jane Doe  456 Park Ave.  949-867-5309  \n",
       "1      Jane Doe  456 Park Ave.  949-867-5309  \n",
       "2     Joe Schmo   798 Broadway  112-358-1321  \n",
       "3     Joe Schmo   798 Broadway  112-358-1321  \n",
       "4     Joe Schmo   798 Broadway  112-358-1321  \n",
       "5    John Smith   123 Main St.  212-123-4567  \n",
       "6    John Smith   123 Main St.  212-123-4567  \n",
       "7    John Smith   123 Main St.  212-123-4567  "
      ]
     },
     "execution_count": 56,
     "metadata": {},
     "output_type": "execute_result"
    }
   ],
   "source": [
    "pd.merge(\n",
    "    orders1,\n",
    "    customers1,\n",
    "    left_on='customer_id',\n",
    "    right_on='id',\n",
    "    suffixes=['_order', '_customer']\n",
    ")"
   ]
  },
  {
   "cell_type": "markdown",
   "id": "ef5ad502-84ec-4848-bbef-2aa59d76b64b",
   "metadata": {},
   "source": [
    "## Task"
   ]
  },
  {
   "cell_type": "code",
   "execution_count": null,
   "id": "b3d7a8da-6859-4fbf-a4e4-15771a7314ef",
   "metadata": {},
   "outputs": [],
   "source": [
    "Merge orders and products using left_on and right_on. Use the suffixes _orders and _products. \n",
    "\n",
    "Save your results to the variable orders_products."
   ]
  },
  {
   "cell_type": "code",
   "execution_count": 68,
   "id": "78abc77c-3199-4ae7-b0be-c05aea429a26",
   "metadata": {},
   "outputs": [],
   "source": [
    "products1 = pd.read_csv(r'multids_products_1.csv')"
   ]
  },
  {
   "cell_type": "code",
   "execution_count": 63,
   "id": "a6200421-fecc-41c3-a5d4-62330a6c194d",
   "metadata": {},
   "outputs": [],
   "source": [
    "orders_products  = pd.merge(\n",
    "         orders1,\n",
    "         products1,\n",
    "         left_on = 'product_id',\n",
    "         right_on = 'id',\n",
    "         suffixes = ['_orders', '_products']\n",
    ")"
   ]
  },
  {
   "cell_type": "code",
   "execution_count": 64,
   "id": "f4e881c2-1f08-4d37-bf38-422022e6cf9f",
   "metadata": {},
   "outputs": [
    {
     "data": {
      "text/html": [
       "<div>\n",
       "<style scoped>\n",
       "    .dataframe tbody tr th:only-of-type {\n",
       "        vertical-align: middle;\n",
       "    }\n",
       "\n",
       "    .dataframe tbody tr th {\n",
       "        vertical-align: top;\n",
       "    }\n",
       "\n",
       "    .dataframe thead th {\n",
       "        text-align: right;\n",
       "    }\n",
       "</style>\n",
       "<table border=\"1\" class=\"dataframe\">\n",
       "  <thead>\n",
       "    <tr style=\"text-align: right;\">\n",
       "      <th></th>\n",
       "      <th>id_orders</th>\n",
       "      <th>customer_id</th>\n",
       "      <th>product_id</th>\n",
       "      <th>quantity</th>\n",
       "      <th>timestamp</th>\n",
       "      <th>id_products</th>\n",
       "      <th>description</th>\n",
       "      <th>price</th>\n",
       "    </tr>\n",
       "  </thead>\n",
       "  <tbody>\n",
       "    <tr>\n",
       "      <th>0</th>\n",
       "      <td>1</td>\n",
       "      <td>2</td>\n",
       "      <td>3</td>\n",
       "      <td>1</td>\n",
       "      <td>01-01-2017</td>\n",
       "      <td>3</td>\n",
       "      <td>doo-hickey</td>\n",
       "      <td>7</td>\n",
       "    </tr>\n",
       "    <tr>\n",
       "      <th>1</th>\n",
       "      <td>2</td>\n",
       "      <td>2</td>\n",
       "      <td>2</td>\n",
       "      <td>3</td>\n",
       "      <td>01-01-2017</td>\n",
       "      <td>2</td>\n",
       "      <td>whatcha-ma-call-it</td>\n",
       "      <td>10</td>\n",
       "    </tr>\n",
       "    <tr>\n",
       "      <th>2</th>\n",
       "      <td>3</td>\n",
       "      <td>3</td>\n",
       "      <td>1</td>\n",
       "      <td>1</td>\n",
       "      <td>01-01-2017</td>\n",
       "      <td>1</td>\n",
       "      <td>thing-a-ma-jig</td>\n",
       "      <td>5</td>\n",
       "    </tr>\n",
       "    <tr>\n",
       "      <th>3</th>\n",
       "      <td>4</td>\n",
       "      <td>3</td>\n",
       "      <td>2</td>\n",
       "      <td>2</td>\n",
       "      <td>01-02-2017</td>\n",
       "      <td>2</td>\n",
       "      <td>whatcha-ma-call-it</td>\n",
       "      <td>10</td>\n",
       "    </tr>\n",
       "    <tr>\n",
       "      <th>4</th>\n",
       "      <td>5</td>\n",
       "      <td>3</td>\n",
       "      <td>3</td>\n",
       "      <td>3</td>\n",
       "      <td>01-02-2017</td>\n",
       "      <td>3</td>\n",
       "      <td>doo-hickey</td>\n",
       "      <td>7</td>\n",
       "    </tr>\n",
       "    <tr>\n",
       "      <th>5</th>\n",
       "      <td>6</td>\n",
       "      <td>1</td>\n",
       "      <td>4</td>\n",
       "      <td>2</td>\n",
       "      <td>01-03-2017</td>\n",
       "      <td>4</td>\n",
       "      <td>gizmo</td>\n",
       "      <td>3</td>\n",
       "    </tr>\n",
       "    <tr>\n",
       "      <th>6</th>\n",
       "      <td>7</td>\n",
       "      <td>1</td>\n",
       "      <td>1</td>\n",
       "      <td>1</td>\n",
       "      <td>02-02-2017</td>\n",
       "      <td>1</td>\n",
       "      <td>thing-a-ma-jig</td>\n",
       "      <td>5</td>\n",
       "    </tr>\n",
       "    <tr>\n",
       "      <th>7</th>\n",
       "      <td>8</td>\n",
       "      <td>1</td>\n",
       "      <td>4</td>\n",
       "      <td>1</td>\n",
       "      <td>02-02-2017</td>\n",
       "      <td>4</td>\n",
       "      <td>gizmo</td>\n",
       "      <td>3</td>\n",
       "    </tr>\n",
       "  </tbody>\n",
       "</table>\n",
       "</div>"
      ],
      "text/plain": [
       "   id_orders  customer_id  product_id  quantity   timestamp  id_products  \\\n",
       "0          1            2           3         1  01-01-2017            3   \n",
       "1          2            2           2         3  01-01-2017            2   \n",
       "2          3            3           1         1  01-01-2017            1   \n",
       "3          4            3           2         2  01-02-2017            2   \n",
       "4          5            3           3         3  01-02-2017            3   \n",
       "5          6            1           4         2  01-03-2017            4   \n",
       "6          7            1           1         1  02-02-2017            1   \n",
       "7          8            1           4         1  02-02-2017            4   \n",
       "\n",
       "          description  price  \n",
       "0          doo-hickey      7  \n",
       "1  whatcha-ma-call-it     10  \n",
       "2      thing-a-ma-jig      5  \n",
       "3  whatcha-ma-call-it     10  \n",
       "4          doo-hickey      7  \n",
       "5               gizmo      3  \n",
       "6      thing-a-ma-jig      5  \n",
       "7               gizmo      3  "
      ]
     },
     "execution_count": 64,
     "metadata": {},
     "output_type": "execute_result"
    }
   ],
   "source": [
    "orders_products "
   ]
  },
  {
   "cell_type": "markdown",
   "id": "71e438d1-dffa-452d-9892-ea1a3a0201f2",
   "metadata": {},
   "source": [
    "## Question"
   ]
  },
  {
   "cell_type": "code",
   "execution_count": null,
   "id": "d1d834df-0cd4-4577-86fd-32a2493210df",
   "metadata": {},
   "outputs": [],
   "source": [
    "can we merge on more than one specific column ???"
   ]
  },
  {
   "cell_type": "code",
   "execution_count": null,
   "id": "aa2791aa-57d5-4e5a-9037-bc9961bb3932",
   "metadata": {},
   "outputs": [],
   "source": [
    "Yes, you can perform a merge on one column, or on multiple specified columns, by passing in a list of the column names for each dataframe."
   ]
  },
  {
   "cell_type": "code",
   "execution_count": null,
   "id": "1e433bef-5699-446b-b64d-c1c5ca6abf92",
   "metadata": {},
   "outputs": [],
   "source": [
    "When listing multiple column names, it will only return rows for which all the column values match \n",
    "\n",
    "Furthermore, the number of columns listed must match, and the order they are listed will matter"
   ]
  },
  {
   "cell_type": "code",
   "execution_count": null,
   "id": "0f125626-8059-4fdf-a777-5f21762389b2",
   "metadata": {},
   "outputs": [],
   "source": [
    "Example"
   ]
  },
  {
   "cell_type": "code",
   "execution_count": null,
   "id": "5e3edf2a-991f-4083-bc9f-a2ed6820e64f",
   "metadata": {},
   "outputs": [],
   "source": [
    "# This will match the values for \n",
    "# column \"a\" with \"c\" \n",
    "# and column \"b\" with \"d\".\n",
    "\n",
    "pd.merge(\n",
    "  df1,\n",
    "  df2,\n",
    "  left_on=[\"a\", \"b\"],\n",
    "  right_on=[\"c\", \"d\"]\n",
    ")"
   ]
  },
  {
   "cell_type": "markdown",
   "id": "6030e2ee-85b9-41c2-8b41-b24aebb02237",
   "metadata": {},
   "source": [
    "## Mismatched Merges\n"
   ]
  },
  {
   "cell_type": "markdown",
   "id": "7ae5a8c4-3460-4353-8324-08460fdd6f39",
   "metadata": {},
   "source": [
    "In our previous examples, there were always matching values when we were performing our merges. What happens when that isn’t true?"
   ]
  },
  {
   "cell_type": "markdown",
   "id": "61678852-2776-4a49-887f-29e3f432cb9a",
   "metadata": {},
   "source": [
    "Let’s imagine that our products table is out of date and is missing the newest product: Product 5. What happens when someone orders it?\n",
    "\n",
    "i.e. We’ve just released a new product with product_id equal to 5. People are ordering this product, but we haven’t updated the products table."
   ]
  },
  {
   "cell_type": "code",
   "execution_count": 69,
   "id": "1a2db51c-ea6e-4167-a082-4b8845a9836d",
   "metadata": {},
   "outputs": [
    {
     "data": {
      "text/html": [
       "<div>\n",
       "<style scoped>\n",
       "    .dataframe tbody tr th:only-of-type {\n",
       "        vertical-align: middle;\n",
       "    }\n",
       "\n",
       "    .dataframe tbody tr th {\n",
       "        vertical-align: top;\n",
       "    }\n",
       "\n",
       "    .dataframe thead th {\n",
       "        text-align: right;\n",
       "    }\n",
       "</style>\n",
       "<table border=\"1\" class=\"dataframe\">\n",
       "  <thead>\n",
       "    <tr style=\"text-align: right;\">\n",
       "      <th></th>\n",
       "      <th>id</th>\n",
       "      <th>customer_id</th>\n",
       "      <th>product_id</th>\n",
       "      <th>quantity</th>\n",
       "      <th>timestamp</th>\n",
       "    </tr>\n",
       "  </thead>\n",
       "  <tbody>\n",
       "    <tr>\n",
       "      <th>0</th>\n",
       "      <td>1</td>\n",
       "      <td>2</td>\n",
       "      <td>3</td>\n",
       "      <td>1</td>\n",
       "      <td>01-01-2017</td>\n",
       "    </tr>\n",
       "    <tr>\n",
       "      <th>1</th>\n",
       "      <td>2</td>\n",
       "      <td>2</td>\n",
       "      <td>2</td>\n",
       "      <td>3</td>\n",
       "      <td>01-01-2017</td>\n",
       "    </tr>\n",
       "    <tr>\n",
       "      <th>2</th>\n",
       "      <td>3</td>\n",
       "      <td>3</td>\n",
       "      <td>1</td>\n",
       "      <td>1</td>\n",
       "      <td>01-01-2017</td>\n",
       "    </tr>\n",
       "    <tr>\n",
       "      <th>3</th>\n",
       "      <td>4</td>\n",
       "      <td>3</td>\n",
       "      <td>2</td>\n",
       "      <td>2</td>\n",
       "      <td>01-02-2017</td>\n",
       "    </tr>\n",
       "    <tr>\n",
       "      <th>4</th>\n",
       "      <td>5</td>\n",
       "      <td>3</td>\n",
       "      <td>3</td>\n",
       "      <td>3</td>\n",
       "      <td>01-02-2017</td>\n",
       "    </tr>\n",
       "    <tr>\n",
       "      <th>5</th>\n",
       "      <td>6</td>\n",
       "      <td>1</td>\n",
       "      <td>4</td>\n",
       "      <td>2</td>\n",
       "      <td>01-03-2017</td>\n",
       "    </tr>\n",
       "    <tr>\n",
       "      <th>6</th>\n",
       "      <td>7</td>\n",
       "      <td>1</td>\n",
       "      <td>1</td>\n",
       "      <td>1</td>\n",
       "      <td>02-02-2017</td>\n",
       "    </tr>\n",
       "    <tr>\n",
       "      <th>7</th>\n",
       "      <td>8</td>\n",
       "      <td>1</td>\n",
       "      <td>4</td>\n",
       "      <td>1</td>\n",
       "      <td>02-02-2017</td>\n",
       "    </tr>\n",
       "    <tr>\n",
       "      <th>8</th>\n",
       "      <td>9</td>\n",
       "      <td>1</td>\n",
       "      <td>5</td>\n",
       "      <td>1</td>\n",
       "      <td>02-02-2024</td>\n",
       "    </tr>\n",
       "  </tbody>\n",
       "</table>\n",
       "</div>"
      ],
      "text/plain": [
       "   id  customer_id  product_id  quantity   timestamp\n",
       "0   1            2           3         1  01-01-2017\n",
       "1   2            2           2         3  01-01-2017\n",
       "2   3            3           1         1  01-01-2017\n",
       "3   4            3           2         2  01-02-2017\n",
       "4   5            3           3         3  01-02-2017\n",
       "5   6            1           4         2  01-03-2017\n",
       "6   7            1           1         1  02-02-2017\n",
       "7   8            1           4         1  02-02-2017\n",
       "8   9            1           5         1  02-02-2024"
      ]
     },
     "execution_count": 69,
     "metadata": {},
     "output_type": "execute_result"
    }
   ],
   "source": [
    "orders1"
   ]
  },
  {
   "cell_type": "code",
   "execution_count": 70,
   "id": "ac3f0c01-a24f-4de0-a876-cc0d265f6446",
   "metadata": {},
   "outputs": [
    {
     "data": {
      "text/html": [
       "<div>\n",
       "<style scoped>\n",
       "    .dataframe tbody tr th:only-of-type {\n",
       "        vertical-align: middle;\n",
       "    }\n",
       "\n",
       "    .dataframe tbody tr th {\n",
       "        vertical-align: top;\n",
       "    }\n",
       "\n",
       "    .dataframe thead th {\n",
       "        text-align: right;\n",
       "    }\n",
       "</style>\n",
       "<table border=\"1\" class=\"dataframe\">\n",
       "  <thead>\n",
       "    <tr style=\"text-align: right;\">\n",
       "      <th></th>\n",
       "      <th>id</th>\n",
       "      <th>description</th>\n",
       "      <th>price</th>\n",
       "    </tr>\n",
       "  </thead>\n",
       "  <tbody>\n",
       "    <tr>\n",
       "      <th>0</th>\n",
       "      <td>1</td>\n",
       "      <td>thing-a-ma-jig</td>\n",
       "      <td>5</td>\n",
       "    </tr>\n",
       "    <tr>\n",
       "      <th>1</th>\n",
       "      <td>2</td>\n",
       "      <td>whatcha-ma-call-it</td>\n",
       "      <td>10</td>\n",
       "    </tr>\n",
       "    <tr>\n",
       "      <th>2</th>\n",
       "      <td>3</td>\n",
       "      <td>doo-hickey</td>\n",
       "      <td>7</td>\n",
       "    </tr>\n",
       "    <tr>\n",
       "      <th>3</th>\n",
       "      <td>4</td>\n",
       "      <td>gizmo</td>\n",
       "      <td>3</td>\n",
       "    </tr>\n",
       "  </tbody>\n",
       "</table>\n",
       "</div>"
      ],
      "text/plain": [
       "   id         description  price\n",
       "0   1      thing-a-ma-jig      5\n",
       "1   2  whatcha-ma-call-it     10\n",
       "2   3          doo-hickey      7\n",
       "3   4               gizmo      3"
      ]
     },
     "execution_count": 70,
     "metadata": {},
     "output_type": "execute_result"
    }
   ],
   "source": [
    "products1"
   ]
  },
  {
   "cell_type": "code",
   "execution_count": null,
   "id": "17c16a06-5c6d-46f4-982e-22576eb97994",
   "metadata": {},
   "outputs": [],
   "source": [
    "Notice that the 9th order in orders is for the mysterious new product, but that there is no product_id 5 in products."
   ]
  },
  {
   "cell_type": "code",
   "execution_count": 76,
   "id": "91f96250-9ca5-4678-9412-98ee6d79799c",
   "metadata": {},
   "outputs": [
    {
     "data": {
      "text/html": [
       "<div>\n",
       "<style scoped>\n",
       "    .dataframe tbody tr th:only-of-type {\n",
       "        vertical-align: middle;\n",
       "    }\n",
       "\n",
       "    .dataframe tbody tr th {\n",
       "        vertical-align: top;\n",
       "    }\n",
       "\n",
       "    .dataframe thead th {\n",
       "        text-align: right;\n",
       "    }\n",
       "</style>\n",
       "<table border=\"1\" class=\"dataframe\">\n",
       "  <thead>\n",
       "    <tr style=\"text-align: right;\">\n",
       "      <th></th>\n",
       "      <th>id_x</th>\n",
       "      <th>customer_id</th>\n",
       "      <th>product_id</th>\n",
       "      <th>quantity</th>\n",
       "      <th>timestamp</th>\n",
       "      <th>id_y</th>\n",
       "      <th>description</th>\n",
       "      <th>price</th>\n",
       "    </tr>\n",
       "  </thead>\n",
       "  <tbody>\n",
       "    <tr>\n",
       "      <th>0</th>\n",
       "      <td>1</td>\n",
       "      <td>2</td>\n",
       "      <td>3</td>\n",
       "      <td>1</td>\n",
       "      <td>01-01-2017</td>\n",
       "      <td>3</td>\n",
       "      <td>doo-hickey</td>\n",
       "      <td>7</td>\n",
       "    </tr>\n",
       "    <tr>\n",
       "      <th>1</th>\n",
       "      <td>2</td>\n",
       "      <td>2</td>\n",
       "      <td>2</td>\n",
       "      <td>3</td>\n",
       "      <td>01-01-2017</td>\n",
       "      <td>2</td>\n",
       "      <td>whatcha-ma-call-it</td>\n",
       "      <td>10</td>\n",
       "    </tr>\n",
       "    <tr>\n",
       "      <th>2</th>\n",
       "      <td>3</td>\n",
       "      <td>3</td>\n",
       "      <td>1</td>\n",
       "      <td>1</td>\n",
       "      <td>01-01-2017</td>\n",
       "      <td>1</td>\n",
       "      <td>thing-a-ma-jig</td>\n",
       "      <td>5</td>\n",
       "    </tr>\n",
       "    <tr>\n",
       "      <th>3</th>\n",
       "      <td>4</td>\n",
       "      <td>3</td>\n",
       "      <td>2</td>\n",
       "      <td>2</td>\n",
       "      <td>01-02-2017</td>\n",
       "      <td>2</td>\n",
       "      <td>whatcha-ma-call-it</td>\n",
       "      <td>10</td>\n",
       "    </tr>\n",
       "    <tr>\n",
       "      <th>4</th>\n",
       "      <td>5</td>\n",
       "      <td>3</td>\n",
       "      <td>3</td>\n",
       "      <td>3</td>\n",
       "      <td>01-02-2017</td>\n",
       "      <td>3</td>\n",
       "      <td>doo-hickey</td>\n",
       "      <td>7</td>\n",
       "    </tr>\n",
       "    <tr>\n",
       "      <th>5</th>\n",
       "      <td>6</td>\n",
       "      <td>1</td>\n",
       "      <td>4</td>\n",
       "      <td>2</td>\n",
       "      <td>01-03-2017</td>\n",
       "      <td>4</td>\n",
       "      <td>gizmo</td>\n",
       "      <td>3</td>\n",
       "    </tr>\n",
       "    <tr>\n",
       "      <th>6</th>\n",
       "      <td>7</td>\n",
       "      <td>1</td>\n",
       "      <td>1</td>\n",
       "      <td>1</td>\n",
       "      <td>02-02-2017</td>\n",
       "      <td>1</td>\n",
       "      <td>thing-a-ma-jig</td>\n",
       "      <td>5</td>\n",
       "    </tr>\n",
       "    <tr>\n",
       "      <th>7</th>\n",
       "      <td>8</td>\n",
       "      <td>1</td>\n",
       "      <td>4</td>\n",
       "      <td>1</td>\n",
       "      <td>02-02-2017</td>\n",
       "      <td>4</td>\n",
       "      <td>gizmo</td>\n",
       "      <td>3</td>\n",
       "    </tr>\n",
       "  </tbody>\n",
       "</table>\n",
       "</div>"
      ],
      "text/plain": [
       "   id_x  customer_id  product_id  quantity   timestamp  id_y  \\\n",
       "0     1            2           3         1  01-01-2017     3   \n",
       "1     2            2           2         3  01-01-2017     2   \n",
       "2     3            3           1         1  01-01-2017     1   \n",
       "3     4            3           2         2  01-02-2017     2   \n",
       "4     5            3           3         3  01-02-2017     3   \n",
       "5     6            1           4         2  01-03-2017     4   \n",
       "6     7            1           1         1  02-02-2017     1   \n",
       "7     8            1           4         1  02-02-2017     4   \n",
       "\n",
       "          description  price  \n",
       "0          doo-hickey      7  \n",
       "1  whatcha-ma-call-it     10  \n",
       "2      thing-a-ma-jig      5  \n",
       "3  whatcha-ma-call-it     10  \n",
       "4          doo-hickey      7  \n",
       "5               gizmo      3  \n",
       "6      thing-a-ma-jig      5  \n",
       "7               gizmo      3  "
      ]
     },
     "execution_count": 76,
     "metadata": {},
     "output_type": "execute_result"
    }
   ],
   "source": [
    "pd.merge(orders1, \n",
    "         products1, \n",
    "         left_on='product_id', \n",
    "         right_on='id')"
   ]
  },
  {
   "cell_type": "markdown",
   "id": "6d40344d-f646-4ae1-90d2-fc9835197916",
   "metadata": {},
   "source": [
    "## Question\n",
    "\n",
    "what happens when there is a mismatch when performing a merge?"
   ]
  },
  {
   "cell_type": "markdown",
   "id": "ca65f756-ccc3-4025-b5c7-028eaa05fe51",
   "metadata": {},
   "source": [
    "When there is a mismatch for a merge of two dataframes, the rows that have no match will simply not be included in the result dataframe."
   ]
  },
  {
   "cell_type": "markdown",
   "id": "7fd23b09-9b77-4e55-af1b-fc9d13d9f836",
   "metadata": {},
   "source": [
    "#### Note:\n",
    "\n",
    "By default the pd.merge() method performs an inner merge, which means that it will only return a row \n",
    "if there is a matching value in both dataframes."
   ]
  },
  {
   "cell_type": "markdown",
   "id": "e4af314f-12a9-433a-a72e-7dded1d6ced2",
   "metadata": {},
   "source": [
    "## Outer Merge\n"
   ]
  },
  {
   "cell_type": "markdown",
   "id": "29f5f3d7-40bc-4abd-80b5-814b5255d1df",
   "metadata": {},
   "source": [
    "when we merge two DataFrames whose rows don’t match perfectly, we lose the unmatched rows.\n",
    "\n",
    "This type of merge (where we only include matching rows) is called an inner merge. "
   ]
  },
  {
   "cell_type": "markdown",
   "id": "f5e714f4-9aaf-4895-80b3-22492e589f88",
   "metadata": {},
   "source": [
    "There are other types of merges that we can use when we want to keep information from the unmatched rows.\n",
    "\n",
    "Suppose that two companies, Company A and Company B have just merged. \n",
    "\n",
    "They each have a list of customers, but they keep slightly different data. \n",
    "\n",
    "Company A has each customer’s name and email. \n",
    "\n",
    "Company B has each customer’s name and phone number. \n",
    "\n",
    "They have some customers in common, but some are different."
   ]
  },
  {
   "cell_type": "markdown",
   "id": "8554d88e-8b2a-4f65-bba1-13b1708ccfdd",
   "metadata": {},
   "source": [
    "#### company_a"
   ]
  },
  {
   "cell_type": "markdown",
   "id": "7bf2b932-58e8-439c-abf5-d22c5c78bb0f",
   "metadata": {},
   "source": [
    "name\t        email\n",
    "Sally Sparrow\tsally.sparrow@gmail.com\n",
    "Peter Grant\t    pgrant@yahoo.com\n",
    "Leslie May\t    leslie_may@gmail.com"
   ]
  },
  {
   "cell_type": "markdown",
   "id": "ce3204c5-23ca-48d1-8343-fdc7bb303f78",
   "metadata": {},
   "source": [
    "#### company_b"
   ]
  },
  {
   "cell_type": "markdown",
   "id": "79fbdaf8-47b2-426a-b0ad-5587bd940a34",
   "metadata": {},
   "source": [
    "name\t      phone\n",
    "Peter Grant\t  212-345-6789\n",
    "Leslie May\t  626-987-6543\n",
    "Aaron Burr\t  303-456-7891"
   ]
  },
  {
   "cell_type": "code",
   "execution_count": null,
   "id": "9c11ccfe-3d14-4c44-b502-10a02780efff",
   "metadata": {},
   "outputs": [],
   "source": [
    "If we wanted to combine the data from both companies without losing the customers who are missing from one of the tables, \n",
    "we could use an Outer Join."
   ]
  },
  {
   "cell_type": "markdown",
   "id": "99ebf6ef-1819-4090-be7f-eae1660f9580",
   "metadata": {},
   "source": [
    "#### Outer Join"
   ]
  },
  {
   "cell_type": "code",
   "execution_count": null,
   "id": "5e15d5ec-eb98-41fe-82f0-7f772c05c171",
   "metadata": {},
   "outputs": [],
   "source": [
    "An Outer Join would include all rows from both tables, even if they don’t match. \n",
    "\n",
    "Any missing values are filled in with None or nan (which stands for “Not a Number”)."
   ]
  },
  {
   "cell_type": "code",
   "execution_count": null,
   "id": "2b87dbe8-c56f-4c69-accf-8629def89a4c",
   "metadata": {},
   "outputs": [],
   "source": [
    "pd.merge(company_a, company_b, how='outer')"
   ]
  },
  {
   "cell_type": "markdown",
   "id": "c5e27bdd-0a84-4ac7-9ef5-41db1771da9d",
   "metadata": {},
   "source": [
    "The resulting table would look like this:\n",
    "\n",
    "name\t        email\t                      phone\n",
    "Sally Sparrow\tsally.sparrow@gmail.com\t      nan\n",
    "Peter Grant  \tpgrant@yahoo.com\t          212-345-6789\n",
    "Leslie May\t    leslie_may@gmail.com\t      626-987-6543\n",
    "Aaron Burr\t    nan\t                          303-456-7891\n"
   ]
  },
  {
   "cell_type": "markdown",
   "id": "b858ee93-4bfe-4530-a10f-5a75439a67e7",
   "metadata": {},
   "source": [
    "## Task"
   ]
  },
  {
   "cell_type": "markdown",
   "id": "97f1ea41-6a3b-4d05-bd5d-a51c0e0f332d",
   "metadata": {},
   "source": [
    "There are two hardware stores in town: Store A & Store B. \n",
    "\n",
    "Store A’s inventory is in DataFrame store_a and \n",
    "Store B’s inventory is in DataFrame store_b. \n",
    "\n",
    "They have decided to merge into one big Super Store!\n",
    "\n",
    "Combine the inventories of Store A and Store B using an outer merge. Save the results to the variable store_a_b_outer."
   ]
  },
  {
   "cell_type": "code",
   "execution_count": 77,
   "id": "8dc8c621-329d-4a1a-a58d-09d5caa7a7e8",
   "metadata": {},
   "outputs": [],
   "source": [
    "store_a = pd.read_csv(r'store_a.csv')\n",
    "store_b = pd.read_csv(r'store_b.csv')"
   ]
  },
  {
   "cell_type": "code",
   "execution_count": 78,
   "id": "ed595995-a364-4085-8f8e-d318104d8a35",
   "metadata": {},
   "outputs": [
    {
     "data": {
      "text/html": [
       "<div>\n",
       "<style scoped>\n",
       "    .dataframe tbody tr th:only-of-type {\n",
       "        vertical-align: middle;\n",
       "    }\n",
       "\n",
       "    .dataframe tbody tr th {\n",
       "        vertical-align: top;\n",
       "    }\n",
       "\n",
       "    .dataframe thead th {\n",
       "        text-align: right;\n",
       "    }\n",
       "</style>\n",
       "<table border=\"1\" class=\"dataframe\">\n",
       "  <thead>\n",
       "    <tr style=\"text-align: right;\">\n",
       "      <th></th>\n",
       "      <th>item</th>\n",
       "      <th>store_a_inventory</th>\n",
       "    </tr>\n",
       "  </thead>\n",
       "  <tbody>\n",
       "    <tr>\n",
       "      <th>0</th>\n",
       "      <td>hammer</td>\n",
       "      <td>12</td>\n",
       "    </tr>\n",
       "    <tr>\n",
       "      <th>1</th>\n",
       "      <td>screwdriver</td>\n",
       "      <td>15</td>\n",
       "    </tr>\n",
       "    <tr>\n",
       "      <th>2</th>\n",
       "      <td>nails</td>\n",
       "      <td>200</td>\n",
       "    </tr>\n",
       "    <tr>\n",
       "      <th>3</th>\n",
       "      <td>screws</td>\n",
       "      <td>350</td>\n",
       "    </tr>\n",
       "    <tr>\n",
       "      <th>4</th>\n",
       "      <td>saw</td>\n",
       "      <td>6</td>\n",
       "    </tr>\n",
       "    <tr>\n",
       "      <th>5</th>\n",
       "      <td>duct tape</td>\n",
       "      <td>150</td>\n",
       "    </tr>\n",
       "    <tr>\n",
       "      <th>6</th>\n",
       "      <td>wrench</td>\n",
       "      <td>12</td>\n",
       "    </tr>\n",
       "    <tr>\n",
       "      <th>7</th>\n",
       "      <td>pvc pipe</td>\n",
       "      <td>54</td>\n",
       "    </tr>\n",
       "  </tbody>\n",
       "</table>\n",
       "</div>"
      ],
      "text/plain": [
       "          item  store_a_inventory\n",
       "0       hammer                 12\n",
       "1  screwdriver                 15\n",
       "2        nails                200\n",
       "3       screws                350\n",
       "4          saw                  6\n",
       "5    duct tape                150\n",
       "6       wrench                 12\n",
       "7     pvc pipe                 54"
      ]
     },
     "execution_count": 78,
     "metadata": {},
     "output_type": "execute_result"
    }
   ],
   "source": [
    "store_a"
   ]
  },
  {
   "cell_type": "code",
   "execution_count": 79,
   "id": "6ffd3ade-062b-4f95-9f1c-53aa8b5da207",
   "metadata": {},
   "outputs": [
    {
     "data": {
      "text/html": [
       "<div>\n",
       "<style scoped>\n",
       "    .dataframe tbody tr th:only-of-type {\n",
       "        vertical-align: middle;\n",
       "    }\n",
       "\n",
       "    .dataframe tbody tr th {\n",
       "        vertical-align: top;\n",
       "    }\n",
       "\n",
       "    .dataframe thead th {\n",
       "        text-align: right;\n",
       "    }\n",
       "</style>\n",
       "<table border=\"1\" class=\"dataframe\">\n",
       "  <thead>\n",
       "    <tr style=\"text-align: right;\">\n",
       "      <th></th>\n",
       "      <th>item</th>\n",
       "      <th>store_b_inventory</th>\n",
       "    </tr>\n",
       "  </thead>\n",
       "  <tbody>\n",
       "    <tr>\n",
       "      <th>0</th>\n",
       "      <td>hammer</td>\n",
       "      <td>6</td>\n",
       "    </tr>\n",
       "    <tr>\n",
       "      <th>1</th>\n",
       "      <td>nails</td>\n",
       "      <td>250</td>\n",
       "    </tr>\n",
       "    <tr>\n",
       "      <th>2</th>\n",
       "      <td>saw</td>\n",
       "      <td>6</td>\n",
       "    </tr>\n",
       "    <tr>\n",
       "      <th>3</th>\n",
       "      <td>duct tape</td>\n",
       "      <td>150</td>\n",
       "    </tr>\n",
       "    <tr>\n",
       "      <th>4</th>\n",
       "      <td>pvc pipe</td>\n",
       "      <td>54</td>\n",
       "    </tr>\n",
       "    <tr>\n",
       "      <th>5</th>\n",
       "      <td>rake</td>\n",
       "      <td>10</td>\n",
       "    </tr>\n",
       "    <tr>\n",
       "      <th>6</th>\n",
       "      <td>shovel</td>\n",
       "      <td>15</td>\n",
       "    </tr>\n",
       "    <tr>\n",
       "      <th>7</th>\n",
       "      <td>wooden dowels</td>\n",
       "      <td>192</td>\n",
       "    </tr>\n",
       "  </tbody>\n",
       "</table>\n",
       "</div>"
      ],
      "text/plain": [
       "            item  store_b_inventory\n",
       "0         hammer                  6\n",
       "1          nails                250\n",
       "2            saw                  6\n",
       "3      duct tape                150\n",
       "4       pvc pipe                 54\n",
       "5           rake                 10\n",
       "6         shovel                 15\n",
       "7  wooden dowels                192"
      ]
     },
     "execution_count": 79,
     "metadata": {},
     "output_type": "execute_result"
    }
   ],
   "source": [
    "store_b"
   ]
  },
  {
   "cell_type": "code",
   "execution_count": 81,
   "id": "3ff9a1e7-2c9b-4fbe-ab52-d30c05d0ce1b",
   "metadata": {},
   "outputs": [],
   "source": [
    "store_a_b_outer = pd.merge(store_a,\n",
    "                           store_b,\n",
    "                           how = 'outer')"
   ]
  },
  {
   "cell_type": "code",
   "execution_count": 82,
   "id": "f0c3ed83-2371-4913-86e1-c28ce0e64c0e",
   "metadata": {},
   "outputs": [
    {
     "data": {
      "text/html": [
       "<div>\n",
       "<style scoped>\n",
       "    .dataframe tbody tr th:only-of-type {\n",
       "        vertical-align: middle;\n",
       "    }\n",
       "\n",
       "    .dataframe tbody tr th {\n",
       "        vertical-align: top;\n",
       "    }\n",
       "\n",
       "    .dataframe thead th {\n",
       "        text-align: right;\n",
       "    }\n",
       "</style>\n",
       "<table border=\"1\" class=\"dataframe\">\n",
       "  <thead>\n",
       "    <tr style=\"text-align: right;\">\n",
       "      <th></th>\n",
       "      <th>item</th>\n",
       "      <th>store_a_inventory</th>\n",
       "      <th>store_b_inventory</th>\n",
       "    </tr>\n",
       "  </thead>\n",
       "  <tbody>\n",
       "    <tr>\n",
       "      <th>0</th>\n",
       "      <td>duct tape</td>\n",
       "      <td>150.0</td>\n",
       "      <td>150.0</td>\n",
       "    </tr>\n",
       "    <tr>\n",
       "      <th>1</th>\n",
       "      <td>hammer</td>\n",
       "      <td>12.0</td>\n",
       "      <td>6.0</td>\n",
       "    </tr>\n",
       "    <tr>\n",
       "      <th>2</th>\n",
       "      <td>nails</td>\n",
       "      <td>200.0</td>\n",
       "      <td>250.0</td>\n",
       "    </tr>\n",
       "    <tr>\n",
       "      <th>3</th>\n",
       "      <td>pvc pipe</td>\n",
       "      <td>54.0</td>\n",
       "      <td>54.0</td>\n",
       "    </tr>\n",
       "    <tr>\n",
       "      <th>4</th>\n",
       "      <td>rake</td>\n",
       "      <td>NaN</td>\n",
       "      <td>10.0</td>\n",
       "    </tr>\n",
       "    <tr>\n",
       "      <th>5</th>\n",
       "      <td>saw</td>\n",
       "      <td>6.0</td>\n",
       "      <td>6.0</td>\n",
       "    </tr>\n",
       "    <tr>\n",
       "      <th>6</th>\n",
       "      <td>screwdriver</td>\n",
       "      <td>15.0</td>\n",
       "      <td>NaN</td>\n",
       "    </tr>\n",
       "    <tr>\n",
       "      <th>7</th>\n",
       "      <td>screws</td>\n",
       "      <td>350.0</td>\n",
       "      <td>NaN</td>\n",
       "    </tr>\n",
       "    <tr>\n",
       "      <th>8</th>\n",
       "      <td>shovel</td>\n",
       "      <td>NaN</td>\n",
       "      <td>15.0</td>\n",
       "    </tr>\n",
       "    <tr>\n",
       "      <th>9</th>\n",
       "      <td>wooden dowels</td>\n",
       "      <td>NaN</td>\n",
       "      <td>192.0</td>\n",
       "    </tr>\n",
       "    <tr>\n",
       "      <th>10</th>\n",
       "      <td>wrench</td>\n",
       "      <td>12.0</td>\n",
       "      <td>NaN</td>\n",
       "    </tr>\n",
       "  </tbody>\n",
       "</table>\n",
       "</div>"
      ],
      "text/plain": [
       "             item  store_a_inventory  store_b_inventory\n",
       "0       duct tape              150.0              150.0\n",
       "1          hammer               12.0                6.0\n",
       "2           nails              200.0              250.0\n",
       "3        pvc pipe               54.0               54.0\n",
       "4            rake                NaN               10.0\n",
       "5             saw                6.0                6.0\n",
       "6     screwdriver               15.0                NaN\n",
       "7          screws              350.0                NaN\n",
       "8          shovel                NaN               15.0\n",
       "9   wooden dowels                NaN              192.0\n",
       "10         wrench               12.0                NaN"
      ]
     },
     "execution_count": 82,
     "metadata": {},
     "output_type": "execute_result"
    }
   ],
   "source": [
    "store_a_b_outer"
   ]
  },
  {
   "cell_type": "markdown",
   "id": "5ce1e320-f583-45b8-94a8-c17eeef07188",
   "metadata": {},
   "source": [
    "## Question\n",
    "\n",
    "can we set another value to take place of missing values instead of None or nan?"
   ]
  },
  {
   "cell_type": "markdown",
   "id": "8567c120-d63b-4fe7-bca9-8ea85c8dc4e1",
   "metadata": {},
   "source": [
    "After performing an outer merge, missing values will become filled with None or nan by default, \n",
    "and there is no way to set another value during this step."
   ]
  },
  {
   "cell_type": "code",
   "execution_count": null,
   "id": "5ce85d7d-f8e8-4691-8c4f-a3ad11973c98",
   "metadata": {},
   "outputs": [],
   "source": [
    "After the merge, replacing these is a bit easier"
   ]
  },
  {
   "cell_type": "code",
   "execution_count": null,
   "id": "6b8b642b-e52b-46e1-b55f-654b26561e29",
   "metadata": {},
   "outputs": [],
   "source": [
    "You can utilize the fillna() method, which will replace all missing or nan values with another value you specify."
   ]
  },
  {
   "cell_type": "markdown",
   "id": "4135dadc-6af1-47b7-b833-d15f8e99a7af",
   "metadata": {},
   "source": [
    "#### fillna()"
   ]
  },
  {
   "cell_type": "code",
   "execution_count": null,
   "id": "ba7c6727-41dc-46b6-a535-6adb5c53b8f8",
   "metadata": {},
   "outputs": [],
   "source": [
    "# Replaces all nan values with 0\n",
    "df.fillna(0, inplace=True)"
   ]
  },
  {
   "cell_type": "markdown",
   "id": "da6d13bc-4200-4a81-8e7b-0c57ae0a1729",
   "metadata": {},
   "source": [
    "# Left and Right Merge"
   ]
  },
  {
   "cell_type": "markdown",
   "id": "6c284e8f-ca0b-4212-924d-a991bc424c4a",
   "metadata": {},
   "source": [
    "### Left Merge\n",
    "\n",
    "A Left Merge includes all rows from the first (left) table, but only rows from the second (right) table that match the first table."
   ]
  },
  {
   "cell_type": "markdown",
   "id": "1225b947-95cf-4f4d-9d16-dd59e8163900",
   "metadata": {},
   "source": [
    "Suppose we want to identify which customers are missing phone information. "
   ]
  },
  {
   "cell_type": "markdown",
   "id": "49da9aaa-f886-447d-9c17-df4ac058d7a0",
   "metadata": {},
   "source": [
    "We would want a list of all customers who have email, but don’t have phone."
   ]
  },
  {
   "cell_type": "markdown",
   "id": "c21f4a4b-d353-4ec1-bdd7-942d2641324e",
   "metadata": {},
   "source": [
    "We could get this by performing a Left Merge"
   ]
  },
  {
   "cell_type": "markdown",
   "id": "522d6735-1d7e-4a46-a550-503b5682b6dd",
   "metadata": {},
   "source": [
    "For this command, the order of the arguments matters."
   ]
  },
  {
   "cell_type": "markdown",
   "id": "85df85f8-8188-4432-9af6-f0287e649a85",
   "metadata": {},
   "source": [
    "pd.merge(company_a, company_b, how='left')"
   ]
  },
  {
   "cell_type": "markdown",
   "id": "bf325fb6-fec5-451f-a04b-1683d83f4249",
   "metadata": {},
   "source": [
    "By listing company_a first, we get all customers from Company A, and only customers from Company B who are also customers of Company A."
   ]
  },
  {
   "cell_type": "code",
   "execution_count": 84,
   "id": "77487b1b-fd13-40ec-8ee9-267c3ea2115a",
   "metadata": {},
   "outputs": [],
   "source": [
    "company_a = pd.read_csv(r'company_a.csv')\n",
    "company_b = pd.read_csv(r'company_b.csv')"
   ]
  },
  {
   "cell_type": "code",
   "execution_count": 85,
   "id": "e45c2b35-76aa-4413-b40b-68bd98279365",
   "metadata": {},
   "outputs": [
    {
     "data": {
      "text/html": [
       "<div>\n",
       "<style scoped>\n",
       "    .dataframe tbody tr th:only-of-type {\n",
       "        vertical-align: middle;\n",
       "    }\n",
       "\n",
       "    .dataframe tbody tr th {\n",
       "        vertical-align: top;\n",
       "    }\n",
       "\n",
       "    .dataframe thead th {\n",
       "        text-align: right;\n",
       "    }\n",
       "</style>\n",
       "<table border=\"1\" class=\"dataframe\">\n",
       "  <thead>\n",
       "    <tr style=\"text-align: right;\">\n",
       "      <th></th>\n",
       "      <th>name</th>\n",
       "      <th>email</th>\n",
       "    </tr>\n",
       "  </thead>\n",
       "  <tbody>\n",
       "    <tr>\n",
       "      <th>0</th>\n",
       "      <td>Sally Sparrow</td>\n",
       "      <td>sally.sparrow@gmail.com</td>\n",
       "    </tr>\n",
       "    <tr>\n",
       "      <th>1</th>\n",
       "      <td>Peter Grant</td>\n",
       "      <td>pgrant@yahoo.com</td>\n",
       "    </tr>\n",
       "    <tr>\n",
       "      <th>2</th>\n",
       "      <td>Leslie May</td>\n",
       "      <td>leslie_may@gmail.com</td>\n",
       "    </tr>\n",
       "  </tbody>\n",
       "</table>\n",
       "</div>"
      ],
      "text/plain": [
       "            name                     email\n",
       "0  Sally Sparrow   sally.sparrow@gmail.com\n",
       "1    Peter Grant          pgrant@yahoo.com\n",
       "2     Leslie May      leslie_may@gmail.com"
      ]
     },
     "execution_count": 85,
     "metadata": {},
     "output_type": "execute_result"
    }
   ],
   "source": [
    "company_a"
   ]
  },
  {
   "cell_type": "code",
   "execution_count": 86,
   "id": "aca88775-a829-49fc-9124-7bcb985e4f00",
   "metadata": {},
   "outputs": [
    {
     "data": {
      "text/html": [
       "<div>\n",
       "<style scoped>\n",
       "    .dataframe tbody tr th:only-of-type {\n",
       "        vertical-align: middle;\n",
       "    }\n",
       "\n",
       "    .dataframe tbody tr th {\n",
       "        vertical-align: top;\n",
       "    }\n",
       "\n",
       "    .dataframe thead th {\n",
       "        text-align: right;\n",
       "    }\n",
       "</style>\n",
       "<table border=\"1\" class=\"dataframe\">\n",
       "  <thead>\n",
       "    <tr style=\"text-align: right;\">\n",
       "      <th></th>\n",
       "      <th>name</th>\n",
       "      <th>phone</th>\n",
       "    </tr>\n",
       "  </thead>\n",
       "  <tbody>\n",
       "    <tr>\n",
       "      <th>0</th>\n",
       "      <td>Peter Grant</td>\n",
       "      <td>212-345-6789</td>\n",
       "    </tr>\n",
       "    <tr>\n",
       "      <th>1</th>\n",
       "      <td>Leslie May</td>\n",
       "      <td>626-987-6543</td>\n",
       "    </tr>\n",
       "    <tr>\n",
       "      <th>2</th>\n",
       "      <td>Aaron Burr</td>\n",
       "      <td>303-456-7891</td>\n",
       "    </tr>\n",
       "  </tbody>\n",
       "</table>\n",
       "</div>"
      ],
      "text/plain": [
       "          name           phone\n",
       "0  Peter Grant    212-345-6789\n",
       "1   Leslie May    626-987-6543\n",
       "2   Aaron Burr    303-456-7891"
      ]
     },
     "execution_count": 86,
     "metadata": {},
     "output_type": "execute_result"
    }
   ],
   "source": [
    "company_b"
   ]
  },
  {
   "cell_type": "code",
   "execution_count": 87,
   "id": "6781c3f4-f81e-41dd-910e-88dbe71da1a1",
   "metadata": {},
   "outputs": [
    {
     "data": {
      "text/html": [
       "<div>\n",
       "<style scoped>\n",
       "    .dataframe tbody tr th:only-of-type {\n",
       "        vertical-align: middle;\n",
       "    }\n",
       "\n",
       "    .dataframe tbody tr th {\n",
       "        vertical-align: top;\n",
       "    }\n",
       "\n",
       "    .dataframe thead th {\n",
       "        text-align: right;\n",
       "    }\n",
       "</style>\n",
       "<table border=\"1\" class=\"dataframe\">\n",
       "  <thead>\n",
       "    <tr style=\"text-align: right;\">\n",
       "      <th></th>\n",
       "      <th>name</th>\n",
       "      <th>email</th>\n",
       "      <th>phone</th>\n",
       "    </tr>\n",
       "  </thead>\n",
       "  <tbody>\n",
       "    <tr>\n",
       "      <th>0</th>\n",
       "      <td>Sally Sparrow</td>\n",
       "      <td>sally.sparrow@gmail.com</td>\n",
       "      <td>NaN</td>\n",
       "    </tr>\n",
       "    <tr>\n",
       "      <th>1</th>\n",
       "      <td>Peter Grant</td>\n",
       "      <td>pgrant@yahoo.com</td>\n",
       "      <td>212-345-6789</td>\n",
       "    </tr>\n",
       "    <tr>\n",
       "      <th>2</th>\n",
       "      <td>Leslie May</td>\n",
       "      <td>leslie_may@gmail.com</td>\n",
       "      <td>626-987-6543</td>\n",
       "    </tr>\n",
       "  </tbody>\n",
       "</table>\n",
       "</div>"
      ],
      "text/plain": [
       "            name                     email           phone\n",
       "0  Sally Sparrow   sally.sparrow@gmail.com             NaN\n",
       "1    Peter Grant          pgrant@yahoo.com    212-345-6789\n",
       "2     Leslie May      leslie_may@gmail.com    626-987-6543"
      ]
     },
     "execution_count": 87,
     "metadata": {},
     "output_type": "execute_result"
    }
   ],
   "source": [
    "pd.merge(company_a, company_b, how='left')"
   ]
  },
  {
   "cell_type": "markdown",
   "id": "8dddf9f8-c810-4da8-a7ca-3388761be12c",
   "metadata": {},
   "source": [
    "## Right Merge\n",
    "\n",
    "exact opposite of left merge\n",
    "\n",
    "Here, the merged table will include all rows from the second (right) table, but only rows from the first (left) table that match the second table."
   ]
  },
  {
   "cell_type": "markdown",
   "id": "0194ce9a-bd0f-4b7f-8665-e18d666d974b",
   "metadata": {},
   "source": [
    "Example\n",
    "\n",
    "By listing company_a first and company_b second, we get all customers from Company B, and \n",
    "only customers from Company A who are also customers of Company B.\n"
   ]
  },
  {
   "cell_type": "code",
   "execution_count": 88,
   "id": "45946d92-491c-473e-98c7-2b0656717457",
   "metadata": {},
   "outputs": [
    {
     "data": {
      "text/html": [
       "<div>\n",
       "<style scoped>\n",
       "    .dataframe tbody tr th:only-of-type {\n",
       "        vertical-align: middle;\n",
       "    }\n",
       "\n",
       "    .dataframe tbody tr th {\n",
       "        vertical-align: top;\n",
       "    }\n",
       "\n",
       "    .dataframe thead th {\n",
       "        text-align: right;\n",
       "    }\n",
       "</style>\n",
       "<table border=\"1\" class=\"dataframe\">\n",
       "  <thead>\n",
       "    <tr style=\"text-align: right;\">\n",
       "      <th></th>\n",
       "      <th>name</th>\n",
       "      <th>email</th>\n",
       "      <th>phone</th>\n",
       "    </tr>\n",
       "  </thead>\n",
       "  <tbody>\n",
       "    <tr>\n",
       "      <th>0</th>\n",
       "      <td>Peter Grant</td>\n",
       "      <td>pgrant@yahoo.com</td>\n",
       "      <td>212-345-6789</td>\n",
       "    </tr>\n",
       "    <tr>\n",
       "      <th>1</th>\n",
       "      <td>Leslie May</td>\n",
       "      <td>leslie_may@gmail.com</td>\n",
       "      <td>626-987-6543</td>\n",
       "    </tr>\n",
       "    <tr>\n",
       "      <th>2</th>\n",
       "      <td>Aaron Burr</td>\n",
       "      <td>NaN</td>\n",
       "      <td>303-456-7891</td>\n",
       "    </tr>\n",
       "  </tbody>\n",
       "</table>\n",
       "</div>"
      ],
      "text/plain": [
       "          name                     email           phone\n",
       "0  Peter Grant          pgrant@yahoo.com    212-345-6789\n",
       "1   Leslie May      leslie_may@gmail.com    626-987-6543\n",
       "2   Aaron Burr                       NaN    303-456-7891"
      ]
     },
     "execution_count": 88,
     "metadata": {},
     "output_type": "execute_result"
    }
   ],
   "source": [
    "pd.merge(company_a, company_b, how=\"right\")"
   ]
  },
  {
   "cell_type": "markdown",
   "id": "3417e73f-068f-4030-8a1b-f46cfc8befaf",
   "metadata": {},
   "source": [
    "## Task"
   ]
  },
  {
   "cell_type": "code",
   "execution_count": null,
   "id": "288ab17b-0ba8-4384-8352-94da675a4aa6",
   "metadata": {},
   "outputs": [],
   "source": [
    "Let’s return to the two hardware stores, Store A and Store B. \n",
    "\n",
    "They’re not quite sure if they want to merge into a big Super Store just yet.\n",
    "\n",
    "Store A wants to find out what products they carry that Store B does not carry. \n",
    "Using a left merge, combine store_a to store_b and save the results to store_a_b_left.\n",
    "\n",
    "The items with null in store_b_inventory are carried by Store A, but not Store B."
   ]
  },
  {
   "cell_type": "code",
   "execution_count": 91,
   "id": "14b18259-e65e-4ae4-b6ab-b67a5f758dac",
   "metadata": {},
   "outputs": [
    {
     "data": {
      "text/html": [
       "<div>\n",
       "<style scoped>\n",
       "    .dataframe tbody tr th:only-of-type {\n",
       "        vertical-align: middle;\n",
       "    }\n",
       "\n",
       "    .dataframe tbody tr th {\n",
       "        vertical-align: top;\n",
       "    }\n",
       "\n",
       "    .dataframe thead th {\n",
       "        text-align: right;\n",
       "    }\n",
       "</style>\n",
       "<table border=\"1\" class=\"dataframe\">\n",
       "  <thead>\n",
       "    <tr style=\"text-align: right;\">\n",
       "      <th></th>\n",
       "      <th>item</th>\n",
       "      <th>store_a_inventory</th>\n",
       "    </tr>\n",
       "  </thead>\n",
       "  <tbody>\n",
       "    <tr>\n",
       "      <th>0</th>\n",
       "      <td>hammer</td>\n",
       "      <td>12</td>\n",
       "    </tr>\n",
       "    <tr>\n",
       "      <th>1</th>\n",
       "      <td>screwdriver</td>\n",
       "      <td>15</td>\n",
       "    </tr>\n",
       "    <tr>\n",
       "      <th>2</th>\n",
       "      <td>nails</td>\n",
       "      <td>200</td>\n",
       "    </tr>\n",
       "    <tr>\n",
       "      <th>3</th>\n",
       "      <td>screws</td>\n",
       "      <td>350</td>\n",
       "    </tr>\n",
       "    <tr>\n",
       "      <th>4</th>\n",
       "      <td>saw</td>\n",
       "      <td>6</td>\n",
       "    </tr>\n",
       "    <tr>\n",
       "      <th>5</th>\n",
       "      <td>duct tape</td>\n",
       "      <td>150</td>\n",
       "    </tr>\n",
       "    <tr>\n",
       "      <th>6</th>\n",
       "      <td>wrench</td>\n",
       "      <td>12</td>\n",
       "    </tr>\n",
       "    <tr>\n",
       "      <th>7</th>\n",
       "      <td>pvc pipe</td>\n",
       "      <td>54</td>\n",
       "    </tr>\n",
       "  </tbody>\n",
       "</table>\n",
       "</div>"
      ],
      "text/plain": [
       "          item  store_a_inventory\n",
       "0       hammer                 12\n",
       "1  screwdriver                 15\n",
       "2        nails                200\n",
       "3       screws                350\n",
       "4          saw                  6\n",
       "5    duct tape                150\n",
       "6       wrench                 12\n",
       "7     pvc pipe                 54"
      ]
     },
     "execution_count": 91,
     "metadata": {},
     "output_type": "execute_result"
    }
   ],
   "source": [
    "store_a"
   ]
  },
  {
   "cell_type": "code",
   "execution_count": 93,
   "id": "4c450c25-6524-4a6c-9afa-431302e5f118",
   "metadata": {},
   "outputs": [
    {
     "data": {
      "text/html": [
       "<div>\n",
       "<style scoped>\n",
       "    .dataframe tbody tr th:only-of-type {\n",
       "        vertical-align: middle;\n",
       "    }\n",
       "\n",
       "    .dataframe tbody tr th {\n",
       "        vertical-align: top;\n",
       "    }\n",
       "\n",
       "    .dataframe thead th {\n",
       "        text-align: right;\n",
       "    }\n",
       "</style>\n",
       "<table border=\"1\" class=\"dataframe\">\n",
       "  <thead>\n",
       "    <tr style=\"text-align: right;\">\n",
       "      <th></th>\n",
       "      <th>item</th>\n",
       "      <th>store_b_inventory</th>\n",
       "    </tr>\n",
       "  </thead>\n",
       "  <tbody>\n",
       "    <tr>\n",
       "      <th>0</th>\n",
       "      <td>hammer</td>\n",
       "      <td>6</td>\n",
       "    </tr>\n",
       "    <tr>\n",
       "      <th>1</th>\n",
       "      <td>nails</td>\n",
       "      <td>250</td>\n",
       "    </tr>\n",
       "    <tr>\n",
       "      <th>2</th>\n",
       "      <td>saw</td>\n",
       "      <td>6</td>\n",
       "    </tr>\n",
       "    <tr>\n",
       "      <th>3</th>\n",
       "      <td>duct tape</td>\n",
       "      <td>150</td>\n",
       "    </tr>\n",
       "    <tr>\n",
       "      <th>4</th>\n",
       "      <td>pvc pipe</td>\n",
       "      <td>54</td>\n",
       "    </tr>\n",
       "    <tr>\n",
       "      <th>5</th>\n",
       "      <td>rake</td>\n",
       "      <td>10</td>\n",
       "    </tr>\n",
       "    <tr>\n",
       "      <th>6</th>\n",
       "      <td>shovel</td>\n",
       "      <td>15</td>\n",
       "    </tr>\n",
       "    <tr>\n",
       "      <th>7</th>\n",
       "      <td>wooden dowels</td>\n",
       "      <td>192</td>\n",
       "    </tr>\n",
       "  </tbody>\n",
       "</table>\n",
       "</div>"
      ],
      "text/plain": [
       "            item  store_b_inventory\n",
       "0         hammer                  6\n",
       "1          nails                250\n",
       "2            saw                  6\n",
       "3      duct tape                150\n",
       "4       pvc pipe                 54\n",
       "5           rake                 10\n",
       "6         shovel                 15\n",
       "7  wooden dowels                192"
      ]
     },
     "execution_count": 93,
     "metadata": {},
     "output_type": "execute_result"
    }
   ],
   "source": [
    "store_b"
   ]
  },
  {
   "cell_type": "code",
   "execution_count": 89,
   "id": "ee752ae8-26f7-483e-bb92-cef535dcbafc",
   "metadata": {},
   "outputs": [],
   "source": [
    "store_a_b_left = pd.merge(store_a,\n",
    "                          store_b,\n",
    "                          how = 'left')"
   ]
  },
  {
   "cell_type": "code",
   "execution_count": 90,
   "id": "9caabc70-61f8-48ee-a6c3-f68918ac73ec",
   "metadata": {},
   "outputs": [
    {
     "data": {
      "text/html": [
       "<div>\n",
       "<style scoped>\n",
       "    .dataframe tbody tr th:only-of-type {\n",
       "        vertical-align: middle;\n",
       "    }\n",
       "\n",
       "    .dataframe tbody tr th {\n",
       "        vertical-align: top;\n",
       "    }\n",
       "\n",
       "    .dataframe thead th {\n",
       "        text-align: right;\n",
       "    }\n",
       "</style>\n",
       "<table border=\"1\" class=\"dataframe\">\n",
       "  <thead>\n",
       "    <tr style=\"text-align: right;\">\n",
       "      <th></th>\n",
       "      <th>item</th>\n",
       "      <th>store_a_inventory</th>\n",
       "      <th>store_b_inventory</th>\n",
       "    </tr>\n",
       "  </thead>\n",
       "  <tbody>\n",
       "    <tr>\n",
       "      <th>0</th>\n",
       "      <td>hammer</td>\n",
       "      <td>12</td>\n",
       "      <td>6.0</td>\n",
       "    </tr>\n",
       "    <tr>\n",
       "      <th>1</th>\n",
       "      <td>screwdriver</td>\n",
       "      <td>15</td>\n",
       "      <td>NaN</td>\n",
       "    </tr>\n",
       "    <tr>\n",
       "      <th>2</th>\n",
       "      <td>nails</td>\n",
       "      <td>200</td>\n",
       "      <td>250.0</td>\n",
       "    </tr>\n",
       "    <tr>\n",
       "      <th>3</th>\n",
       "      <td>screws</td>\n",
       "      <td>350</td>\n",
       "      <td>NaN</td>\n",
       "    </tr>\n",
       "    <tr>\n",
       "      <th>4</th>\n",
       "      <td>saw</td>\n",
       "      <td>6</td>\n",
       "      <td>6.0</td>\n",
       "    </tr>\n",
       "    <tr>\n",
       "      <th>5</th>\n",
       "      <td>duct tape</td>\n",
       "      <td>150</td>\n",
       "      <td>150.0</td>\n",
       "    </tr>\n",
       "    <tr>\n",
       "      <th>6</th>\n",
       "      <td>wrench</td>\n",
       "      <td>12</td>\n",
       "      <td>NaN</td>\n",
       "    </tr>\n",
       "    <tr>\n",
       "      <th>7</th>\n",
       "      <td>pvc pipe</td>\n",
       "      <td>54</td>\n",
       "      <td>54.0</td>\n",
       "    </tr>\n",
       "  </tbody>\n",
       "</table>\n",
       "</div>"
      ],
      "text/plain": [
       "          item  store_a_inventory  store_b_inventory\n",
       "0       hammer                 12                6.0\n",
       "1  screwdriver                 15                NaN\n",
       "2        nails                200              250.0\n",
       "3       screws                350                NaN\n",
       "4          saw                  6                6.0\n",
       "5    duct tape                150              150.0\n",
       "6       wrench                 12                NaN\n",
       "7     pvc pipe                 54               54.0"
      ]
     },
     "execution_count": 90,
     "metadata": {},
     "output_type": "execute_result"
    }
   ],
   "source": [
    "store_a_b_left"
   ]
  },
  {
   "cell_type": "markdown",
   "id": "ff069d70-1ad3-431c-8ac6-f6e31f11a34d",
   "metadata": {},
   "source": [
    "Now, Store B wants to find out what products they carry that Store A does not carry."
   ]
  },
  {
   "cell_type": "code",
   "execution_count": null,
   "id": "d5449bc8-dd5e-41d5-8b3e-05feea394fec",
   "metadata": {},
   "outputs": [],
   "source": [
    "Use a left join, to combine the two DataFrames but in the reverse order (i.e., store_b followed by store_a) and \n",
    "save the results to the variable store_b_a_left."
   ]
  },
  {
   "cell_type": "code",
   "execution_count": 94,
   "id": "112b1d0b-53b7-4f67-8180-41961c5ea949",
   "metadata": {},
   "outputs": [],
   "source": [
    "store_b_a_left = pd.merge(store_b,\n",
    "                          store_a,\n",
    "                          how = 'left')"
   ]
  },
  {
   "cell_type": "code",
   "execution_count": 95,
   "id": "c42861d6-db74-4a9f-baf5-c88a78155ef6",
   "metadata": {},
   "outputs": [
    {
     "data": {
      "text/html": [
       "<div>\n",
       "<style scoped>\n",
       "    .dataframe tbody tr th:only-of-type {\n",
       "        vertical-align: middle;\n",
       "    }\n",
       "\n",
       "    .dataframe tbody tr th {\n",
       "        vertical-align: top;\n",
       "    }\n",
       "\n",
       "    .dataframe thead th {\n",
       "        text-align: right;\n",
       "    }\n",
       "</style>\n",
       "<table border=\"1\" class=\"dataframe\">\n",
       "  <thead>\n",
       "    <tr style=\"text-align: right;\">\n",
       "      <th></th>\n",
       "      <th>item</th>\n",
       "      <th>store_b_inventory</th>\n",
       "      <th>store_a_inventory</th>\n",
       "    </tr>\n",
       "  </thead>\n",
       "  <tbody>\n",
       "    <tr>\n",
       "      <th>0</th>\n",
       "      <td>hammer</td>\n",
       "      <td>6</td>\n",
       "      <td>12.0</td>\n",
       "    </tr>\n",
       "    <tr>\n",
       "      <th>1</th>\n",
       "      <td>nails</td>\n",
       "      <td>250</td>\n",
       "      <td>200.0</td>\n",
       "    </tr>\n",
       "    <tr>\n",
       "      <th>2</th>\n",
       "      <td>saw</td>\n",
       "      <td>6</td>\n",
       "      <td>6.0</td>\n",
       "    </tr>\n",
       "    <tr>\n",
       "      <th>3</th>\n",
       "      <td>duct tape</td>\n",
       "      <td>150</td>\n",
       "      <td>150.0</td>\n",
       "    </tr>\n",
       "    <tr>\n",
       "      <th>4</th>\n",
       "      <td>pvc pipe</td>\n",
       "      <td>54</td>\n",
       "      <td>54.0</td>\n",
       "    </tr>\n",
       "    <tr>\n",
       "      <th>5</th>\n",
       "      <td>rake</td>\n",
       "      <td>10</td>\n",
       "      <td>NaN</td>\n",
       "    </tr>\n",
       "    <tr>\n",
       "      <th>6</th>\n",
       "      <td>shovel</td>\n",
       "      <td>15</td>\n",
       "      <td>NaN</td>\n",
       "    </tr>\n",
       "    <tr>\n",
       "      <th>7</th>\n",
       "      <td>wooden dowels</td>\n",
       "      <td>192</td>\n",
       "      <td>NaN</td>\n",
       "    </tr>\n",
       "  </tbody>\n",
       "</table>\n",
       "</div>"
      ],
      "text/plain": [
       "            item  store_b_inventory  store_a_inventory\n",
       "0         hammer                  6               12.0\n",
       "1          nails                250              200.0\n",
       "2            saw                  6                6.0\n",
       "3      duct tape                150              150.0\n",
       "4       pvc pipe                 54               54.0\n",
       "5           rake                 10                NaN\n",
       "6         shovel                 15                NaN\n",
       "7  wooden dowels                192                NaN"
      ]
     },
     "execution_count": 95,
     "metadata": {},
     "output_type": "execute_result"
    }
   ],
   "source": [
    "store_b_a_left"
   ]
  },
  {
   "cell_type": "markdown",
   "id": "7425d8d3-1587-42b2-b362-a6924e78d9f8",
   "metadata": {},
   "source": [
    "## Question\n",
    "\n",
    "is a left merge just a right merge but switching the order of the dataframes?"
   ]
  },
  {
   "cell_type": "markdown",
   "id": "bb90aeeb-130d-4713-aa07-f343e7ad08bd",
   "metadata": {},
   "source": [
    "Yes, a left merge is the reverse of a right merge, and you can essentially perform either by switching the order of dataframes \n",
    "and using the other type of merge."
   ]
  },
  {
   "cell_type": "markdown",
   "id": "3f744224-fc60-4db4-b16e-773eef42cd3e",
   "metadata": {},
   "source": [
    "For example, these will produce the same results.\n",
    "    \n",
    "df1.merge(df2, how='left')\n",
    "\n",
    "    and\n",
    "\n",
    "df2.merge(df1, how='right')"
   ]
  },
  {
   "cell_type": "markdown",
   "id": "dacd56b9-74a4-4f95-9f35-ea9c9da194c0",
   "metadata": {},
   "source": [
    "The only difference would be the order of the resulting dataframe, for the columns and \n",
    "for the rows which will preserve the order of the left keys."
   ]
  },
  {
   "cell_type": "markdown",
   "id": "cdd321e3-c945-4253-bbe0-17449f4dd292",
   "metadata": {},
   "source": [
    "## Concatenate DataFrames\n"
   ]
  },
  {
   "cell_type": "markdown",
   "id": "5c2818b2-8436-4b48-b4bd-91b3571ee217",
   "metadata": {},
   "source": [
    "Sometimes, a dataset is broken into multiple tables. \n",
    "\n",
    "For instance, data is often split into multiple CSV files so that each download is smaller."
   ]
  },
  {
   "cell_type": "markdown",
   "id": "df29dae1-0d7b-4a5a-ae2a-04ba4e883b8c",
   "metadata": {},
   "source": [
    "to reconstruct a single DataFrame from multiple smaller DataFrames ---\n",
    "\n",
    "pd.concat([df1, df2, df3, ...])."
   ]
  },
  {
   "cell_type": "markdown",
   "id": "c9f323e0-fcc2-47a4-85c4-4d0f32415f7b",
   "metadata": {},
   "source": [
    "#### Note: This method only works if all of the columns are the same in all of the DataFrames."
   ]
  },
  {
   "cell_type": "markdown",
   "id": "88485ede-cecf-4c28-aa5f-f8838bab776f",
   "metadata": {},
   "source": [
    "For instance, suppose that we have two DataFrames:\n",
    "\n",
    "df1\n",
    "===\n",
    "name\t        email\n",
    "Katja Obinger\tk.obinger@gmail.com\n",
    "Alison Hendrix\talisonH@yahoo.com\n",
    "Cosima Niehaus\tcosi.niehaus@gmail.com\n",
    "Rachel Duncan\trachelduncan@hotmail.com\n",
    "\n",
    "df2\n",
    "===\n",
    "name\t        email\n",
    "Jean Gray\t    jgray@netscape.net\n",
    "Scott Summers\tssummers@gmail.com\n",
    "Kitty Pryde\t    kitkat@gmail.com\n",
    "Charles Xavier\tcxavier@hotmail.com"
   ]
  },
  {
   "cell_type": "markdown",
   "id": "28e16965-f131-4d51-8de6-9e1092308128",
   "metadata": {},
   "source": [
    "If we want to combine these two DataFrames, we can use the following command:"
   ]
  },
  {
   "cell_type": "markdown",
   "id": "6c6f8129-62e7-4c0c-ab80-323aa04a9e6f",
   "metadata": {},
   "source": [
    "pd.concat([df1, df2])"
   ]
  },
  {
   "cell_type": "markdown",
   "id": "26b7d224-a21d-4cae-a018-464d7cc02347",
   "metadata": {},
   "source": [
    "Result:\n",
    "=======\n",
    "\n",
    "name\t        email\n",
    "Katja Obinger\tk.obinger@gmail.com\n",
    "Alison Hendrix\talisonH@yahoo.com\n",
    "Cosima Niehaus\tcosi.niehaus@gmail.com\n",
    "Rachel Duncan\trachelduncan@hotmail.com\n",
    "Jean Gray\t    jgray@netscape.net\n",
    "Scott Summers\tssummers@gmail.com\n",
    "Kitty Pryde\t    kitkat@gmail.com\n",
    "Charles Xavier\tcxavier@hotmail.com"
   ]
  },
  {
   "cell_type": "markdown",
   "id": "b4aabcc4-0a4a-4f8a-be58-7e115370c246",
   "metadata": {},
   "source": [
    "## Task"
   ]
  },
  {
   "cell_type": "markdown",
   "id": "0b1725d6-cee8-4808-930d-d67156da7c5a",
   "metadata": {},
   "source": [
    "An ice cream parlor and a bakery have decided to merge.\n",
    "\n",
    "The bakery’s menu is stored in the DataFrame bakery, and the ice cream parlor’s menu is stored in DataFrame ice_cream.\n",
    "\n",
    "Create their new menu by concatenating the two DataFrames into a DataFrame called menu."
   ]
  },
  {
   "cell_type": "code",
   "execution_count": 96,
   "id": "b8462c25-e161-42f1-ae5b-4ff34a536327",
   "metadata": {},
   "outputs": [],
   "source": [
    "ice_cream = pd.read_csv(r'ice_cream.csv')\n",
    "bakery = pd.read_csv(r'bakery.csv')"
   ]
  },
  {
   "cell_type": "code",
   "execution_count": 97,
   "id": "12baa525-8a73-4d93-8a2c-f9f0ced01d79",
   "metadata": {},
   "outputs": [
    {
     "data": {
      "text/html": [
       "<div>\n",
       "<style scoped>\n",
       "    .dataframe tbody tr th:only-of-type {\n",
       "        vertical-align: middle;\n",
       "    }\n",
       "\n",
       "    .dataframe tbody tr th {\n",
       "        vertical-align: top;\n",
       "    }\n",
       "\n",
       "    .dataframe thead th {\n",
       "        text-align: right;\n",
       "    }\n",
       "</style>\n",
       "<table border=\"1\" class=\"dataframe\">\n",
       "  <thead>\n",
       "    <tr style=\"text-align: right;\">\n",
       "      <th></th>\n",
       "      <th>item</th>\n",
       "      <th>price</th>\n",
       "    </tr>\n",
       "  </thead>\n",
       "  <tbody>\n",
       "    <tr>\n",
       "      <th>0</th>\n",
       "      <td>scoop of chocolate ice cream</td>\n",
       "      <td>3.00</td>\n",
       "    </tr>\n",
       "    <tr>\n",
       "      <th>1</th>\n",
       "      <td>scoop of vanilla ice cream</td>\n",
       "      <td>2.95</td>\n",
       "    </tr>\n",
       "    <tr>\n",
       "      <th>2</th>\n",
       "      <td>scoop of strawberry ice cream</td>\n",
       "      <td>3.05</td>\n",
       "    </tr>\n",
       "    <tr>\n",
       "      <th>3</th>\n",
       "      <td>scoop of cookie dough ice cream</td>\n",
       "      <td>3.25</td>\n",
       "    </tr>\n",
       "  </tbody>\n",
       "</table>\n",
       "</div>"
      ],
      "text/plain": [
       "                              item  price\n",
       "0     scoop of chocolate ice cream   3.00\n",
       "1       scoop of vanilla ice cream   2.95\n",
       "2    scoop of strawberry ice cream   3.05\n",
       "3  scoop of cookie dough ice cream   3.25"
      ]
     },
     "execution_count": 97,
     "metadata": {},
     "output_type": "execute_result"
    }
   ],
   "source": [
    "ice_cream"
   ]
  },
  {
   "cell_type": "code",
   "execution_count": 98,
   "id": "eacd24be-a116-40d8-9bc7-faf176bef516",
   "metadata": {},
   "outputs": [
    {
     "data": {
      "text/html": [
       "<div>\n",
       "<style scoped>\n",
       "    .dataframe tbody tr th:only-of-type {\n",
       "        vertical-align: middle;\n",
       "    }\n",
       "\n",
       "    .dataframe tbody tr th {\n",
       "        vertical-align: top;\n",
       "    }\n",
       "\n",
       "    .dataframe thead th {\n",
       "        text-align: right;\n",
       "    }\n",
       "</style>\n",
       "<table border=\"1\" class=\"dataframe\">\n",
       "  <thead>\n",
       "    <tr style=\"text-align: right;\">\n",
       "      <th></th>\n",
       "      <th>item</th>\n",
       "      <th>price</th>\n",
       "    </tr>\n",
       "  </thead>\n",
       "  <tbody>\n",
       "    <tr>\n",
       "      <th>0</th>\n",
       "      <td>cookie</td>\n",
       "      <td>2.50</td>\n",
       "    </tr>\n",
       "    <tr>\n",
       "      <th>1</th>\n",
       "      <td>brownie</td>\n",
       "      <td>3.50</td>\n",
       "    </tr>\n",
       "    <tr>\n",
       "      <th>2</th>\n",
       "      <td>slice of cake</td>\n",
       "      <td>4.75</td>\n",
       "    </tr>\n",
       "    <tr>\n",
       "      <th>3</th>\n",
       "      <td>slice of cheesecake</td>\n",
       "      <td>4.75</td>\n",
       "    </tr>\n",
       "    <tr>\n",
       "      <th>4</th>\n",
       "      <td>slice of pie</td>\n",
       "      <td>5.00</td>\n",
       "    </tr>\n",
       "  </tbody>\n",
       "</table>\n",
       "</div>"
      ],
      "text/plain": [
       "                  item  price\n",
       "0               cookie   2.50\n",
       "1              brownie   3.50\n",
       "2        slice of cake   4.75\n",
       "3  slice of cheesecake   4.75\n",
       "4         slice of pie   5.00"
      ]
     },
     "execution_count": 98,
     "metadata": {},
     "output_type": "execute_result"
    }
   ],
   "source": [
    "bakery"
   ]
  },
  {
   "cell_type": "code",
   "execution_count": 104,
   "id": "15e00d13-85f5-4749-be4c-a7ec360972b6",
   "metadata": {},
   "outputs": [],
   "source": [
    "menu = pd.concat([ice_cream, bakery])"
   ]
  },
  {
   "cell_type": "code",
   "execution_count": 105,
   "id": "a7eabfc6-93d6-461c-bb84-2e2614e35740",
   "metadata": {},
   "outputs": [
    {
     "data": {
      "text/html": [
       "<div>\n",
       "<style scoped>\n",
       "    .dataframe tbody tr th:only-of-type {\n",
       "        vertical-align: middle;\n",
       "    }\n",
       "\n",
       "    .dataframe tbody tr th {\n",
       "        vertical-align: top;\n",
       "    }\n",
       "\n",
       "    .dataframe thead th {\n",
       "        text-align: right;\n",
       "    }\n",
       "</style>\n",
       "<table border=\"1\" class=\"dataframe\">\n",
       "  <thead>\n",
       "    <tr style=\"text-align: right;\">\n",
       "      <th></th>\n",
       "      <th>item</th>\n",
       "      <th>price</th>\n",
       "    </tr>\n",
       "  </thead>\n",
       "  <tbody>\n",
       "    <tr>\n",
       "      <th>0</th>\n",
       "      <td>scoop of chocolate ice cream</td>\n",
       "      <td>3.00</td>\n",
       "    </tr>\n",
       "    <tr>\n",
       "      <th>1</th>\n",
       "      <td>scoop of vanilla ice cream</td>\n",
       "      <td>2.95</td>\n",
       "    </tr>\n",
       "    <tr>\n",
       "      <th>2</th>\n",
       "      <td>scoop of strawberry ice cream</td>\n",
       "      <td>3.05</td>\n",
       "    </tr>\n",
       "    <tr>\n",
       "      <th>3</th>\n",
       "      <td>scoop of cookie dough ice cream</td>\n",
       "      <td>3.25</td>\n",
       "    </tr>\n",
       "    <tr>\n",
       "      <th>0</th>\n",
       "      <td>cookie</td>\n",
       "      <td>2.50</td>\n",
       "    </tr>\n",
       "    <tr>\n",
       "      <th>1</th>\n",
       "      <td>brownie</td>\n",
       "      <td>3.50</td>\n",
       "    </tr>\n",
       "    <tr>\n",
       "      <th>2</th>\n",
       "      <td>slice of cake</td>\n",
       "      <td>4.75</td>\n",
       "    </tr>\n",
       "    <tr>\n",
       "      <th>3</th>\n",
       "      <td>slice of cheesecake</td>\n",
       "      <td>4.75</td>\n",
       "    </tr>\n",
       "    <tr>\n",
       "      <th>4</th>\n",
       "      <td>slice of pie</td>\n",
       "      <td>5.00</td>\n",
       "    </tr>\n",
       "  </tbody>\n",
       "</table>\n",
       "</div>"
      ],
      "text/plain": [
       "                              item  price\n",
       "0     scoop of chocolate ice cream   3.00\n",
       "1       scoop of vanilla ice cream   2.95\n",
       "2    scoop of strawberry ice cream   3.05\n",
       "3  scoop of cookie dough ice cream   3.25\n",
       "0                           cookie   2.50\n",
       "1                          brownie   3.50\n",
       "2                    slice of cake   4.75\n",
       "3              slice of cheesecake   4.75\n",
       "4                     slice of pie   5.00"
      ]
     },
     "execution_count": 105,
     "metadata": {},
     "output_type": "execute_result"
    }
   ],
   "source": [
    "menu"
   ]
  },
  {
   "cell_type": "markdown",
   "id": "ce72d66f-bd8e-4338-acd4-3a0f43396434",
   "metadata": {},
   "source": [
    "## Question\n",
    "\n",
    "does concatenating dataframes preserve row order?"
   ]
  },
  {
   "cell_type": "code",
   "execution_count": null,
   "id": "28743b7f-c9c4-423e-a10d-6e4c1c659a41",
   "metadata": {},
   "outputs": [],
   "source": [
    "Yes, by default, concatenating dataframes will preserve their row order. \n",
    "\n",
    "The order of the dataframes to concatenate will be the order of the result dataframe.\n",
    "\n",
    "One way to think of the concat method is that it just stacks a dataframe on top of another dataframe.\n",
    "\n",
    "For example,\n",
    "pd.concat([df1, df2, df3])\n",
    "\n",
    "will result in a dataframe with the rows of df1 stacked on top of the rows of df2, \n",
    "which will be stacked on top of the rows in df3, preserving their initial row order.\n"
   ]
  },
  {
   "cell_type": "markdown",
   "id": "a98e7cc0-767f-4490-8095-262ed71ea1c6",
   "metadata": {},
   "source": [
    "#### Note"
   ]
  },
  {
   "cell_type": "code",
   "execution_count": null,
   "id": "c4b8c02f-8e93-41ac-8fec-0449f41395c3",
   "metadata": {},
   "outputs": [],
   "source": [
    "by default, duplicate rows will be included when concatenating dataframes. So,\n",
    "\n",
    "pd.concat([df1, df1])\n",
    "\n",
    "will result in having the dataframe df1 on top of itself with all rows duplicated.\n"
   ]
  },
  {
   "cell_type": "code",
   "execution_count": null,
   "id": "6de526e3-096a-4593-9db2-ea88d1680352",
   "metadata": {},
   "outputs": [],
   "source": []
  },
  {
   "cell_type": "code",
   "execution_count": null,
   "id": "f24d953e-0b1d-4711-bb49-d8534d849773",
   "metadata": {},
   "outputs": [],
   "source": []
  },
  {
   "cell_type": "code",
   "execution_count": null,
   "id": "8364099f-8d6a-4cca-98a8-2094c0ed75ca",
   "metadata": {},
   "outputs": [],
   "source": []
  },
  {
   "cell_type": "code",
   "execution_count": null,
   "id": "fc394db8-d823-40a3-975c-98a610ec68f8",
   "metadata": {},
   "outputs": [],
   "source": []
  }
 ],
 "metadata": {
  "kernelspec": {
   "display_name": "Python 3 (ipykernel)",
   "language": "python",
   "name": "python3"
  },
  "language_info": {
   "codemirror_mode": {
    "name": "ipython",
    "version": 3
   },
   "file_extension": ".py",
   "mimetype": "text/x-python",
   "name": "python",
   "nbconvert_exporter": "python",
   "pygments_lexer": "ipython3",
   "version": "3.12.3"
  }
 },
 "nbformat": 4,
 "nbformat_minor": 5
}
