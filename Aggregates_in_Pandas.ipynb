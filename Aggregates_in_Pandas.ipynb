{
 "cells": [
  {
   "cell_type": "markdown",
   "id": "fc50d851-84b2-4087-be23-19f0ee64fe22",
   "metadata": {},
   "source": [
    "## Aggregate Functions in Pandas"
   ]
  },
  {
   "cell_type": "code",
   "execution_count": null,
   "id": "57c45808-b17e-4ba2-9b47-2a7e95798091",
   "metadata": {},
   "outputs": [],
   "source": [
    "An aggregate statistic is ----> a way of creating a single number that describes a group of numbers. \n",
    "\n",
    "i.e. Aggregate functions summarize many data points (i.e., a column of a dataframe) into a smaller set of values.\n",
    "\n",
    "Common aggregate statistics include -----> mean, median, and standard deviation."
   ]
  },
  {
   "cell_type": "markdown",
   "id": "bcb2699f-e76f-4d5f-a513-b1fda88ab05c",
   "metadata": {},
   "source": [
    "#### General Syntax for calculation\n",
    "\n",
    "df.column_name.command()\n",
    "\n",
    "Command\tDescription\n",
    "===================\n",
    "mean     :\tAverage of all values in column\n",
    "std      :\tStandard deviation\n",
    "median   :\tMedian\n",
    "max      :\tMaximum value in column\n",
    "min      :\tMinimum value in column\n",
    "count    :\tNumber of values in column\n",
    "nunique  :\tNumber of unique values in column\n",
    "unique   :\tList of unique values in column\n",
    "\n"
   ]
  },
  {
   "cell_type": "markdown",
   "id": "ab1199c8-5890-46e9-b114-21a2f02c9072",
   "metadata": {},
   "source": [
    "## Calculating Column Statistics"
   ]
  },
  {
   "cell_type": "markdown",
   "id": "13eed374-b1e8-401c-a8bc-736da85864fb",
   "metadata": {},
   "source": [
    "### Example 1"
   ]
  },
  {
   "cell_type": "code",
   "execution_count": null,
   "id": "cbd0e91d-2080-40e6-9a83-a6241cfbb31c",
   "metadata": {},
   "outputs": [],
   "source": [
    "Example: Datframe customers contains the names and ages of all of your customers.\n",
    "\n",
    "print(customers.age)\n",
    ">> [23, 25, 31, 35, 35, 46, 62]\n",
    "\n",
    "print(customers.age.median())\n",
    ">> 35"
   ]
  },
  {
   "cell_type": "markdown",
   "id": "c6c78d1d-a235-4da9-9187-6632a5e1d264",
   "metadata": {},
   "source": [
    "### Example 2"
   ]
  },
  {
   "cell_type": "code",
   "execution_count": null,
   "id": "1fda7ce9-611e-4c5c-9bd6-e6ee03d8bf76",
   "metadata": {},
   "outputs": [],
   "source": [
    "The DataFrame shipments contains address information for all shipments that you’ve sent out in the past year. \n",
    "\n",
    "You want to know how many different states you have shipped to (and how many shipments went to the same state).\n",
    "\n",
    "print(shipments.state)\n",
    ">> ['CA', 'CA', 'CA', 'CA', 'NY', 'NY', 'NJ', 'NJ', 'NJ', 'NJ', 'NJ', 'NJ', 'NJ']\n",
    "print(shipments.state.nunique())\n",
    ">> 3"
   ]
  },
  {
   "cell_type": "markdown",
   "id": "97a5074a-b9df-4452-aca4-dc3a5a67b899",
   "metadata": {},
   "source": [
    "### Example 3"
   ]
  },
  {
   "cell_type": "code",
   "execution_count": null,
   "id": "7ffb35b6-38df-478b-8751-b4b5042ac942",
   "metadata": {},
   "outputs": [],
   "source": [
    "The DataFrame inventory contains a list of types of t-shirts that your company makes. \n",
    "\n",
    "You want a list of the colors that your shirts come in.\n",
    "\n",
    "print(inventory.color)\n",
    ">> ['blue', 'blue', 'blue', 'blue', 'blue', 'green', 'green', 'orange', 'orange', 'orange']\n",
    "    \n",
    "print(inventory.color.unique())\n",
    ">> ['blue', 'green', 'orange']"
   ]
  },
  {
   "cell_type": "markdown",
   "id": "5d906cc9-68a2-489f-943d-4cbc5280f595",
   "metadata": {},
   "source": [
    "## Revisit our orders from ShoeFly.com."
   ]
  },
  {
   "cell_type": "code",
   "execution_count": 1,
   "id": "9206765d-c1d4-433b-a9ee-a01a27055e7b",
   "metadata": {},
   "outputs": [],
   "source": [
    "import pandas as pd"
   ]
  },
  {
   "cell_type": "code",
   "execution_count": 2,
   "id": "c4bd6345-d38f-4ab8-9099-cd77c103a75e",
   "metadata": {},
   "outputs": [],
   "source": [
    "orders_df = pd.read_csv(r'D:\\GIT_Repositories\\pandas\\orders.csv')"
   ]
  },
  {
   "cell_type": "code",
   "execution_count": 4,
   "id": "7328d161-effb-41d1-abac-44243b0fa98c",
   "metadata": {},
   "outputs": [
    {
     "data": {
      "text/html": [
       "<div>\n",
       "<style scoped>\n",
       "    .dataframe tbody tr th:only-of-type {\n",
       "        vertical-align: middle;\n",
       "    }\n",
       "\n",
       "    .dataframe tbody tr th {\n",
       "        vertical-align: top;\n",
       "    }\n",
       "\n",
       "    .dataframe thead th {\n",
       "        text-align: right;\n",
       "    }\n",
       "</style>\n",
       "<table border=\"1\" class=\"dataframe\">\n",
       "  <thead>\n",
       "    <tr style=\"text-align: right;\">\n",
       "      <th></th>\n",
       "      <th>id</th>\n",
       "      <th>first_name</th>\n",
       "      <th>last_name</th>\n",
       "      <th>email</th>\n",
       "      <th>shoe_type</th>\n",
       "      <th>shoe_material</th>\n",
       "      <th>shoe_color</th>\n",
       "      <th>price</th>\n",
       "    </tr>\n",
       "  </thead>\n",
       "  <tbody>\n",
       "    <tr>\n",
       "      <th>0</th>\n",
       "      <td>41874</td>\n",
       "      <td>Kyle</td>\n",
       "      <td>Peck</td>\n",
       "      <td>KylePeck71@gmail.com</td>\n",
       "      <td>ballet flats</td>\n",
       "      <td>faux-leather</td>\n",
       "      <td>black</td>\n",
       "      <td>385.0</td>\n",
       "    </tr>\n",
       "    <tr>\n",
       "      <th>1</th>\n",
       "      <td>31349</td>\n",
       "      <td>Elizabeth</td>\n",
       "      <td>Velazquez</td>\n",
       "      <td>EVelazquez1971@gmail.com</td>\n",
       "      <td>boots</td>\n",
       "      <td>fabric</td>\n",
       "      <td>brown</td>\n",
       "      <td>388.0</td>\n",
       "    </tr>\n",
       "    <tr>\n",
       "      <th>2</th>\n",
       "      <td>43416</td>\n",
       "      <td>Keith</td>\n",
       "      <td>Saunders</td>\n",
       "      <td>KS4047@gmail.com</td>\n",
       "      <td>sandals</td>\n",
       "      <td>leather</td>\n",
       "      <td>navy</td>\n",
       "      <td>346.0</td>\n",
       "    </tr>\n",
       "    <tr>\n",
       "      <th>3</th>\n",
       "      <td>56054</td>\n",
       "      <td>Ryan</td>\n",
       "      <td>Sweeney</td>\n",
       "      <td>RyanSweeney14@outlook.com</td>\n",
       "      <td>sandals</td>\n",
       "      <td>fabric</td>\n",
       "      <td>brown</td>\n",
       "      <td>344.0</td>\n",
       "    </tr>\n",
       "    <tr>\n",
       "      <th>4</th>\n",
       "      <td>77402</td>\n",
       "      <td>Donna</td>\n",
       "      <td>Blankenship</td>\n",
       "      <td>DB3807@gmail.com</td>\n",
       "      <td>stilettos</td>\n",
       "      <td>fabric</td>\n",
       "      <td>brown</td>\n",
       "      <td>289.0</td>\n",
       "    </tr>\n",
       "  </tbody>\n",
       "</table>\n",
       "</div>"
      ],
      "text/plain": [
       "      id first_name    last_name                      email     shoe_type  \\\n",
       "0  41874       Kyle         Peck       KylePeck71@gmail.com  ballet flats   \n",
       "1  31349  Elizabeth    Velazquez   EVelazquez1971@gmail.com         boots   \n",
       "2  43416      Keith     Saunders           KS4047@gmail.com       sandals   \n",
       "3  56054       Ryan      Sweeney  RyanSweeney14@outlook.com       sandals   \n",
       "4  77402      Donna  Blankenship           DB3807@gmail.com     stilettos   \n",
       "\n",
       "  shoe_material shoe_color  price  \n",
       "0  faux-leather      black  385.0  \n",
       "1        fabric      brown  388.0  \n",
       "2       leather       navy  346.0  \n",
       "3        fabric      brown  344.0  \n",
       "4        fabric      brown  289.0  "
      ]
     },
     "execution_count": 4,
     "metadata": {},
     "output_type": "execute_result"
    }
   ],
   "source": [
    "orders_df.head()"
   ]
  },
  {
   "cell_type": "markdown",
   "id": "f0d001e3-590f-40d5-b27d-b8c0c0a1b10b",
   "metadata": {},
   "source": [
    "#### Task: \n",
    "\n",
    "Our finance department wants to know the price of the most expensive pair of shoes purchased."
   ]
  },
  {
   "cell_type": "code",
   "execution_count": 5,
   "id": "c76ed453-54ec-4ad4-ac96-4fe62d8b567d",
   "metadata": {},
   "outputs": [],
   "source": [
    "most_expensive = orders_df.price.max()"
   ]
  },
  {
   "cell_type": "code",
   "execution_count": 8,
   "id": "749b6c26-16da-413d-8cc2-18c0a8d42ed4",
   "metadata": {},
   "outputs": [
    {
     "name": "stdout",
     "output_type": "stream",
     "text": [
      "493.0\n"
     ]
    }
   ],
   "source": [
    "print(most_expensive)"
   ]
  },
  {
   "cell_type": "markdown",
   "id": "81e95858-460e-4aeb-97e9-b479d81658c0",
   "metadata": {},
   "source": [
    "fetch details of expensive product --- like who ordered and what material and color etc\n"
   ]
  },
  {
   "cell_type": "code",
   "execution_count": 15,
   "id": "5c9c3454-4561-4901-84f3-973753dcbaa0",
   "metadata": {},
   "outputs": [
    {
     "data": {
      "text/html": [
       "<div>\n",
       "<style scoped>\n",
       "    .dataframe tbody tr th:only-of-type {\n",
       "        vertical-align: middle;\n",
       "    }\n",
       "\n",
       "    .dataframe tbody tr th {\n",
       "        vertical-align: top;\n",
       "    }\n",
       "\n",
       "    .dataframe thead th {\n",
       "        text-align: right;\n",
       "    }\n",
       "</style>\n",
       "<table border=\"1\" class=\"dataframe\">\n",
       "  <thead>\n",
       "    <tr style=\"text-align: right;\">\n",
       "      <th></th>\n",
       "      <th>id</th>\n",
       "      <th>first_name</th>\n",
       "      <th>last_name</th>\n",
       "      <th>email</th>\n",
       "      <th>shoe_type</th>\n",
       "      <th>shoe_material</th>\n",
       "      <th>shoe_color</th>\n",
       "      <th>price</th>\n",
       "    </tr>\n",
       "  </thead>\n",
       "  <tbody>\n",
       "    <tr>\n",
       "      <th>64</th>\n",
       "      <td>13553</td>\n",
       "      <td>Aaron</td>\n",
       "      <td>Hanson</td>\n",
       "      <td>AH3867@gmail.com</td>\n",
       "      <td>clogs</td>\n",
       "      <td>faux-leather</td>\n",
       "      <td>navy</td>\n",
       "      <td>493.0</td>\n",
       "    </tr>\n",
       "  </tbody>\n",
       "</table>\n",
       "</div>"
      ],
      "text/plain": [
       "       id first_name last_name             email shoe_type shoe_material  \\\n",
       "64  13553      Aaron    Hanson  AH3867@gmail.com     clogs  faux-leather   \n",
       "\n",
       "   shoe_color  price  \n",
       "64       navy  493.0  "
      ]
     },
     "execution_count": 15,
     "metadata": {},
     "output_type": "execute_result"
    }
   ],
   "source": [
    "orders_df[orders_df['price'] == orders_df.price.max()]"
   ]
  },
  {
   "cell_type": "markdown",
   "id": "7a84c531-853e-4364-9a94-1a14d1e76204",
   "metadata": {},
   "source": [
    "### Task:\n",
    "\n",
    "Our fashion department wants to know how many different colors of shoes we are selling. Save your answer to the variable num_colors."
   ]
  },
  {
   "cell_type": "code",
   "execution_count": 12,
   "id": "467e2396-4a13-4ce3-82bd-e031bf140cab",
   "metadata": {},
   "outputs": [],
   "source": [
    "num_colors = orders_df['shoe_color'].nunique()"
   ]
  },
  {
   "cell_type": "code",
   "execution_count": 13,
   "id": "2e78394c-3a20-442f-9d04-8bdc94f54ef1",
   "metadata": {},
   "outputs": [
    {
     "data": {
      "text/plain": [
       "5"
      ]
     },
     "execution_count": 13,
     "metadata": {},
     "output_type": "execute_result"
    }
   ],
   "source": [
    "num_colors"
   ]
  },
  {
   "cell_type": "markdown",
   "id": "4d528a8a-ea39-456e-97f6-8e21c86721f1",
   "metadata": {},
   "source": [
    "what are those unique colors?"
   ]
  },
  {
   "cell_type": "code",
   "execution_count": 18,
   "id": "e68832a2-4899-4025-a2c0-8de0bd97ed54",
   "metadata": {},
   "outputs": [
    {
     "name": "stdout",
     "output_type": "stream",
     "text": [
      "['black' 'brown' 'navy' 'white' 'red']\n"
     ]
    }
   ],
   "source": [
    "print( orders_df['shoe_color'].unique() )"
   ]
  },
  {
   "cell_type": "markdown",
   "id": "ae10882f-78e8-44f5-9f9b-2c46fec0a125",
   "metadata": {},
   "source": [
    "## Calculating Aggregate Functions I\n",
    "\n",
    "When we have a bunch of data, we often want to calculate aggregate statistics (mean, standard deviation, median, percentiles, etc.) \n",
    "over certain subsets of the data."
   ]
  },
  {
   "cell_type": "markdown",
   "id": "380fb998-d118-4b55-bb09-0bd627a82464",
   "metadata": {},
   "source": [
    "### General Syntax:\n",
    "\n",
    "df.groupby('column1').column2.measurement()\n",
    "\n",
    "where:\n",
    "------\n",
    "column1     : column that we want to group by ('student' in our example)\n",
    "column2     : column that we want to perform a measurement on (grade in our example)\n",
    "measurement : measurement function we want to apply (mean in our example)\n"
   ]
  },
  {
   "cell_type": "markdown",
   "id": "9cb61b8e-cb1f-434f-aff6-f0a20914643d",
   "metadata": {},
   "source": [
    "Example"
   ]
  },
  {
   "cell_type": "code",
   "execution_count": null,
   "id": "cc064e69-0430-47f2-86ae-603aeb3639ed",
   "metadata": {},
   "outputs": [],
   "source": [
    "Suppose we have a grade book with columns student, assignment_name, and grade. \n",
    "\n",
    "The first few lines look like this:\n",
    "\n",
    "student\t          assignment_name\tgrade\n",
    "Amy\t              Assignment 1      75\n",
    "Amy\t              Assignment 2      35\n",
    "Bob\t              Assignment 1      99\n",
    "Bob\t              Assignment 2      35"
   ]
  },
  {
   "cell_type": "markdown",
   "id": "06837ef0-a672-415b-862d-b1f597a0c616",
   "metadata": {},
   "source": [
    "### Task:\n",
    "\n",
    "get an \"average grade\" for each student across all assignments."
   ]
  },
  {
   "cell_type": "code",
   "execution_count": 20,
   "id": "10342654-80e3-4795-86fe-64fdab2c787d",
   "metadata": {},
   "outputs": [],
   "source": [
    "grade_book_df = pd.DataFrame([\n",
    "    ['Amy', 'Assignment 1', 75],\n",
    "    ['Amy', 'Assignment 2', 35],\n",
    "    ['Bob', 'Assignment 1', 99],\n",
    "    ['Bob', 'Assignment 2', 35],\n",
    "], columns=['student', 'assignment_name', 'grade']\n",
    ")"
   ]
  },
  {
   "cell_type": "code",
   "execution_count": 21,
   "id": "93ead43d-5ca4-428d-b285-7587ec201aa8",
   "metadata": {},
   "outputs": [
    {
     "data": {
      "text/html": [
       "<div>\n",
       "<style scoped>\n",
       "    .dataframe tbody tr th:only-of-type {\n",
       "        vertical-align: middle;\n",
       "    }\n",
       "\n",
       "    .dataframe tbody tr th {\n",
       "        vertical-align: top;\n",
       "    }\n",
       "\n",
       "    .dataframe thead th {\n",
       "        text-align: right;\n",
       "    }\n",
       "</style>\n",
       "<table border=\"1\" class=\"dataframe\">\n",
       "  <thead>\n",
       "    <tr style=\"text-align: right;\">\n",
       "      <th></th>\n",
       "      <th>student</th>\n",
       "      <th>assignment_name</th>\n",
       "      <th>grade</th>\n",
       "    </tr>\n",
       "  </thead>\n",
       "  <tbody>\n",
       "    <tr>\n",
       "      <th>0</th>\n",
       "      <td>Amy</td>\n",
       "      <td>Assignment 1</td>\n",
       "      <td>75</td>\n",
       "    </tr>\n",
       "    <tr>\n",
       "      <th>1</th>\n",
       "      <td>Amy</td>\n",
       "      <td>Assignment 2</td>\n",
       "      <td>35</td>\n",
       "    </tr>\n",
       "    <tr>\n",
       "      <th>2</th>\n",
       "      <td>Bob</td>\n",
       "      <td>Assignment 1</td>\n",
       "      <td>99</td>\n",
       "    </tr>\n",
       "    <tr>\n",
       "      <th>3</th>\n",
       "      <td>Bob</td>\n",
       "      <td>Assignment 2</td>\n",
       "      <td>35</td>\n",
       "    </tr>\n",
       "  </tbody>\n",
       "</table>\n",
       "</div>"
      ],
      "text/plain": [
       "  student assignment_name  grade\n",
       "0     Amy    Assignment 1     75\n",
       "1     Amy    Assignment 2     35\n",
       "2     Bob    Assignment 1     99\n",
       "3     Bob    Assignment 2     35"
      ]
     },
     "execution_count": 21,
     "metadata": {},
     "output_type": "execute_result"
    }
   ],
   "source": [
    "grade_book_df"
   ]
  },
  {
   "cell_type": "markdown",
   "id": "ec131264-3dd5-4e3a-a7f5-8c56b1bdc628",
   "metadata": {},
   "source": [
    "Since we need AVG for EACH Student.... need to group on student name"
   ]
  },
  {
   "cell_type": "code",
   "execution_count": 26,
   "id": "86d582c8-dd31-4494-a764-3f0a2aba5332",
   "metadata": {},
   "outputs": [
    {
     "data": {
      "text/plain": [
       "student\n",
       "Amy    55.0\n",
       "Bob    67.0\n",
       "Name: grade, dtype: float64"
      ]
     },
     "execution_count": 26,
     "metadata": {},
     "output_type": "execute_result"
    }
   ],
   "source": [
    "grade_book_df.groupby('student').grade.mean()"
   ]
  },
  {
   "cell_type": "markdown",
   "id": "63771358-0d55-43d7-8629-d336d1b8292a",
   "metadata": {},
   "source": [
    "## Excercise"
   ]
  },
  {
   "cell_type": "markdown",
   "id": "d5967ddd-f6f5-48f7-a593-e94ee9183278",
   "metadata": {},
   "source": [
    "## Task"
   ]
  },
  {
   "cell_type": "code",
   "execution_count": null,
   "id": "531ad602-90c9-4324-8fe7-66fc59886df5",
   "metadata": {},
   "outputs": [],
   "source": [
    "In the previous exercise, our finance department wanted to know the most expensive shoe that we sold.\n",
    "\n",
    "Now, they want to know the most expensive shoe for each shoe_type (i.e., the most expensive boot, the most expensive ballet flat, etc.).\n",
    "\n",
    "Save your answer to the variable pricey_shoes."
   ]
  },
  {
   "cell_type": "code",
   "execution_count": 27,
   "id": "75bf4545-02f6-41fc-9445-120a5d593054",
   "metadata": {},
   "outputs": [
    {
     "data": {
      "text/html": [
       "<div>\n",
       "<style scoped>\n",
       "    .dataframe tbody tr th:only-of-type {\n",
       "        vertical-align: middle;\n",
       "    }\n",
       "\n",
       "    .dataframe tbody tr th {\n",
       "        vertical-align: top;\n",
       "    }\n",
       "\n",
       "    .dataframe thead th {\n",
       "        text-align: right;\n",
       "    }\n",
       "</style>\n",
       "<table border=\"1\" class=\"dataframe\">\n",
       "  <thead>\n",
       "    <tr style=\"text-align: right;\">\n",
       "      <th></th>\n",
       "      <th>id</th>\n",
       "      <th>first_name</th>\n",
       "      <th>last_name</th>\n",
       "      <th>email</th>\n",
       "      <th>shoe_type</th>\n",
       "      <th>shoe_material</th>\n",
       "      <th>shoe_color</th>\n",
       "      <th>price</th>\n",
       "    </tr>\n",
       "  </thead>\n",
       "  <tbody>\n",
       "    <tr>\n",
       "      <th>0</th>\n",
       "      <td>41874</td>\n",
       "      <td>Kyle</td>\n",
       "      <td>Peck</td>\n",
       "      <td>KylePeck71@gmail.com</td>\n",
       "      <td>ballet flats</td>\n",
       "      <td>faux-leather</td>\n",
       "      <td>black</td>\n",
       "      <td>385.0</td>\n",
       "    </tr>\n",
       "    <tr>\n",
       "      <th>1</th>\n",
       "      <td>31349</td>\n",
       "      <td>Elizabeth</td>\n",
       "      <td>Velazquez</td>\n",
       "      <td>EVelazquez1971@gmail.com</td>\n",
       "      <td>boots</td>\n",
       "      <td>fabric</td>\n",
       "      <td>brown</td>\n",
       "      <td>388.0</td>\n",
       "    </tr>\n",
       "    <tr>\n",
       "      <th>2</th>\n",
       "      <td>43416</td>\n",
       "      <td>Keith</td>\n",
       "      <td>Saunders</td>\n",
       "      <td>KS4047@gmail.com</td>\n",
       "      <td>sandals</td>\n",
       "      <td>leather</td>\n",
       "      <td>navy</td>\n",
       "      <td>346.0</td>\n",
       "    </tr>\n",
       "    <tr>\n",
       "      <th>3</th>\n",
       "      <td>56054</td>\n",
       "      <td>Ryan</td>\n",
       "      <td>Sweeney</td>\n",
       "      <td>RyanSweeney14@outlook.com</td>\n",
       "      <td>sandals</td>\n",
       "      <td>fabric</td>\n",
       "      <td>brown</td>\n",
       "      <td>344.0</td>\n",
       "    </tr>\n",
       "    <tr>\n",
       "      <th>4</th>\n",
       "      <td>77402</td>\n",
       "      <td>Donna</td>\n",
       "      <td>Blankenship</td>\n",
       "      <td>DB3807@gmail.com</td>\n",
       "      <td>stilettos</td>\n",
       "      <td>fabric</td>\n",
       "      <td>brown</td>\n",
       "      <td>289.0</td>\n",
       "    </tr>\n",
       "  </tbody>\n",
       "</table>\n",
       "</div>"
      ],
      "text/plain": [
       "      id first_name    last_name                      email     shoe_type  \\\n",
       "0  41874       Kyle         Peck       KylePeck71@gmail.com  ballet flats   \n",
       "1  31349  Elizabeth    Velazquez   EVelazquez1971@gmail.com         boots   \n",
       "2  43416      Keith     Saunders           KS4047@gmail.com       sandals   \n",
       "3  56054       Ryan      Sweeney  RyanSweeney14@outlook.com       sandals   \n",
       "4  77402      Donna  Blankenship           DB3807@gmail.com     stilettos   \n",
       "\n",
       "  shoe_material shoe_color  price  \n",
       "0  faux-leather      black  385.0  \n",
       "1        fabric      brown  388.0  \n",
       "2       leather       navy  346.0  \n",
       "3        fabric      brown  344.0  \n",
       "4        fabric      brown  289.0  "
      ]
     },
     "execution_count": 27,
     "metadata": {},
     "output_type": "execute_result"
    }
   ],
   "source": [
    "orders_df.head()"
   ]
  },
  {
   "cell_type": "code",
   "execution_count": 32,
   "id": "52cd044a-7eb0-4ae4-a94b-3249e86b83d6",
   "metadata": {},
   "outputs": [],
   "source": [
    "pricey_shoes = orders_df.groupby('shoe_type').price.max()"
   ]
  },
  {
   "cell_type": "code",
   "execution_count": 33,
   "id": "580a951f-fbac-4544-9852-a4e4bb8dc989",
   "metadata": {},
   "outputs": [
    {
     "data": {
      "text/plain": [
       "shoe_type\n",
       "ballet flats    481.0\n",
       "boots           478.0\n",
       "clogs           493.0\n",
       "sandals         456.0\n",
       "stilettos       487.0\n",
       "wedges          461.0\n",
       "Name: price, dtype: float64"
      ]
     },
     "execution_count": 33,
     "metadata": {},
     "output_type": "execute_result"
    }
   ],
   "source": [
    "pricey_shoes"
   ]
  },
  {
   "cell_type": "code",
   "execution_count": 34,
   "id": "a67d0196-9b8a-4c91-bab3-5abb7c9a07bd",
   "metadata": {},
   "outputs": [
    {
     "name": "stdout",
     "output_type": "stream",
     "text": [
      "<class 'pandas.core.series.Series'>\n"
     ]
    }
   ],
   "source": [
    "print(type(pricey_shoes))"
   ]
  },
  {
   "cell_type": "markdown",
   "id": "5368885f-d500-4377-84aa-64af5e2ffc46",
   "metadata": {},
   "source": [
    "### Task: list expensive shoe_types begining with most expensive"
   ]
  },
  {
   "cell_type": "code",
   "execution_count": 35,
   "id": "b546c4e8-1ae9-4588-be8e-4f9a5d947831",
   "metadata": {},
   "outputs": [],
   "source": [
    "pricey_shoes = orders_df.groupby('shoe_type').price.max().sort_values(ascending = False)"
   ]
  },
  {
   "cell_type": "code",
   "execution_count": 36,
   "id": "8aab53a7-06e4-46aa-a0bd-9f226aceebb2",
   "metadata": {},
   "outputs": [
    {
     "data": {
      "text/plain": [
       "shoe_type\n",
       "clogs           493.0\n",
       "stilettos       487.0\n",
       "ballet flats    481.0\n",
       "boots           478.0\n",
       "wedges          461.0\n",
       "sandals         456.0\n",
       "Name: price, dtype: float64"
      ]
     },
     "execution_count": 36,
     "metadata": {},
     "output_type": "execute_result"
    }
   ],
   "source": [
    "pricey_shoes"
   ]
  },
  {
   "cell_type": "code",
   "execution_count": 37,
   "id": "bc6c6e0e-3ca8-47fa-8ddb-11b5af2e34bb",
   "metadata": {},
   "outputs": [
    {
     "name": "stdout",
     "output_type": "stream",
     "text": [
      "<class 'pandas.core.series.Series'>\n"
     ]
    }
   ],
   "source": [
    "print(type(pricey_shoes))"
   ]
  },
  {
   "cell_type": "markdown",
   "id": "e074ea06-7def-4cd9-a90e-f87fe76f74f2",
   "metadata": {},
   "source": [
    "## Calculating Aggregate Functions II"
   ]
  },
  {
   "cell_type": "markdown",
   "id": "f8bda90b-2bdd-44d2-b1ce-61164a9d011c",
   "metadata": {},
   "source": [
    "After using groupby, we often need to clean our resulting data.\n",
    "\n",
    "the groupby function creates a new Series, not a DataFrame.\n",
    "\n",
    "For our ShoeFly.com example, the indices of the Series were different values of shoe_type, and the name property was price.\n",
    "\n",
    "Usually, we’d prefer that those indices were actually a column.\n",
    "\n",
    "In order to get that, we can use reset_index(). This will transform our Series into a DataFrame and move the indices into their own column."
   ]
  },
  {
   "cell_type": "markdown",
   "id": "e023dec8-b420-4370-8654-6fc50cf006a7",
   "metadata": {},
   "source": [
    "### Generally, you’ll always see a groupby statement followed by reset_index:"
   ]
  },
  {
   "cell_type": "code",
   "execution_count": null,
   "id": "8775f6f8-29f1-4f60-b2a0-24af127c8a4e",
   "metadata": {},
   "outputs": [],
   "source": [
    "df.groupby('column1').column2.measurement()\n",
    "    .reset_index()"
   ]
  },
  {
   "cell_type": "markdown",
   "id": "56e79f1a-63de-4943-84dd-9f3d74b8b001",
   "metadata": {},
   "source": [
    "Example"
   ]
  },
  {
   "cell_type": "code",
   "execution_count": null,
   "id": "0cea72fd-7ce1-4d49-aff1-2a421745708f",
   "metadata": {},
   "outputs": [],
   "source": [
    "suppose we have a DataFrame teas containing data on types of tea:\n",
    "\n",
    "id\ttea\t               category\t  caffeine\tprice\n",
    "0\tearl grey\t       black\t  38\t    3\n",
    "1\tenglish breakfast  black\t  41\t    3\n",
    "2\tirish breakfast    black\t  37\t    2.5\n",
    "3\tjasmine\t           green\t  23\t    4.5\n",
    "4\tmatcha\t           green\t  48\t    5\n",
    "5\tcamomile\t       herbal\t  0\t        3"
   ]
  },
  {
   "cell_type": "code",
   "execution_count": 49,
   "id": "379d93eb-d99a-4541-96de-73f5005c1cdd",
   "metadata": {},
   "outputs": [],
   "source": [
    "teas_df = pd.DataFrame([\n",
    "    [0, 'earl grey', 'black', 38, 3],\n",
    "    [1, 'english breakfast', 'black', 41, 3],\n",
    "    [2, 'irish breakfast', 'black', 37, 2.5],\n",
    "    [3, 'jasmine', 'green', 23, 4.5],\n",
    "    [4, 'matcha', 'green', 48, 5],\n",
    "    [5, 'camomile', 'herbal', 0, 3],\n",
    "], \n",
    "  columns=['id', 'tea', 'category', 'caffeine', 'price']\n",
    ")"
   ]
  },
  {
   "cell_type": "code",
   "execution_count": 50,
   "id": "95099654-e612-47ce-88ad-9ce248f0c0cc",
   "metadata": {},
   "outputs": [
    {
     "data": {
      "text/html": [
       "<div>\n",
       "<style scoped>\n",
       "    .dataframe tbody tr th:only-of-type {\n",
       "        vertical-align: middle;\n",
       "    }\n",
       "\n",
       "    .dataframe tbody tr th {\n",
       "        vertical-align: top;\n",
       "    }\n",
       "\n",
       "    .dataframe thead th {\n",
       "        text-align: right;\n",
       "    }\n",
       "</style>\n",
       "<table border=\"1\" class=\"dataframe\">\n",
       "  <thead>\n",
       "    <tr style=\"text-align: right;\">\n",
       "      <th></th>\n",
       "      <th>id</th>\n",
       "      <th>tea</th>\n",
       "      <th>category</th>\n",
       "      <th>caffeine</th>\n",
       "      <th>price</th>\n",
       "    </tr>\n",
       "  </thead>\n",
       "  <tbody>\n",
       "    <tr>\n",
       "      <th>0</th>\n",
       "      <td>0</td>\n",
       "      <td>earl grey</td>\n",
       "      <td>black</td>\n",
       "      <td>38</td>\n",
       "      <td>3.0</td>\n",
       "    </tr>\n",
       "    <tr>\n",
       "      <th>1</th>\n",
       "      <td>1</td>\n",
       "      <td>english breakfast</td>\n",
       "      <td>black</td>\n",
       "      <td>41</td>\n",
       "      <td>3.0</td>\n",
       "    </tr>\n",
       "    <tr>\n",
       "      <th>2</th>\n",
       "      <td>2</td>\n",
       "      <td>irish breakfast</td>\n",
       "      <td>black</td>\n",
       "      <td>37</td>\n",
       "      <td>2.5</td>\n",
       "    </tr>\n",
       "    <tr>\n",
       "      <th>3</th>\n",
       "      <td>3</td>\n",
       "      <td>jasmine</td>\n",
       "      <td>green</td>\n",
       "      <td>23</td>\n",
       "      <td>4.5</td>\n",
       "    </tr>\n",
       "    <tr>\n",
       "      <th>4</th>\n",
       "      <td>4</td>\n",
       "      <td>matcha</td>\n",
       "      <td>green</td>\n",
       "      <td>48</td>\n",
       "      <td>5.0</td>\n",
       "    </tr>\n",
       "    <tr>\n",
       "      <th>5</th>\n",
       "      <td>5</td>\n",
       "      <td>camomile</td>\n",
       "      <td>herbal</td>\n",
       "      <td>0</td>\n",
       "      <td>3.0</td>\n",
       "    </tr>\n",
       "  </tbody>\n",
       "</table>\n",
       "</div>"
      ],
      "text/plain": [
       "   id                tea category  caffeine  price\n",
       "0   0          earl grey    black        38    3.0\n",
       "1   1  english breakfast    black        41    3.0\n",
       "2   2    irish breakfast    black        37    2.5\n",
       "3   3            jasmine    green        23    4.5\n",
       "4   4             matcha    green        48    5.0\n",
       "5   5           camomile   herbal         0    3.0"
      ]
     },
     "execution_count": 50,
     "metadata": {},
     "output_type": "execute_result"
    }
   ],
   "source": [
    "teas_df"
   ]
  },
  {
   "cell_type": "markdown",
   "id": "91d5a4b8-c2a9-419f-b645-e32eb8b455b5",
   "metadata": {},
   "source": [
    "### Task:\n",
    "\n",
    "find the number of each category of tea"
   ]
  },
  {
   "cell_type": "code",
   "execution_count": 51,
   "id": "db521b34-358d-41a5-8366-1336f25af134",
   "metadata": {},
   "outputs": [
    {
     "data": {
      "text/plain": [
       "category\n",
       "black     3\n",
       "green     2\n",
       "herbal    1\n",
       "Name: id, dtype: int64"
      ]
     },
     "execution_count": 51,
     "metadata": {},
     "output_type": "execute_result"
    }
   ],
   "source": [
    "teas_df.groupby(['category']).id.count()"
   ]
  },
  {
   "cell_type": "code",
   "execution_count": 52,
   "id": "d2f43d34-41db-461e-aabc-0534e978281c",
   "metadata": {},
   "outputs": [],
   "source": [
    "teas_category_counts = teas_df.groupby(['category']).id.count().reset_index()"
   ]
  },
  {
   "cell_type": "code",
   "execution_count": 53,
   "id": "da46803a-c92f-4b55-b5a3-ce77e257521f",
   "metadata": {},
   "outputs": [
    {
     "data": {
      "text/html": [
       "<div>\n",
       "<style scoped>\n",
       "    .dataframe tbody tr th:only-of-type {\n",
       "        vertical-align: middle;\n",
       "    }\n",
       "\n",
       "    .dataframe tbody tr th {\n",
       "        vertical-align: top;\n",
       "    }\n",
       "\n",
       "    .dataframe thead th {\n",
       "        text-align: right;\n",
       "    }\n",
       "</style>\n",
       "<table border=\"1\" class=\"dataframe\">\n",
       "  <thead>\n",
       "    <tr style=\"text-align: right;\">\n",
       "      <th></th>\n",
       "      <th>category</th>\n",
       "      <th>id</th>\n",
       "    </tr>\n",
       "  </thead>\n",
       "  <tbody>\n",
       "    <tr>\n",
       "      <th>0</th>\n",
       "      <td>black</td>\n",
       "      <td>3</td>\n",
       "    </tr>\n",
       "    <tr>\n",
       "      <th>1</th>\n",
       "      <td>green</td>\n",
       "      <td>2</td>\n",
       "    </tr>\n",
       "    <tr>\n",
       "      <th>2</th>\n",
       "      <td>herbal</td>\n",
       "      <td>1</td>\n",
       "    </tr>\n",
       "  </tbody>\n",
       "</table>\n",
       "</div>"
      ],
      "text/plain": [
       "  category  id\n",
       "0    black   3\n",
       "1    green   2\n",
       "2   herbal   1"
      ]
     },
     "execution_count": 53,
     "metadata": {},
     "output_type": "execute_result"
    }
   ],
   "source": [
    "teas_category_counts"
   ]
  },
  {
   "cell_type": "code",
   "execution_count": null,
   "id": "f96829bc-cbcb-4f6f-93a3-8780a9b30370",
   "metadata": {},
   "outputs": [],
   "source": [
    "The new column contains the counts of each category of tea sold. We have 3 black teas, 4 green teas, and so on. \n",
    "\n",
    "However, this column is called id because we used the id column of teas to calculate the counts. \n",
    "\n",
    "We actually want to call this column counts"
   ]
  },
  {
   "cell_type": "markdown",
   "id": "0e63ff4c-2d4e-4be6-abe6-5c7819198a5e",
   "metadata": {},
   "source": [
    "Rename the column"
   ]
  },
  {
   "cell_type": "code",
   "execution_count": 57,
   "id": "406d84d6-ea91-4006-931d-61f17424deb6",
   "metadata": {},
   "outputs": [],
   "source": [
    "teas_category_counts = teas_category_counts.rename(columns = {'id' : 'counts'})"
   ]
  },
  {
   "cell_type": "code",
   "execution_count": 58,
   "id": "af0dfcbd-ad16-4ea1-9632-cfd2aec292bc",
   "metadata": {},
   "outputs": [
    {
     "data": {
      "text/html": [
       "<div>\n",
       "<style scoped>\n",
       "    .dataframe tbody tr th:only-of-type {\n",
       "        vertical-align: middle;\n",
       "    }\n",
       "\n",
       "    .dataframe tbody tr th {\n",
       "        vertical-align: top;\n",
       "    }\n",
       "\n",
       "    .dataframe thead th {\n",
       "        text-align: right;\n",
       "    }\n",
       "</style>\n",
       "<table border=\"1\" class=\"dataframe\">\n",
       "  <thead>\n",
       "    <tr style=\"text-align: right;\">\n",
       "      <th></th>\n",
       "      <th>category</th>\n",
       "      <th>counts</th>\n",
       "    </tr>\n",
       "  </thead>\n",
       "  <tbody>\n",
       "    <tr>\n",
       "      <th>0</th>\n",
       "      <td>black</td>\n",
       "      <td>3</td>\n",
       "    </tr>\n",
       "    <tr>\n",
       "      <th>1</th>\n",
       "      <td>green</td>\n",
       "      <td>2</td>\n",
       "    </tr>\n",
       "    <tr>\n",
       "      <th>2</th>\n",
       "      <td>herbal</td>\n",
       "      <td>1</td>\n",
       "    </tr>\n",
       "  </tbody>\n",
       "</table>\n",
       "</div>"
      ],
      "text/plain": [
       "  category  counts\n",
       "0    black       3\n",
       "1    green       2\n",
       "2   herbal       1"
      ]
     },
     "execution_count": 58,
     "metadata": {},
     "output_type": "execute_result"
    }
   ],
   "source": [
    "teas_category_counts"
   ]
  },
  {
   "cell_type": "markdown",
   "id": "0b535349-0d49-4ee0-9bba-00871dc5aa80",
   "metadata": {},
   "source": [
    "### Task\n",
    "\n",
    "to know the most expensive shoe for each shoe_type\n",
    "\n",
    "end with reset_index, which will change pricey_shoes into a DataFrame."
   ]
  },
  {
   "cell_type": "code",
   "execution_count": 60,
   "id": "c91640b9-fb3d-49b8-a0a8-439e899f6f1b",
   "metadata": {},
   "outputs": [],
   "source": [
    "pricey_shoes = orders_df.groupby('shoe_type').price.max() \\\n",
    "               .reset_index()"
   ]
  },
  {
   "cell_type": "code",
   "execution_count": 61,
   "id": "80f7ce80-d99a-4b8a-84f0-7e864105dd6c",
   "metadata": {},
   "outputs": [
    {
     "data": {
      "text/html": [
       "<div>\n",
       "<style scoped>\n",
       "    .dataframe tbody tr th:only-of-type {\n",
       "        vertical-align: middle;\n",
       "    }\n",
       "\n",
       "    .dataframe tbody tr th {\n",
       "        vertical-align: top;\n",
       "    }\n",
       "\n",
       "    .dataframe thead th {\n",
       "        text-align: right;\n",
       "    }\n",
       "</style>\n",
       "<table border=\"1\" class=\"dataframe\">\n",
       "  <thead>\n",
       "    <tr style=\"text-align: right;\">\n",
       "      <th></th>\n",
       "      <th>shoe_type</th>\n",
       "      <th>price</th>\n",
       "    </tr>\n",
       "  </thead>\n",
       "  <tbody>\n",
       "    <tr>\n",
       "      <th>0</th>\n",
       "      <td>ballet flats</td>\n",
       "      <td>481.0</td>\n",
       "    </tr>\n",
       "    <tr>\n",
       "      <th>1</th>\n",
       "      <td>boots</td>\n",
       "      <td>478.0</td>\n",
       "    </tr>\n",
       "    <tr>\n",
       "      <th>2</th>\n",
       "      <td>clogs</td>\n",
       "      <td>493.0</td>\n",
       "    </tr>\n",
       "    <tr>\n",
       "      <th>3</th>\n",
       "      <td>sandals</td>\n",
       "      <td>456.0</td>\n",
       "    </tr>\n",
       "    <tr>\n",
       "      <th>4</th>\n",
       "      <td>stilettos</td>\n",
       "      <td>487.0</td>\n",
       "    </tr>\n",
       "    <tr>\n",
       "      <th>5</th>\n",
       "      <td>wedges</td>\n",
       "      <td>461.0</td>\n",
       "    </tr>\n",
       "  </tbody>\n",
       "</table>\n",
       "</div>"
      ],
      "text/plain": [
       "      shoe_type  price\n",
       "0  ballet flats  481.0\n",
       "1         boots  478.0\n",
       "2         clogs  493.0\n",
       "3       sandals  456.0\n",
       "4     stilettos  487.0\n",
       "5        wedges  461.0"
      ]
     },
     "execution_count": 61,
     "metadata": {},
     "output_type": "execute_result"
    }
   ],
   "source": [
    "pricey_shoes"
   ]
  },
  {
   "cell_type": "markdown",
   "id": "2b033eba-952f-4253-b510-d22e4a6107ad",
   "metadata": {},
   "source": [
    "### reset_index() ---- changes output to a dataframe"
   ]
  },
  {
   "cell_type": "code",
   "execution_count": 62,
   "id": "bd202ca6-0f92-4d54-86c6-1a66eb8bd0fa",
   "metadata": {},
   "outputs": [
    {
     "name": "stdout",
     "output_type": "stream",
     "text": [
      "<class 'pandas.core.frame.DataFrame'>\n"
     ]
    }
   ],
   "source": [
    "print(type(pricey_shoes))"
   ]
  },
  {
   "cell_type": "markdown",
   "id": "b3ad8c14-1fec-4424-bef7-35de847694d6",
   "metadata": {},
   "source": [
    "## Calculating Aggregate Functions III\n",
    "\n",
    "Sometimes, the operation that you want to perform is more complicated than mean or count.\n",
    "\n",
    "In such cases, use the .apply() method and lambda functions, just like we did for individual column operations.\n",
    "\n",
    "*** Note *** : that the input to our lambda function will always be a list of values."
   ]
  },
  {
   "cell_type": "markdown",
   "id": "01c66d51-3110-4b42-bfb4-1a7c0ecaa6ed",
   "metadata": {},
   "source": [
    "#### Example"
   ]
  },
  {
   "cell_type": "code",
   "execution_count": null,
   "id": "ccc49430-947c-49d6-b0be-a7620ea0b7b4",
   "metadata": {},
   "outputs": [],
   "source": [
    "Suppose we have a DataFrame of employee information called df that has the following columns:\n",
    "\n",
    "id: the employee’s id number\n",
    "name: the employee’s name\n",
    "wage: the employee’s hourly wage\n",
    "category: the type of work that the employee does\n",
    "\n",
    "Our data might look something like this:\n",
    "\n",
    "id\t    name\t        wage\tcategory\n",
    "10131\tSarah Carney\t39\t    product\n",
    "14189\tHeather Carey\t17\t    design\n",
    "15004\tGary Mercado\t33\t    marketing\n",
    "11204\tCora Copaz\t    27\t    design\n"
   ]
  },
  {
   "cell_type": "markdown",
   "id": "334083a2-72ce-460d-ac4e-5e092d49cc5d",
   "metadata": {},
   "source": [
    "### Task:"
   ]
  },
  {
   "cell_type": "code",
   "execution_count": null,
   "id": "c8a3c917-6ccc-4d94-8a5c-650ca3b44cd8",
   "metadata": {},
   "outputs": [],
   "source": [
    "Percentile: used in statistics to give you -\n",
    "\n",
    "    a number that describes the value that a given percent of the values are lower than.\n"
   ]
  },
  {
   "cell_type": "code",
   "execution_count": null,
   "id": "6418807c-98f8-458f-a979-571a840aa502",
   "metadata": {},
   "outputs": [],
   "source": [
    "If we want to calculate the 75th percentile (i.e., the point at which 75% of employees have a lower wage and 25% have a higher wage) \n",
    "for each category"
   ]
  },
  {
   "cell_type": "code",
   "execution_count": 65,
   "id": "c109c322-3852-457d-9a14-57b8b6c7d860",
   "metadata": {},
   "outputs": [],
   "source": [
    "employee_df = pd.DataFrame([\n",
    "    [10131, 'Sarah Carney', 39, 'product'],\n",
    "    [14189, 'Heather Carey', 17, 'design'],\n",
    "    [15004, 'Gary Mercado', 33, 'marketing'],\n",
    "    [11204, 'Cora Copaz', 27, 'design']\n",
    "], \n",
    "  columns=['id', 'name', 'wage', 'category']\n",
    ")"
   ]
  },
  {
   "cell_type": "code",
   "execution_count": 66,
   "id": "e60463d3-8edb-4fb1-b0e6-64ddda20fe81",
   "metadata": {},
   "outputs": [
    {
     "data": {
      "text/html": [
       "<div>\n",
       "<style scoped>\n",
       "    .dataframe tbody tr th:only-of-type {\n",
       "        vertical-align: middle;\n",
       "    }\n",
       "\n",
       "    .dataframe tbody tr th {\n",
       "        vertical-align: top;\n",
       "    }\n",
       "\n",
       "    .dataframe thead th {\n",
       "        text-align: right;\n",
       "    }\n",
       "</style>\n",
       "<table border=\"1\" class=\"dataframe\">\n",
       "  <thead>\n",
       "    <tr style=\"text-align: right;\">\n",
       "      <th></th>\n",
       "      <th>id</th>\n",
       "      <th>name</th>\n",
       "      <th>wage</th>\n",
       "      <th>category</th>\n",
       "    </tr>\n",
       "  </thead>\n",
       "  <tbody>\n",
       "    <tr>\n",
       "      <th>0</th>\n",
       "      <td>10131</td>\n",
       "      <td>Sarah Carney</td>\n",
       "      <td>39</td>\n",
       "      <td>product</td>\n",
       "    </tr>\n",
       "    <tr>\n",
       "      <th>1</th>\n",
       "      <td>14189</td>\n",
       "      <td>Heather Carey</td>\n",
       "      <td>17</td>\n",
       "      <td>design</td>\n",
       "    </tr>\n",
       "    <tr>\n",
       "      <th>2</th>\n",
       "      <td>15004</td>\n",
       "      <td>Gary Mercado</td>\n",
       "      <td>33</td>\n",
       "      <td>marketing</td>\n",
       "    </tr>\n",
       "    <tr>\n",
       "      <th>3</th>\n",
       "      <td>11204</td>\n",
       "      <td>Cora Copaz</td>\n",
       "      <td>27</td>\n",
       "      <td>design</td>\n",
       "    </tr>\n",
       "  </tbody>\n",
       "</table>\n",
       "</div>"
      ],
      "text/plain": [
       "      id           name  wage   category\n",
       "0  10131   Sarah Carney    39    product\n",
       "1  14189  Heather Carey    17     design\n",
       "2  15004   Gary Mercado    33  marketing\n",
       "3  11204     Cora Copaz    27     design"
      ]
     },
     "execution_count": 66,
     "metadata": {},
     "output_type": "execute_result"
    }
   ],
   "source": [
    "employee_df"
   ]
  },
  {
   "cell_type": "code",
   "execution_count": 72,
   "id": "f4a17e0d-cd89-4eb1-ad90-d54264e1192f",
   "metadata": {},
   "outputs": [],
   "source": [
    "# np.percentile can calculate any percentile over an array of values\n",
    "import numpy as np\n",
    "\n",
    "high_earners = employee_df.groupby('category').wage   \\\n",
    "               .apply(lambda x: np.percentile(x, 75)) \\\n",
    "               .reset_index()"
   ]
  },
  {
   "cell_type": "code",
   "execution_count": 73,
   "id": "85d5fc86-1d0f-4bbd-b3c0-f082adc6c66f",
   "metadata": {},
   "outputs": [
    {
     "data": {
      "text/html": [
       "<div>\n",
       "<style scoped>\n",
       "    .dataframe tbody tr th:only-of-type {\n",
       "        vertical-align: middle;\n",
       "    }\n",
       "\n",
       "    .dataframe tbody tr th {\n",
       "        vertical-align: top;\n",
       "    }\n",
       "\n",
       "    .dataframe thead th {\n",
       "        text-align: right;\n",
       "    }\n",
       "</style>\n",
       "<table border=\"1\" class=\"dataframe\">\n",
       "  <thead>\n",
       "    <tr style=\"text-align: right;\">\n",
       "      <th></th>\n",
       "      <th>category</th>\n",
       "      <th>wage</th>\n",
       "    </tr>\n",
       "  </thead>\n",
       "  <tbody>\n",
       "    <tr>\n",
       "      <th>0</th>\n",
       "      <td>design</td>\n",
       "      <td>24.5</td>\n",
       "    </tr>\n",
       "    <tr>\n",
       "      <th>1</th>\n",
       "      <td>marketing</td>\n",
       "      <td>33.0</td>\n",
       "    </tr>\n",
       "    <tr>\n",
       "      <th>2</th>\n",
       "      <td>product</td>\n",
       "      <td>39.0</td>\n",
       "    </tr>\n",
       "  </tbody>\n",
       "</table>\n",
       "</div>"
      ],
      "text/plain": [
       "    category  wage\n",
       "0     design  24.5\n",
       "1  marketing  33.0\n",
       "2    product  39.0"
      ]
     },
     "execution_count": 73,
     "metadata": {},
     "output_type": "execute_result"
    }
   ],
   "source": [
    "high_earners"
   ]
  },
  {
   "cell_type": "markdown",
   "id": "a8cc3d18-cba7-4cdd-b3bb-437eef4591b2",
   "metadata": {},
   "source": [
    "From Above -\n",
    "\n",
    "75% of design employess salaries are < 24.5 i.e. only 25% of design employees are >= 24.5"
   ]
  },
  {
   "cell_type": "markdown",
   "id": "4ff4391e-4551-4883-9954-a3928b1e2c6b",
   "metadata": {},
   "source": [
    "## Task"
   ]
  },
  {
   "cell_type": "code",
   "execution_count": null,
   "id": "cbe0f6c1-a281-4eed-b023-106f4c32ad3c",
   "metadata": {},
   "outputs": [],
   "source": [
    "Once more, we’ll return to the data from ShoeFly.com. Our Marketing team says that it’s important to have some affordably priced shoes \n",
    "available for every color of shoe that we sell.\n",
    "\n",
    "Let’s calculate the 25th percentile for shoe price for each shoe_color to help Marketing decide if we have enough cheap shoes on sale. \n",
    "Save the data to the variable cheap_shoes.\n",
    "\n",
    "Note: Be sure to use reset_index() at the end of your query so that cheap_shoes is a DataFrame."
   ]
  },
  {
   "cell_type": "code",
   "execution_count": 90,
   "id": "7864e5d5-0641-40e5-b2c4-afdf49bfa70a",
   "metadata": {},
   "outputs": [],
   "source": [
    "orders_df = pd.read_csv(r'D:\\GIT_Repositories\\pandas\\orders.csv')"
   ]
  },
  {
   "cell_type": "code",
   "execution_count": 91,
   "id": "eda10319-feef-4b79-9da8-6c9f5339dbdb",
   "metadata": {},
   "outputs": [
    {
     "data": {
      "text/html": [
       "<div>\n",
       "<style scoped>\n",
       "    .dataframe tbody tr th:only-of-type {\n",
       "        vertical-align: middle;\n",
       "    }\n",
       "\n",
       "    .dataframe tbody tr th {\n",
       "        vertical-align: top;\n",
       "    }\n",
       "\n",
       "    .dataframe thead th {\n",
       "        text-align: right;\n",
       "    }\n",
       "</style>\n",
       "<table border=\"1\" class=\"dataframe\">\n",
       "  <thead>\n",
       "    <tr style=\"text-align: right;\">\n",
       "      <th></th>\n",
       "      <th>id</th>\n",
       "      <th>first_name</th>\n",
       "      <th>last_name</th>\n",
       "      <th>email</th>\n",
       "      <th>shoe_type</th>\n",
       "      <th>shoe_material</th>\n",
       "      <th>shoe_color</th>\n",
       "      <th>price</th>\n",
       "    </tr>\n",
       "  </thead>\n",
       "  <tbody>\n",
       "    <tr>\n",
       "      <th>0</th>\n",
       "      <td>41874</td>\n",
       "      <td>Kyle</td>\n",
       "      <td>Peck</td>\n",
       "      <td>KylePeck71@gmail.com</td>\n",
       "      <td>ballet flats</td>\n",
       "      <td>faux-leather</td>\n",
       "      <td>black</td>\n",
       "      <td>385</td>\n",
       "    </tr>\n",
       "    <tr>\n",
       "      <th>1</th>\n",
       "      <td>54885</td>\n",
       "      <td>Carol</td>\n",
       "      <td>Mclaughlin</td>\n",
       "      <td>CM3415@gmail.com</td>\n",
       "      <td>ballet flats</td>\n",
       "      <td>faux-leather</td>\n",
       "      <td>brown</td>\n",
       "      <td>440</td>\n",
       "    </tr>\n",
       "    <tr>\n",
       "      <th>2</th>\n",
       "      <td>35853</td>\n",
       "      <td>Jacob</td>\n",
       "      <td>Juarez</td>\n",
       "      <td>JJuarez1977@outlook.com</td>\n",
       "      <td>ballet flats</td>\n",
       "      <td>leather</td>\n",
       "      <td>red</td>\n",
       "      <td>331</td>\n",
       "    </tr>\n",
       "    <tr>\n",
       "      <th>3</th>\n",
       "      <td>35916</td>\n",
       "      <td>Michael</td>\n",
       "      <td>Christensen</td>\n",
       "      <td>Michael.Christensen@gmail.com</td>\n",
       "      <td>ballet flats</td>\n",
       "      <td>faux-leather</td>\n",
       "      <td>red</td>\n",
       "      <td>270</td>\n",
       "    </tr>\n",
       "    <tr>\n",
       "      <th>4</th>\n",
       "      <td>39587</td>\n",
       "      <td>Dennis</td>\n",
       "      <td>Vega</td>\n",
       "      <td>Dennis.Vega@gmail.com</td>\n",
       "      <td>ballet flats</td>\n",
       "      <td>faux-leather</td>\n",
       "      <td>brown</td>\n",
       "      <td>91</td>\n",
       "    </tr>\n",
       "    <tr>\n",
       "      <th>...</th>\n",
       "      <td>...</td>\n",
       "      <td>...</td>\n",
       "      <td>...</td>\n",
       "      <td>...</td>\n",
       "      <td>...</td>\n",
       "      <td>...</td>\n",
       "      <td>...</td>\n",
       "      <td>...</td>\n",
       "    </tr>\n",
       "    <tr>\n",
       "      <th>94</th>\n",
       "      <td>86546</td>\n",
       "      <td>Lisa</td>\n",
       "      <td>Spence</td>\n",
       "      <td>LSpence1998@gmail.com</td>\n",
       "      <td>wedges</td>\n",
       "      <td>faux-leather</td>\n",
       "      <td>black</td>\n",
       "      <td>115</td>\n",
       "    </tr>\n",
       "    <tr>\n",
       "      <th>95</th>\n",
       "      <td>19127</td>\n",
       "      <td>Philip</td>\n",
       "      <td>Dillard</td>\n",
       "      <td>Philip.Dillard@gmail.com</td>\n",
       "      <td>wedges</td>\n",
       "      <td>faux-leather</td>\n",
       "      <td>red</td>\n",
       "      <td>411</td>\n",
       "    </tr>\n",
       "    <tr>\n",
       "      <th>96</th>\n",
       "      <td>55075</td>\n",
       "      <td>Ashley</td>\n",
       "      <td>Rogers</td>\n",
       "      <td>Ashley.Rogers@hotmail.com</td>\n",
       "      <td>wedges</td>\n",
       "      <td>faux-leather</td>\n",
       "      <td>brown</td>\n",
       "      <td>269</td>\n",
       "    </tr>\n",
       "    <tr>\n",
       "      <th>97</th>\n",
       "      <td>35529</td>\n",
       "      <td>Carol</td>\n",
       "      <td>Reilly</td>\n",
       "      <td>CarolReilly18@gmail.com</td>\n",
       "      <td>wedges</td>\n",
       "      <td>fabric</td>\n",
       "      <td>brown</td>\n",
       "      <td>429</td>\n",
       "    </tr>\n",
       "    <tr>\n",
       "      <th>98</th>\n",
       "      <td>67264</td>\n",
       "      <td>Danielle</td>\n",
       "      <td>Merrill</td>\n",
       "      <td>DMerrill1998@gmail.com</td>\n",
       "      <td>wedges</td>\n",
       "      <td>faux-leather</td>\n",
       "      <td>red</td>\n",
       "      <td>350</td>\n",
       "    </tr>\n",
       "  </tbody>\n",
       "</table>\n",
       "<p>99 rows × 8 columns</p>\n",
       "</div>"
      ],
      "text/plain": [
       "       id first_name    last_name                          email  \\\n",
       "0   41874       Kyle         Peck           KylePeck71@gmail.com   \n",
       "1   54885      Carol   Mclaughlin               CM3415@gmail.com   \n",
       "2   35853      Jacob       Juarez        JJuarez1977@outlook.com   \n",
       "3   35916    Michael  Christensen  Michael.Christensen@gmail.com   \n",
       "4   39587     Dennis         Vega          Dennis.Vega@gmail.com   \n",
       "..    ...        ...          ...                            ...   \n",
       "94  86546       Lisa       Spence          LSpence1998@gmail.com   \n",
       "95  19127     Philip      Dillard       Philip.Dillard@gmail.com   \n",
       "96  55075     Ashley       Rogers      Ashley.Rogers@hotmail.com   \n",
       "97  35529      Carol       Reilly        CarolReilly18@gmail.com   \n",
       "98  67264   Danielle      Merrill         DMerrill1998@gmail.com   \n",
       "\n",
       "       shoe_type shoe_material shoe_color  price  \n",
       "0   ballet flats  faux-leather      black    385  \n",
       "1   ballet flats  faux-leather      brown    440  \n",
       "2   ballet flats       leather        red    331  \n",
       "3   ballet flats  faux-leather        red    270  \n",
       "4   ballet flats  faux-leather      brown     91  \n",
       "..           ...           ...        ...    ...  \n",
       "94        wedges  faux-leather      black    115  \n",
       "95        wedges  faux-leather        red    411  \n",
       "96        wedges  faux-leather      brown    269  \n",
       "97        wedges        fabric      brown    429  \n",
       "98        wedges  faux-leather        red    350  \n",
       "\n",
       "[99 rows x 8 columns]"
      ]
     },
     "execution_count": 91,
     "metadata": {},
     "output_type": "execute_result"
    }
   ],
   "source": [
    "orders_df"
   ]
  },
  {
   "cell_type": "code",
   "execution_count": 92,
   "id": "a45aeb48-0a1c-4e00-b947-6307bdcecafa",
   "metadata": {},
   "outputs": [],
   "source": [
    "cheap_shoes = orders_df.groupby('shoe_color').price \\\n",
    "         .apply(lambda x: np.percentile(x,25)) \\\n",
    "         .reset_index()"
   ]
  },
  {
   "cell_type": "code",
   "execution_count": 93,
   "id": "6ce29109-9f92-4a06-954c-c5cba96427f4",
   "metadata": {},
   "outputs": [
    {
     "data": {
      "text/html": [
       "<div>\n",
       "<style scoped>\n",
       "    .dataframe tbody tr th:only-of-type {\n",
       "        vertical-align: middle;\n",
       "    }\n",
       "\n",
       "    .dataframe tbody tr th {\n",
       "        vertical-align: top;\n",
       "    }\n",
       "\n",
       "    .dataframe thead th {\n",
       "        text-align: right;\n",
       "    }\n",
       "</style>\n",
       "<table border=\"1\" class=\"dataframe\">\n",
       "  <thead>\n",
       "    <tr style=\"text-align: right;\">\n",
       "      <th></th>\n",
       "      <th>shoe_color</th>\n",
       "      <th>price</th>\n",
       "    </tr>\n",
       "  </thead>\n",
       "  <tbody>\n",
       "    <tr>\n",
       "      <th>0</th>\n",
       "      <td>black</td>\n",
       "      <td>222.25</td>\n",
       "    </tr>\n",
       "    <tr>\n",
       "      <th>1</th>\n",
       "      <td>brown</td>\n",
       "      <td>193.50</td>\n",
       "    </tr>\n",
       "    <tr>\n",
       "      <th>2</th>\n",
       "      <td>navy</td>\n",
       "      <td>205.50</td>\n",
       "    </tr>\n",
       "    <tr>\n",
       "      <th>3</th>\n",
       "      <td>red</td>\n",
       "      <td>250.00</td>\n",
       "    </tr>\n",
       "    <tr>\n",
       "      <th>4</th>\n",
       "      <td>white</td>\n",
       "      <td>196.00</td>\n",
       "    </tr>\n",
       "  </tbody>\n",
       "</table>\n",
       "</div>"
      ],
      "text/plain": [
       "  shoe_color   price\n",
       "0      black  222.25\n",
       "1      brown  193.50\n",
       "2       navy  205.50\n",
       "3        red  250.00\n",
       "4      white  196.00"
      ]
     },
     "execution_count": 93,
     "metadata": {},
     "output_type": "execute_result"
    }
   ],
   "source": [
    "cheap_shoes"
   ]
  },
  {
   "cell_type": "markdown",
   "id": "df225ebf-f6eb-4479-bdbf-0db3263f4653",
   "metadata": {},
   "source": [
    "Decoding the above output:\n",
    "\n",
    "25% of black shoes available at price < 222.25\n",
    "25% of brown shoes available at price < 193.50\n",
    "25% of navy shoes available at price < 205.50\n",
    "25% of red shoes available at price < 250.00\n",
    "25% of white shoes available at price < 196.00"
   ]
  },
  {
   "cell_type": "code",
   "execution_count": 95,
   "id": "31e93dc1-b23a-4357-b3ac-4f97caaf4ccb",
   "metadata": {},
   "outputs": [
    {
     "name": "stdout",
     "output_type": "stream",
     "text": [
      "0\n"
     ]
    }
   ],
   "source": [
    "# Counting NaN values in the 'price' column\n",
    "\n",
    "print(orders_df['price'].isna().sum())"
   ]
  },
  {
   "cell_type": "markdown",
   "id": "5e91957e-76b7-44dd-94c2-93848c81f5cf",
   "metadata": {},
   "source": [
    "## Calculating Aggregate Functions IV - group by more than one column\n",
    "\n",
    "by passing a list of column names into the groupby method."
   ]
  },
  {
   "cell_type": "markdown",
   "id": "74607ec3-45b4-4c9e-a70f-e9408a166701",
   "metadata": {},
   "source": [
    "#### Example"
   ]
  },
  {
   "cell_type": "markdown",
   "id": "27707784-4fdd-468a-8767-b83becd3a7b8",
   "metadata": {},
   "source": [
    "Imagine that we run a chain of stores and have data about the number of sales at different locations on different days:\n",
    "\n",
    "Location\t    Date\t    Day of Week\tTotal Sales\n",
    "West Village\tFebruary 1\tW\t        400\n",
    "West Village\tFebruary 2\tTh\t        450\n",
    "Chelsea\t        February 1\tW\t        375\n",
    "Chelsea\t        February 2\tTh\t        390"
   ]
  },
  {
   "cell_type": "code",
   "execution_count": null,
   "id": "30c64df1-4fbd-4ea7-842b-397ab28aa2bd",
   "metadata": {},
   "outputs": [],
   "source": [
    "We suspect that sales are different at different locations on different days of the week. \n",
    "\n",
    "In order to test this hypothesis, we could calculate the average sales for each store on each day of the week across multiple months."
   ]
  },
  {
   "cell_type": "code",
   "execution_count": 97,
   "id": "e84f770e-4d81-456d-903d-98ea5aaacb39",
   "metadata": {},
   "outputs": [],
   "source": [
    "store_chain_df = pd.DataFrame([\n",
    "    ['West Village', 'February 1', 'W', 400],\n",
    "    ['West Village', 'February 2', 'Th', 450],\n",
    "    ['Chelsea', 'February 1', 'W', 375],\n",
    "    ['Chelsea', 'February 2', 'Th', 390],\n",
    "], columns=['Location', 'Date', 'Day of Week', 'Total Sales']\n",
    ")"
   ]
  },
  {
   "cell_type": "code",
   "execution_count": 98,
   "id": "1e57e729-74ea-4797-8fc0-144c4c87c811",
   "metadata": {},
   "outputs": [
    {
     "data": {
      "text/html": [
       "<div>\n",
       "<style scoped>\n",
       "    .dataframe tbody tr th:only-of-type {\n",
       "        vertical-align: middle;\n",
       "    }\n",
       "\n",
       "    .dataframe tbody tr th {\n",
       "        vertical-align: top;\n",
       "    }\n",
       "\n",
       "    .dataframe thead th {\n",
       "        text-align: right;\n",
       "    }\n",
       "</style>\n",
       "<table border=\"1\" class=\"dataframe\">\n",
       "  <thead>\n",
       "    <tr style=\"text-align: right;\">\n",
       "      <th></th>\n",
       "      <th>Location</th>\n",
       "      <th>Date</th>\n",
       "      <th>Day of Week</th>\n",
       "      <th>Total Sales</th>\n",
       "    </tr>\n",
       "  </thead>\n",
       "  <tbody>\n",
       "    <tr>\n",
       "      <th>0</th>\n",
       "      <td>West Village</td>\n",
       "      <td>February 1</td>\n",
       "      <td>W</td>\n",
       "      <td>400</td>\n",
       "    </tr>\n",
       "    <tr>\n",
       "      <th>1</th>\n",
       "      <td>West Village</td>\n",
       "      <td>February 2</td>\n",
       "      <td>Th</td>\n",
       "      <td>450</td>\n",
       "    </tr>\n",
       "    <tr>\n",
       "      <th>2</th>\n",
       "      <td>Chelsea</td>\n",
       "      <td>February 1</td>\n",
       "      <td>W</td>\n",
       "      <td>375</td>\n",
       "    </tr>\n",
       "    <tr>\n",
       "      <th>3</th>\n",
       "      <td>Chelsea</td>\n",
       "      <td>February 2</td>\n",
       "      <td>Th</td>\n",
       "      <td>390</td>\n",
       "    </tr>\n",
       "  </tbody>\n",
       "</table>\n",
       "</div>"
      ],
      "text/plain": [
       "       Location        Date Day of Week  Total Sales\n",
       "0  West Village  February 1           W          400\n",
       "1  West Village  February 2          Th          450\n",
       "2       Chelsea  February 1           W          375\n",
       "3       Chelsea  February 2          Th          390"
      ]
     },
     "execution_count": 98,
     "metadata": {},
     "output_type": "execute_result"
    }
   ],
   "source": [
    "store_chain_df"
   ]
  },
  {
   "cell_type": "markdown",
   "id": "877ee1d2-ce8d-4ea7-81d4-9bc08a13f1f5",
   "metadata": {},
   "source": [
    "### calculate the average sales for each store on each day of the week across multiple months"
   ]
  },
  {
   "cell_type": "code",
   "execution_count": 105,
   "id": "d8dbd27f-4732-4b44-9722-3ac79c7b9601",
   "metadata": {},
   "outputs": [],
   "source": [
    "av_sales1 = store_chain_df.groupby(['Location', 'Day of Week'])['Total Sales'].mean()"
   ]
  },
  {
   "cell_type": "code",
   "execution_count": 106,
   "id": "cd61af93-93a2-4d1e-a8e2-cee94cc23e61",
   "metadata": {},
   "outputs": [
    {
     "data": {
      "text/plain": [
       "Location      Day of Week\n",
       "Chelsea       Th             390.0\n",
       "              W              375.0\n",
       "West Village  Th             450.0\n",
       "              W              400.0\n",
       "Name: Total Sales, dtype: float64"
      ]
     },
     "execution_count": 106,
     "metadata": {},
     "output_type": "execute_result"
    }
   ],
   "source": [
    "av_sales1"
   ]
  },
  {
   "cell_type": "code",
   "execution_count": 107,
   "id": "286ce34c-f15b-492e-892c-8f32f1837564",
   "metadata": {},
   "outputs": [
    {
     "name": "stdout",
     "output_type": "stream",
     "text": [
      "<class 'pandas.core.series.Series'>\n"
     ]
    }
   ],
   "source": [
    "print(type(av_sales1))"
   ]
  },
  {
   "cell_type": "code",
   "execution_count": 108,
   "id": "e7d46e16-58f7-4881-a6b7-91f943ed8611",
   "metadata": {},
   "outputs": [],
   "source": [
    "av_sales2 = store_chain_df.groupby(['Location', 'Day of Week'])['Total Sales']  \\\n",
    "        .mean()   \\\n",
    "        .reset_index()"
   ]
  },
  {
   "cell_type": "code",
   "execution_count": 109,
   "id": "57a55b08-52c1-464c-a668-d083e95cb33c",
   "metadata": {},
   "outputs": [
    {
     "data": {
      "text/html": [
       "<div>\n",
       "<style scoped>\n",
       "    .dataframe tbody tr th:only-of-type {\n",
       "        vertical-align: middle;\n",
       "    }\n",
       "\n",
       "    .dataframe tbody tr th {\n",
       "        vertical-align: top;\n",
       "    }\n",
       "\n",
       "    .dataframe thead th {\n",
       "        text-align: right;\n",
       "    }\n",
       "</style>\n",
       "<table border=\"1\" class=\"dataframe\">\n",
       "  <thead>\n",
       "    <tr style=\"text-align: right;\">\n",
       "      <th></th>\n",
       "      <th>Location</th>\n",
       "      <th>Day of Week</th>\n",
       "      <th>Total Sales</th>\n",
       "    </tr>\n",
       "  </thead>\n",
       "  <tbody>\n",
       "    <tr>\n",
       "      <th>0</th>\n",
       "      <td>Chelsea</td>\n",
       "      <td>Th</td>\n",
       "      <td>390.0</td>\n",
       "    </tr>\n",
       "    <tr>\n",
       "      <th>1</th>\n",
       "      <td>Chelsea</td>\n",
       "      <td>W</td>\n",
       "      <td>375.0</td>\n",
       "    </tr>\n",
       "    <tr>\n",
       "      <th>2</th>\n",
       "      <td>West Village</td>\n",
       "      <td>Th</td>\n",
       "      <td>450.0</td>\n",
       "    </tr>\n",
       "    <tr>\n",
       "      <th>3</th>\n",
       "      <td>West Village</td>\n",
       "      <td>W</td>\n",
       "      <td>400.0</td>\n",
       "    </tr>\n",
       "  </tbody>\n",
       "</table>\n",
       "</div>"
      ],
      "text/plain": [
       "       Location Day of Week  Total Sales\n",
       "0       Chelsea          Th        390.0\n",
       "1       Chelsea           W        375.0\n",
       "2  West Village          Th        450.0\n",
       "3  West Village           W        400.0"
      ]
     },
     "execution_count": 109,
     "metadata": {},
     "output_type": "execute_result"
    }
   ],
   "source": [
    "av_sales2"
   ]
  },
  {
   "cell_type": "code",
   "execution_count": 110,
   "id": "f801b319-3d7a-4084-a3c5-6545ecb3ce4a",
   "metadata": {},
   "outputs": [
    {
     "name": "stdout",
     "output_type": "stream",
     "text": [
      "<class 'pandas.core.frame.DataFrame'>\n"
     ]
    }
   ],
   "source": [
    "print(type(av_sales2))"
   ]
  },
  {
   "cell_type": "markdown",
   "id": "6dd503d6-f7dd-4c08-8116-aa8dda2d3599",
   "metadata": {},
   "source": [
    "## Excercise - Task"
   ]
  },
  {
   "cell_type": "code",
   "execution_count": null,
   "id": "f9bb241c-e1bc-4a61-a696-c2dd92d2f968",
   "metadata": {},
   "outputs": [],
   "source": [
    "At ShoeFly.com, our Purchasing team thinks that certain shoe_type/shoe_color combinations are particularly popular this year \n",
    "(for example, blue ballet flats are all the rage in Paris).\n",
    "\n",
    "Create a DataFrame with the total number of shoes of each shoe_type/shoe_color combination purchased. \n",
    "Save it to the variable shoe_counts.\n",
    "\n",
    "You should be able to do this using groupby and count().\n",
    "\n",
    "Note: When we’re using count(), it doesn’t really matter which column we perform the calculation on. \n",
    "You should use id in this example, but we would get the same answer if we used shoe_type or last_name.\n",
    "\n",
    "Remember to use reset_index() at the end of your code!"
   ]
  },
  {
   "cell_type": "markdown",
   "id": "3bd3e375-b0ff-45f0-97c9-eee88da19871",
   "metadata": {},
   "source": [
    "#### total number of shoes of each shoe_type/shoe_color combination purchased"
   ]
  },
  {
   "cell_type": "code",
   "execution_count": 111,
   "id": "9b042751-b50a-48a0-b58f-833eef180597",
   "metadata": {},
   "outputs": [
    {
     "data": {
      "text/html": [
       "<div>\n",
       "<style scoped>\n",
       "    .dataframe tbody tr th:only-of-type {\n",
       "        vertical-align: middle;\n",
       "    }\n",
       "\n",
       "    .dataframe tbody tr th {\n",
       "        vertical-align: top;\n",
       "    }\n",
       "\n",
       "    .dataframe thead th {\n",
       "        text-align: right;\n",
       "    }\n",
       "</style>\n",
       "<table border=\"1\" class=\"dataframe\">\n",
       "  <thead>\n",
       "    <tr style=\"text-align: right;\">\n",
       "      <th></th>\n",
       "      <th>id</th>\n",
       "      <th>first_name</th>\n",
       "      <th>last_name</th>\n",
       "      <th>email</th>\n",
       "      <th>shoe_type</th>\n",
       "      <th>shoe_material</th>\n",
       "      <th>shoe_color</th>\n",
       "      <th>price</th>\n",
       "    </tr>\n",
       "  </thead>\n",
       "  <tbody>\n",
       "    <tr>\n",
       "      <th>0</th>\n",
       "      <td>41874</td>\n",
       "      <td>Kyle</td>\n",
       "      <td>Peck</td>\n",
       "      <td>KylePeck71@gmail.com</td>\n",
       "      <td>ballet flats</td>\n",
       "      <td>faux-leather</td>\n",
       "      <td>black</td>\n",
       "      <td>385</td>\n",
       "    </tr>\n",
       "    <tr>\n",
       "      <th>1</th>\n",
       "      <td>54885</td>\n",
       "      <td>Carol</td>\n",
       "      <td>Mclaughlin</td>\n",
       "      <td>CM3415@gmail.com</td>\n",
       "      <td>ballet flats</td>\n",
       "      <td>faux-leather</td>\n",
       "      <td>brown</td>\n",
       "      <td>440</td>\n",
       "    </tr>\n",
       "    <tr>\n",
       "      <th>2</th>\n",
       "      <td>35853</td>\n",
       "      <td>Jacob</td>\n",
       "      <td>Juarez</td>\n",
       "      <td>JJuarez1977@outlook.com</td>\n",
       "      <td>ballet flats</td>\n",
       "      <td>leather</td>\n",
       "      <td>red</td>\n",
       "      <td>331</td>\n",
       "    </tr>\n",
       "    <tr>\n",
       "      <th>3</th>\n",
       "      <td>35916</td>\n",
       "      <td>Michael</td>\n",
       "      <td>Christensen</td>\n",
       "      <td>Michael.Christensen@gmail.com</td>\n",
       "      <td>ballet flats</td>\n",
       "      <td>faux-leather</td>\n",
       "      <td>red</td>\n",
       "      <td>270</td>\n",
       "    </tr>\n",
       "    <tr>\n",
       "      <th>4</th>\n",
       "      <td>39587</td>\n",
       "      <td>Dennis</td>\n",
       "      <td>Vega</td>\n",
       "      <td>Dennis.Vega@gmail.com</td>\n",
       "      <td>ballet flats</td>\n",
       "      <td>faux-leather</td>\n",
       "      <td>brown</td>\n",
       "      <td>91</td>\n",
       "    </tr>\n",
       "  </tbody>\n",
       "</table>\n",
       "</div>"
      ],
      "text/plain": [
       "      id first_name    last_name                          email     shoe_type  \\\n",
       "0  41874       Kyle         Peck           KylePeck71@gmail.com  ballet flats   \n",
       "1  54885      Carol   Mclaughlin               CM3415@gmail.com  ballet flats   \n",
       "2  35853      Jacob       Juarez        JJuarez1977@outlook.com  ballet flats   \n",
       "3  35916    Michael  Christensen  Michael.Christensen@gmail.com  ballet flats   \n",
       "4  39587     Dennis         Vega          Dennis.Vega@gmail.com  ballet flats   \n",
       "\n",
       "  shoe_material shoe_color  price  \n",
       "0  faux-leather      black    385  \n",
       "1  faux-leather      brown    440  \n",
       "2       leather        red    331  \n",
       "3  faux-leather        red    270  \n",
       "4  faux-leather      brown     91  "
      ]
     },
     "execution_count": 111,
     "metadata": {},
     "output_type": "execute_result"
    }
   ],
   "source": [
    "orders_df.head()"
   ]
  },
  {
   "cell_type": "code",
   "execution_count": 112,
   "id": "ffec4869-5e42-46ce-8503-3e97f5a90b05",
   "metadata": {},
   "outputs": [
    {
     "data": {
      "text/plain": [
       "shoe_type     shoe_color\n",
       "ballet flats  black         2\n",
       "              brown         5\n",
       "              red           3\n",
       "              white         5\n",
       "boots         black         3\n",
       "              brown         5\n",
       "              navy          6\n",
       "              red           2\n",
       "              white         3\n",
       "clogs         black         4\n",
       "              brown         6\n",
       "              navy          1\n",
       "              red           4\n",
       "              white         1\n",
       "sandals       black         1\n",
       "              brown         4\n",
       "              navy          5\n",
       "              red           3\n",
       "              white         4\n",
       "stilettos     black         5\n",
       "              brown         3\n",
       "              navy          2\n",
       "              red           2\n",
       "              white         2\n",
       "wedges        black         3\n",
       "              brown         4\n",
       "              navy          4\n",
       "              red           5\n",
       "              white         2\n",
       "Name: id, dtype: int64"
      ]
     },
     "execution_count": 112,
     "metadata": {},
     "output_type": "execute_result"
    }
   ],
   "source": [
    "orders_df.groupby(['shoe_type','shoe_color']).id.count()"
   ]
  },
  {
   "cell_type": "code",
   "execution_count": 113,
   "id": "34887839-5770-4ac8-a372-f4fdc2bd03a8",
   "metadata": {},
   "outputs": [],
   "source": [
    "shoe_counts = orders_df.groupby(['shoe_type','shoe_color']).id.count().reset_index()"
   ]
  },
  {
   "cell_type": "code",
   "execution_count": 114,
   "id": "e3381b55-2838-4eef-b9a2-f23b3b3755c1",
   "metadata": {},
   "outputs": [
    {
     "data": {
      "text/html": [
       "<div>\n",
       "<style scoped>\n",
       "    .dataframe tbody tr th:only-of-type {\n",
       "        vertical-align: middle;\n",
       "    }\n",
       "\n",
       "    .dataframe tbody tr th {\n",
       "        vertical-align: top;\n",
       "    }\n",
       "\n",
       "    .dataframe thead th {\n",
       "        text-align: right;\n",
       "    }\n",
       "</style>\n",
       "<table border=\"1\" class=\"dataframe\">\n",
       "  <thead>\n",
       "    <tr style=\"text-align: right;\">\n",
       "      <th></th>\n",
       "      <th>shoe_type</th>\n",
       "      <th>shoe_color</th>\n",
       "      <th>id</th>\n",
       "    </tr>\n",
       "  </thead>\n",
       "  <tbody>\n",
       "    <tr>\n",
       "      <th>0</th>\n",
       "      <td>ballet flats</td>\n",
       "      <td>black</td>\n",
       "      <td>2</td>\n",
       "    </tr>\n",
       "    <tr>\n",
       "      <th>1</th>\n",
       "      <td>ballet flats</td>\n",
       "      <td>brown</td>\n",
       "      <td>5</td>\n",
       "    </tr>\n",
       "    <tr>\n",
       "      <th>2</th>\n",
       "      <td>ballet flats</td>\n",
       "      <td>red</td>\n",
       "      <td>3</td>\n",
       "    </tr>\n",
       "    <tr>\n",
       "      <th>3</th>\n",
       "      <td>ballet flats</td>\n",
       "      <td>white</td>\n",
       "      <td>5</td>\n",
       "    </tr>\n",
       "    <tr>\n",
       "      <th>4</th>\n",
       "      <td>boots</td>\n",
       "      <td>black</td>\n",
       "      <td>3</td>\n",
       "    </tr>\n",
       "    <tr>\n",
       "      <th>5</th>\n",
       "      <td>boots</td>\n",
       "      <td>brown</td>\n",
       "      <td>5</td>\n",
       "    </tr>\n",
       "    <tr>\n",
       "      <th>6</th>\n",
       "      <td>boots</td>\n",
       "      <td>navy</td>\n",
       "      <td>6</td>\n",
       "    </tr>\n",
       "    <tr>\n",
       "      <th>7</th>\n",
       "      <td>boots</td>\n",
       "      <td>red</td>\n",
       "      <td>2</td>\n",
       "    </tr>\n",
       "    <tr>\n",
       "      <th>8</th>\n",
       "      <td>boots</td>\n",
       "      <td>white</td>\n",
       "      <td>3</td>\n",
       "    </tr>\n",
       "    <tr>\n",
       "      <th>9</th>\n",
       "      <td>clogs</td>\n",
       "      <td>black</td>\n",
       "      <td>4</td>\n",
       "    </tr>\n",
       "    <tr>\n",
       "      <th>10</th>\n",
       "      <td>clogs</td>\n",
       "      <td>brown</td>\n",
       "      <td>6</td>\n",
       "    </tr>\n",
       "    <tr>\n",
       "      <th>11</th>\n",
       "      <td>clogs</td>\n",
       "      <td>navy</td>\n",
       "      <td>1</td>\n",
       "    </tr>\n",
       "    <tr>\n",
       "      <th>12</th>\n",
       "      <td>clogs</td>\n",
       "      <td>red</td>\n",
       "      <td>4</td>\n",
       "    </tr>\n",
       "    <tr>\n",
       "      <th>13</th>\n",
       "      <td>clogs</td>\n",
       "      <td>white</td>\n",
       "      <td>1</td>\n",
       "    </tr>\n",
       "    <tr>\n",
       "      <th>14</th>\n",
       "      <td>sandals</td>\n",
       "      <td>black</td>\n",
       "      <td>1</td>\n",
       "    </tr>\n",
       "    <tr>\n",
       "      <th>15</th>\n",
       "      <td>sandals</td>\n",
       "      <td>brown</td>\n",
       "      <td>4</td>\n",
       "    </tr>\n",
       "    <tr>\n",
       "      <th>16</th>\n",
       "      <td>sandals</td>\n",
       "      <td>navy</td>\n",
       "      <td>5</td>\n",
       "    </tr>\n",
       "    <tr>\n",
       "      <th>17</th>\n",
       "      <td>sandals</td>\n",
       "      <td>red</td>\n",
       "      <td>3</td>\n",
       "    </tr>\n",
       "    <tr>\n",
       "      <th>18</th>\n",
       "      <td>sandals</td>\n",
       "      <td>white</td>\n",
       "      <td>4</td>\n",
       "    </tr>\n",
       "    <tr>\n",
       "      <th>19</th>\n",
       "      <td>stilettos</td>\n",
       "      <td>black</td>\n",
       "      <td>5</td>\n",
       "    </tr>\n",
       "    <tr>\n",
       "      <th>20</th>\n",
       "      <td>stilettos</td>\n",
       "      <td>brown</td>\n",
       "      <td>3</td>\n",
       "    </tr>\n",
       "    <tr>\n",
       "      <th>21</th>\n",
       "      <td>stilettos</td>\n",
       "      <td>navy</td>\n",
       "      <td>2</td>\n",
       "    </tr>\n",
       "    <tr>\n",
       "      <th>22</th>\n",
       "      <td>stilettos</td>\n",
       "      <td>red</td>\n",
       "      <td>2</td>\n",
       "    </tr>\n",
       "    <tr>\n",
       "      <th>23</th>\n",
       "      <td>stilettos</td>\n",
       "      <td>white</td>\n",
       "      <td>2</td>\n",
       "    </tr>\n",
       "    <tr>\n",
       "      <th>24</th>\n",
       "      <td>wedges</td>\n",
       "      <td>black</td>\n",
       "      <td>3</td>\n",
       "    </tr>\n",
       "    <tr>\n",
       "      <th>25</th>\n",
       "      <td>wedges</td>\n",
       "      <td>brown</td>\n",
       "      <td>4</td>\n",
       "    </tr>\n",
       "    <tr>\n",
       "      <th>26</th>\n",
       "      <td>wedges</td>\n",
       "      <td>navy</td>\n",
       "      <td>4</td>\n",
       "    </tr>\n",
       "    <tr>\n",
       "      <th>27</th>\n",
       "      <td>wedges</td>\n",
       "      <td>red</td>\n",
       "      <td>5</td>\n",
       "    </tr>\n",
       "    <tr>\n",
       "      <th>28</th>\n",
       "      <td>wedges</td>\n",
       "      <td>white</td>\n",
       "      <td>2</td>\n",
       "    </tr>\n",
       "  </tbody>\n",
       "</table>\n",
       "</div>"
      ],
      "text/plain": [
       "       shoe_type shoe_color  id\n",
       "0   ballet flats      black   2\n",
       "1   ballet flats      brown   5\n",
       "2   ballet flats        red   3\n",
       "3   ballet flats      white   5\n",
       "4          boots      black   3\n",
       "5          boots      brown   5\n",
       "6          boots       navy   6\n",
       "7          boots        red   2\n",
       "8          boots      white   3\n",
       "9          clogs      black   4\n",
       "10         clogs      brown   6\n",
       "11         clogs       navy   1\n",
       "12         clogs        red   4\n",
       "13         clogs      white   1\n",
       "14       sandals      black   1\n",
       "15       sandals      brown   4\n",
       "16       sandals       navy   5\n",
       "17       sandals        red   3\n",
       "18       sandals      white   4\n",
       "19     stilettos      black   5\n",
       "20     stilettos      brown   3\n",
       "21     stilettos       navy   2\n",
       "22     stilettos        red   2\n",
       "23     stilettos      white   2\n",
       "24        wedges      black   3\n",
       "25        wedges      brown   4\n",
       "26        wedges       navy   4\n",
       "27        wedges        red   5\n",
       "28        wedges      white   2"
      ]
     },
     "execution_count": 114,
     "metadata": {},
     "output_type": "execute_result"
    }
   ],
   "source": [
    "shoe_counts"
   ]
  },
  {
   "cell_type": "markdown",
   "id": "827ac0c2-6518-4f19-9ebb-28459215a448",
   "metadata": {},
   "source": [
    "### Note"
   ]
  },
  {
   "cell_type": "code",
   "execution_count": null,
   "id": "3d555313-a13d-4fb0-b926-dca288919b83",
   "metadata": {},
   "outputs": [],
   "source": [
    "When we’re using count(), it doesn’t really matter which column we perform the calculation on. \n",
    "\n",
    "You should use id in this example, but we would get the same answer if we used shoe_type or last_name."
   ]
  },
  {
   "cell_type": "markdown",
   "id": "7f6608d0-d0b5-4cf9-8c34-840cb4c91949",
   "metadata": {},
   "source": [
    "## Pivot Tables"
   ]
  },
  {
   "cell_type": "markdown",
   "id": "8d3ab259-6350-4ee2-b93d-cfd9c28ff6ca",
   "metadata": {},
   "source": [
    "When we perform a groupby across multiple columns, we often want to change how our data is stored."
   ]
  },
  {
   "cell_type": "code",
   "execution_count": null,
   "id": "2d7bc2b9-d3ff-4d81-8141-499a0ac3b4f0",
   "metadata": {},
   "outputs": [],
   "source": [
    "For instance, recall the example where we are running a chain of stores and have data about the number of sales at different locations on \n",
    "different days:\n",
    "\n",
    "Location\t    Date\t    Day of Week\tTotal Sales\n",
    "West Village\tFebruary 1\tW\t        400\n",
    "West Village\tFebruary 2\tTh\t        450\n",
    "Chelsea\t        February 1\tW\t        375\n",
    "Chelsea\t        February 2\tTh\t        390"
   ]
  },
  {
   "cell_type": "code",
   "execution_count": null,
   "id": "5005c46b-8350-4ffe-aebf-976f3a8ccc7f",
   "metadata": {},
   "outputs": [],
   "source": [
    "We suspected that there might be different sales on different days of the week at different stores, so we performed a `groupby` across \n",
    "two different columns (`Location` and `Day of Week`). \n",
    "\n",
    "This gave us results that looked like this: av_sales2"
   ]
  },
  {
   "cell_type": "code",
   "execution_count": 115,
   "id": "f4c2c1e8-9267-4081-862a-fe3f90d7ba18",
   "metadata": {},
   "outputs": [
    {
     "data": {
      "text/html": [
       "<div>\n",
       "<style scoped>\n",
       "    .dataframe tbody tr th:only-of-type {\n",
       "        vertical-align: middle;\n",
       "    }\n",
       "\n",
       "    .dataframe tbody tr th {\n",
       "        vertical-align: top;\n",
       "    }\n",
       "\n",
       "    .dataframe thead th {\n",
       "        text-align: right;\n",
       "    }\n",
       "</style>\n",
       "<table border=\"1\" class=\"dataframe\">\n",
       "  <thead>\n",
       "    <tr style=\"text-align: right;\">\n",
       "      <th></th>\n",
       "      <th>Location</th>\n",
       "      <th>Day of Week</th>\n",
       "      <th>Total Sales</th>\n",
       "    </tr>\n",
       "  </thead>\n",
       "  <tbody>\n",
       "    <tr>\n",
       "      <th>0</th>\n",
       "      <td>Chelsea</td>\n",
       "      <td>Th</td>\n",
       "      <td>390.0</td>\n",
       "    </tr>\n",
       "    <tr>\n",
       "      <th>1</th>\n",
       "      <td>Chelsea</td>\n",
       "      <td>W</td>\n",
       "      <td>375.0</td>\n",
       "    </tr>\n",
       "    <tr>\n",
       "      <th>2</th>\n",
       "      <td>West Village</td>\n",
       "      <td>Th</td>\n",
       "      <td>450.0</td>\n",
       "    </tr>\n",
       "    <tr>\n",
       "      <th>3</th>\n",
       "      <td>West Village</td>\n",
       "      <td>W</td>\n",
       "      <td>400.0</td>\n",
       "    </tr>\n",
       "  </tbody>\n",
       "</table>\n",
       "</div>"
      ],
      "text/plain": [
       "       Location Day of Week  Total Sales\n",
       "0       Chelsea          Th        390.0\n",
       "1       Chelsea           W        375.0\n",
       "2  West Village          Th        450.0\n",
       "3  West Village           W        400.0"
      ]
     },
     "execution_count": 115,
     "metadata": {},
     "output_type": "execute_result"
    }
   ],
   "source": [
    "av_sales2"
   ]
  },
  {
   "cell_type": "markdown",
   "id": "3fe0b688-1c66-4e9f-995e-1bbeb087924d",
   "metadata": {},
   "source": [
    "In order to test our hypothesis, it would be more useful if the table was formatted like this:"
   ]
  },
  {
   "cell_type": "markdown",
   "id": "e1dd5c9e-68ab-4a31-bc02-2b48cf9fe352",
   "metadata": {},
   "source": [
    "Location\t   W\t Th\n",
    "--------      ---   ---\n",
    "Chelsea\t      375   390\n",
    "West Village  400   450"
   ]
  },
  {
   "cell_type": "markdown",
   "id": "bd5fbc00-7f69-44bd-954a-bc9a07c063bf",
   "metadata": {},
   "source": [
    "##### Reorganizing a table in this way is called pivoting. The new table is called a pivot table."
   ]
  },
  {
   "cell_type": "markdown",
   "id": "0a26c384-9916-4d38-905a-20eb0b95d5df",
   "metadata": {},
   "source": [
    "### In Pandas, the command for pivot is:\n"
   ]
  },
  {
   "cell_type": "markdown",
   "id": "7b0ba987-9370-488e-a620-2ee219fa7364",
   "metadata": {},
   "source": [
    "df.pivot(columns='ColumnToPivot',\n",
    "         index='ColumnToBeRows',\n",
    "         values='ColumnToBeValues')"
   ]
  },
  {
   "cell_type": "markdown",
   "id": "050d3ed5-e70c-4e2a-9ef2-89067a5847c8",
   "metadata": {},
   "source": [
    "For our specific example, we would write the command like this:"
   ]
  },
  {
   "cell_type": "code",
   "execution_count": 120,
   "id": "cdd454d0-1bf3-42f8-9aa4-a45c860b847a",
   "metadata": {},
   "outputs": [],
   "source": [
    "# Non-Pivot\n",
    "\n",
    "Unpivoted = store_chain_df.groupby(['Location', 'Day of Week'])['Total Sales']  \\\n",
    "        .mean()   \\\n",
    "        .reset_index()"
   ]
  },
  {
   "cell_type": "code",
   "execution_count": 121,
   "id": "aee32db6-dad5-4af2-ab72-863c10387f3c",
   "metadata": {},
   "outputs": [
    {
     "data": {
      "text/html": [
       "<div>\n",
       "<style scoped>\n",
       "    .dataframe tbody tr th:only-of-type {\n",
       "        vertical-align: middle;\n",
       "    }\n",
       "\n",
       "    .dataframe tbody tr th {\n",
       "        vertical-align: top;\n",
       "    }\n",
       "\n",
       "    .dataframe thead th {\n",
       "        text-align: right;\n",
       "    }\n",
       "</style>\n",
       "<table border=\"1\" class=\"dataframe\">\n",
       "  <thead>\n",
       "    <tr style=\"text-align: right;\">\n",
       "      <th></th>\n",
       "      <th>Location</th>\n",
       "      <th>Day of Week</th>\n",
       "      <th>Total Sales</th>\n",
       "    </tr>\n",
       "  </thead>\n",
       "  <tbody>\n",
       "    <tr>\n",
       "      <th>0</th>\n",
       "      <td>Chelsea</td>\n",
       "      <td>Th</td>\n",
       "      <td>390.0</td>\n",
       "    </tr>\n",
       "    <tr>\n",
       "      <th>1</th>\n",
       "      <td>Chelsea</td>\n",
       "      <td>W</td>\n",
       "      <td>375.0</td>\n",
       "    </tr>\n",
       "    <tr>\n",
       "      <th>2</th>\n",
       "      <td>West Village</td>\n",
       "      <td>Th</td>\n",
       "      <td>450.0</td>\n",
       "    </tr>\n",
       "    <tr>\n",
       "      <th>3</th>\n",
       "      <td>West Village</td>\n",
       "      <td>W</td>\n",
       "      <td>400.0</td>\n",
       "    </tr>\n",
       "  </tbody>\n",
       "</table>\n",
       "</div>"
      ],
      "text/plain": [
       "       Location Day of Week  Total Sales\n",
       "0       Chelsea          Th        390.0\n",
       "1       Chelsea           W        375.0\n",
       "2  West Village          Th        450.0\n",
       "3  West Village           W        400.0"
      ]
     },
     "execution_count": 121,
     "metadata": {},
     "output_type": "execute_result"
    }
   ],
   "source": [
    "Unpivoted"
   ]
  },
  {
   "cell_type": "code",
   "execution_count": 125,
   "id": "119320d8-5a56-403d-9724-ee6ff69a93ec",
   "metadata": {},
   "outputs": [],
   "source": [
    "# STEP1 :  First use the groupby statement\n",
    "\n",
    "Unpivoted = store_chain_df.groupby(['Location', 'Day of Week'])['Total Sales']  \\\n",
    "        .mean()   \\\n",
    "        .reset_index()\n",
    "\n",
    "# STEP2 : Now, Pivot the table\n",
    "\n",
    "pivoted = Unpivoted.pivot(\n",
    "    columns = ['Day of Week'],\n",
    "    index   = ['Location'],\n",
    "    values  = ['Total Sales'] \n",
    ")"
   ]
  },
  {
   "cell_type": "code",
   "execution_count": 126,
   "id": "cae8a11e-3765-4722-a9d1-57790196bfb0",
   "metadata": {
    "scrolled": true
   },
   "outputs": [
    {
     "data": {
      "text/html": [
       "<div>\n",
       "<style scoped>\n",
       "    .dataframe tbody tr th:only-of-type {\n",
       "        vertical-align: middle;\n",
       "    }\n",
       "\n",
       "    .dataframe tbody tr th {\n",
       "        vertical-align: top;\n",
       "    }\n",
       "\n",
       "    .dataframe thead tr th {\n",
       "        text-align: left;\n",
       "    }\n",
       "\n",
       "    .dataframe thead tr:last-of-type th {\n",
       "        text-align: right;\n",
       "    }\n",
       "</style>\n",
       "<table border=\"1\" class=\"dataframe\">\n",
       "  <thead>\n",
       "    <tr>\n",
       "      <th></th>\n",
       "      <th colspan=\"2\" halign=\"left\">Total Sales</th>\n",
       "    </tr>\n",
       "    <tr>\n",
       "      <th>Day of Week</th>\n",
       "      <th>Th</th>\n",
       "      <th>W</th>\n",
       "    </tr>\n",
       "    <tr>\n",
       "      <th>Location</th>\n",
       "      <th></th>\n",
       "      <th></th>\n",
       "    </tr>\n",
       "  </thead>\n",
       "  <tbody>\n",
       "    <tr>\n",
       "      <th>Chelsea</th>\n",
       "      <td>390.0</td>\n",
       "      <td>375.0</td>\n",
       "    </tr>\n",
       "    <tr>\n",
       "      <th>West Village</th>\n",
       "      <td>450.0</td>\n",
       "      <td>400.0</td>\n",
       "    </tr>\n",
       "  </tbody>\n",
       "</table>\n",
       "</div>"
      ],
      "text/plain": [
       "             Total Sales       \n",
       "Day of Week           Th      W\n",
       "Location                       \n",
       "Chelsea            390.0  375.0\n",
       "West Village       450.0  400.0"
      ]
     },
     "execution_count": 126,
     "metadata": {},
     "output_type": "execute_result"
    }
   ],
   "source": [
    "pivoted"
   ]
  },
  {
   "cell_type": "code",
   "execution_count": 127,
   "id": "f3ee8f7e-23b7-4c94-871f-b64c53986225",
   "metadata": {},
   "outputs": [
    {
     "name": "stdout",
     "output_type": "stream",
     "text": [
      "<class 'pandas.core.frame.DataFrame'>\n"
     ]
    }
   ],
   "source": [
    "print(type(pivoted))"
   ]
  },
  {
   "cell_type": "markdown",
   "id": "8a5fbfaa-92e8-42c1-bd9c-d35ad097dd04",
   "metadata": {},
   "source": [
    "### Note\n",
    "\n",
    "Just like with groupby, the output of a pivot command is a new DataFrame, but the indexing tends to be “weird”, \n",
    "so we usually follow up with .reset_index()."
   ]
  },
  {
   "cell_type": "markdown",
   "id": "ef97fa3d-50b5-416b-b18c-30f85dd184c9",
   "metadata": {},
   "source": [
    "### Excercise"
   ]
  },
  {
   "cell_type": "code",
   "execution_count": null,
   "id": "ea088b47-6bf1-475f-8e5d-5629785ee80b",
   "metadata": {},
   "outputs": [],
   "source": [
    "In the previous example, you created a DataFrame with the total number of shoes of each shoe_type/shoe_color combination purchased \n",
    "for ShoeFly.com.\n",
    "\n",
    "The purchasing manager complains that this DataFrame is confusing.\n",
    "\n",
    "Make it easier for her to compare purchases of different shoe colors of the same shoe type by creating a pivot table. \n",
    "Save your results to the variable shoe_counts_pivot.\n",
    "\n",
    "Your table should look like this:\n",
    "\n",
    "shoe_type\t  black\t brown\tnavy  red  white\n",
    "ballet flats\t…\t …\t    …\t  …\t   …\n",
    "sandals\t        …\t …\t    …\t  …\t   …\n",
    "stilettos\t    … \t …\t    …\t  …\t   …\n",
    "wedges\t        …\t …\t    …\t  …\t   …"
   ]
  },
  {
   "cell_type": "code",
   "execution_count": 128,
   "id": "07fd540f-014d-499c-9893-4b320c2d7365",
   "metadata": {},
   "outputs": [
    {
     "data": {
      "text/html": [
       "<div>\n",
       "<style scoped>\n",
       "    .dataframe tbody tr th:only-of-type {\n",
       "        vertical-align: middle;\n",
       "    }\n",
       "\n",
       "    .dataframe tbody tr th {\n",
       "        vertical-align: top;\n",
       "    }\n",
       "\n",
       "    .dataframe thead th {\n",
       "        text-align: right;\n",
       "    }\n",
       "</style>\n",
       "<table border=\"1\" class=\"dataframe\">\n",
       "  <thead>\n",
       "    <tr style=\"text-align: right;\">\n",
       "      <th></th>\n",
       "      <th>shoe_type</th>\n",
       "      <th>shoe_color</th>\n",
       "      <th>id</th>\n",
       "    </tr>\n",
       "  </thead>\n",
       "  <tbody>\n",
       "    <tr>\n",
       "      <th>0</th>\n",
       "      <td>ballet flats</td>\n",
       "      <td>black</td>\n",
       "      <td>2</td>\n",
       "    </tr>\n",
       "    <tr>\n",
       "      <th>1</th>\n",
       "      <td>ballet flats</td>\n",
       "      <td>brown</td>\n",
       "      <td>5</td>\n",
       "    </tr>\n",
       "    <tr>\n",
       "      <th>2</th>\n",
       "      <td>ballet flats</td>\n",
       "      <td>red</td>\n",
       "      <td>3</td>\n",
       "    </tr>\n",
       "    <tr>\n",
       "      <th>3</th>\n",
       "      <td>ballet flats</td>\n",
       "      <td>white</td>\n",
       "      <td>5</td>\n",
       "    </tr>\n",
       "    <tr>\n",
       "      <th>4</th>\n",
       "      <td>boots</td>\n",
       "      <td>black</td>\n",
       "      <td>3</td>\n",
       "    </tr>\n",
       "    <tr>\n",
       "      <th>5</th>\n",
       "      <td>boots</td>\n",
       "      <td>brown</td>\n",
       "      <td>5</td>\n",
       "    </tr>\n",
       "    <tr>\n",
       "      <th>6</th>\n",
       "      <td>boots</td>\n",
       "      <td>navy</td>\n",
       "      <td>6</td>\n",
       "    </tr>\n",
       "    <tr>\n",
       "      <th>7</th>\n",
       "      <td>boots</td>\n",
       "      <td>red</td>\n",
       "      <td>2</td>\n",
       "    </tr>\n",
       "    <tr>\n",
       "      <th>8</th>\n",
       "      <td>boots</td>\n",
       "      <td>white</td>\n",
       "      <td>3</td>\n",
       "    </tr>\n",
       "    <tr>\n",
       "      <th>9</th>\n",
       "      <td>clogs</td>\n",
       "      <td>black</td>\n",
       "      <td>4</td>\n",
       "    </tr>\n",
       "    <tr>\n",
       "      <th>10</th>\n",
       "      <td>clogs</td>\n",
       "      <td>brown</td>\n",
       "      <td>6</td>\n",
       "    </tr>\n",
       "    <tr>\n",
       "      <th>11</th>\n",
       "      <td>clogs</td>\n",
       "      <td>navy</td>\n",
       "      <td>1</td>\n",
       "    </tr>\n",
       "    <tr>\n",
       "      <th>12</th>\n",
       "      <td>clogs</td>\n",
       "      <td>red</td>\n",
       "      <td>4</td>\n",
       "    </tr>\n",
       "    <tr>\n",
       "      <th>13</th>\n",
       "      <td>clogs</td>\n",
       "      <td>white</td>\n",
       "      <td>1</td>\n",
       "    </tr>\n",
       "    <tr>\n",
       "      <th>14</th>\n",
       "      <td>sandals</td>\n",
       "      <td>black</td>\n",
       "      <td>1</td>\n",
       "    </tr>\n",
       "    <tr>\n",
       "      <th>15</th>\n",
       "      <td>sandals</td>\n",
       "      <td>brown</td>\n",
       "      <td>4</td>\n",
       "    </tr>\n",
       "    <tr>\n",
       "      <th>16</th>\n",
       "      <td>sandals</td>\n",
       "      <td>navy</td>\n",
       "      <td>5</td>\n",
       "    </tr>\n",
       "    <tr>\n",
       "      <th>17</th>\n",
       "      <td>sandals</td>\n",
       "      <td>red</td>\n",
       "      <td>3</td>\n",
       "    </tr>\n",
       "    <tr>\n",
       "      <th>18</th>\n",
       "      <td>sandals</td>\n",
       "      <td>white</td>\n",
       "      <td>4</td>\n",
       "    </tr>\n",
       "    <tr>\n",
       "      <th>19</th>\n",
       "      <td>stilettos</td>\n",
       "      <td>black</td>\n",
       "      <td>5</td>\n",
       "    </tr>\n",
       "    <tr>\n",
       "      <th>20</th>\n",
       "      <td>stilettos</td>\n",
       "      <td>brown</td>\n",
       "      <td>3</td>\n",
       "    </tr>\n",
       "    <tr>\n",
       "      <th>21</th>\n",
       "      <td>stilettos</td>\n",
       "      <td>navy</td>\n",
       "      <td>2</td>\n",
       "    </tr>\n",
       "    <tr>\n",
       "      <th>22</th>\n",
       "      <td>stilettos</td>\n",
       "      <td>red</td>\n",
       "      <td>2</td>\n",
       "    </tr>\n",
       "    <tr>\n",
       "      <th>23</th>\n",
       "      <td>stilettos</td>\n",
       "      <td>white</td>\n",
       "      <td>2</td>\n",
       "    </tr>\n",
       "    <tr>\n",
       "      <th>24</th>\n",
       "      <td>wedges</td>\n",
       "      <td>black</td>\n",
       "      <td>3</td>\n",
       "    </tr>\n",
       "    <tr>\n",
       "      <th>25</th>\n",
       "      <td>wedges</td>\n",
       "      <td>brown</td>\n",
       "      <td>4</td>\n",
       "    </tr>\n",
       "    <tr>\n",
       "      <th>26</th>\n",
       "      <td>wedges</td>\n",
       "      <td>navy</td>\n",
       "      <td>4</td>\n",
       "    </tr>\n",
       "    <tr>\n",
       "      <th>27</th>\n",
       "      <td>wedges</td>\n",
       "      <td>red</td>\n",
       "      <td>5</td>\n",
       "    </tr>\n",
       "    <tr>\n",
       "      <th>28</th>\n",
       "      <td>wedges</td>\n",
       "      <td>white</td>\n",
       "      <td>2</td>\n",
       "    </tr>\n",
       "  </tbody>\n",
       "</table>\n",
       "</div>"
      ],
      "text/plain": [
       "       shoe_type shoe_color  id\n",
       "0   ballet flats      black   2\n",
       "1   ballet flats      brown   5\n",
       "2   ballet flats        red   3\n",
       "3   ballet flats      white   5\n",
       "4          boots      black   3\n",
       "5          boots      brown   5\n",
       "6          boots       navy   6\n",
       "7          boots        red   2\n",
       "8          boots      white   3\n",
       "9          clogs      black   4\n",
       "10         clogs      brown   6\n",
       "11         clogs       navy   1\n",
       "12         clogs        red   4\n",
       "13         clogs      white   1\n",
       "14       sandals      black   1\n",
       "15       sandals      brown   4\n",
       "16       sandals       navy   5\n",
       "17       sandals        red   3\n",
       "18       sandals      white   4\n",
       "19     stilettos      black   5\n",
       "20     stilettos      brown   3\n",
       "21     stilettos       navy   2\n",
       "22     stilettos        red   2\n",
       "23     stilettos      white   2\n",
       "24        wedges      black   3\n",
       "25        wedges      brown   4\n",
       "26        wedges       navy   4\n",
       "27        wedges        red   5\n",
       "28        wedges      white   2"
      ]
     },
     "execution_count": 128,
     "metadata": {},
     "output_type": "execute_result"
    }
   ],
   "source": [
    "shoe_counts"
   ]
  },
  {
   "cell_type": "code",
   "execution_count": 132,
   "id": "bcd7d5ec-a874-43e7-8e68-6a5c3f1e4aea",
   "metadata": {},
   "outputs": [],
   "source": [
    "shoe_counts_pivot = shoe_counts.pivot(\n",
    "    columns = ['shoe_color'],\n",
    "    index   = ['shoe_type'],\n",
    "    values  = ['id']\n",
    ").reset_index()"
   ]
  },
  {
   "cell_type": "code",
   "execution_count": 133,
   "id": "d1d9df25-9236-46a1-825b-5af421ce04b0",
   "metadata": {},
   "outputs": [
    {
     "data": {
      "text/html": [
       "<div>\n",
       "<style scoped>\n",
       "    .dataframe tbody tr th:only-of-type {\n",
       "        vertical-align: middle;\n",
       "    }\n",
       "\n",
       "    .dataframe tbody tr th {\n",
       "        vertical-align: top;\n",
       "    }\n",
       "\n",
       "    .dataframe thead tr th {\n",
       "        text-align: left;\n",
       "    }\n",
       "</style>\n",
       "<table border=\"1\" class=\"dataframe\">\n",
       "  <thead>\n",
       "    <tr>\n",
       "      <th></th>\n",
       "      <th>shoe_type</th>\n",
       "      <th colspan=\"5\" halign=\"left\">id</th>\n",
       "    </tr>\n",
       "    <tr>\n",
       "      <th>shoe_color</th>\n",
       "      <th></th>\n",
       "      <th>black</th>\n",
       "      <th>brown</th>\n",
       "      <th>navy</th>\n",
       "      <th>red</th>\n",
       "      <th>white</th>\n",
       "    </tr>\n",
       "  </thead>\n",
       "  <tbody>\n",
       "    <tr>\n",
       "      <th>0</th>\n",
       "      <td>ballet flats</td>\n",
       "      <td>2.0</td>\n",
       "      <td>5.0</td>\n",
       "      <td>NaN</td>\n",
       "      <td>3.0</td>\n",
       "      <td>5.0</td>\n",
       "    </tr>\n",
       "    <tr>\n",
       "      <th>1</th>\n",
       "      <td>boots</td>\n",
       "      <td>3.0</td>\n",
       "      <td>5.0</td>\n",
       "      <td>6.0</td>\n",
       "      <td>2.0</td>\n",
       "      <td>3.0</td>\n",
       "    </tr>\n",
       "    <tr>\n",
       "      <th>2</th>\n",
       "      <td>clogs</td>\n",
       "      <td>4.0</td>\n",
       "      <td>6.0</td>\n",
       "      <td>1.0</td>\n",
       "      <td>4.0</td>\n",
       "      <td>1.0</td>\n",
       "    </tr>\n",
       "    <tr>\n",
       "      <th>3</th>\n",
       "      <td>sandals</td>\n",
       "      <td>1.0</td>\n",
       "      <td>4.0</td>\n",
       "      <td>5.0</td>\n",
       "      <td>3.0</td>\n",
       "      <td>4.0</td>\n",
       "    </tr>\n",
       "    <tr>\n",
       "      <th>4</th>\n",
       "      <td>stilettos</td>\n",
       "      <td>5.0</td>\n",
       "      <td>3.0</td>\n",
       "      <td>2.0</td>\n",
       "      <td>2.0</td>\n",
       "      <td>2.0</td>\n",
       "    </tr>\n",
       "    <tr>\n",
       "      <th>5</th>\n",
       "      <td>wedges</td>\n",
       "      <td>3.0</td>\n",
       "      <td>4.0</td>\n",
       "      <td>4.0</td>\n",
       "      <td>5.0</td>\n",
       "      <td>2.0</td>\n",
       "    </tr>\n",
       "  </tbody>\n",
       "</table>\n",
       "</div>"
      ],
      "text/plain": [
       "               shoe_type    id                      \n",
       "shoe_color               black brown navy  red white\n",
       "0           ballet flats   2.0   5.0  NaN  3.0   5.0\n",
       "1                  boots   3.0   5.0  6.0  2.0   3.0\n",
       "2                  clogs   4.0   6.0  1.0  4.0   1.0\n",
       "3                sandals   1.0   4.0  5.0  3.0   4.0\n",
       "4              stilettos   5.0   3.0  2.0  2.0   2.0\n",
       "5                 wedges   3.0   4.0  4.0  5.0   2.0"
      ]
     },
     "execution_count": 133,
     "metadata": {},
     "output_type": "execute_result"
    }
   ],
   "source": [
    "shoe_counts_pivot"
   ]
  },
  {
   "cell_type": "markdown",
   "id": "25efb56a-73b4-4494-9717-7b44fee8edae",
   "metadata": {},
   "source": [
    "## Final Excercise"
   ]
  },
  {
   "cell_type": "markdown",
   "id": "3457f5c0-25a7-4c8b-b2ed-3d78b3c03dc3",
   "metadata": {},
   "source": [
    "Let’s examine some more data from ShoeFly.com. This time, we’ll be looking at data about user visits to the website"
   ]
  },
  {
   "cell_type": "code",
   "execution_count": 138,
   "id": "fc581e69-ca20-4d68-be8e-23a9133a34b5",
   "metadata": {},
   "outputs": [],
   "source": [
    "user_visits_df = pd.read_csv(r'D:\\GIT_Repositories\\pandas\\page_visits.csv')"
   ]
  },
  {
   "cell_type": "code",
   "execution_count": 139,
   "id": "98bd0e7f-c41c-4284-8742-98d2bc7f2cec",
   "metadata": {},
   "outputs": [
    {
     "data": {
      "text/html": [
       "<div>\n",
       "<style scoped>\n",
       "    .dataframe tbody tr th:only-of-type {\n",
       "        vertical-align: middle;\n",
       "    }\n",
       "\n",
       "    .dataframe tbody tr th {\n",
       "        vertical-align: top;\n",
       "    }\n",
       "\n",
       "    .dataframe thead th {\n",
       "        text-align: right;\n",
       "    }\n",
       "</style>\n",
       "<table border=\"1\" class=\"dataframe\">\n",
       "  <thead>\n",
       "    <tr style=\"text-align: right;\">\n",
       "      <th></th>\n",
       "      <th>id</th>\n",
       "      <th>first_name</th>\n",
       "      <th>last_name</th>\n",
       "      <th>email</th>\n",
       "      <th>month</th>\n",
       "      <th>utm_source</th>\n",
       "    </tr>\n",
       "  </thead>\n",
       "  <tbody>\n",
       "    <tr>\n",
       "      <th>0</th>\n",
       "      <td>10043</td>\n",
       "      <td>Louis</td>\n",
       "      <td>Koch</td>\n",
       "      <td>LouisKoch43@gmail.com</td>\n",
       "      <td>03-Mar</td>\n",
       "      <td>yahoo</td>\n",
       "    </tr>\n",
       "    <tr>\n",
       "      <th>1</th>\n",
       "      <td>10150</td>\n",
       "      <td>Bruce</td>\n",
       "      <td>Webb</td>\n",
       "      <td>BruceWebb44@outlook.com</td>\n",
       "      <td>03-Mar</td>\n",
       "      <td>twitter</td>\n",
       "    </tr>\n",
       "    <tr>\n",
       "      <th>2</th>\n",
       "      <td>10155</td>\n",
       "      <td>Nicholas</td>\n",
       "      <td>Hoffman</td>\n",
       "      <td>Nicholas.Hoffman@gmail.com</td>\n",
       "      <td>02-Feb</td>\n",
       "      <td>google</td>\n",
       "    </tr>\n",
       "    <tr>\n",
       "      <th>3</th>\n",
       "      <td>10178</td>\n",
       "      <td>William</td>\n",
       "      <td>Key</td>\n",
       "      <td>William.Key@outlook.com</td>\n",
       "      <td>03-Mar</td>\n",
       "      <td>yahoo</td>\n",
       "    </tr>\n",
       "    <tr>\n",
       "      <th>4</th>\n",
       "      <td>10208</td>\n",
       "      <td>Karen</td>\n",
       "      <td>Bass</td>\n",
       "      <td>KB4971@gmail.com</td>\n",
       "      <td>02-Feb</td>\n",
       "      <td>google</td>\n",
       "    </tr>\n",
       "    <tr>\n",
       "      <th>...</th>\n",
       "      <td>...</td>\n",
       "      <td>...</td>\n",
       "      <td>...</td>\n",
       "      <td>...</td>\n",
       "      <td>...</td>\n",
       "      <td>...</td>\n",
       "    </tr>\n",
       "    <tr>\n",
       "      <th>2995</th>\n",
       "      <td>99850</td>\n",
       "      <td>Gerald</td>\n",
       "      <td>Mccarthy</td>\n",
       "      <td>GM3575@hotmail.com</td>\n",
       "      <td>03-Mar</td>\n",
       "      <td>facebook</td>\n",
       "    </tr>\n",
       "    <tr>\n",
       "      <th>2996</th>\n",
       "      <td>99914</td>\n",
       "      <td>Denise</td>\n",
       "      <td>Frost</td>\n",
       "      <td>DF1650@outlook.com</td>\n",
       "      <td>01-Jan</td>\n",
       "      <td>google</td>\n",
       "    </tr>\n",
       "    <tr>\n",
       "      <th>2997</th>\n",
       "      <td>99929</td>\n",
       "      <td>Noah</td>\n",
       "      <td>Ferguson</td>\n",
       "      <td>NF6909@hotmail.com</td>\n",
       "      <td>02-Feb</td>\n",
       "      <td>facebook</td>\n",
       "    </tr>\n",
       "    <tr>\n",
       "      <th>2998</th>\n",
       "      <td>99968</td>\n",
       "      <td>Grace</td>\n",
       "      <td>Vaughan</td>\n",
       "      <td>GVaughan1973@outlook.com</td>\n",
       "      <td>03-Mar</td>\n",
       "      <td>email</td>\n",
       "    </tr>\n",
       "    <tr>\n",
       "      <th>2999</th>\n",
       "      <td>99995</td>\n",
       "      <td>Charles</td>\n",
       "      <td>Farmer</td>\n",
       "      <td>CharlesFarmer22@outlook.com</td>\n",
       "      <td>01-Jan</td>\n",
       "      <td>google</td>\n",
       "    </tr>\n",
       "  </tbody>\n",
       "</table>\n",
       "<p>3000 rows × 6 columns</p>\n",
       "</div>"
      ],
      "text/plain": [
       "         id first_name last_name                        email   month  \\\n",
       "0     10043      Louis      Koch        LouisKoch43@gmail.com  03-Mar   \n",
       "1     10150      Bruce      Webb      BruceWebb44@outlook.com  03-Mar   \n",
       "2     10155   Nicholas   Hoffman   Nicholas.Hoffman@gmail.com  02-Feb   \n",
       "3     10178    William       Key      William.Key@outlook.com  03-Mar   \n",
       "4     10208      Karen      Bass             KB4971@gmail.com  02-Feb   \n",
       "...     ...        ...       ...                          ...     ...   \n",
       "2995  99850     Gerald  Mccarthy           GM3575@hotmail.com  03-Mar   \n",
       "2996  99914     Denise     Frost           DF1650@outlook.com  01-Jan   \n",
       "2997  99929       Noah  Ferguson           NF6909@hotmail.com  02-Feb   \n",
       "2998  99968      Grace   Vaughan     GVaughan1973@outlook.com  03-Mar   \n",
       "2999  99995    Charles    Farmer  CharlesFarmer22@outlook.com  01-Jan   \n",
       "\n",
       "     utm_source  \n",
       "0         yahoo  \n",
       "1       twitter  \n",
       "2        google  \n",
       "3         yahoo  \n",
       "4        google  \n",
       "...         ...  \n",
       "2995   facebook  \n",
       "2996     google  \n",
       "2997   facebook  \n",
       "2998      email  \n",
       "2999     google  \n",
       "\n",
       "[3000 rows x 6 columns]"
      ]
     },
     "execution_count": 139,
     "metadata": {},
     "output_type": "execute_result"
    }
   ],
   "source": [
    "user_visits_df"
   ]
  },
  {
   "cell_type": "markdown",
   "id": "aab3a50e-f337-472c-bcea-9e6f938517c8",
   "metadata": {},
   "source": [
    "### Task"
   ]
  },
  {
   "cell_type": "code",
   "execution_count": null,
   "id": "d348bfa2-6617-4c58-b6f6-81989429f04a",
   "metadata": {},
   "outputs": [],
   "source": [
    "The column utm_source contains information about how users got to ShoeFly’s homepage. \n",
    "\n",
    "For instance, if utm_source = Facebook, then the user came to ShoeFly by clicking on an ad on Facebook.com.\n",
    "\n",
    "Use a groupby statement to calculate how many visits came from each of the different sources. Save your answer to the variable click_source.\n",
    "\n",
    "Remember to use reset_index()!"
   ]
  },
  {
   "cell_type": "code",
   "execution_count": 140,
   "id": "7341e144-5386-46c4-b2e4-a7e259566458",
   "metadata": {},
   "outputs": [
    {
     "data": {
      "text/html": [
       "<div>\n",
       "<style scoped>\n",
       "    .dataframe tbody tr th:only-of-type {\n",
       "        vertical-align: middle;\n",
       "    }\n",
       "\n",
       "    .dataframe tbody tr th {\n",
       "        vertical-align: top;\n",
       "    }\n",
       "\n",
       "    .dataframe thead th {\n",
       "        text-align: right;\n",
       "    }\n",
       "</style>\n",
       "<table border=\"1\" class=\"dataframe\">\n",
       "  <thead>\n",
       "    <tr style=\"text-align: right;\">\n",
       "      <th></th>\n",
       "      <th>id</th>\n",
       "      <th>first_name</th>\n",
       "      <th>last_name</th>\n",
       "      <th>email</th>\n",
       "      <th>month</th>\n",
       "      <th>utm_source</th>\n",
       "    </tr>\n",
       "  </thead>\n",
       "  <tbody>\n",
       "    <tr>\n",
       "      <th>0</th>\n",
       "      <td>10043</td>\n",
       "      <td>Louis</td>\n",
       "      <td>Koch</td>\n",
       "      <td>LouisKoch43@gmail.com</td>\n",
       "      <td>03-Mar</td>\n",
       "      <td>yahoo</td>\n",
       "    </tr>\n",
       "    <tr>\n",
       "      <th>1</th>\n",
       "      <td>10150</td>\n",
       "      <td>Bruce</td>\n",
       "      <td>Webb</td>\n",
       "      <td>BruceWebb44@outlook.com</td>\n",
       "      <td>03-Mar</td>\n",
       "      <td>twitter</td>\n",
       "    </tr>\n",
       "    <tr>\n",
       "      <th>2</th>\n",
       "      <td>10155</td>\n",
       "      <td>Nicholas</td>\n",
       "      <td>Hoffman</td>\n",
       "      <td>Nicholas.Hoffman@gmail.com</td>\n",
       "      <td>02-Feb</td>\n",
       "      <td>google</td>\n",
       "    </tr>\n",
       "    <tr>\n",
       "      <th>3</th>\n",
       "      <td>10178</td>\n",
       "      <td>William</td>\n",
       "      <td>Key</td>\n",
       "      <td>William.Key@outlook.com</td>\n",
       "      <td>03-Mar</td>\n",
       "      <td>yahoo</td>\n",
       "    </tr>\n",
       "    <tr>\n",
       "      <th>4</th>\n",
       "      <td>10208</td>\n",
       "      <td>Karen</td>\n",
       "      <td>Bass</td>\n",
       "      <td>KB4971@gmail.com</td>\n",
       "      <td>02-Feb</td>\n",
       "      <td>google</td>\n",
       "    </tr>\n",
       "  </tbody>\n",
       "</table>\n",
       "</div>"
      ],
      "text/plain": [
       "      id first_name last_name                       email   month utm_source\n",
       "0  10043      Louis      Koch       LouisKoch43@gmail.com  03-Mar      yahoo\n",
       "1  10150      Bruce      Webb     BruceWebb44@outlook.com  03-Mar    twitter\n",
       "2  10155   Nicholas   Hoffman  Nicholas.Hoffman@gmail.com  02-Feb     google\n",
       "3  10178    William       Key     William.Key@outlook.com  03-Mar      yahoo\n",
       "4  10208      Karen      Bass            KB4971@gmail.com  02-Feb     google"
      ]
     },
     "execution_count": 140,
     "metadata": {},
     "output_type": "execute_result"
    }
   ],
   "source": [
    "user_visits_df.head()"
   ]
  },
  {
   "cell_type": "code",
   "execution_count": 142,
   "id": "673324c6-7133-4b78-9293-84d8d395f44f",
   "metadata": {},
   "outputs": [
    {
     "data": {
      "text/html": [
       "<div>\n",
       "<style scoped>\n",
       "    .dataframe tbody tr th:only-of-type {\n",
       "        vertical-align: middle;\n",
       "    }\n",
       "\n",
       "    .dataframe tbody tr th {\n",
       "        vertical-align: top;\n",
       "    }\n",
       "\n",
       "    .dataframe thead th {\n",
       "        text-align: right;\n",
       "    }\n",
       "</style>\n",
       "<table border=\"1\" class=\"dataframe\">\n",
       "  <thead>\n",
       "    <tr style=\"text-align: right;\">\n",
       "      <th></th>\n",
       "      <th>utm_source</th>\n",
       "      <th>id</th>\n",
       "    </tr>\n",
       "  </thead>\n",
       "  <tbody>\n",
       "    <tr>\n",
       "      <th>0</th>\n",
       "      <td>email</td>\n",
       "      <td>462</td>\n",
       "    </tr>\n",
       "    <tr>\n",
       "      <th>1</th>\n",
       "      <td>facebook</td>\n",
       "      <td>823</td>\n",
       "    </tr>\n",
       "    <tr>\n",
       "      <th>2</th>\n",
       "      <td>google</td>\n",
       "      <td>543</td>\n",
       "    </tr>\n",
       "    <tr>\n",
       "      <th>3</th>\n",
       "      <td>twitter</td>\n",
       "      <td>415</td>\n",
       "    </tr>\n",
       "    <tr>\n",
       "      <th>4</th>\n",
       "      <td>yahoo</td>\n",
       "      <td>757</td>\n",
       "    </tr>\n",
       "  </tbody>\n",
       "</table>\n",
       "</div>"
      ],
      "text/plain": [
       "  utm_source   id\n",
       "0      email  462\n",
       "1   facebook  823\n",
       "2     google  543\n",
       "3    twitter  415\n",
       "4      yahoo  757"
      ]
     },
     "execution_count": 142,
     "metadata": {},
     "output_type": "execute_result"
    }
   ],
   "source": [
    "user_visits_df.groupby('utm_source').id.count().reset_index()"
   ]
  },
  {
   "cell_type": "markdown",
   "id": "de64fb86-08b9-4205-955b-eea4c1523aff",
   "metadata": {},
   "source": [
    "## Task 2"
   ]
  },
  {
   "cell_type": "code",
   "execution_count": null,
   "id": "71f7b19e-fc2b-4fd7-91bc-f33d411c4371",
   "metadata": {},
   "outputs": [],
   "source": [
    "Our Marketing department thinks that the traffic to our site has been changing over the past few months. \n",
    "\n",
    "Use groupby to calculate the number of visits to our site from each utm_source for each month. \n",
    "\n",
    "Save your answer to the variable click_source_by_month."
   ]
  },
  {
   "cell_type": "code",
   "execution_count": 143,
   "id": "1e5ab029-18aa-4080-9bf1-6776b6913944",
   "metadata": {},
   "outputs": [],
   "source": [
    "click_source_by_month = user_visits_df.groupby(['utm_source', 'month']).id.count().reset_index()"
   ]
  },
  {
   "cell_type": "code",
   "execution_count": 144,
   "id": "8edd8743-dd8c-4546-89fd-0ed0f1e54597",
   "metadata": {},
   "outputs": [
    {
     "data": {
      "text/html": [
       "<div>\n",
       "<style scoped>\n",
       "    .dataframe tbody tr th:only-of-type {\n",
       "        vertical-align: middle;\n",
       "    }\n",
       "\n",
       "    .dataframe tbody tr th {\n",
       "        vertical-align: top;\n",
       "    }\n",
       "\n",
       "    .dataframe thead th {\n",
       "        text-align: right;\n",
       "    }\n",
       "</style>\n",
       "<table border=\"1\" class=\"dataframe\">\n",
       "  <thead>\n",
       "    <tr style=\"text-align: right;\">\n",
       "      <th></th>\n",
       "      <th>utm_source</th>\n",
       "      <th>month</th>\n",
       "      <th>id</th>\n",
       "    </tr>\n",
       "  </thead>\n",
       "  <tbody>\n",
       "    <tr>\n",
       "      <th>0</th>\n",
       "      <td>email</td>\n",
       "      <td>01-Jan</td>\n",
       "      <td>43</td>\n",
       "    </tr>\n",
       "    <tr>\n",
       "      <th>1</th>\n",
       "      <td>email</td>\n",
       "      <td>02-Feb</td>\n",
       "      <td>147</td>\n",
       "    </tr>\n",
       "    <tr>\n",
       "      <th>2</th>\n",
       "      <td>email</td>\n",
       "      <td>03-Mar</td>\n",
       "      <td>272</td>\n",
       "    </tr>\n",
       "    <tr>\n",
       "      <th>3</th>\n",
       "      <td>facebook</td>\n",
       "      <td>01-Jan</td>\n",
       "      <td>404</td>\n",
       "    </tr>\n",
       "    <tr>\n",
       "      <th>4</th>\n",
       "      <td>facebook</td>\n",
       "      <td>02-Feb</td>\n",
       "      <td>263</td>\n",
       "    </tr>\n",
       "    <tr>\n",
       "      <th>5</th>\n",
       "      <td>facebook</td>\n",
       "      <td>03-Mar</td>\n",
       "      <td>156</td>\n",
       "    </tr>\n",
       "    <tr>\n",
       "      <th>6</th>\n",
       "      <td>google</td>\n",
       "      <td>01-Jan</td>\n",
       "      <td>127</td>\n",
       "    </tr>\n",
       "    <tr>\n",
       "      <th>7</th>\n",
       "      <td>google</td>\n",
       "      <td>02-Feb</td>\n",
       "      <td>196</td>\n",
       "    </tr>\n",
       "    <tr>\n",
       "      <th>8</th>\n",
       "      <td>google</td>\n",
       "      <td>03-Mar</td>\n",
       "      <td>220</td>\n",
       "    </tr>\n",
       "    <tr>\n",
       "      <th>9</th>\n",
       "      <td>twitter</td>\n",
       "      <td>01-Jan</td>\n",
       "      <td>164</td>\n",
       "    </tr>\n",
       "    <tr>\n",
       "      <th>10</th>\n",
       "      <td>twitter</td>\n",
       "      <td>02-Feb</td>\n",
       "      <td>154</td>\n",
       "    </tr>\n",
       "    <tr>\n",
       "      <th>11</th>\n",
       "      <td>twitter</td>\n",
       "      <td>03-Mar</td>\n",
       "      <td>97</td>\n",
       "    </tr>\n",
       "    <tr>\n",
       "      <th>12</th>\n",
       "      <td>yahoo</td>\n",
       "      <td>01-Jan</td>\n",
       "      <td>262</td>\n",
       "    </tr>\n",
       "    <tr>\n",
       "      <th>13</th>\n",
       "      <td>yahoo</td>\n",
       "      <td>02-Feb</td>\n",
       "      <td>240</td>\n",
       "    </tr>\n",
       "    <tr>\n",
       "      <th>14</th>\n",
       "      <td>yahoo</td>\n",
       "      <td>03-Mar</td>\n",
       "      <td>255</td>\n",
       "    </tr>\n",
       "  </tbody>\n",
       "</table>\n",
       "</div>"
      ],
      "text/plain": [
       "   utm_source   month   id\n",
       "0       email  01-Jan   43\n",
       "1       email  02-Feb  147\n",
       "2       email  03-Mar  272\n",
       "3    facebook  01-Jan  404\n",
       "4    facebook  02-Feb  263\n",
       "5    facebook  03-Mar  156\n",
       "6      google  01-Jan  127\n",
       "7      google  02-Feb  196\n",
       "8      google  03-Mar  220\n",
       "9     twitter  01-Jan  164\n",
       "10    twitter  02-Feb  154\n",
       "11    twitter  03-Mar   97\n",
       "12      yahoo  01-Jan  262\n",
       "13      yahoo  02-Feb  240\n",
       "14      yahoo  03-Mar  255"
      ]
     },
     "execution_count": 144,
     "metadata": {},
     "output_type": "execute_result"
    }
   ],
   "source": [
    "click_source_by_month"
   ]
  },
  {
   "cell_type": "markdown",
   "id": "36dfe0b2-888a-4088-bfb5-06693961e365",
   "metadata": {},
   "source": [
    "## Task 3"
   ]
  },
  {
   "cell_type": "code",
   "execution_count": null,
   "id": "ab81c2f3-6bdb-4f12-b9eb-f66beaf01098",
   "metadata": {},
   "outputs": [],
   "source": [
    "The head of Marketing is complaining that this table is hard to read. \n",
    "\n",
    "Use pivot to create a pivot table where the rows are utm_source and the columns are month. \n",
    "\n",
    "Save your results to the variable click_source_by_month_pivot.\n",
    "\n",
    "It should look something like this:\n",
    "\n",
    "utm_source\t1 - January\t2 - February\t3 - March\n",
    "email\t    …\t        …\t            …\n",
    "facebook\t…\t        …\t            …\n",
    "google\t    …\t        …\t            …\n",
    "twitter\t    …\t        …\t            …\n",
    "yahoo\t    …\t        …\t            …"
   ]
  },
  {
   "cell_type": "code",
   "execution_count": 145,
   "id": "8e5527e5-9a91-4a6a-ac86-6b5afb9ebb5a",
   "metadata": {},
   "outputs": [],
   "source": [
    "click_source_by_month_pivot = click_source_by_month.pivot(\n",
    "    columns = ['month'],\n",
    "    index = ['utm_source'],\n",
    "    values = ['id']\n",
    ").reset_index()"
   ]
  },
  {
   "cell_type": "code",
   "execution_count": 146,
   "id": "06b2afd5-a14c-4157-af7d-c65b7dfa7c4b",
   "metadata": {},
   "outputs": [
    {
     "data": {
      "text/html": [
       "<div>\n",
       "<style scoped>\n",
       "    .dataframe tbody tr th:only-of-type {\n",
       "        vertical-align: middle;\n",
       "    }\n",
       "\n",
       "    .dataframe tbody tr th {\n",
       "        vertical-align: top;\n",
       "    }\n",
       "\n",
       "    .dataframe thead tr th {\n",
       "        text-align: left;\n",
       "    }\n",
       "</style>\n",
       "<table border=\"1\" class=\"dataframe\">\n",
       "  <thead>\n",
       "    <tr>\n",
       "      <th></th>\n",
       "      <th>utm_source</th>\n",
       "      <th colspan=\"3\" halign=\"left\">id</th>\n",
       "    </tr>\n",
       "    <tr>\n",
       "      <th>month</th>\n",
       "      <th></th>\n",
       "      <th>01-Jan</th>\n",
       "      <th>02-Feb</th>\n",
       "      <th>03-Mar</th>\n",
       "    </tr>\n",
       "  </thead>\n",
       "  <tbody>\n",
       "    <tr>\n",
       "      <th>0</th>\n",
       "      <td>email</td>\n",
       "      <td>43</td>\n",
       "      <td>147</td>\n",
       "      <td>272</td>\n",
       "    </tr>\n",
       "    <tr>\n",
       "      <th>1</th>\n",
       "      <td>facebook</td>\n",
       "      <td>404</td>\n",
       "      <td>263</td>\n",
       "      <td>156</td>\n",
       "    </tr>\n",
       "    <tr>\n",
       "      <th>2</th>\n",
       "      <td>google</td>\n",
       "      <td>127</td>\n",
       "      <td>196</td>\n",
       "      <td>220</td>\n",
       "    </tr>\n",
       "    <tr>\n",
       "      <th>3</th>\n",
       "      <td>twitter</td>\n",
       "      <td>164</td>\n",
       "      <td>154</td>\n",
       "      <td>97</td>\n",
       "    </tr>\n",
       "    <tr>\n",
       "      <th>4</th>\n",
       "      <td>yahoo</td>\n",
       "      <td>262</td>\n",
       "      <td>240</td>\n",
       "      <td>255</td>\n",
       "    </tr>\n",
       "  </tbody>\n",
       "</table>\n",
       "</div>"
      ],
      "text/plain": [
       "      utm_source     id              \n",
       "month            01-Jan 02-Feb 03-Mar\n",
       "0          email     43    147    272\n",
       "1       facebook    404    263    156\n",
       "2         google    127    196    220\n",
       "3        twitter    164    154     97\n",
       "4          yahoo    262    240    255"
      ]
     },
     "execution_count": 146,
     "metadata": {},
     "output_type": "execute_result"
    }
   ],
   "source": [
    "click_source_by_month_pivot"
   ]
  },
  {
   "cell_type": "code",
   "execution_count": null,
   "id": "2af111db-2295-4e74-afd2-30690c0563e9",
   "metadata": {},
   "outputs": [],
   "source": []
  }
 ],
 "metadata": {
  "kernelspec": {
   "display_name": "Python 3 (ipykernel)",
   "language": "python",
   "name": "python3"
  },
  "language_info": {
   "codemirror_mode": {
    "name": "ipython",
    "version": 3
   },
   "file_extension": ".py",
   "mimetype": "text/x-python",
   "name": "python",
   "nbconvert_exporter": "python",
   "pygments_lexer": "ipython3",
   "version": "3.12.3"
  }
 },
 "nbformat": 4,
 "nbformat_minor": 5
}
