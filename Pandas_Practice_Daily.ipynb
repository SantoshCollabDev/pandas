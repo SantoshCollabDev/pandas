{
 "cells": [
  {
   "cell_type": "markdown",
   "id": "524748fe-340c-474d-b6ea-d85a75851b06",
   "metadata": {},
   "source": [
    "### Question 1"
   ]
  },
  {
   "cell_type": "markdown",
   "id": "e904f1e5-44d1-4d8a-9c75-9ce9d956faa5",
   "metadata": {},
   "source": [
    "You’re given a dataframe of students named students_df:\n",
    "\n",
    "students_df table\n",
    "\n",
    "name\t        age\tfavorite_color\tgrade\n",
    "Tim Voss\t    19\tred\t            91\n",
    "Nicole Johnson\t20\tyellow\t        95\n",
    "Elsa Williams\t21\tgreen\t        82\n",
    "John James\t    20\tblue\t        75\n",
    "Catherine Jones\t23\tgreen\t        93\n",
    "\n",
    "Write a function named grades_colors to select only the rows where the student’s favorite color is green or red and their grade is above 90.\n",
    "\n",
    "Example:\n",
    "\n",
    "Input:\n",
    "\n",
    "import pandas as pd\n",
    "\n",
    "students = {\"name\" : [\"Tim Voss\", \"Nicole Johnson\", \"Elsa Williams\", \"John James\", \"Catherine Jones\"], \"age\" : [19, 20, 21, 20, 23], \"favorite_color\" : [\"red\", \"yellow\", \"green\", \"blue\", \"green\"], \"grade\" : [91, 95, 82, 75, 93]}\n",
    "\n",
    "students_df = pd.DataFrame(students)\n",
    "\n",
    "Output:\n",
    "\n",
    "def grades_colors(students_df) ->\n",
    "name\t        age\tfavorite_color\tgrade\n",
    "Tim Voss\t    19\tred\t            91\n",
    "Catherine Jones\t23\tgreen\t        93"
   ]
  },
  {
   "cell_type": "code",
   "execution_count": 1,
   "id": "001ac72c-5f5d-471d-8689-ca51a29d257f",
   "metadata": {},
   "outputs": [],
   "source": [
    "import pandas as pd"
   ]
  },
  {
   "cell_type": "code",
   "execution_count": 2,
   "id": "bd0e40a4-f61e-4571-9465-7c7174df7db0",
   "metadata": {},
   "outputs": [],
   "source": [
    "students = {\"name\" : [\"Tim Voss\", \"Nicole Johnson\", \"Elsa Williams\", \"John James\", \"Catherine Jones\"], \n",
    "            \"age\" : [19, 20, 21, 20, 23], \"favorite_color\" : [\"red\", \"yellow\", \"green\", \"blue\", \"green\"], \n",
    "            \"grade\" : [91, 95, 82, 75, 93]\n",
    "}\n",
    "\n",
    "students_df = pd.DataFrame(students)"
   ]
  },
  {
   "cell_type": "code",
   "execution_count": 3,
   "id": "37cc288b-e5f1-4a5c-9bee-2c5c6930a608",
   "metadata": {},
   "outputs": [
    {
     "data": {
      "text/html": [
       "<div>\n",
       "<style scoped>\n",
       "    .dataframe tbody tr th:only-of-type {\n",
       "        vertical-align: middle;\n",
       "    }\n",
       "\n",
       "    .dataframe tbody tr th {\n",
       "        vertical-align: top;\n",
       "    }\n",
       "\n",
       "    .dataframe thead th {\n",
       "        text-align: right;\n",
       "    }\n",
       "</style>\n",
       "<table border=\"1\" class=\"dataframe\">\n",
       "  <thead>\n",
       "    <tr style=\"text-align: right;\">\n",
       "      <th></th>\n",
       "      <th>name</th>\n",
       "      <th>age</th>\n",
       "      <th>favorite_color</th>\n",
       "      <th>grade</th>\n",
       "    </tr>\n",
       "  </thead>\n",
       "  <tbody>\n",
       "    <tr>\n",
       "      <th>0</th>\n",
       "      <td>Tim Voss</td>\n",
       "      <td>19</td>\n",
       "      <td>red</td>\n",
       "      <td>91</td>\n",
       "    </tr>\n",
       "    <tr>\n",
       "      <th>1</th>\n",
       "      <td>Nicole Johnson</td>\n",
       "      <td>20</td>\n",
       "      <td>yellow</td>\n",
       "      <td>95</td>\n",
       "    </tr>\n",
       "    <tr>\n",
       "      <th>2</th>\n",
       "      <td>Elsa Williams</td>\n",
       "      <td>21</td>\n",
       "      <td>green</td>\n",
       "      <td>82</td>\n",
       "    </tr>\n",
       "    <tr>\n",
       "      <th>3</th>\n",
       "      <td>John James</td>\n",
       "      <td>20</td>\n",
       "      <td>blue</td>\n",
       "      <td>75</td>\n",
       "    </tr>\n",
       "    <tr>\n",
       "      <th>4</th>\n",
       "      <td>Catherine Jones</td>\n",
       "      <td>23</td>\n",
       "      <td>green</td>\n",
       "      <td>93</td>\n",
       "    </tr>\n",
       "  </tbody>\n",
       "</table>\n",
       "</div>"
      ],
      "text/plain": [
       "              name  age favorite_color  grade\n",
       "0         Tim Voss   19            red     91\n",
       "1   Nicole Johnson   20         yellow     95\n",
       "2    Elsa Williams   21          green     82\n",
       "3       John James   20           blue     75\n",
       "4  Catherine Jones   23          green     93"
      ]
     },
     "execution_count": 3,
     "metadata": {},
     "output_type": "execute_result"
    }
   ],
   "source": [
    "students_df.head()"
   ]
  },
  {
   "cell_type": "code",
   "execution_count": 6,
   "id": "c22167cc-f4ba-4c34-b5ef-368e19414459",
   "metadata": {},
   "outputs": [
    {
     "name": "stdout",
     "output_type": "stream",
     "text": [
      "<class 'pandas.core.frame.DataFrame'>\n",
      "RangeIndex: 5 entries, 0 to 4\n",
      "Data columns (total 4 columns):\n",
      " #   Column          Non-Null Count  Dtype \n",
      "---  ------          --------------  ----- \n",
      " 0   name            5 non-null      object\n",
      " 1   age             5 non-null      int64 \n",
      " 2   favorite_color  5 non-null      object\n",
      " 3   grade           5 non-null      int64 \n",
      "dtypes: int64(2), object(2)\n",
      "memory usage: 292.0+ bytes\n"
     ]
    }
   ],
   "source": [
    "students_df.info()"
   ]
  },
  {
   "cell_type": "code",
   "execution_count": null,
   "id": "a9492fc3-9d52-426e-857c-bb3c30bf9b88",
   "metadata": {},
   "outputs": [],
   "source": [
    "Write a function named grades_colors to select only the rows where the student’s favorite color is green or red and their grade is above 90."
   ]
  },
  {
   "cell_type": "code",
   "execution_count": 19,
   "id": "ea2d154a-23a5-43a9-ac4b-15e8c65be2b2",
   "metadata": {},
   "outputs": [
    {
     "data": {
      "text/html": [
       "<div>\n",
       "<style scoped>\n",
       "    .dataframe tbody tr th:only-of-type {\n",
       "        vertical-align: middle;\n",
       "    }\n",
       "\n",
       "    .dataframe tbody tr th {\n",
       "        vertical-align: top;\n",
       "    }\n",
       "\n",
       "    .dataframe thead th {\n",
       "        text-align: right;\n",
       "    }\n",
       "</style>\n",
       "<table border=\"1\" class=\"dataframe\">\n",
       "  <thead>\n",
       "    <tr style=\"text-align: right;\">\n",
       "      <th></th>\n",
       "      <th>name</th>\n",
       "      <th>age</th>\n",
       "      <th>favorite_color</th>\n",
       "      <th>grade</th>\n",
       "    </tr>\n",
       "  </thead>\n",
       "  <tbody>\n",
       "    <tr>\n",
       "      <th>4</th>\n",
       "      <td>Catherine Jones</td>\n",
       "      <td>23</td>\n",
       "      <td>green</td>\n",
       "      <td>93</td>\n",
       "    </tr>\n",
       "  </tbody>\n",
       "</table>\n",
       "</div>"
      ],
      "text/plain": [
       "              name  age favorite_color  grade\n",
       "4  Catherine Jones   23          green     93"
      ]
     },
     "execution_count": 19,
     "metadata": {},
     "output_type": "execute_result"
    }
   ],
   "source": [
    "grades_colors = students_df[ ( students_df['favorite_color'] == 'green' ) & ( students_df['grade'] > 90 ) ]\n",
    "grades_colors"
   ]
  },
  {
   "cell_type": "code",
   "execution_count": null,
   "id": "440f0221-3c0b-4a11-b4b1-1578c05e8390",
   "metadata": {},
   "outputs": [],
   "source": []
  }
 ],
 "metadata": {
  "kernelspec": {
   "display_name": "Python 3 (ipykernel)",
   "language": "python",
   "name": "python3"
  },
  "language_info": {
   "codemirror_mode": {
    "name": "ipython",
    "version": 3
   },
   "file_extension": ".py",
   "mimetype": "text/x-python",
   "name": "python",
   "nbconvert_exporter": "python",
   "pygments_lexer": "ipython3",
   "version": "3.12.3"
  }
 },
 "nbformat": 4,
 "nbformat_minor": 5
}
