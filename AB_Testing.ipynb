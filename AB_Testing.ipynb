{
 "cells": [
  {
   "cell_type": "markdown",
   "id": "7c542883-08d3-43c6-8a28-970e51090464",
   "metadata": {},
   "source": [
    "# A/B Testing"
   ]
  },
  {
   "cell_type": "markdown",
   "id": "113cf327-f4cd-4aec-ae5b-ef797a1783bb",
   "metadata": {},
   "source": [
    "A/B testing, also known as split testing, is a quantitative research method that compares two or more versions of a product, design, or \n",
    "message to see which one performs best. \n",
    "\n",
    "The goal is to learn how people behave on a page and make decisions based on that data. \n"
   ]
  },
  {
   "cell_type": "markdown",
   "id": "866984f0-949f-4860-ac8d-c91a9b6b5196",
   "metadata": {},
   "source": [
    "### Requirement"
   ]
  },
  {
   "cell_type": "markdown",
   "id": "84689001-1693-4064-8536-9be623141259",
   "metadata": {},
   "source": [
    "Our favorite online shoe store, ShoeFly.com is performing an A/B Test. They have two different versions of an ad, which they have placed \n",
    "in emails, as well as in banner ads on Facebook, Twitter, and Google. \n",
    "\n",
    "They want to know how the two ads are performing on each of the different platforms on each day of the week. \n",
    "\n",
    "Help them analyze the data using aggregate measures."
   ]
  },
  {
   "cell_type": "code",
   "execution_count": 3,
   "id": "8f35d246-9440-4e66-b800-75b1a9a42e85",
   "metadata": {},
   "outputs": [],
   "source": [
    "import pandas as pd"
   ]
  },
  {
   "cell_type": "code",
   "execution_count": 4,
   "id": "b56dd04a-850c-45cf-bc3b-b66c4536e9e0",
   "metadata": {},
   "outputs": [],
   "source": [
    "ad_clicks_df = pd.read_csv(r'D:\\GIT_Repositories\\pandas\\ad_clicks.csv')"
   ]
  },
  {
   "cell_type": "markdown",
   "id": "fdf3b681-9da2-4092-8ac0-31fff08a7927",
   "metadata": {},
   "source": [
    "### Task 1\n",
    "\n",
    "Examine the first few rows of ad_clicks."
   ]
  },
  {
   "cell_type": "code",
   "execution_count": 6,
   "id": "a3217374-70d6-4f6e-b536-f65d72cc9e08",
   "metadata": {},
   "outputs": [
    {
     "data": {
      "text/html": [
       "<div>\n",
       "<style scoped>\n",
       "    .dataframe tbody tr th:only-of-type {\n",
       "        vertical-align: middle;\n",
       "    }\n",
       "\n",
       "    .dataframe tbody tr th {\n",
       "        vertical-align: top;\n",
       "    }\n",
       "\n",
       "    .dataframe thead th {\n",
       "        text-align: right;\n",
       "    }\n",
       "</style>\n",
       "<table border=\"1\" class=\"dataframe\">\n",
       "  <thead>\n",
       "    <tr style=\"text-align: right;\">\n",
       "      <th></th>\n",
       "      <th>user_id</th>\n",
       "      <th>utm_source</th>\n",
       "      <th>day</th>\n",
       "      <th>ad_click_timestamp</th>\n",
       "      <th>experimental_group</th>\n",
       "    </tr>\n",
       "  </thead>\n",
       "  <tbody>\n",
       "    <tr>\n",
       "      <th>0</th>\n",
       "      <td>008b7c6c-7272-471e-b90e-930d548bd8d7</td>\n",
       "      <td>google</td>\n",
       "      <td>6 - Saturday</td>\n",
       "      <td>07:18</td>\n",
       "      <td>A</td>\n",
       "    </tr>\n",
       "    <tr>\n",
       "      <th>1</th>\n",
       "      <td>009abb94-5e14-4b6c-bb1c-4f4df7aa7557</td>\n",
       "      <td>facebook</td>\n",
       "      <td>7 - Sunday</td>\n",
       "      <td>NaN</td>\n",
       "      <td>B</td>\n",
       "    </tr>\n",
       "    <tr>\n",
       "      <th>2</th>\n",
       "      <td>00f5d532-ed58-4570-b6d2-768df5f41aed</td>\n",
       "      <td>twitter</td>\n",
       "      <td>2 - Tuesday</td>\n",
       "      <td>NaN</td>\n",
       "      <td>A</td>\n",
       "    </tr>\n",
       "    <tr>\n",
       "      <th>3</th>\n",
       "      <td>011adc64-0f44-4fd9-a0bb-f1506d2ad439</td>\n",
       "      <td>google</td>\n",
       "      <td>2 - Tuesday</td>\n",
       "      <td>NaN</td>\n",
       "      <td>B</td>\n",
       "    </tr>\n",
       "    <tr>\n",
       "      <th>4</th>\n",
       "      <td>012137e6-7ae7-4649-af68-205b4702169c</td>\n",
       "      <td>facebook</td>\n",
       "      <td>7 - Sunday</td>\n",
       "      <td>NaN</td>\n",
       "      <td>B</td>\n",
       "    </tr>\n",
       "    <tr>\n",
       "      <th>5</th>\n",
       "      <td>013b0072-7b72-40e7-b698-98b4d0c9967f</td>\n",
       "      <td>facebook</td>\n",
       "      <td>1 - Monday</td>\n",
       "      <td>NaN</td>\n",
       "      <td>A</td>\n",
       "    </tr>\n",
       "    <tr>\n",
       "      <th>6</th>\n",
       "      <td>0153d85b-7660-4c39-92eb-1e1acd023280</td>\n",
       "      <td>google</td>\n",
       "      <td>4 - Thursday</td>\n",
       "      <td>NaN</td>\n",
       "      <td>A</td>\n",
       "    </tr>\n",
       "    <tr>\n",
       "      <th>7</th>\n",
       "      <td>01555297-d6e6-49ae-aeba-1b196fdbb09f</td>\n",
       "      <td>google</td>\n",
       "      <td>3 - Wednesday</td>\n",
       "      <td>NaN</td>\n",
       "      <td>A</td>\n",
       "    </tr>\n",
       "    <tr>\n",
       "      <th>8</th>\n",
       "      <td>018cea61-19ea-4119-895b-1a4309ccb148</td>\n",
       "      <td>email</td>\n",
       "      <td>1 - Monday</td>\n",
       "      <td>18:33</td>\n",
       "      <td>A</td>\n",
       "    </tr>\n",
       "    <tr>\n",
       "      <th>9</th>\n",
       "      <td>01a210c3-fde0-4e6f-8efd-4f0e38730ae6</td>\n",
       "      <td>email</td>\n",
       "      <td>2 - Tuesday</td>\n",
       "      <td>15:21</td>\n",
       "      <td>B</td>\n",
       "    </tr>\n",
       "  </tbody>\n",
       "</table>\n",
       "</div>"
      ],
      "text/plain": [
       "                                user_id utm_source            day  \\\n",
       "0  008b7c6c-7272-471e-b90e-930d548bd8d7     google   6 - Saturday   \n",
       "1  009abb94-5e14-4b6c-bb1c-4f4df7aa7557   facebook     7 - Sunday   \n",
       "2  00f5d532-ed58-4570-b6d2-768df5f41aed    twitter    2 - Tuesday   \n",
       "3  011adc64-0f44-4fd9-a0bb-f1506d2ad439     google    2 - Tuesday   \n",
       "4  012137e6-7ae7-4649-af68-205b4702169c   facebook     7 - Sunday   \n",
       "5  013b0072-7b72-40e7-b698-98b4d0c9967f   facebook     1 - Monday   \n",
       "6  0153d85b-7660-4c39-92eb-1e1acd023280     google   4 - Thursday   \n",
       "7  01555297-d6e6-49ae-aeba-1b196fdbb09f     google  3 - Wednesday   \n",
       "8  018cea61-19ea-4119-895b-1a4309ccb148      email     1 - Monday   \n",
       "9  01a210c3-fde0-4e6f-8efd-4f0e38730ae6      email    2 - Tuesday   \n",
       "\n",
       "  ad_click_timestamp experimental_group  \n",
       "0              07:18                  A  \n",
       "1                NaN                  B  \n",
       "2                NaN                  A  \n",
       "3                NaN                  B  \n",
       "4                NaN                  B  \n",
       "5                NaN                  A  \n",
       "6                NaN                  A  \n",
       "7                NaN                  A  \n",
       "8              18:33                  A  \n",
       "9              15:21                  B  "
      ]
     },
     "execution_count": 6,
     "metadata": {},
     "output_type": "execute_result"
    }
   ],
   "source": [
    "ad_clicks_df.head(10)"
   ]
  },
  {
   "cell_type": "markdown",
   "id": "b57ab3f9-a842-468c-8fbe-e70d031db78c",
   "metadata": {},
   "source": [
    "## Task 2"
   ]
  },
  {
   "cell_type": "markdown",
   "id": "9662cfed-8a2f-4ec2-8a42-7f5cfd2b08c6",
   "metadata": {},
   "source": [
    "Your manager wants to know which ad platform is getting you the most views.\n",
    "\n",
    "How many views (i.e., rows of the table) came from each utm_source?"
   ]
  },
  {
   "cell_type": "code",
   "execution_count": 7,
   "id": "7f46c88f-cfcc-4726-85b4-27ba362afa2e",
   "metadata": {},
   "outputs": [
    {
     "data": {
      "text/html": [
       "<div>\n",
       "<style scoped>\n",
       "    .dataframe tbody tr th:only-of-type {\n",
       "        vertical-align: middle;\n",
       "    }\n",
       "\n",
       "    .dataframe tbody tr th {\n",
       "        vertical-align: top;\n",
       "    }\n",
       "\n",
       "    .dataframe thead th {\n",
       "        text-align: right;\n",
       "    }\n",
       "</style>\n",
       "<table border=\"1\" class=\"dataframe\">\n",
       "  <thead>\n",
       "    <tr style=\"text-align: right;\">\n",
       "      <th></th>\n",
       "      <th>utm_source</th>\n",
       "      <th>user_id</th>\n",
       "    </tr>\n",
       "  </thead>\n",
       "  <tbody>\n",
       "    <tr>\n",
       "      <th>0</th>\n",
       "      <td>email</td>\n",
       "      <td>255</td>\n",
       "    </tr>\n",
       "    <tr>\n",
       "      <th>1</th>\n",
       "      <td>facebook</td>\n",
       "      <td>504</td>\n",
       "    </tr>\n",
       "    <tr>\n",
       "      <th>2</th>\n",
       "      <td>google</td>\n",
       "      <td>680</td>\n",
       "    </tr>\n",
       "    <tr>\n",
       "      <th>3</th>\n",
       "      <td>twitter</td>\n",
       "      <td>215</td>\n",
       "    </tr>\n",
       "  </tbody>\n",
       "</table>\n",
       "</div>"
      ],
      "text/plain": [
       "  utm_source  user_id\n",
       "0      email      255\n",
       "1   facebook      504\n",
       "2     google      680\n",
       "3    twitter      215"
      ]
     },
     "execution_count": 7,
     "metadata": {},
     "output_type": "execute_result"
    }
   ],
   "source": [
    "ad_clicks_df.groupby('utm_source').user_id.count().reset_index()"
   ]
  },
  {
   "cell_type": "markdown",
   "id": "e46f4b96-2b0c-40e1-a0d9-bcf6a62c05eb",
   "metadata": {},
   "source": [
    "From above: Google followed by face book are getting us more views. both brough > 500 views"
   ]
  },
  {
   "cell_type": "markdown",
   "id": "22ed8834-fa7b-45b3-963b-81851dbacac8",
   "metadata": {},
   "source": [
    "## Task 3\n",
    "\n",
    "tricky: .isnull()"
   ]
  },
  {
   "cell_type": "code",
   "execution_count": null,
   "id": "17391e9b-cd4d-482f-86d6-b79d65b2737f",
   "metadata": {},
   "outputs": [],
   "source": [
    "If the column ad_click_timestamp is not null, then someone actually clicked on the ad that was displayed.\n",
    "\n",
    "Create a new column called is_click, which is True if ad_click_timestamp is not null and False otherwise."
   ]
  },
  {
   "cell_type": "code",
   "execution_count": 39,
   "id": "69158558-c304-45cb-8b98-5a8369b62dfa",
   "metadata": {},
   "outputs": [],
   "source": [
    "ad_clicks_df['is_click'] = ~(ad_clicks_df.ad_click_timestamp.isnull())"
   ]
  },
  {
   "cell_type": "code",
   "execution_count": 40,
   "id": "b7baf86c-93be-4355-a678-1f92f83824d5",
   "metadata": {},
   "outputs": [
    {
     "data": {
      "text/html": [
       "<div>\n",
       "<style scoped>\n",
       "    .dataframe tbody tr th:only-of-type {\n",
       "        vertical-align: middle;\n",
       "    }\n",
       "\n",
       "    .dataframe tbody tr th {\n",
       "        vertical-align: top;\n",
       "    }\n",
       "\n",
       "    .dataframe thead th {\n",
       "        text-align: right;\n",
       "    }\n",
       "</style>\n",
       "<table border=\"1\" class=\"dataframe\">\n",
       "  <thead>\n",
       "    <tr style=\"text-align: right;\">\n",
       "      <th></th>\n",
       "      <th>user_id</th>\n",
       "      <th>utm_source</th>\n",
       "      <th>day</th>\n",
       "      <th>ad_click_timestamp</th>\n",
       "      <th>experimental_group</th>\n",
       "      <th>is_click</th>\n",
       "    </tr>\n",
       "  </thead>\n",
       "  <tbody>\n",
       "    <tr>\n",
       "      <th>0</th>\n",
       "      <td>008b7c6c-7272-471e-b90e-930d548bd8d7</td>\n",
       "      <td>google</td>\n",
       "      <td>6 - Saturday</td>\n",
       "      <td>07:18</td>\n",
       "      <td>A</td>\n",
       "      <td>True</td>\n",
       "    </tr>\n",
       "    <tr>\n",
       "      <th>1</th>\n",
       "      <td>009abb94-5e14-4b6c-bb1c-4f4df7aa7557</td>\n",
       "      <td>facebook</td>\n",
       "      <td>7 - Sunday</td>\n",
       "      <td>NaN</td>\n",
       "      <td>B</td>\n",
       "      <td>False</td>\n",
       "    </tr>\n",
       "    <tr>\n",
       "      <th>2</th>\n",
       "      <td>00f5d532-ed58-4570-b6d2-768df5f41aed</td>\n",
       "      <td>twitter</td>\n",
       "      <td>2 - Tuesday</td>\n",
       "      <td>NaN</td>\n",
       "      <td>A</td>\n",
       "      <td>False</td>\n",
       "    </tr>\n",
       "    <tr>\n",
       "      <th>3</th>\n",
       "      <td>011adc64-0f44-4fd9-a0bb-f1506d2ad439</td>\n",
       "      <td>google</td>\n",
       "      <td>2 - Tuesday</td>\n",
       "      <td>NaN</td>\n",
       "      <td>B</td>\n",
       "      <td>False</td>\n",
       "    </tr>\n",
       "    <tr>\n",
       "      <th>4</th>\n",
       "      <td>012137e6-7ae7-4649-af68-205b4702169c</td>\n",
       "      <td>facebook</td>\n",
       "      <td>7 - Sunday</td>\n",
       "      <td>NaN</td>\n",
       "      <td>B</td>\n",
       "      <td>False</td>\n",
       "    </tr>\n",
       "    <tr>\n",
       "      <th>...</th>\n",
       "      <td>...</td>\n",
       "      <td>...</td>\n",
       "      <td>...</td>\n",
       "      <td>...</td>\n",
       "      <td>...</td>\n",
       "      <td>...</td>\n",
       "    </tr>\n",
       "    <tr>\n",
       "      <th>1649</th>\n",
       "      <td>fe8b5236-78f6-4192-9da6-a76bba67cfe6</td>\n",
       "      <td>twitter</td>\n",
       "      <td>7 - Sunday</td>\n",
       "      <td>NaN</td>\n",
       "      <td>A</td>\n",
       "      <td>False</td>\n",
       "    </tr>\n",
       "    <tr>\n",
       "      <th>1650</th>\n",
       "      <td>fed3db6d-8c92-40e3-a4fb-1fb9d7337eb1</td>\n",
       "      <td>facebook</td>\n",
       "      <td>5 - Friday</td>\n",
       "      <td>NaN</td>\n",
       "      <td>B</td>\n",
       "      <td>False</td>\n",
       "    </tr>\n",
       "    <tr>\n",
       "      <th>1651</th>\n",
       "      <td>ff3a22ff-521c-478c-87ca-7dc7b8f34372</td>\n",
       "      <td>twitter</td>\n",
       "      <td>3 - Wednesday</td>\n",
       "      <td>NaN</td>\n",
       "      <td>B</td>\n",
       "      <td>False</td>\n",
       "    </tr>\n",
       "    <tr>\n",
       "      <th>1652</th>\n",
       "      <td>ff3af0d6-b092-4c4d-9f2e-2bdd8f7c0732</td>\n",
       "      <td>google</td>\n",
       "      <td>1 - Monday</td>\n",
       "      <td>22:57</td>\n",
       "      <td>A</td>\n",
       "      <td>True</td>\n",
       "    </tr>\n",
       "    <tr>\n",
       "      <th>1653</th>\n",
       "      <td>ffdfe7ec-0c74-4623-8d90-d95d80f1ba34</td>\n",
       "      <td>facebook</td>\n",
       "      <td>6 - Saturday</td>\n",
       "      <td>NaN</td>\n",
       "      <td>B</td>\n",
       "      <td>False</td>\n",
       "    </tr>\n",
       "  </tbody>\n",
       "</table>\n",
       "<p>1654 rows × 6 columns</p>\n",
       "</div>"
      ],
      "text/plain": [
       "                                   user_id utm_source            day  \\\n",
       "0     008b7c6c-7272-471e-b90e-930d548bd8d7     google   6 - Saturday   \n",
       "1     009abb94-5e14-4b6c-bb1c-4f4df7aa7557   facebook     7 - Sunday   \n",
       "2     00f5d532-ed58-4570-b6d2-768df5f41aed    twitter    2 - Tuesday   \n",
       "3     011adc64-0f44-4fd9-a0bb-f1506d2ad439     google    2 - Tuesday   \n",
       "4     012137e6-7ae7-4649-af68-205b4702169c   facebook     7 - Sunday   \n",
       "...                                    ...        ...            ...   \n",
       "1649  fe8b5236-78f6-4192-9da6-a76bba67cfe6    twitter     7 - Sunday   \n",
       "1650  fed3db6d-8c92-40e3-a4fb-1fb9d7337eb1   facebook     5 - Friday   \n",
       "1651  ff3a22ff-521c-478c-87ca-7dc7b8f34372    twitter  3 - Wednesday   \n",
       "1652  ff3af0d6-b092-4c4d-9f2e-2bdd8f7c0732     google     1 - Monday   \n",
       "1653  ffdfe7ec-0c74-4623-8d90-d95d80f1ba34   facebook   6 - Saturday   \n",
       "\n",
       "     ad_click_timestamp experimental_group  is_click  \n",
       "0                 07:18                  A      True  \n",
       "1                   NaN                  B     False  \n",
       "2                   NaN                  A     False  \n",
       "3                   NaN                  B     False  \n",
       "4                   NaN                  B     False  \n",
       "...                 ...                ...       ...  \n",
       "1649                NaN                  A     False  \n",
       "1650                NaN                  B     False  \n",
       "1651                NaN                  B     False  \n",
       "1652              22:57                  A      True  \n",
       "1653                NaN                  B     False  \n",
       "\n",
       "[1654 rows x 6 columns]"
      ]
     },
     "execution_count": 40,
     "metadata": {},
     "output_type": "execute_result"
    }
   ],
   "source": [
    "ad_clicks_df"
   ]
  },
  {
   "cell_type": "markdown",
   "id": "85d357cf-90ca-467a-9b80-18ec46219ebb",
   "metadata": {},
   "source": [
    "## Task 4"
   ]
  },
  {
   "cell_type": "markdown",
   "id": "c29f1bc6-a49d-4aad-b228-7050b420d00f",
   "metadata": {},
   "source": [
    "We want to know the percent of people who clicked on ads from each utm_source.\n",
    "\n",
    "Start by grouping by utm_source and is_click and counting the number of user_id‘s in each of those groups. \n",
    "\n",
    "Save your answer to the variable clicks_by_source."
   ]
  },
  {
   "cell_type": "code",
   "execution_count": 41,
   "id": "b3a27957-3e22-4043-812f-50e594f7871f",
   "metadata": {},
   "outputs": [
    {
     "data": {
      "text/plain": [
       "Index(['user_id', 'utm_source', 'day', 'ad_click_timestamp',\n",
       "       'experimental_group', 'is_click'],\n",
       "      dtype='object')"
      ]
     },
     "execution_count": 41,
     "metadata": {},
     "output_type": "execute_result"
    }
   ],
   "source": [
    "ad_clicks_df.columns"
   ]
  },
  {
   "cell_type": "code",
   "execution_count": 43,
   "id": "7eae47d3-4a30-4832-9660-520759235195",
   "metadata": {},
   "outputs": [],
   "source": [
    "clicks_by_source = ad_clicks_df.groupby(['utm_source', 'is_click']).user_id.count().reset_index()"
   ]
  },
  {
   "cell_type": "code",
   "execution_count": 44,
   "id": "a6b671dd-6352-4617-90da-f0cef9c21fda",
   "metadata": {},
   "outputs": [
    {
     "data": {
      "text/html": [
       "<div>\n",
       "<style scoped>\n",
       "    .dataframe tbody tr th:only-of-type {\n",
       "        vertical-align: middle;\n",
       "    }\n",
       "\n",
       "    .dataframe tbody tr th {\n",
       "        vertical-align: top;\n",
       "    }\n",
       "\n",
       "    .dataframe thead th {\n",
       "        text-align: right;\n",
       "    }\n",
       "</style>\n",
       "<table border=\"1\" class=\"dataframe\">\n",
       "  <thead>\n",
       "    <tr style=\"text-align: right;\">\n",
       "      <th></th>\n",
       "      <th>utm_source</th>\n",
       "      <th>is_click</th>\n",
       "      <th>user_id</th>\n",
       "    </tr>\n",
       "  </thead>\n",
       "  <tbody>\n",
       "    <tr>\n",
       "      <th>0</th>\n",
       "      <td>email</td>\n",
       "      <td>False</td>\n",
       "      <td>175</td>\n",
       "    </tr>\n",
       "    <tr>\n",
       "      <th>1</th>\n",
       "      <td>email</td>\n",
       "      <td>True</td>\n",
       "      <td>80</td>\n",
       "    </tr>\n",
       "    <tr>\n",
       "      <th>2</th>\n",
       "      <td>facebook</td>\n",
       "      <td>False</td>\n",
       "      <td>324</td>\n",
       "    </tr>\n",
       "    <tr>\n",
       "      <th>3</th>\n",
       "      <td>facebook</td>\n",
       "      <td>True</td>\n",
       "      <td>180</td>\n",
       "    </tr>\n",
       "    <tr>\n",
       "      <th>4</th>\n",
       "      <td>google</td>\n",
       "      <td>False</td>\n",
       "      <td>441</td>\n",
       "    </tr>\n",
       "    <tr>\n",
       "      <th>5</th>\n",
       "      <td>google</td>\n",
       "      <td>True</td>\n",
       "      <td>239</td>\n",
       "    </tr>\n",
       "    <tr>\n",
       "      <th>6</th>\n",
       "      <td>twitter</td>\n",
       "      <td>False</td>\n",
       "      <td>149</td>\n",
       "    </tr>\n",
       "    <tr>\n",
       "      <th>7</th>\n",
       "      <td>twitter</td>\n",
       "      <td>True</td>\n",
       "      <td>66</td>\n",
       "    </tr>\n",
       "  </tbody>\n",
       "</table>\n",
       "</div>"
      ],
      "text/plain": [
       "  utm_source  is_click  user_id\n",
       "0      email     False      175\n",
       "1      email      True       80\n",
       "2   facebook     False      324\n",
       "3   facebook      True      180\n",
       "4     google     False      441\n",
       "5     google      True      239\n",
       "6    twitter     False      149\n",
       "7    twitter      True       66"
      ]
     },
     "execution_count": 44,
     "metadata": {},
     "output_type": "execute_result"
    }
   ],
   "source": [
    "clicks_by_source"
   ]
  },
  {
   "cell_type": "code",
   "execution_count": 53,
   "id": "addd6213-4022-4757-9b48-61cdeaa49d83",
   "metadata": {},
   "outputs": [],
   "source": [
    "clicks_pivot = clicks_by_source.pivot(\n",
    "    columns = ['is_click'],\n",
    "    index = ['utm_source'],\n",
    "    values = ['user_id']\n",
    ").reset_index()"
   ]
  },
  {
   "cell_type": "code",
   "execution_count": 54,
   "id": "ce60943c-81e1-4bbe-b2b2-fa1a337a714c",
   "metadata": {},
   "outputs": [
    {
     "data": {
      "text/html": [
       "<div>\n",
       "<style scoped>\n",
       "    .dataframe tbody tr th:only-of-type {\n",
       "        vertical-align: middle;\n",
       "    }\n",
       "\n",
       "    .dataframe tbody tr th {\n",
       "        vertical-align: top;\n",
       "    }\n",
       "\n",
       "    .dataframe thead tr th {\n",
       "        text-align: left;\n",
       "    }\n",
       "</style>\n",
       "<table border=\"1\" class=\"dataframe\">\n",
       "  <thead>\n",
       "    <tr>\n",
       "      <th></th>\n",
       "      <th>utm_source</th>\n",
       "      <th colspan=\"2\" halign=\"left\">user_id</th>\n",
       "    </tr>\n",
       "    <tr>\n",
       "      <th>is_click</th>\n",
       "      <th></th>\n",
       "      <th>False</th>\n",
       "      <th>True</th>\n",
       "    </tr>\n",
       "  </thead>\n",
       "  <tbody>\n",
       "    <tr>\n",
       "      <th>0</th>\n",
       "      <td>email</td>\n",
       "      <td>175</td>\n",
       "      <td>80</td>\n",
       "    </tr>\n",
       "    <tr>\n",
       "      <th>1</th>\n",
       "      <td>facebook</td>\n",
       "      <td>324</td>\n",
       "      <td>180</td>\n",
       "    </tr>\n",
       "    <tr>\n",
       "      <th>2</th>\n",
       "      <td>google</td>\n",
       "      <td>441</td>\n",
       "      <td>239</td>\n",
       "    </tr>\n",
       "    <tr>\n",
       "      <th>3</th>\n",
       "      <td>twitter</td>\n",
       "      <td>149</td>\n",
       "      <td>66</td>\n",
       "    </tr>\n",
       "  </tbody>\n",
       "</table>\n",
       "</div>"
      ],
      "text/plain": [
       "         utm_source user_id     \n",
       "is_click              False True\n",
       "0             email     175   80\n",
       "1          facebook     324  180\n",
       "2            google     441  239\n",
       "3           twitter     149   66"
      ]
     },
     "execution_count": 54,
     "metadata": {},
     "output_type": "execute_result"
    }
   ],
   "source": [
    "clicks_pivot"
   ]
  },
  {
   "cell_type": "code",
   "execution_count": 58,
   "id": "3c756278-c4e1-4be4-b5e2-586d14dca626",
   "metadata": {},
   "outputs": [
    {
     "ename": "KeyError",
     "evalue": "True",
     "output_type": "error",
     "traceback": [
      "\u001b[1;31m---------------------------------------------------------------------------\u001b[0m",
      "\u001b[1;31mKeyError\u001b[0m                                  Traceback (most recent call last)",
      "File \u001b[1;32m~\\AppData\\Local\\Programs\\Python\\Python312\\Lib\\site-packages\\pandas\\core\\indexes\\base.py:3805\u001b[0m, in \u001b[0;36mIndex.get_loc\u001b[1;34m(self, key)\u001b[0m\n\u001b[0;32m   3804\u001b[0m \u001b[38;5;28;01mtry\u001b[39;00m:\n\u001b[1;32m-> 3805\u001b[0m     \u001b[38;5;28;01mreturn\u001b[39;00m \u001b[38;5;28;43mself\u001b[39;49m\u001b[38;5;241;43m.\u001b[39;49m\u001b[43m_engine\u001b[49m\u001b[38;5;241;43m.\u001b[39;49m\u001b[43mget_loc\u001b[49m\u001b[43m(\u001b[49m\u001b[43mcasted_key\u001b[49m\u001b[43m)\u001b[49m\n\u001b[0;32m   3806\u001b[0m \u001b[38;5;28;01mexcept\u001b[39;00m \u001b[38;5;167;01mKeyError\u001b[39;00m \u001b[38;5;28;01mas\u001b[39;00m err:\n",
      "File \u001b[1;32mindex.pyx:167\u001b[0m, in \u001b[0;36mpandas._libs.index.IndexEngine.get_loc\u001b[1;34m()\u001b[0m\n",
      "File \u001b[1;32mindex.pyx:196\u001b[0m, in \u001b[0;36mpandas._libs.index.IndexEngine.get_loc\u001b[1;34m()\u001b[0m\n",
      "File \u001b[1;32mpandas\\\\_libs\\\\hashtable_class_helper.pxi:7081\u001b[0m, in \u001b[0;36mpandas._libs.hashtable.PyObjectHashTable.get_item\u001b[1;34m()\u001b[0m\n",
      "File \u001b[1;32mpandas\\\\_libs\\\\hashtable_class_helper.pxi:7089\u001b[0m, in \u001b[0;36mpandas._libs.hashtable.PyObjectHashTable.get_item\u001b[1;34m()\u001b[0m\n",
      "\u001b[1;31mKeyError\u001b[0m: True",
      "\nThe above exception was the direct cause of the following exception:\n",
      "\u001b[1;31mKeyError\u001b[0m                                  Traceback (most recent call last)",
      "Cell \u001b[1;32mIn[58], line 1\u001b[0m\n\u001b[1;32m----> 1\u001b[0m clicks_by_source_pivot[\u001b[38;5;124m'\u001b[39m\u001b[38;5;124mpercent_clicked\u001b[39m\u001b[38;5;124m'\u001b[39m] \u001b[38;5;241m=\u001b[39m \u001b[43mclicks_pivot\u001b[49m\u001b[43m[\u001b[49m\u001b[38;5;28;43;01mTrue\u001b[39;49;00m\u001b[43m]\u001b[49m \u001b[38;5;241m/\u001b[39m ( clicks_pivot[\u001b[38;5;28;01mTrue\u001b[39;00m] \u001b[38;5;241m+\u001b[39m clicks_pivot[\u001b[38;5;28;01mFalse\u001b[39;00m] )\n",
      "File \u001b[1;32m~\\AppData\\Local\\Programs\\Python\\Python312\\Lib\\site-packages\\pandas\\core\\frame.py:4101\u001b[0m, in \u001b[0;36mDataFrame.__getitem__\u001b[1;34m(self, key)\u001b[0m\n\u001b[0;32m   4099\u001b[0m \u001b[38;5;28;01mif\u001b[39;00m is_single_key:\n\u001b[0;32m   4100\u001b[0m     \u001b[38;5;28;01mif\u001b[39;00m \u001b[38;5;28mself\u001b[39m\u001b[38;5;241m.\u001b[39mcolumns\u001b[38;5;241m.\u001b[39mnlevels \u001b[38;5;241m>\u001b[39m \u001b[38;5;241m1\u001b[39m:\n\u001b[1;32m-> 4101\u001b[0m         \u001b[38;5;28;01mreturn\u001b[39;00m \u001b[38;5;28;43mself\u001b[39;49m\u001b[38;5;241;43m.\u001b[39;49m\u001b[43m_getitem_multilevel\u001b[49m\u001b[43m(\u001b[49m\u001b[43mkey\u001b[49m\u001b[43m)\u001b[49m\n\u001b[0;32m   4102\u001b[0m     indexer \u001b[38;5;241m=\u001b[39m \u001b[38;5;28mself\u001b[39m\u001b[38;5;241m.\u001b[39mcolumns\u001b[38;5;241m.\u001b[39mget_loc(key)\n\u001b[0;32m   4103\u001b[0m     \u001b[38;5;28;01mif\u001b[39;00m is_integer(indexer):\n",
      "File \u001b[1;32m~\\AppData\\Local\\Programs\\Python\\Python312\\Lib\\site-packages\\pandas\\core\\frame.py:4159\u001b[0m, in \u001b[0;36mDataFrame._getitem_multilevel\u001b[1;34m(self, key)\u001b[0m\n\u001b[0;32m   4157\u001b[0m \u001b[38;5;28;01mdef\u001b[39;00m \u001b[38;5;21m_getitem_multilevel\u001b[39m(\u001b[38;5;28mself\u001b[39m, key):\n\u001b[0;32m   4158\u001b[0m     \u001b[38;5;66;03m# self.columns is a MultiIndex\u001b[39;00m\n\u001b[1;32m-> 4159\u001b[0m     loc \u001b[38;5;241m=\u001b[39m \u001b[38;5;28;43mself\u001b[39;49m\u001b[38;5;241;43m.\u001b[39;49m\u001b[43mcolumns\u001b[49m\u001b[38;5;241;43m.\u001b[39;49m\u001b[43mget_loc\u001b[49m\u001b[43m(\u001b[49m\u001b[43mkey\u001b[49m\u001b[43m)\u001b[49m\n\u001b[0;32m   4160\u001b[0m     \u001b[38;5;28;01mif\u001b[39;00m \u001b[38;5;28misinstance\u001b[39m(loc, (\u001b[38;5;28mslice\u001b[39m, np\u001b[38;5;241m.\u001b[39mndarray)):\n\u001b[0;32m   4161\u001b[0m         new_columns \u001b[38;5;241m=\u001b[39m \u001b[38;5;28mself\u001b[39m\u001b[38;5;241m.\u001b[39mcolumns[loc]\n",
      "File \u001b[1;32m~\\AppData\\Local\\Programs\\Python\\Python312\\Lib\\site-packages\\pandas\\core\\indexes\\multi.py:3040\u001b[0m, in \u001b[0;36mMultiIndex.get_loc\u001b[1;34m(self, key)\u001b[0m\n\u001b[0;32m   3037\u001b[0m     \u001b[38;5;28;01mreturn\u001b[39;00m mask\n\u001b[0;32m   3039\u001b[0m \u001b[38;5;28;01mif\u001b[39;00m \u001b[38;5;129;01mnot\u001b[39;00m \u001b[38;5;28misinstance\u001b[39m(key, \u001b[38;5;28mtuple\u001b[39m):\n\u001b[1;32m-> 3040\u001b[0m     loc \u001b[38;5;241m=\u001b[39m \u001b[38;5;28;43mself\u001b[39;49m\u001b[38;5;241;43m.\u001b[39;49m\u001b[43m_get_level_indexer\u001b[49m\u001b[43m(\u001b[49m\u001b[43mkey\u001b[49m\u001b[43m,\u001b[49m\u001b[43m \u001b[49m\u001b[43mlevel\u001b[49m\u001b[38;5;241;43m=\u001b[39;49m\u001b[38;5;241;43m0\u001b[39;49m\u001b[43m)\u001b[49m\n\u001b[0;32m   3041\u001b[0m     \u001b[38;5;28;01mreturn\u001b[39;00m _maybe_to_slice(loc)\n\u001b[0;32m   3043\u001b[0m keylen \u001b[38;5;241m=\u001b[39m \u001b[38;5;28mlen\u001b[39m(key)\n",
      "File \u001b[1;32m~\\AppData\\Local\\Programs\\Python\\Python312\\Lib\\site-packages\\pandas\\core\\indexes\\multi.py:3391\u001b[0m, in \u001b[0;36mMultiIndex._get_level_indexer\u001b[1;34m(self, key, level, indexer)\u001b[0m\n\u001b[0;32m   3388\u001b[0m         \u001b[38;5;28;01mreturn\u001b[39;00m \u001b[38;5;28mslice\u001b[39m(i, j, step)\n\u001b[0;32m   3390\u001b[0m \u001b[38;5;28;01melse\u001b[39;00m:\n\u001b[1;32m-> 3391\u001b[0m     idx \u001b[38;5;241m=\u001b[39m \u001b[38;5;28;43mself\u001b[39;49m\u001b[38;5;241;43m.\u001b[39;49m\u001b[43m_get_loc_single_level_index\u001b[49m\u001b[43m(\u001b[49m\u001b[43mlevel_index\u001b[49m\u001b[43m,\u001b[49m\u001b[43m \u001b[49m\u001b[43mkey\u001b[49m\u001b[43m)\u001b[49m\n\u001b[0;32m   3393\u001b[0m     \u001b[38;5;28;01mif\u001b[39;00m level \u001b[38;5;241m>\u001b[39m \u001b[38;5;241m0\u001b[39m \u001b[38;5;129;01mor\u001b[39;00m \u001b[38;5;28mself\u001b[39m\u001b[38;5;241m.\u001b[39m_lexsort_depth \u001b[38;5;241m==\u001b[39m \u001b[38;5;241m0\u001b[39m:\n\u001b[0;32m   3394\u001b[0m         \u001b[38;5;66;03m# Desired level is not sorted\u001b[39;00m\n\u001b[0;32m   3395\u001b[0m         \u001b[38;5;28;01mif\u001b[39;00m \u001b[38;5;28misinstance\u001b[39m(idx, \u001b[38;5;28mslice\u001b[39m):\n\u001b[0;32m   3396\u001b[0m             \u001b[38;5;66;03m# test_get_loc_partial_timestamp_multiindex\u001b[39;00m\n",
      "File \u001b[1;32m~\\AppData\\Local\\Programs\\Python\\Python312\\Lib\\site-packages\\pandas\\core\\indexes\\multi.py:2980\u001b[0m, in \u001b[0;36mMultiIndex._get_loc_single_level_index\u001b[1;34m(self, level_index, key)\u001b[0m\n\u001b[0;32m   2978\u001b[0m     \u001b[38;5;28;01mreturn\u001b[39;00m \u001b[38;5;241m-\u001b[39m\u001b[38;5;241m1\u001b[39m\n\u001b[0;32m   2979\u001b[0m \u001b[38;5;28;01melse\u001b[39;00m:\n\u001b[1;32m-> 2980\u001b[0m     \u001b[38;5;28;01mreturn\u001b[39;00m \u001b[43mlevel_index\u001b[49m\u001b[38;5;241;43m.\u001b[39;49m\u001b[43mget_loc\u001b[49m\u001b[43m(\u001b[49m\u001b[43mkey\u001b[49m\u001b[43m)\u001b[49m\n",
      "File \u001b[1;32m~\\AppData\\Local\\Programs\\Python\\Python312\\Lib\\site-packages\\pandas\\core\\indexes\\base.py:3812\u001b[0m, in \u001b[0;36mIndex.get_loc\u001b[1;34m(self, key)\u001b[0m\n\u001b[0;32m   3807\u001b[0m     \u001b[38;5;28;01mif\u001b[39;00m \u001b[38;5;28misinstance\u001b[39m(casted_key, \u001b[38;5;28mslice\u001b[39m) \u001b[38;5;129;01mor\u001b[39;00m (\n\u001b[0;32m   3808\u001b[0m         \u001b[38;5;28misinstance\u001b[39m(casted_key, abc\u001b[38;5;241m.\u001b[39mIterable)\n\u001b[0;32m   3809\u001b[0m         \u001b[38;5;129;01mand\u001b[39;00m \u001b[38;5;28many\u001b[39m(\u001b[38;5;28misinstance\u001b[39m(x, \u001b[38;5;28mslice\u001b[39m) \u001b[38;5;28;01mfor\u001b[39;00m x \u001b[38;5;129;01min\u001b[39;00m casted_key)\n\u001b[0;32m   3810\u001b[0m     ):\n\u001b[0;32m   3811\u001b[0m         \u001b[38;5;28;01mraise\u001b[39;00m InvalidIndexError(key)\n\u001b[1;32m-> 3812\u001b[0m     \u001b[38;5;28;01mraise\u001b[39;00m \u001b[38;5;167;01mKeyError\u001b[39;00m(key) \u001b[38;5;28;01mfrom\u001b[39;00m \u001b[38;5;21;01merr\u001b[39;00m\n\u001b[0;32m   3813\u001b[0m \u001b[38;5;28;01mexcept\u001b[39;00m \u001b[38;5;167;01mTypeError\u001b[39;00m:\n\u001b[0;32m   3814\u001b[0m     \u001b[38;5;66;03m# If we have a listlike key, _check_indexing_error will raise\u001b[39;00m\n\u001b[0;32m   3815\u001b[0m     \u001b[38;5;66;03m#  InvalidIndexError. Otherwise we fall through and re-raise\u001b[39;00m\n\u001b[0;32m   3816\u001b[0m     \u001b[38;5;66;03m#  the TypeError.\u001b[39;00m\n\u001b[0;32m   3817\u001b[0m     \u001b[38;5;28mself\u001b[39m\u001b[38;5;241m.\u001b[39m_check_indexing_error(key)\n",
      "\u001b[1;31mKeyError\u001b[0m: True"
     ]
    }
   ],
   "source": [
    "clicks_by_source_pivot['percent_clicked'] = clicks_pivot[True] / ( clicks_pivot[True] + clicks_pivot[False] )"
   ]
  },
  {
   "cell_type": "code",
   "execution_count": null,
   "id": "3ed4b357-f27e-4778-8cf3-5b15fcdf9108",
   "metadata": {},
   "outputs": [],
   "source": []
  }
 ],
 "metadata": {
  "kernelspec": {
   "display_name": "Python 3 (ipykernel)",
   "language": "python",
   "name": "python3"
  },
  "language_info": {
   "codemirror_mode": {
    "name": "ipython",
    "version": 3
   },
   "file_extension": ".py",
   "mimetype": "text/x-python",
   "name": "python",
   "nbconvert_exporter": "python",
   "pygments_lexer": "ipython3",
   "version": "3.12.3"
  }
 },
 "nbformat": 4,
 "nbformat_minor": 5
}
