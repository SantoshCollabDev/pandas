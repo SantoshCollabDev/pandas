{
 "cells": [
  {
   "cell_type": "markdown",
   "id": "97c5f6c9-c2a5-4839-a7b2-d57cdb82d6de",
   "metadata": {},
   "source": [
    "# Pandas ??\n",
    "\n",
    "Pandas is a Python module for working with tabular data (i.e., data in a table with rows and columns). \n",
    "Tabular data has a lot of the same functionality as SQL or Excel, but Pandas adds the power of Python.\n"
   ]
  },
  {
   "cell_type": "markdown",
   "id": "55fea00a-7d6e-4680-a76a-329bac677e56",
   "metadata": {},
   "source": [
    "### What are some differences between the Python data science modules Pandas, Numpy and Matplotlib?\n",
    "\n",
    "Although they may appear similar, these modules have unique purposes and functionalities.\n",
    "\n",
    "The Pandas module is used for working with tabular data. It allows us to work with data in table form, such as in CSV or SQL database formats. \n",
    "We can also create tables of our own, and edit or add columns or rows to tables. Pandas provides us with some powerful objects like DataFrames \n",
    "and Series which are very useful for working with and analyzing data.\n",
    "\n",
    "The Numpy module is mainly used for working with numerical data. It provides us with a powerful object known as an Array. \n",
    "With Arrays, we can perform mathematical operations on multiple values in the Arrays at the same time, and also perform operations between \n",
    "different Arrays, similar to matrix operations.\n",
    "\n",
    "Last, but not least, the Matplotlib module is used for data visualization. It provides functionality for us to draw charts and graphs, \n",
    "so that we can better understand and present the data visually.\n",
    "\n",
    "These modules have different purposes and functionality they excel at, and together they allow us to analyze, manipulate and visualize data \n",
    "in very useful ways."
   ]
  },
  {
   "cell_type": "code",
   "execution_count": 1,
   "id": "1eb58f64-092d-458b-80bf-61698755d2ee",
   "metadata": {},
   "outputs": [],
   "source": [
    "import pandas as pd"
   ]
  },
  {
   "cell_type": "code",
   "execution_count": 5,
   "id": "dd7156ca-9df1-4a33-80f1-b3510b45e572",
   "metadata": {},
   "outputs": [
    {
     "name": "stderr",
     "output_type": "stream",
     "text": [
      "<>:1: SyntaxWarning: invalid escape sequence '\\G'\n",
      "<>:1: SyntaxWarning: invalid escape sequence '\\G'\n",
      "C:\\Users\\MeghaPrateek\\AppData\\Local\\Temp\\ipykernel_12176\\664994216.py:1: SyntaxWarning: invalid escape sequence '\\G'\n",
      "  df = pd.read_csv('D:\\GIT_Repositories\\pandas\\shoefly_orders.csv')\n"
     ]
    },
    {
     "data": {
      "text/html": [
       "<div>\n",
       "<style scoped>\n",
       "    .dataframe tbody tr th:only-of-type {\n",
       "        vertical-align: middle;\n",
       "    }\n",
       "\n",
       "    .dataframe tbody tr th {\n",
       "        vertical-align: top;\n",
       "    }\n",
       "\n",
       "    .dataframe thead th {\n",
       "        text-align: right;\n",
       "    }\n",
       "</style>\n",
       "<table border=\"1\" class=\"dataframe\">\n",
       "  <thead>\n",
       "    <tr style=\"text-align: right;\">\n",
       "      <th></th>\n",
       "      <th>id</th>\n",
       "      <th>first_name</th>\n",
       "      <th>last_name</th>\n",
       "      <th>email</th>\n",
       "      <th>shoe_type</th>\n",
       "      <th>shoe_material</th>\n",
       "      <th>shoe_color</th>\n",
       "    </tr>\n",
       "  </thead>\n",
       "  <tbody>\n",
       "    <tr>\n",
       "      <th>0</th>\n",
       "      <td>54791.0</td>\n",
       "      <td>Rebecca</td>\n",
       "      <td>Lindsay</td>\n",
       "      <td>RebeccaLindsay57@hotmail.com</td>\n",
       "      <td>clogs</td>\n",
       "      <td>faux-leather</td>\n",
       "      <td>black</td>\n",
       "    </tr>\n",
       "    <tr>\n",
       "      <th>1</th>\n",
       "      <td>53450.0</td>\n",
       "      <td>Emily</td>\n",
       "      <td>Joyce</td>\n",
       "      <td>EmilyJoyce25@gmail.com</td>\n",
       "      <td>ballet flats</td>\n",
       "      <td>faux-leather</td>\n",
       "      <td>navy</td>\n",
       "    </tr>\n",
       "    <tr>\n",
       "      <th>2</th>\n",
       "      <td>91987.0</td>\n",
       "      <td>Joyce</td>\n",
       "      <td>Waller</td>\n",
       "      <td>Joyce.Waller@gmail.com</td>\n",
       "      <td>sandals</td>\n",
       "      <td>fabric</td>\n",
       "      <td>black</td>\n",
       "    </tr>\n",
       "    <tr>\n",
       "      <th>3</th>\n",
       "      <td>14437.0</td>\n",
       "      <td>Justin</td>\n",
       "      <td>Erickson</td>\n",
       "      <td>Justin.Erickson@outlook.com</td>\n",
       "      <td>clogs</td>\n",
       "      <td>faux-leather</td>\n",
       "      <td>red</td>\n",
       "    </tr>\n",
       "    <tr>\n",
       "      <th>4</th>\n",
       "      <td>79357.0</td>\n",
       "      <td>Andrew</td>\n",
       "      <td>Banks</td>\n",
       "      <td>AB4318@gmail.com</td>\n",
       "      <td>boots</td>\n",
       "      <td>leather</td>\n",
       "      <td>brown</td>\n",
       "    </tr>\n",
       "  </tbody>\n",
       "</table>\n",
       "</div>"
      ],
      "text/plain": [
       "        id first_name last_name                         email     shoe_type  \\\n",
       "0  54791.0    Rebecca   Lindsay  RebeccaLindsay57@hotmail.com         clogs   \n",
       "1  53450.0      Emily     Joyce        EmilyJoyce25@gmail.com  ballet flats   \n",
       "2  91987.0      Joyce    Waller        Joyce.Waller@gmail.com       sandals   \n",
       "3  14437.0     Justin  Erickson   Justin.Erickson@outlook.com         clogs   \n",
       "4  79357.0     Andrew     Banks              AB4318@gmail.com         boots   \n",
       "\n",
       "  shoe_material shoe_color  \n",
       "0  faux-leather      black  \n",
       "1  faux-leather       navy  \n",
       "2        fabric      black  \n",
       "3  faux-leather        red  \n",
       "4       leather      brown  "
      ]
     },
     "execution_count": 5,
     "metadata": {},
     "output_type": "execute_result"
    }
   ],
   "source": [
    "df = pd.read_csv('D:\\GIT_Repositories\\pandas\\shoefly_orders.csv')\n",
    "df.head()"
   ]
  },
  {
   "cell_type": "code",
   "execution_count": 55,
   "id": "0f5092ba-628b-4d55-91f8-face8177f3ee",
   "metadata": {},
   "outputs": [
    {
     "data": {
      "text/html": [
       "<div>\n",
       "<style scoped>\n",
       "    .dataframe tbody tr th:only-of-type {\n",
       "        vertical-align: middle;\n",
       "    }\n",
       "\n",
       "    .dataframe tbody tr th {\n",
       "        vertical-align: top;\n",
       "    }\n",
       "\n",
       "    .dataframe thead th {\n",
       "        text-align: right;\n",
       "    }\n",
       "</style>\n",
       "<table border=\"1\" class=\"dataframe\">\n",
       "  <thead>\n",
       "    <tr style=\"text-align: right;\">\n",
       "      <th></th>\n",
       "      <th>id</th>\n",
       "      <th>first_name</th>\n",
       "      <th>last_name</th>\n",
       "      <th>email</th>\n",
       "      <th>shoe_type</th>\n",
       "      <th>shoe_material</th>\n",
       "      <th>shoe_color</th>\n",
       "    </tr>\n",
       "  </thead>\n",
       "  <tbody>\n",
       "    <tr>\n",
       "      <th>0</th>\n",
       "      <td>54791.0</td>\n",
       "      <td>Rebecca</td>\n",
       "      <td>Lindsay</td>\n",
       "      <td>RebeccaLindsay57@hotmail.com</td>\n",
       "      <td>clogs</td>\n",
       "      <td>faux-leather</td>\n",
       "      <td>black</td>\n",
       "    </tr>\n",
       "    <tr>\n",
       "      <th>1</th>\n",
       "      <td>53450.0</td>\n",
       "      <td>Emily</td>\n",
       "      <td>Joyce</td>\n",
       "      <td>EmilyJoyce25@gmail.com</td>\n",
       "      <td>ballet flats</td>\n",
       "      <td>faux-leather</td>\n",
       "      <td>navy</td>\n",
       "    </tr>\n",
       "    <tr>\n",
       "      <th>2</th>\n",
       "      <td>91987.0</td>\n",
       "      <td>Joyce</td>\n",
       "      <td>Waller</td>\n",
       "      <td>Joyce.Waller@gmail.com</td>\n",
       "      <td>sandals</td>\n",
       "      <td>fabric</td>\n",
       "      <td>black</td>\n",
       "    </tr>\n",
       "    <tr>\n",
       "      <th>3</th>\n",
       "      <td>14437.0</td>\n",
       "      <td>Justin</td>\n",
       "      <td>Erickson</td>\n",
       "      <td>Justin.Erickson@outlook.com</td>\n",
       "      <td>clogs</td>\n",
       "      <td>faux-leather</td>\n",
       "      <td>red</td>\n",
       "    </tr>\n",
       "    <tr>\n",
       "      <th>4</th>\n",
       "      <td>79357.0</td>\n",
       "      <td>Andrew</td>\n",
       "      <td>Banks</td>\n",
       "      <td>AB4318@gmail.com</td>\n",
       "      <td>boots</td>\n",
       "      <td>leather</td>\n",
       "      <td>brown</td>\n",
       "    </tr>\n",
       "  </tbody>\n",
       "</table>\n",
       "</div>"
      ],
      "text/plain": [
       "        id first_name last_name                         email     shoe_type  \\\n",
       "0  54791.0    Rebecca   Lindsay  RebeccaLindsay57@hotmail.com         clogs   \n",
       "1  53450.0      Emily     Joyce        EmilyJoyce25@gmail.com  ballet flats   \n",
       "2  91987.0      Joyce    Waller        Joyce.Waller@gmail.com       sandals   \n",
       "3  14437.0     Justin  Erickson   Justin.Erickson@outlook.com         clogs   \n",
       "4  79357.0     Andrew     Banks              AB4318@gmail.com         boots   \n",
       "\n",
       "  shoe_material shoe_color  \n",
       "0  faux-leather      black  \n",
       "1  faux-leather       navy  \n",
       "2        fabric      black  \n",
       "3  faux-leather        red  \n",
       "4       leather      brown  "
      ]
     },
     "execution_count": 55,
     "metadata": {},
     "output_type": "execute_result"
    }
   ],
   "source": [
    "# to fix the above warning ---- SyntaxWarning: invalid escape sequence '\\G'\n",
    "\n",
    "# make the string a raw-string ---> r'D:\\GIT_Repositories\\pandas\\shoefly_orders.csv'\n",
    "\n",
    "df = pd.read_csv(r'D:\\GIT_Repositories\\pandas\\shoefly_orders.csv')\n",
    "df.head()"
   ]
  },
  {
   "cell_type": "markdown",
   "id": "4db28280-c402-40e3-a01b-a8f5a8da5b6b",
   "metadata": {},
   "source": [
    "#### Let's examine the first 10 rows of our data!"
   ]
  },
  {
   "cell_type": "code",
   "execution_count": 7,
   "id": "90134472-1db4-4893-bde8-21236e406d3b",
   "metadata": {},
   "outputs": [
    {
     "data": {
      "text/html": [
       "<div>\n",
       "<style scoped>\n",
       "    .dataframe tbody tr th:only-of-type {\n",
       "        vertical-align: middle;\n",
       "    }\n",
       "\n",
       "    .dataframe tbody tr th {\n",
       "        vertical-align: top;\n",
       "    }\n",
       "\n",
       "    .dataframe thead th {\n",
       "        text-align: right;\n",
       "    }\n",
       "</style>\n",
       "<table border=\"1\" class=\"dataframe\">\n",
       "  <thead>\n",
       "    <tr style=\"text-align: right;\">\n",
       "      <th></th>\n",
       "      <th>id</th>\n",
       "      <th>first_name</th>\n",
       "      <th>last_name</th>\n",
       "      <th>email</th>\n",
       "      <th>shoe_type</th>\n",
       "      <th>shoe_material</th>\n",
       "      <th>shoe_color</th>\n",
       "    </tr>\n",
       "  </thead>\n",
       "  <tbody>\n",
       "    <tr>\n",
       "      <th>0</th>\n",
       "      <td>54791.0</td>\n",
       "      <td>Rebecca</td>\n",
       "      <td>Lindsay</td>\n",
       "      <td>RebeccaLindsay57@hotmail.com</td>\n",
       "      <td>clogs</td>\n",
       "      <td>faux-leather</td>\n",
       "      <td>black</td>\n",
       "    </tr>\n",
       "    <tr>\n",
       "      <th>1</th>\n",
       "      <td>53450.0</td>\n",
       "      <td>Emily</td>\n",
       "      <td>Joyce</td>\n",
       "      <td>EmilyJoyce25@gmail.com</td>\n",
       "      <td>ballet flats</td>\n",
       "      <td>faux-leather</td>\n",
       "      <td>navy</td>\n",
       "    </tr>\n",
       "    <tr>\n",
       "      <th>2</th>\n",
       "      <td>91987.0</td>\n",
       "      <td>Joyce</td>\n",
       "      <td>Waller</td>\n",
       "      <td>Joyce.Waller@gmail.com</td>\n",
       "      <td>sandals</td>\n",
       "      <td>fabric</td>\n",
       "      <td>black</td>\n",
       "    </tr>\n",
       "    <tr>\n",
       "      <th>3</th>\n",
       "      <td>14437.0</td>\n",
       "      <td>Justin</td>\n",
       "      <td>Erickson</td>\n",
       "      <td>Justin.Erickson@outlook.com</td>\n",
       "      <td>clogs</td>\n",
       "      <td>faux-leather</td>\n",
       "      <td>red</td>\n",
       "    </tr>\n",
       "    <tr>\n",
       "      <th>4</th>\n",
       "      <td>79357.0</td>\n",
       "      <td>Andrew</td>\n",
       "      <td>Banks</td>\n",
       "      <td>AB4318@gmail.com</td>\n",
       "      <td>boots</td>\n",
       "      <td>leather</td>\n",
       "      <td>brown</td>\n",
       "    </tr>\n",
       "    <tr>\n",
       "      <th>5</th>\n",
       "      <td>52386.0</td>\n",
       "      <td>Julie</td>\n",
       "      <td>Marsh</td>\n",
       "      <td>JulieMarsh59@gmail.com</td>\n",
       "      <td>sandals</td>\n",
       "      <td>fabric</td>\n",
       "      <td>black</td>\n",
       "    </tr>\n",
       "    <tr>\n",
       "      <th>6</th>\n",
       "      <td>20487.0</td>\n",
       "      <td>Thomas</td>\n",
       "      <td>Jensen</td>\n",
       "      <td>TJ5470@gmail.com</td>\n",
       "      <td>clogs</td>\n",
       "      <td>fabric</td>\n",
       "      <td>navy</td>\n",
       "    </tr>\n",
       "    <tr>\n",
       "      <th>7</th>\n",
       "      <td>76971.0</td>\n",
       "      <td>Janice</td>\n",
       "      <td>Hicks</td>\n",
       "      <td>Janice.Hicks@gmail.com</td>\n",
       "      <td>clogs</td>\n",
       "      <td>faux-leather</td>\n",
       "      <td>navy</td>\n",
       "    </tr>\n",
       "    <tr>\n",
       "      <th>8</th>\n",
       "      <td>21586.0</td>\n",
       "      <td>Gabriel</td>\n",
       "      <td>Porter</td>\n",
       "      <td>GabrielPorter24@gmail.com</td>\n",
       "      <td>clogs</td>\n",
       "      <td>leather</td>\n",
       "      <td>brown</td>\n",
       "    </tr>\n",
       "    <tr>\n",
       "      <th>9</th>\n",
       "      <td>62083.0</td>\n",
       "      <td>Frances</td>\n",
       "      <td>Palmer</td>\n",
       "      <td>FrancesPalmer50@gmail.com</td>\n",
       "      <td>wedges</td>\n",
       "      <td>leather</td>\n",
       "      <td>white</td>\n",
       "    </tr>\n",
       "  </tbody>\n",
       "</table>\n",
       "</div>"
      ],
      "text/plain": [
       "        id first_name last_name                         email     shoe_type  \\\n",
       "0  54791.0    Rebecca   Lindsay  RebeccaLindsay57@hotmail.com         clogs   \n",
       "1  53450.0      Emily     Joyce        EmilyJoyce25@gmail.com  ballet flats   \n",
       "2  91987.0      Joyce    Waller        Joyce.Waller@gmail.com       sandals   \n",
       "3  14437.0     Justin  Erickson   Justin.Erickson@outlook.com         clogs   \n",
       "4  79357.0     Andrew     Banks              AB4318@gmail.com         boots   \n",
       "5  52386.0      Julie     Marsh        JulieMarsh59@gmail.com       sandals   \n",
       "6  20487.0     Thomas    Jensen              TJ5470@gmail.com         clogs   \n",
       "7  76971.0     Janice     Hicks        Janice.Hicks@gmail.com         clogs   \n",
       "8  21586.0    Gabriel    Porter     GabrielPorter24@gmail.com         clogs   \n",
       "9  62083.0    Frances    Palmer     FrancesPalmer50@gmail.com        wedges   \n",
       "\n",
       "  shoe_material shoe_color  \n",
       "0  faux-leather      black  \n",
       "1  faux-leather       navy  \n",
       "2        fabric      black  \n",
       "3  faux-leather        red  \n",
       "4       leather      brown  \n",
       "5        fabric      black  \n",
       "6        fabric       navy  \n",
       "7  faux-leather       navy  \n",
       "8       leather      brown  \n",
       "9       leather      white  "
      ]
     },
     "execution_count": 7,
     "metadata": {},
     "output_type": "execute_result"
    }
   ],
   "source": [
    "df.head(10)"
   ]
  },
  {
   "cell_type": "markdown",
   "id": "b9d5ecc3-9982-4ff7-87a1-f536cd832d9f",
   "metadata": {},
   "source": [
    "Let's select everyone who ordered black sandals."
   ]
  },
  {
   "cell_type": "code",
   "execution_count": 8,
   "id": "a9c55dfe-d8da-4046-be87-400768fa6834",
   "metadata": {},
   "outputs": [
    {
     "data": {
      "text/html": [
       "<div>\n",
       "<style scoped>\n",
       "    .dataframe tbody tr th:only-of-type {\n",
       "        vertical-align: middle;\n",
       "    }\n",
       "\n",
       "    .dataframe tbody tr th {\n",
       "        vertical-align: top;\n",
       "    }\n",
       "\n",
       "    .dataframe thead th {\n",
       "        text-align: right;\n",
       "    }\n",
       "</style>\n",
       "<table border=\"1\" class=\"dataframe\">\n",
       "  <thead>\n",
       "    <tr style=\"text-align: right;\">\n",
       "      <th></th>\n",
       "      <th>id</th>\n",
       "      <th>first_name</th>\n",
       "      <th>last_name</th>\n",
       "      <th>email</th>\n",
       "      <th>shoe_type</th>\n",
       "      <th>shoe_material</th>\n",
       "      <th>shoe_color</th>\n",
       "    </tr>\n",
       "  </thead>\n",
       "  <tbody>\n",
       "    <tr>\n",
       "      <th>2</th>\n",
       "      <td>91987.0</td>\n",
       "      <td>Joyce</td>\n",
       "      <td>Waller</td>\n",
       "      <td>Joyce.Waller@gmail.com</td>\n",
       "      <td>sandals</td>\n",
       "      <td>fabric</td>\n",
       "      <td>black</td>\n",
       "    </tr>\n",
       "    <tr>\n",
       "      <th>5</th>\n",
       "      <td>52386.0</td>\n",
       "      <td>Julie</td>\n",
       "      <td>Marsh</td>\n",
       "      <td>JulieMarsh59@gmail.com</td>\n",
       "      <td>sandals</td>\n",
       "      <td>fabric</td>\n",
       "      <td>black</td>\n",
       "    </tr>\n",
       "  </tbody>\n",
       "</table>\n",
       "</div>"
      ],
      "text/plain": [
       "        id first_name last_name                   email shoe_type  \\\n",
       "2  91987.0      Joyce    Waller  Joyce.Waller@gmail.com   sandals   \n",
       "5  52386.0      Julie     Marsh  JulieMarsh59@gmail.com   sandals   \n",
       "\n",
       "  shoe_material shoe_color  \n",
       "2        fabric      black  \n",
       "5        fabric      black  "
      ]
     },
     "execution_count": 8,
     "metadata": {},
     "output_type": "execute_result"
    }
   ],
   "source": [
    "filt = ( df['shoe_type'] == 'sandals' )\n",
    "df.loc[filt]"
   ]
  },
  {
   "cell_type": "code",
   "execution_count": 9,
   "id": "5c42f054-952f-47ac-a0b9-dd11876ef6cd",
   "metadata": {},
   "outputs": [
    {
     "data": {
      "text/html": [
       "<div>\n",
       "<style scoped>\n",
       "    .dataframe tbody tr th:only-of-type {\n",
       "        vertical-align: middle;\n",
       "    }\n",
       "\n",
       "    .dataframe tbody tr th {\n",
       "        vertical-align: top;\n",
       "    }\n",
       "\n",
       "    .dataframe thead th {\n",
       "        text-align: right;\n",
       "    }\n",
       "</style>\n",
       "<table border=\"1\" class=\"dataframe\">\n",
       "  <thead>\n",
       "    <tr style=\"text-align: right;\">\n",
       "      <th></th>\n",
       "      <th>id</th>\n",
       "      <th>first_name</th>\n",
       "      <th>last_name</th>\n",
       "      <th>email</th>\n",
       "      <th>shoe_type</th>\n",
       "      <th>shoe_material</th>\n",
       "      <th>shoe_color</th>\n",
       "    </tr>\n",
       "  </thead>\n",
       "  <tbody>\n",
       "    <tr>\n",
       "      <th>2</th>\n",
       "      <td>91987.0</td>\n",
       "      <td>Joyce</td>\n",
       "      <td>Waller</td>\n",
       "      <td>Joyce.Waller@gmail.com</td>\n",
       "      <td>sandals</td>\n",
       "      <td>fabric</td>\n",
       "      <td>black</td>\n",
       "    </tr>\n",
       "    <tr>\n",
       "      <th>5</th>\n",
       "      <td>52386.0</td>\n",
       "      <td>Julie</td>\n",
       "      <td>Marsh</td>\n",
       "      <td>JulieMarsh59@gmail.com</td>\n",
       "      <td>sandals</td>\n",
       "      <td>fabric</td>\n",
       "      <td>black</td>\n",
       "    </tr>\n",
       "  </tbody>\n",
       "</table>\n",
       "</div>"
      ],
      "text/plain": [
       "        id first_name last_name                   email shoe_type  \\\n",
       "2  91987.0      Joyce    Waller  Joyce.Waller@gmail.com   sandals   \n",
       "5  52386.0      Julie     Marsh  JulieMarsh59@gmail.com   sandals   \n",
       "\n",
       "  shoe_material shoe_color  \n",
       "2        fabric      black  \n",
       "5        fabric      black  "
      ]
     },
     "execution_count": 9,
     "metadata": {},
     "output_type": "execute_result"
    }
   ],
   "source": [
    "filt = ( df['shoe_type'] == 'sandals' ) & ( df['shoe_color'] == 'black' )\n",
    "df.loc[filt]"
   ]
  },
  {
   "cell_type": "markdown",
   "id": "d5599105-99af-4a59-817b-12e6727c1e15",
   "metadata": {},
   "source": [
    "Let's see what Andrew Banks ordered."
   ]
  },
  {
   "cell_type": "code",
   "execution_count": 11,
   "id": "115aa6d7-f4f1-4bab-8961-ceb09a9fd3e2",
   "metadata": {},
   "outputs": [
    {
     "data": {
      "text/html": [
       "<div>\n",
       "<style scoped>\n",
       "    .dataframe tbody tr th:only-of-type {\n",
       "        vertical-align: middle;\n",
       "    }\n",
       "\n",
       "    .dataframe tbody tr th {\n",
       "        vertical-align: top;\n",
       "    }\n",
       "\n",
       "    .dataframe thead th {\n",
       "        text-align: right;\n",
       "    }\n",
       "</style>\n",
       "<table border=\"1\" class=\"dataframe\">\n",
       "  <thead>\n",
       "    <tr style=\"text-align: right;\">\n",
       "      <th></th>\n",
       "      <th>id</th>\n",
       "      <th>first_name</th>\n",
       "      <th>last_name</th>\n",
       "      <th>email</th>\n",
       "      <th>shoe_type</th>\n",
       "      <th>shoe_material</th>\n",
       "      <th>shoe_color</th>\n",
       "    </tr>\n",
       "  </thead>\n",
       "  <tbody>\n",
       "    <tr>\n",
       "      <th>4</th>\n",
       "      <td>79357.0</td>\n",
       "      <td>Andrew</td>\n",
       "      <td>Banks</td>\n",
       "      <td>AB4318@gmail.com</td>\n",
       "      <td>boots</td>\n",
       "      <td>leather</td>\n",
       "      <td>brown</td>\n",
       "    </tr>\n",
       "  </tbody>\n",
       "</table>\n",
       "</div>"
      ],
      "text/plain": [
       "        id first_name last_name             email shoe_type shoe_material  \\\n",
       "4  79357.0     Andrew     Banks  AB4318@gmail.com     boots       leather   \n",
       "\n",
       "  shoe_color  \n",
       "4      brown  "
      ]
     },
     "execution_count": 11,
     "metadata": {},
     "output_type": "execute_result"
    }
   ],
   "source": [
    "filt = ( df['first_name'] == 'Andrew' ) & ( df['last_name'] == 'Banks' )\n",
    "df.loc[filt]"
   ]
  },
  {
   "cell_type": "markdown",
   "id": "5878b42e-813e-4b7a-a740-be1090f2d13a",
   "metadata": {},
   "source": [
    "# Create a DataFrame\n",
    "\n",
    "DataFrame is an object that stores data as rows and columns\n",
    "\n",
    "You can think of a DataFrame as a spreadsheet or as a SQL table. DataFrames have rows and columns. \n",
    "\n",
    "Each column has a name, which is a string. Each row has an index, which is an integer. \n",
    "\n",
    "DataFrames can contain many different data types: strings, ints, floats, tuples, etc.\n",
    "\n",
    "You can manually create a DataFrame or fill it with data from a CSV, an Excel spreadsheet, or a SQL query.\n",
    "\n"
   ]
  },
  {
   "cell_type": "markdown",
   "id": "03b1977d-7384-4cab-9d28-3c402e8624b2",
   "metadata": {},
   "source": [
    "### manually create a dataframe\n",
    "\n",
    "You can pass in a dictionary to pd.DataFrame(). Each key is a column name and each value is a list of column values. "
   ]
  },
  {
   "cell_type": "markdown",
   "id": "706cc246-db93-4f7d-88d5-eaee17d94baf",
   "metadata": {},
   "source": [
    "You run an online clothing store called Panda’s Wardrobe. \n",
    "You need a DataFrame containing information about your products.\n",
    "\n",
    "Create a DataFrame with the following data that your inventory manager sent you\n",
    "\n",
    "Product ID\tProduct Name\tColor\n",
    "1\t        t-shirt\t        blue\n",
    "2\t        t-shirt\t        green\n",
    "3\t        skirt\t        red\n",
    "4\t        skirt\t        black"
   ]
  },
  {
   "cell_type": "code",
   "execution_count": 16,
   "id": "fed88d8f-034f-400b-bde4-999c682da48e",
   "metadata": {},
   "outputs": [
    {
     "data": {
      "text/html": [
       "<div>\n",
       "<style scoped>\n",
       "    .dataframe tbody tr th:only-of-type {\n",
       "        vertical-align: middle;\n",
       "    }\n",
       "\n",
       "    .dataframe tbody tr th {\n",
       "        vertical-align: top;\n",
       "    }\n",
       "\n",
       "    .dataframe thead th {\n",
       "        text-align: right;\n",
       "    }\n",
       "</style>\n",
       "<table border=\"1\" class=\"dataframe\">\n",
       "  <thead>\n",
       "    <tr style=\"text-align: right;\">\n",
       "      <th></th>\n",
       "      <th>Product ID</th>\n",
       "      <th>Product Name</th>\n",
       "      <th>Color</th>\n",
       "    </tr>\n",
       "  </thead>\n",
       "  <tbody>\n",
       "    <tr>\n",
       "      <th>0</th>\n",
       "      <td>1</td>\n",
       "      <td>t-shirt</td>\n",
       "      <td>blue</td>\n",
       "    </tr>\n",
       "    <tr>\n",
       "      <th>1</th>\n",
       "      <td>2</td>\n",
       "      <td>t-shirt</td>\n",
       "      <td>green</td>\n",
       "    </tr>\n",
       "    <tr>\n",
       "      <th>2</th>\n",
       "      <td>3</td>\n",
       "      <td>skirt</td>\n",
       "      <td>red</td>\n",
       "    </tr>\n",
       "    <tr>\n",
       "      <th>3</th>\n",
       "      <td>4</td>\n",
       "      <td>skirt</td>\n",
       "      <td>black</td>\n",
       "    </tr>\n",
       "  </tbody>\n",
       "</table>\n",
       "</div>"
      ],
      "text/plain": [
       "   Product ID Product Name  Color\n",
       "0           1      t-shirt   blue\n",
       "1           2      t-shirt  green\n",
       "2           3        skirt    red\n",
       "3           4        skirt  black"
      ]
     },
     "execution_count": 16,
     "metadata": {},
     "output_type": "execute_result"
    }
   ],
   "source": [
    "Wardrobe_df = pd.DataFrame( {\n",
    "    \"Product ID\" : [1, 2, 3, 4],\n",
    "    \"Product Name\" : ['t-shirt', 't-shirt', 'skirt', 'skirt'],\n",
    "    \"Color\" : ['blue', 'green', 'red', 'black']   \n",
    "})\n",
    "Wardrobe_df"
   ]
  },
  {
   "cell_type": "markdown",
   "id": "5dfce7b1-2324-4105-adc4-0a2d2d7c5224",
   "metadata": {},
   "source": [
    "# Create a DataFrame II\n",
    "\n",
    "You can also add data using lists.\n",
    "\n",
    "For example, you can pass in \n",
    "\n",
    "a list of lists ---> where each one represents a row of data. \n",
    "\n",
    "Use the keyword argument columns to pass a list of column names.\n"
   ]
  },
  {
   "cell_type": "code",
   "execution_count": 17,
   "id": "76382a5f-9237-4c5e-a9f5-45e99e28439c",
   "metadata": {},
   "outputs": [],
   "source": [
    "df2 = pd.DataFrame( [\n",
    "    [1,  'San Diego', 100],\n",
    "    [2, 'Los Angeles', 120],\n",
    "    [3, 'San Francisco', 90],\n",
    "    [4, 'Sacramento', 115]\n",
    "],\n",
    " columns = ['Store ID', 'Location', 'Number of Employees']\n",
    ")"
   ]
  },
  {
   "cell_type": "code",
   "execution_count": 18,
   "id": "9d7451a1-7aa4-4360-abab-2ec80a2f1ee7",
   "metadata": {},
   "outputs": [
    {
     "data": {
      "text/html": [
       "<div>\n",
       "<style scoped>\n",
       "    .dataframe tbody tr th:only-of-type {\n",
       "        vertical-align: middle;\n",
       "    }\n",
       "\n",
       "    .dataframe tbody tr th {\n",
       "        vertical-align: top;\n",
       "    }\n",
       "\n",
       "    .dataframe thead th {\n",
       "        text-align: right;\n",
       "    }\n",
       "</style>\n",
       "<table border=\"1\" class=\"dataframe\">\n",
       "  <thead>\n",
       "    <tr style=\"text-align: right;\">\n",
       "      <th></th>\n",
       "      <th>Store ID</th>\n",
       "      <th>Location</th>\n",
       "      <th>Number of Employees</th>\n",
       "    </tr>\n",
       "  </thead>\n",
       "  <tbody>\n",
       "    <tr>\n",
       "      <th>0</th>\n",
       "      <td>1</td>\n",
       "      <td>San Diego</td>\n",
       "      <td>100</td>\n",
       "    </tr>\n",
       "    <tr>\n",
       "      <th>1</th>\n",
       "      <td>2</td>\n",
       "      <td>Los Angeles</td>\n",
       "      <td>120</td>\n",
       "    </tr>\n",
       "    <tr>\n",
       "      <th>2</th>\n",
       "      <td>3</td>\n",
       "      <td>San Francisco</td>\n",
       "      <td>90</td>\n",
       "    </tr>\n",
       "    <tr>\n",
       "      <th>3</th>\n",
       "      <td>4</td>\n",
       "      <td>Sacramento</td>\n",
       "      <td>115</td>\n",
       "    </tr>\n",
       "  </tbody>\n",
       "</table>\n",
       "</div>"
      ],
      "text/plain": [
       "   Store ID       Location  Number of Employees\n",
       "0         1      San Diego                  100\n",
       "1         2    Los Angeles                  120\n",
       "2         3  San Francisco                   90\n",
       "3         4     Sacramento                  115"
      ]
     },
     "execution_count": 18,
     "metadata": {},
     "output_type": "execute_result"
    }
   ],
   "source": [
    "df2.head()"
   ]
  },
  {
   "cell_type": "markdown",
   "id": "2ad5cdda-5ea8-40bb-b507-04b7bffacd3a",
   "metadata": {},
   "source": [
    "# When should I create a Pandas dataframe using a dictionary or a list?\n",
    "\n",
    "You can create Pandas dataframes using either a dictionary or a list of lists, but depending on several factors, using one can be preferred \n",
    "over the other.\n",
    "\n",
    "Using dictionaries can be much faster, since you can just include the column names as the keys, and include the values of the column as a list \n",
    "for the keys. However, a disadvantage of using a dictionary is that the columns will not preserve the order that you entered them, and \n",
    "will default to alphabetical ordering instead. This is important to keep in mind especially if the column order is important.\n",
    "\n",
    "Using a list of lists allows you to enter each row of data one at a time as a separate list, but it may take longer than using a dictionary, \n",
    "since column names must be added as a separate list after the rows are added. However, a list of lists allows you to order the column names \n",
    "specifically, which can be very important."
   ]
  },
  {
   "cell_type": "code",
   "execution_count": null,
   "id": "7b78c13d-eac9-4fc8-ae4a-6e6aac3d8c91",
   "metadata": {},
   "outputs": [],
   "source": [
    "# Comma Separated Variables (CSV)\n",
    "\n",
    "most of the time, we’ll be working with datasets that already exist. One of the most common formats for big datasets is the CSV.\n",
    "\n",
    "CSV (comma separated values) is a text-only spreadsheet format.\n",
    "\n",
    "You can find CSVs in lots of places:\n",
    "1. Online datasets (here’s an example from data.gov)\n",
    "2. Export from Excel or Google Sheets\n",
    "3. Export from SQL\n",
    "\n",
    "The first row of a CSV contains column headings. All subsequent rows contain values. \n",
    "\n",
    "Each column heading and each variable is separated by a comma :\n",
    "\n",
    "column1,column2,column3\n",
    "value1,value2,value3\n",
    "\n",
    "The above example CSV represents the following table:\n",
    "\n",
    "column1\tcolumn2\tcolumn3\n",
    "value1\tvalue2\tvalue3"
   ]
  },
  {
   "cell_type": "code",
   "execution_count": 20,
   "id": "9d9f6f97-c436-4390-bc19-02f251d49a57",
   "metadata": {},
   "outputs": [
    {
     "data": {
      "text/html": [
       "<div>\n",
       "<style scoped>\n",
       "    .dataframe tbody tr th:only-of-type {\n",
       "        vertical-align: middle;\n",
       "    }\n",
       "\n",
       "    .dataframe tbody tr th {\n",
       "        vertical-align: top;\n",
       "    }\n",
       "\n",
       "    .dataframe thead th {\n",
       "        text-align: right;\n",
       "    }\n",
       "</style>\n",
       "<table border=\"1\" class=\"dataframe\">\n",
       "  <thead>\n",
       "    <tr style=\"text-align: right;\">\n",
       "      <th></th>\n",
       "      <th>name</th>\n",
       "      <th>cake_flavor</th>\n",
       "      <th>frosting_flavor</th>\n",
       "      <th>topping</th>\n",
       "    </tr>\n",
       "  </thead>\n",
       "  <tbody>\n",
       "    <tr>\n",
       "      <th>0</th>\n",
       "      <td>Chocolate Cake</td>\n",
       "      <td>chocolate</td>\n",
       "      <td>chocolate</td>\n",
       "      <td>chocolate shavings</td>\n",
       "    </tr>\n",
       "    <tr>\n",
       "      <th>1</th>\n",
       "      <td>Birthday Cake</td>\n",
       "      <td>vanilla</td>\n",
       "      <td>vanilla</td>\n",
       "      <td>rainbow sprinkles</td>\n",
       "    </tr>\n",
       "    <tr>\n",
       "      <th>2</th>\n",
       "      <td>Carrot Cake</td>\n",
       "      <td>carrot</td>\n",
       "      <td>cream cheese</td>\n",
       "      <td>almonds</td>\n",
       "    </tr>\n",
       "  </tbody>\n",
       "</table>\n",
       "</div>"
      ],
      "text/plain": [
       "             name cake_flavor frosting_flavor             topping\n",
       "0  Chocolate Cake   chocolate       chocolate  chocolate shavings\n",
       "1   Birthday Cake     vanilla         vanilla   rainbow sprinkles\n",
       "2     Carrot Cake      carrot    cream cheese             almonds"
      ]
     },
     "execution_count": 20,
     "metadata": {},
     "output_type": "execute_result"
    }
   ],
   "source": [
    "# read cupcakes.csv\n",
    "\n",
    "cupcakes_df = pd.read_csv(r\"D:\\GIT_Repositories\\pandas\\cupcakes.csv\")\n",
    "cupcakes_df"
   ]
  },
  {
   "cell_type": "markdown",
   "id": "a3765f44-e578-45cd-a11c-a5953fa0ccea",
   "metadata": {},
   "source": [
    "# In a CSV file, does spacing matter, such as before or after commas?\n",
    "\n",
    "Yes, in most cases for CSV files, Pandas will separate the data by the commas, and will keep any spaces that were included \n",
    "before or after a comma.\n",
    "\n",
    "Because of this, it is important that when creating a CSV file, each value should only be separated by a comma without any \n",
    "unwanted whitespace before or after the commas, since they will not be removed automatically.\n",
    "\n",
    "Example CSV row :\n",
    "-----------------\n",
    "name, date, location\n",
    "For the above example, when reading the data from this CSV, it will include the leading spaces for ’ date’ and ’ location’."
   ]
  },
  {
   "cell_type": "markdown",
   "id": "66cac6fb-7a18-4f10-a67d-6ec62feac517",
   "metadata": {},
   "source": [
    "## Loading and Saving CSVs\n",
    "\n",
    "When you have data in a CSV, you can load it into a DataFrame in Pandas using .read_csv():\n",
    "pd.read_csv('cupcakes.csv')\n",
    "\n",
    "We can also save data to a CSV, using .to_csv(). \n",
    "df.to_csv('cupcakes.csv')\n",
    "\n",
    "By default, .to_csv() -- will save the CSV file in your current directory."
   ]
  },
  {
   "cell_type": "code",
   "execution_count": 21,
   "id": "ee138ad3-2d1b-4bd8-9f55-51de9b31fb62",
   "metadata": {},
   "outputs": [
    {
     "name": "stdout",
     "output_type": "stream",
     "text": [
      "             name cake_flavor frosting_flavor             topping\n",
      "0  Chocolate Cake   chocolate       chocolate  chocolate shavings\n",
      "1   Birthday Cake     vanilla         vanilla   rainbow sprinkles\n",
      "2     Carrot Cake      carrot    cream cheese             almonds\n"
     ]
    }
   ],
   "source": [
    "print(cupcakes_df)"
   ]
  },
  {
   "cell_type": "markdown",
   "id": "774237dc-351c-4618-a353-0e7d71759755",
   "metadata": {},
   "source": [
    "## In Pandas, what happens if there are empty or missing values in a CSV file and we try to read it?\n",
    "\n",
    "If the CSV file contains missing values, then when we read the file, it will populate the missing cells with NaN. \n",
    "\n",
    "NaN is short of “Not a Number”, and used to signify missing values.\n",
    "\n",
    "If needed, we can replace these NaN values with an actual value, like 0 or an empty string '', using the fillna() method. \n",
    "Or, we can drop any rows that contain an empty value, using dropna().\n",
    "\n",
    "For example, if we had a CSV file containing the following:\n",
    "\n",
    "name,flavor,topping\n",
    ",chocolate,chocolate shavings\n",
    "Birthday Cake,,gold sprinkles\n",
    "\n",
    "When we read this file using Pandas read_csv, it will load it like so, filling in the missing values with NaN.\n",
    "\n",
    "name             flavor        topping\n",
    "NaN              chocolate     chocolate shavings\n",
    "Birthday Cake    NaN           gold sprinkles"
   ]
  },
  {
   "cell_type": "markdown",
   "id": "98c781d1-8a18-42ed-8600-76e4940b582e",
   "metadata": {},
   "source": [
    "## Inspect a DataFrame"
   ]
  },
  {
   "cell_type": "markdown",
   "id": "a7b7b0c3-3255-44f3-8bd0-1554499ad67b",
   "metadata": {},
   "source": [
    "When we load a new DataFrame from a CSV, we want to know what it looks like.\n",
    "\n",
    "If it’s a small DataFrame, you can display it by typing  ---> print(df).\n",
    "\n",
    "If it’s a larger DataFrame, it’s helpful to be able to inspect a few items without having to look at the entire DataFrame.\n",
    "df.head() ---> gives the first 5 rows of a DataFrame\n",
    "\n",
    "If you want to see more rows, you can pass in the positional argument n. \n",
    "df.head(10) ---> would show the first 10 rows.\n",
    "\n",
    "df.info() ----> gives some statistics for each column."
   ]
  },
  {
   "cell_type": "code",
   "execution_count": 23,
   "id": "5f2617f5-3e55-4d25-a3f7-8435e8eb22e8",
   "metadata": {},
   "outputs": [
    {
     "name": "stdout",
     "output_type": "stream",
     "text": [
      "<class 'pandas.core.frame.DataFrame'>\n",
      "RangeIndex: 3 entries, 0 to 2\n",
      "Data columns (total 4 columns):\n",
      " #   Column           Non-Null Count  Dtype \n",
      "---  ------           --------------  ----- \n",
      " 0   name             3 non-null      object\n",
      " 1   cake_flavor      3 non-null      object\n",
      " 2   frosting_flavor  3 non-null      object\n",
      " 3   topping          3 non-null      object\n",
      "dtypes: object(4)\n",
      "memory usage: 228.0+ bytes\n"
     ]
    }
   ],
   "source": [
    "cupcakes_df.info()"
   ]
  },
  {
   "cell_type": "markdown",
   "id": "f0ef6324-4322-4ad6-8f08-8775079698bf",
   "metadata": {},
   "source": [
    "### What information is returned when we run df.info()?\n",
    "\n"
   ]
  },
  {
   "cell_type": "code",
   "execution_count": null,
   "id": "0ea8e29f-17f4-454d-820f-5a542709fa28",
   "metadata": {},
   "outputs": [],
   "source": [
    "When using .info() in Pandas, it will return -\n",
    "information about the dataframe including the data types of each column and memory usage of the entire data.\n",
    "\n",
    "To see this better, let’s observe the information being printed out.\n",
    "\n",
    "First, it will print out the data type of the object, which is a Pandas dataframe.\n",
    "<class 'pandas.core.frame.DataFrame'>\n",
    "\n",
    "Next, it will display the number of entries, or rows, in the dataframe, and the range of values of the row indexes. \n",
    "Here the first index is 0 and the last index is 219.\n",
    "RangeIndex: 220 entries, 0 to 219\n",
    "\n",
    "After this, it prints out the information regarding each data column, including the column names, number of entries, whether they have non-null \n",
    "values, and the data type.\n",
    "id 220 non-null int64\n",
    "\n",
    "After this, it will display overall how many columns there are per datatype in the dataframe.\n",
    "dtypes: float64(1), int64(2), object(2)\n",
    "\n",
    "And finally, it shows the memory usage of the dataframe.\n",
    "memory usage: 8.7+ KB"
   ]
  },
  {
   "cell_type": "markdown",
   "id": "af12b96e-670b-4332-b4e5-d056af766f12",
   "metadata": {},
   "source": [
    "## Select Columns "
   ]
  },
  {
   "cell_type": "code",
   "execution_count": null,
   "id": "05217d86-df26-4c3e-ab82-099e9a76a11e",
   "metadata": {},
   "outputs": [],
   "source": [
    "\n",
    "i.e. select parts of those datasets that are interesting or important to our analyses.\n",
    "\n",
    "There are two possible syntaxes for selecting all values from a column:\n",
    "\n",
    "Method 1: Select the column as if you were selecting a value from a dictionary using a key.  ---> df['Column_Name']\n",
    "\n",
    "Method 2: If the name of a column follows all of the rules for a variable name (doesn’t start with a number, doesn’t contain spaces or special characters, etc.), \n",
    "then you can select it using the dot notation ----> df.column_name\n",
    "\n",
    "Note: When we select a single column, the result is called a Series.\n"
   ]
  },
  {
   "cell_type": "code",
   "execution_count": null,
   "id": "dc758bc7-2e0d-488f-b29a-84ca15b42961",
   "metadata": {},
   "outputs": [],
   "source": [
    "# Example:\n",
    "\n",
    "'''\n",
    "The DataFrame df represents data collected by four health clinics run by the same organization. \n",
    "\n",
    "Each row represents a month from January through June and shows the number of appointments made at four different clinics.\n",
    "\n",
    "You want to analyze what’s been happening at the North location. \n",
    "\n",
    "Create a variable called clinic_north that contains ONLY the data from the column clinic_north\n",
    "\n",
    "'''"
   ]
  },
  {
   "cell_type": "code",
   "execution_count": 24,
   "id": "6cf90e8e-90bf-4b78-9982-dc371dd25c70",
   "metadata": {},
   "outputs": [],
   "source": [
    "health_clinics_df = pd.DataFrame([\n",
    "  ['January', 100, 100, 23, 100],   # month and no of appointment at each of the 4 clinics\n",
    "  ['February', 51, 45, 145, 45],\n",
    "  ['March', 81, 96, 65, 96],\n",
    "  ['April', 80, 80, 54, 180],\n",
    "  ['May', 51, 54, 54, 154],\n",
    "  ['June', 112, 109, 79, 129]],\n",
    "  columns=['month', \n",
    "           'clinic_east',\n",
    "           'clinic_north', \n",
    "           'clinic_south',\n",
    "           'clinic_west']\n",
    ")"
   ]
  },
  {
   "cell_type": "markdown",
   "id": "c902ba50-2045-4418-9516-95b31262057c",
   "metadata": {},
   "source": [
    "to analyze what’s been happening at the North location. "
   ]
  },
  {
   "cell_type": "code",
   "execution_count": 41,
   "id": "eca433e2-2440-4a90-8a7d-c0b3ab0fb26e",
   "metadata": {},
   "outputs": [
    {
     "data": {
      "text/plain": [
       "0    100\n",
       "1     45\n",
       "2     96\n",
       "3     80\n",
       "4     54\n",
       "5    109\n",
       "Name: clinic_north, dtype: int64"
      ]
     },
     "execution_count": 41,
     "metadata": {},
     "output_type": "execute_result"
    }
   ],
   "source": [
    "north_clinics_df = health_clinics_df['clinic_north']\n",
    "north_clinics_df"
   ]
  },
  {
   "cell_type": "code",
   "execution_count": 42,
   "id": "77bf4ffc-2cf1-42ee-8e38-3b6c0f100d02",
   "metadata": {},
   "outputs": [
    {
     "name": "stdout",
     "output_type": "stream",
     "text": [
      "<class 'pandas.core.frame.DataFrame'>\n"
     ]
    }
   ],
   "source": [
    "print(type(health_clinics_df))"
   ]
  },
  {
   "cell_type": "code",
   "execution_count": 43,
   "id": "7e3b5494-708c-45b6-8749-4a9d49743061",
   "metadata": {},
   "outputs": [
    {
     "name": "stdout",
     "output_type": "stream",
     "text": [
      "<class 'pandas.core.series.Series'>\n"
     ]
    }
   ],
   "source": [
    "print(type(north_clinics_df))"
   ]
  },
  {
   "cell_type": "markdown",
   "id": "36f30b75-44c9-4ee5-a293-e132ba54d5d5",
   "metadata": {},
   "source": [
    "## How is a Pandas series different from a dataframe???"
   ]
  },
  {
   "cell_type": "code",
   "execution_count": null,
   "id": "17a47993-5e49-438d-9492-7970955d48a7",
   "metadata": {},
   "outputs": [],
   "source": [
    "In Pandas -\n",
    "\n",
    "Series:\n",
    "========\n",
    "\n",
    "a series is a one-dimensional object that contains any type of data, similar in ways to a Numpy array.\n",
    "\n",
    "Series objects have a single axis label, like a column title, which is the index of the series. \n",
    "\n",
    "A series is essentially a single column.\n",
    "\n",
    "# Creating a series\n",
    "clinic_east = pd.Series([100, 51, 81, 80, 51, 112])\n",
    "\n",
    "\n",
    "DataFrame:\n",
    "==========\n",
    "\n",
    "A dataframe is a two-dimensional object that can hold multiple columns of different types of data. \n",
    "They are similar to a table in SQL.\n",
    "\n",
    "A single column of a dataframe is a series, and a dataframe is a container of two or more series objects.\n",
    "\n",
    "# Creating a DataFrame\n",
    "df = pd.DataFrame ([\n",
    "  ['January', 100, 100],\n",
    "  ['February', 51, 45],\n",
    "  ['March', 81, 96]],\n",
    "  columns=[\"month\", \"clinic_east\", \"clinic_north\"]\n",
    ")"
   ]
  },
  {
   "cell_type": "markdown",
   "id": "e3ea4c84-ec36-4d55-8770-77c77435bef7",
   "metadata": {},
   "source": [
    "## Selecting Multiple Columns "
   ]
  },
  {
   "cell_type": "code",
   "execution_count": null,
   "id": "9c8afac2-09f1-4b81-87ea-3e66c3b61320",
   "metadata": {},
   "outputs": [],
   "source": [
    "To select two or more columns from a DataFrame, we use a list of the column names.\n",
    "\n",
    "Note: Make sure that you have a double set of brackets ( [[]] ), or this command won’t work!"
   ]
  },
  {
   "cell_type": "markdown",
   "id": "d2d0e383-e498-4676-b2b9-87ce2c102776",
   "metadata": {},
   "source": [
    "#### you want to compare visits to the Northern and Southern clinics.\n",
    "\n",
    "Create a variable called clinic_north_south that contains ONLY the data from the columns clinic_north and clinic_south."
   ]
  },
  {
   "cell_type": "code",
   "execution_count": 45,
   "id": "96745923-4723-4e56-a3b0-2a984f0bb48a",
   "metadata": {},
   "outputs": [
    {
     "data": {
      "text/html": [
       "<div>\n",
       "<style scoped>\n",
       "    .dataframe tbody tr th:only-of-type {\n",
       "        vertical-align: middle;\n",
       "    }\n",
       "\n",
       "    .dataframe tbody tr th {\n",
       "        vertical-align: top;\n",
       "    }\n",
       "\n",
       "    .dataframe thead th {\n",
       "        text-align: right;\n",
       "    }\n",
       "</style>\n",
       "<table border=\"1\" class=\"dataframe\">\n",
       "  <thead>\n",
       "    <tr style=\"text-align: right;\">\n",
       "      <th></th>\n",
       "      <th>clinic_north</th>\n",
       "      <th>clinic_south</th>\n",
       "    </tr>\n",
       "  </thead>\n",
       "  <tbody>\n",
       "    <tr>\n",
       "      <th>0</th>\n",
       "      <td>100</td>\n",
       "      <td>23</td>\n",
       "    </tr>\n",
       "    <tr>\n",
       "      <th>1</th>\n",
       "      <td>45</td>\n",
       "      <td>145</td>\n",
       "    </tr>\n",
       "    <tr>\n",
       "      <th>2</th>\n",
       "      <td>96</td>\n",
       "      <td>65</td>\n",
       "    </tr>\n",
       "    <tr>\n",
       "      <th>3</th>\n",
       "      <td>80</td>\n",
       "      <td>54</td>\n",
       "    </tr>\n",
       "    <tr>\n",
       "      <th>4</th>\n",
       "      <td>54</td>\n",
       "      <td>54</td>\n",
       "    </tr>\n",
       "    <tr>\n",
       "      <th>5</th>\n",
       "      <td>109</td>\n",
       "      <td>79</td>\n",
       "    </tr>\n",
       "  </tbody>\n",
       "</table>\n",
       "</div>"
      ],
      "text/plain": [
       "   clinic_north  clinic_south\n",
       "0           100            23\n",
       "1            45           145\n",
       "2            96            65\n",
       "3            80            54\n",
       "4            54            54\n",
       "5           109            79"
      ]
     },
     "execution_count": 45,
     "metadata": {},
     "output_type": "execute_result"
    }
   ],
   "source": [
    "clinic_north_south = health_clinics_df[['clinic_north', 'clinic_south']]\n",
    "clinic_north_south"
   ]
  },
  {
   "cell_type": "markdown",
   "id": "fad124bb-19c1-4d91-81d7-4ed8c823f824",
   "metadata": {},
   "source": [
    "### When we select multiple columns, do we get a Series or a DataFrame?"
   ]
  },
  {
   "cell_type": "code",
   "execution_count": 48,
   "id": "f1884ca3-86f2-4d60-87b7-aca9653a866d",
   "metadata": {},
   "outputs": [
    {
     "name": "stdout",
     "output_type": "stream",
     "text": [
      "<class 'pandas.core.frame.DataFrame'>\n"
     ]
    }
   ],
   "source": [
    "print(type(clinic_north_south))  # its data frame"
   ]
  },
  {
   "cell_type": "markdown",
   "id": "0b1f592e-a2eb-4c2d-8c8c-d1ba9da67481",
   "metadata": {},
   "source": [
    "## Can we select columns of a Pandas dataframe in any order?"
   ]
  },
  {
   "cell_type": "code",
   "execution_count": null,
   "id": "50866aac-4ec7-423c-8968-8320fd941872",
   "metadata": {},
   "outputs": [],
   "source": [
    "You certainly can! \n",
    "\n",
    "When selecting multiple columns from a DataFrame, you can order the columns however you would like them to appear. \n",
    "\n",
    "This is particularly useful because if we wanted to see the data in a certain way different from the original column \n",
    "order, we can reorder them in the output however we need.\n"
   ]
  },
  {
   "cell_type": "code",
   "execution_count": 52,
   "id": "4d32ab31-8704-4523-9aa9-fd5ba957b9db",
   "metadata": {},
   "outputs": [],
   "source": [
    "# Example:\n",
    "\n",
    "df_names = pd.DataFrame([\n",
    "  ['Doe', 'Jane'],\n",
    "  ['Law', 'Bob']],\n",
    "  columns = ['last_name', 'first_name'])"
   ]
  },
  {
   "cell_type": "code",
   "execution_count": 54,
   "id": "5fd41db2-414b-4f2f-9084-39881b8b3b21",
   "metadata": {},
   "outputs": [
    {
     "data": {
      "text/html": [
       "<div>\n",
       "<style scoped>\n",
       "    .dataframe tbody tr th:only-of-type {\n",
       "        vertical-align: middle;\n",
       "    }\n",
       "\n",
       "    .dataframe tbody tr th {\n",
       "        vertical-align: top;\n",
       "    }\n",
       "\n",
       "    .dataframe thead th {\n",
       "        text-align: right;\n",
       "    }\n",
       "</style>\n",
       "<table border=\"1\" class=\"dataframe\">\n",
       "  <thead>\n",
       "    <tr style=\"text-align: right;\">\n",
       "      <th></th>\n",
       "      <th>last_name</th>\n",
       "      <th>first_name</th>\n",
       "    </tr>\n",
       "  </thead>\n",
       "  <tbody>\n",
       "    <tr>\n",
       "      <th>0</th>\n",
       "      <td>Doe</td>\n",
       "      <td>Jane</td>\n",
       "    </tr>\n",
       "    <tr>\n",
       "      <th>1</th>\n",
       "      <td>Law</td>\n",
       "      <td>Bob</td>\n",
       "    </tr>\n",
       "  </tbody>\n",
       "</table>\n",
       "</div>"
      ],
      "text/plain": [
       "  last_name first_name\n",
       "0       Doe       Jane\n",
       "1       Law        Bob"
      ]
     },
     "execution_count": 54,
     "metadata": {},
     "output_type": "execute_result"
    }
   ],
   "source": [
    "df_names"
   ]
  },
  {
   "cell_type": "code",
   "execution_count": 53,
   "id": "6ac5c832-accb-48a5-82a6-838993d45d8e",
   "metadata": {},
   "outputs": [
    {
     "data": {
      "text/html": [
       "<div>\n",
       "<style scoped>\n",
       "    .dataframe tbody tr th:only-of-type {\n",
       "        vertical-align: middle;\n",
       "    }\n",
       "\n",
       "    .dataframe tbody tr th {\n",
       "        vertical-align: top;\n",
       "    }\n",
       "\n",
       "    .dataframe thead th {\n",
       "        text-align: right;\n",
       "    }\n",
       "</style>\n",
       "<table border=\"1\" class=\"dataframe\">\n",
       "  <thead>\n",
       "    <tr style=\"text-align: right;\">\n",
       "      <th></th>\n",
       "      <th>first_name</th>\n",
       "      <th>last_name</th>\n",
       "    </tr>\n",
       "  </thead>\n",
       "  <tbody>\n",
       "    <tr>\n",
       "      <th>0</th>\n",
       "      <td>Jane</td>\n",
       "      <td>Doe</td>\n",
       "    </tr>\n",
       "    <tr>\n",
       "      <th>1</th>\n",
       "      <td>Bob</td>\n",
       "      <td>Law</td>\n",
       "    </tr>\n",
       "  </tbody>\n",
       "</table>\n",
       "</div>"
      ],
      "text/plain": [
       "  first_name last_name\n",
       "0       Jane       Doe\n",
       "1        Bob       Law"
      ]
     },
     "execution_count": 53,
     "metadata": {},
     "output_type": "execute_result"
    }
   ],
   "source": [
    "# We can select the first_name column first, \n",
    "# then the last_name.\n",
    "full_names = df_names[['first_name', 'last_name']]\n",
    "full_names"
   ]
  },
  {
   "cell_type": "markdown",
   "id": "6edcc01f-213d-4cdc-82cd-da8a4aa9747f",
   "metadata": {},
   "source": [
    "## Select Rows"
   ]
  },
  {
   "cell_type": "code",
   "execution_count": 57,
   "id": "6da96965-4c6f-4e57-a57a-8ba3ad207b44",
   "metadata": {},
   "outputs": [
    {
     "data": {
      "text/html": [
       "<div>\n",
       "<style scoped>\n",
       "    .dataframe tbody tr th:only-of-type {\n",
       "        vertical-align: middle;\n",
       "    }\n",
       "\n",
       "    .dataframe tbody tr th {\n",
       "        vertical-align: top;\n",
       "    }\n",
       "\n",
       "    .dataframe thead th {\n",
       "        text-align: right;\n",
       "    }\n",
       "</style>\n",
       "<table border=\"1\" class=\"dataframe\">\n",
       "  <thead>\n",
       "    <tr style=\"text-align: right;\">\n",
       "      <th></th>\n",
       "      <th>id</th>\n",
       "      <th>first_name</th>\n",
       "      <th>last_name</th>\n",
       "      <th>email</th>\n",
       "      <th>shoe_type</th>\n",
       "      <th>shoe_material</th>\n",
       "      <th>shoe_color</th>\n",
       "    </tr>\n",
       "  </thead>\n",
       "  <tbody>\n",
       "    <tr>\n",
       "      <th>0</th>\n",
       "      <td>54791.0</td>\n",
       "      <td>Rebecca</td>\n",
       "      <td>Lindsay</td>\n",
       "      <td>RebeccaLindsay57@hotmail.com</td>\n",
       "      <td>clogs</td>\n",
       "      <td>faux-leather</td>\n",
       "      <td>black</td>\n",
       "    </tr>\n",
       "    <tr>\n",
       "      <th>1</th>\n",
       "      <td>53450.0</td>\n",
       "      <td>Emily</td>\n",
       "      <td>Joyce</td>\n",
       "      <td>EmilyJoyce25@gmail.com</td>\n",
       "      <td>ballet flats</td>\n",
       "      <td>faux-leather</td>\n",
       "      <td>navy</td>\n",
       "    </tr>\n",
       "    <tr>\n",
       "      <th>2</th>\n",
       "      <td>91987.0</td>\n",
       "      <td>Joyce</td>\n",
       "      <td>Waller</td>\n",
       "      <td>Joyce.Waller@gmail.com</td>\n",
       "      <td>sandals</td>\n",
       "      <td>fabric</td>\n",
       "      <td>black</td>\n",
       "    </tr>\n",
       "    <tr>\n",
       "      <th>3</th>\n",
       "      <td>14437.0</td>\n",
       "      <td>Justin</td>\n",
       "      <td>Erickson</td>\n",
       "      <td>Justin.Erickson@outlook.com</td>\n",
       "      <td>clogs</td>\n",
       "      <td>faux-leather</td>\n",
       "      <td>red</td>\n",
       "    </tr>\n",
       "    <tr>\n",
       "      <th>4</th>\n",
       "      <td>79357.0</td>\n",
       "      <td>Andrew</td>\n",
       "      <td>Banks</td>\n",
       "      <td>AB4318@gmail.com</td>\n",
       "      <td>boots</td>\n",
       "      <td>leather</td>\n",
       "      <td>brown</td>\n",
       "    </tr>\n",
       "    <tr>\n",
       "      <th>5</th>\n",
       "      <td>52386.0</td>\n",
       "      <td>Julie</td>\n",
       "      <td>Marsh</td>\n",
       "      <td>JulieMarsh59@gmail.com</td>\n",
       "      <td>sandals</td>\n",
       "      <td>fabric</td>\n",
       "      <td>black</td>\n",
       "    </tr>\n",
       "    <tr>\n",
       "      <th>6</th>\n",
       "      <td>20487.0</td>\n",
       "      <td>Thomas</td>\n",
       "      <td>Jensen</td>\n",
       "      <td>TJ5470@gmail.com</td>\n",
       "      <td>clogs</td>\n",
       "      <td>fabric</td>\n",
       "      <td>navy</td>\n",
       "    </tr>\n",
       "    <tr>\n",
       "      <th>7</th>\n",
       "      <td>76971.0</td>\n",
       "      <td>Janice</td>\n",
       "      <td>Hicks</td>\n",
       "      <td>Janice.Hicks@gmail.com</td>\n",
       "      <td>clogs</td>\n",
       "      <td>faux-leather</td>\n",
       "      <td>navy</td>\n",
       "    </tr>\n",
       "    <tr>\n",
       "      <th>8</th>\n",
       "      <td>21586.0</td>\n",
       "      <td>Gabriel</td>\n",
       "      <td>Porter</td>\n",
       "      <td>GabrielPorter24@gmail.com</td>\n",
       "      <td>clogs</td>\n",
       "      <td>leather</td>\n",
       "      <td>brown</td>\n",
       "    </tr>\n",
       "    <tr>\n",
       "      <th>9</th>\n",
       "      <td>62083.0</td>\n",
       "      <td>Frances</td>\n",
       "      <td>Palmer</td>\n",
       "      <td>FrancesPalmer50@gmail.com</td>\n",
       "      <td>wedges</td>\n",
       "      <td>leather</td>\n",
       "      <td>white</td>\n",
       "    </tr>\n",
       "    <tr>\n",
       "      <th>10</th>\n",
       "      <td>NaN</td>\n",
       "      <td>NaN</td>\n",
       "      <td>NaN</td>\n",
       "      <td>NaN</td>\n",
       "      <td>NaN</td>\n",
       "      <td>NaN</td>\n",
       "      <td>NaN</td>\n",
       "    </tr>\n",
       "  </tbody>\n",
       "</table>\n",
       "</div>"
      ],
      "text/plain": [
       "         id first_name last_name                         email     shoe_type  \\\n",
       "0   54791.0    Rebecca   Lindsay  RebeccaLindsay57@hotmail.com         clogs   \n",
       "1   53450.0      Emily     Joyce        EmilyJoyce25@gmail.com  ballet flats   \n",
       "2   91987.0      Joyce    Waller        Joyce.Waller@gmail.com       sandals   \n",
       "3   14437.0     Justin  Erickson   Justin.Erickson@outlook.com         clogs   \n",
       "4   79357.0     Andrew     Banks              AB4318@gmail.com         boots   \n",
       "5   52386.0      Julie     Marsh        JulieMarsh59@gmail.com       sandals   \n",
       "6   20487.0     Thomas    Jensen              TJ5470@gmail.com         clogs   \n",
       "7   76971.0     Janice     Hicks        Janice.Hicks@gmail.com         clogs   \n",
       "8   21586.0    Gabriel    Porter     GabrielPorter24@gmail.com         clogs   \n",
       "9   62083.0    Frances    Palmer     FrancesPalmer50@gmail.com        wedges   \n",
       "10      NaN        NaN       NaN                           NaN           NaN   \n",
       "\n",
       "   shoe_material shoe_color  \n",
       "0   faux-leather      black  \n",
       "1   faux-leather       navy  \n",
       "2         fabric      black  \n",
       "3   faux-leather        red  \n",
       "4        leather      brown  \n",
       "5         fabric      black  \n",
       "6         fabric       navy  \n",
       "7   faux-leather       navy  \n",
       "8        leather      brown  \n",
       "9        leather      white  \n",
       "10           NaN        NaN  "
      ]
     },
     "execution_count": 57,
     "metadata": {},
     "output_type": "execute_result"
    }
   ],
   "source": [
    "orders_df = pd.read_csv(r'D:\\GIT_Repositories\\pandas\\shoefly_orders.csv')\n",
    "orders_df"
   ]
  },
  {
   "cell_type": "code",
   "execution_count": null,
   "id": "15ef3fc4-6b37-4849-9c54-36a39efbe196",
   "metadata": {},
   "outputs": [],
   "source": [
    "Maybe our Customer Service department has just received a message from Joyce Waller, \n",
    "so we want to know exactly what she ordered. \n",
    "i.e. We want to select this single row of data."
   ]
  },
  {
   "cell_type": "code",
   "execution_count": 59,
   "id": "655fe16b-9c53-41ec-941c-a616390d4f43",
   "metadata": {},
   "outputs": [
    {
     "data": {
      "text/plain": [
       "id                              91987.0\n",
       "first_name                        Joyce\n",
       "last_name                        Waller\n",
       "email            Joyce.Waller@gmail.com\n",
       "shoe_type                       sandals\n",
       "shoe_material                    fabric\n",
       "shoe_color                        black\n",
       "Name: 2, dtype: object"
      ]
     },
     "execution_count": 59,
     "metadata": {},
     "output_type": "execute_result"
    }
   ],
   "source": [
    "# DataFrames are zero-indexed, meaning that we start with the 0th row and count up from there. \n",
    "\n",
    "# Joyce Waller’s order is the 2nd row.\n",
    "\n",
    "orders_df.iloc[2]"
   ]
  },
  {
   "cell_type": "code",
   "execution_count": null,
   "id": "18aecf84-b35a-4f58-918c-c40b283e1992",
   "metadata": {},
   "outputs": [],
   "source": [
    "Scenario:  Selecting Row\n",
    "\n",
    "You’re getting ready to staff the clinic for March this year. \n",
    "\n",
    "You want to know how many visits took place in March last year, to help you prepare.\n",
    "\n",
    "Write a command that will produce a Series made up of the March data from df from all four clinic sites and \n",
    "save it to the variable march."
   ]
  },
  {
   "cell_type": "code",
   "execution_count": 60,
   "id": "bb48433a-c720-4dcc-8ab7-0d59aafe4e1a",
   "metadata": {},
   "outputs": [
    {
     "data": {
      "text/html": [
       "<div>\n",
       "<style scoped>\n",
       "    .dataframe tbody tr th:only-of-type {\n",
       "        vertical-align: middle;\n",
       "    }\n",
       "\n",
       "    .dataframe tbody tr th {\n",
       "        vertical-align: top;\n",
       "    }\n",
       "\n",
       "    .dataframe thead th {\n",
       "        text-align: right;\n",
       "    }\n",
       "</style>\n",
       "<table border=\"1\" class=\"dataframe\">\n",
       "  <thead>\n",
       "    <tr style=\"text-align: right;\">\n",
       "      <th></th>\n",
       "      <th>month</th>\n",
       "      <th>clinic_east</th>\n",
       "      <th>clinic_north</th>\n",
       "      <th>clinic_south</th>\n",
       "      <th>clinic_west</th>\n",
       "    </tr>\n",
       "  </thead>\n",
       "  <tbody>\n",
       "    <tr>\n",
       "      <th>0</th>\n",
       "      <td>January</td>\n",
       "      <td>100</td>\n",
       "      <td>100</td>\n",
       "      <td>23</td>\n",
       "      <td>100</td>\n",
       "    </tr>\n",
       "    <tr>\n",
       "      <th>1</th>\n",
       "      <td>February</td>\n",
       "      <td>51</td>\n",
       "      <td>45</td>\n",
       "      <td>145</td>\n",
       "      <td>45</td>\n",
       "    </tr>\n",
       "    <tr>\n",
       "      <th>2</th>\n",
       "      <td>March</td>\n",
       "      <td>81</td>\n",
       "      <td>96</td>\n",
       "      <td>65</td>\n",
       "      <td>96</td>\n",
       "    </tr>\n",
       "    <tr>\n",
       "      <th>3</th>\n",
       "      <td>April</td>\n",
       "      <td>80</td>\n",
       "      <td>80</td>\n",
       "      <td>54</td>\n",
       "      <td>180</td>\n",
       "    </tr>\n",
       "    <tr>\n",
       "      <th>4</th>\n",
       "      <td>May</td>\n",
       "      <td>51</td>\n",
       "      <td>54</td>\n",
       "      <td>54</td>\n",
       "      <td>154</td>\n",
       "    </tr>\n",
       "    <tr>\n",
       "      <th>5</th>\n",
       "      <td>June</td>\n",
       "      <td>112</td>\n",
       "      <td>109</td>\n",
       "      <td>79</td>\n",
       "      <td>129</td>\n",
       "    </tr>\n",
       "  </tbody>\n",
       "</table>\n",
       "</div>"
      ],
      "text/plain": [
       "      month  clinic_east  clinic_north  clinic_south  clinic_west\n",
       "0   January          100           100            23          100\n",
       "1  February           51            45           145           45\n",
       "2     March           81            96            65           96\n",
       "3     April           80            80            54          180\n",
       "4       May           51            54            54          154\n",
       "5      June          112           109            79          129"
      ]
     },
     "execution_count": 60,
     "metadata": {},
     "output_type": "execute_result"
    }
   ],
   "source": [
    "health_clinics_df"
   ]
  },
  {
   "cell_type": "code",
   "execution_count": 62,
   "id": "8559c5e6-239f-4ccc-83eb-bdf76adfc599",
   "metadata": {},
   "outputs": [
    {
     "data": {
      "text/plain": [
       "month           March\n",
       "clinic_east        81\n",
       "clinic_north       96\n",
       "clinic_south       65\n",
       "clinic_west        96\n",
       "Name: 2, dtype: object"
      ]
     },
     "execution_count": 62,
     "metadata": {},
     "output_type": "execute_result"
    }
   ],
   "source": [
    "# March month index = 2\n",
    "\n",
    "march = health_clinics_df.iloc[2]\n",
    "march"
   ]
  },
  {
   "cell_type": "code",
   "execution_count": 64,
   "id": "b6a265f6-817a-4345-843b-4fadfb997ae0",
   "metadata": {},
   "outputs": [
    {
     "name": "stdout",
     "output_type": "stream",
     "text": [
      "<class 'pandas.core.series.Series'>\n"
     ]
    }
   ],
   "source": [
    "print(type(march))"
   ]
  },
  {
   "cell_type": "markdown",
   "id": "5cd142c4-3e8a-4311-8457-6ed060ae1732",
   "metadata": {},
   "source": [
    "## How come the result of the .iloc is not a list? Why does it show a series?"
   ]
  },
  {
   "cell_type": "code",
   "execution_count": null,
   "id": "72aa61fa-6b7e-4ee3-b727-508e9afe44e0",
   "metadata": {},
   "outputs": [],
   "source": [
    "When using iloc in Pandas, it will return a specified row, but in the form of a Series.\n",
    "\n",
    "The left column in the result is composed of indexes which are the column names from the dataframe.\n",
    "\n",
    "And the right column is composed of the values for each column in the row of data.\n",
    "\n",
    "This is a helpful feature in Pandas because it displays all the information about the columns and values of a row \n",
    "in a clear way\n",
    "\n",
    "We may think of iloc() for a single row is taking that row of data from the data frame and transposing it into \n",
    "a column (i.e., series). "
   ]
  },
  {
   "cell_type": "markdown",
   "id": "d1d67a5a-59f7-4414-b8e6-8d53fbf08342",
   "metadata": {},
   "source": [
    "## Selecting Multiple Rows\n",
    "\n",
    "Here are some different ways of selecting multiple rows:\n"
   ]
  },
  {
   "cell_type": "code",
   "execution_count": null,
   "id": "750cffae-6d00-4948-8f91-7d31ff6afdaf",
   "metadata": {},
   "outputs": [],
   "source": [
    "select all rows starting at the 3rd row and up to but not including the 7th row \n",
    "(i.e., the 3rd row, 4th row, 5th row, and 6th row)"
   ]
  },
  {
   "cell_type": "code",
   "execution_count": 65,
   "id": "0337dddc-cd06-4821-a7cc-4ea87410962f",
   "metadata": {},
   "outputs": [
    {
     "data": {
      "text/html": [
       "<div>\n",
       "<style scoped>\n",
       "    .dataframe tbody tr th:only-of-type {\n",
       "        vertical-align: middle;\n",
       "    }\n",
       "\n",
       "    .dataframe tbody tr th {\n",
       "        vertical-align: top;\n",
       "    }\n",
       "\n",
       "    .dataframe thead th {\n",
       "        text-align: right;\n",
       "    }\n",
       "</style>\n",
       "<table border=\"1\" class=\"dataframe\">\n",
       "  <thead>\n",
       "    <tr style=\"text-align: right;\">\n",
       "      <th></th>\n",
       "      <th>id</th>\n",
       "      <th>first_name</th>\n",
       "      <th>last_name</th>\n",
       "      <th>email</th>\n",
       "      <th>shoe_type</th>\n",
       "      <th>shoe_material</th>\n",
       "      <th>shoe_color</th>\n",
       "    </tr>\n",
       "  </thead>\n",
       "  <tbody>\n",
       "    <tr>\n",
       "      <th>3</th>\n",
       "      <td>14437.0</td>\n",
       "      <td>Justin</td>\n",
       "      <td>Erickson</td>\n",
       "      <td>Justin.Erickson@outlook.com</td>\n",
       "      <td>clogs</td>\n",
       "      <td>faux-leather</td>\n",
       "      <td>red</td>\n",
       "    </tr>\n",
       "    <tr>\n",
       "      <th>4</th>\n",
       "      <td>79357.0</td>\n",
       "      <td>Andrew</td>\n",
       "      <td>Banks</td>\n",
       "      <td>AB4318@gmail.com</td>\n",
       "      <td>boots</td>\n",
       "      <td>leather</td>\n",
       "      <td>brown</td>\n",
       "    </tr>\n",
       "    <tr>\n",
       "      <th>5</th>\n",
       "      <td>52386.0</td>\n",
       "      <td>Julie</td>\n",
       "      <td>Marsh</td>\n",
       "      <td>JulieMarsh59@gmail.com</td>\n",
       "      <td>sandals</td>\n",
       "      <td>fabric</td>\n",
       "      <td>black</td>\n",
       "    </tr>\n",
       "    <tr>\n",
       "      <th>6</th>\n",
       "      <td>20487.0</td>\n",
       "      <td>Thomas</td>\n",
       "      <td>Jensen</td>\n",
       "      <td>TJ5470@gmail.com</td>\n",
       "      <td>clogs</td>\n",
       "      <td>fabric</td>\n",
       "      <td>navy</td>\n",
       "    </tr>\n",
       "  </tbody>\n",
       "</table>\n",
       "</div>"
      ],
      "text/plain": [
       "        id first_name last_name                        email shoe_type  \\\n",
       "3  14437.0     Justin  Erickson  Justin.Erickson@outlook.com     clogs   \n",
       "4  79357.0     Andrew     Banks             AB4318@gmail.com     boots   \n",
       "5  52386.0      Julie     Marsh       JulieMarsh59@gmail.com   sandals   \n",
       "6  20487.0     Thomas    Jensen             TJ5470@gmail.com     clogs   \n",
       "\n",
       "  shoe_material shoe_color  \n",
       "3  faux-leather        red  \n",
       "4       leather      brown  \n",
       "5        fabric      black  \n",
       "6        fabric       navy  "
      ]
     },
     "execution_count": 65,
     "metadata": {},
     "output_type": "execute_result"
    }
   ],
   "source": [
    "orders_df.iloc[3:7]"
   ]
  },
  {
   "cell_type": "code",
   "execution_count": null,
   "id": "d50abf34-5d59-41a1-8cac-b96397c95d8f",
   "metadata": {},
   "outputs": [],
   "source": [
    "select all rows up to, but not including the 4th row (i.e., the 0th, 1st, 2nd, and 3rd rows)"
   ]
  },
  {
   "cell_type": "code",
   "execution_count": 66,
   "id": "f9e14842-088e-4891-b7a6-b2744dd27b89",
   "metadata": {},
   "outputs": [
    {
     "data": {
      "text/html": [
       "<div>\n",
       "<style scoped>\n",
       "    .dataframe tbody tr th:only-of-type {\n",
       "        vertical-align: middle;\n",
       "    }\n",
       "\n",
       "    .dataframe tbody tr th {\n",
       "        vertical-align: top;\n",
       "    }\n",
       "\n",
       "    .dataframe thead th {\n",
       "        text-align: right;\n",
       "    }\n",
       "</style>\n",
       "<table border=\"1\" class=\"dataframe\">\n",
       "  <thead>\n",
       "    <tr style=\"text-align: right;\">\n",
       "      <th></th>\n",
       "      <th>id</th>\n",
       "      <th>first_name</th>\n",
       "      <th>last_name</th>\n",
       "      <th>email</th>\n",
       "      <th>shoe_type</th>\n",
       "      <th>shoe_material</th>\n",
       "      <th>shoe_color</th>\n",
       "    </tr>\n",
       "  </thead>\n",
       "  <tbody>\n",
       "    <tr>\n",
       "      <th>0</th>\n",
       "      <td>54791.0</td>\n",
       "      <td>Rebecca</td>\n",
       "      <td>Lindsay</td>\n",
       "      <td>RebeccaLindsay57@hotmail.com</td>\n",
       "      <td>clogs</td>\n",
       "      <td>faux-leather</td>\n",
       "      <td>black</td>\n",
       "    </tr>\n",
       "    <tr>\n",
       "      <th>1</th>\n",
       "      <td>53450.0</td>\n",
       "      <td>Emily</td>\n",
       "      <td>Joyce</td>\n",
       "      <td>EmilyJoyce25@gmail.com</td>\n",
       "      <td>ballet flats</td>\n",
       "      <td>faux-leather</td>\n",
       "      <td>navy</td>\n",
       "    </tr>\n",
       "    <tr>\n",
       "      <th>2</th>\n",
       "      <td>91987.0</td>\n",
       "      <td>Joyce</td>\n",
       "      <td>Waller</td>\n",
       "      <td>Joyce.Waller@gmail.com</td>\n",
       "      <td>sandals</td>\n",
       "      <td>fabric</td>\n",
       "      <td>black</td>\n",
       "    </tr>\n",
       "    <tr>\n",
       "      <th>3</th>\n",
       "      <td>14437.0</td>\n",
       "      <td>Justin</td>\n",
       "      <td>Erickson</td>\n",
       "      <td>Justin.Erickson@outlook.com</td>\n",
       "      <td>clogs</td>\n",
       "      <td>faux-leather</td>\n",
       "      <td>red</td>\n",
       "    </tr>\n",
       "  </tbody>\n",
       "</table>\n",
       "</div>"
      ],
      "text/plain": [
       "        id first_name last_name                         email     shoe_type  \\\n",
       "0  54791.0    Rebecca   Lindsay  RebeccaLindsay57@hotmail.com         clogs   \n",
       "1  53450.0      Emily     Joyce        EmilyJoyce25@gmail.com  ballet flats   \n",
       "2  91987.0      Joyce    Waller        Joyce.Waller@gmail.com       sandals   \n",
       "3  14437.0     Justin  Erickson   Justin.Erickson@outlook.com         clogs   \n",
       "\n",
       "  shoe_material shoe_color  \n",
       "0  faux-leather      black  \n",
       "1  faux-leather       navy  \n",
       "2        fabric      black  \n",
       "3  faux-leather        red  "
      ]
     },
     "execution_count": 66,
     "metadata": {},
     "output_type": "execute_result"
    }
   ],
   "source": [
    "orders_df.iloc[:4]"
   ]
  },
  {
   "cell_type": "code",
   "execution_count": null,
   "id": "31649911-6fbe-40bd-adbe-e5223e87298c",
   "metadata": {},
   "outputs": [],
   "source": [
    "select the rows starting at the 3rd to last row and up to and including the final row"
   ]
  },
  {
   "cell_type": "code",
   "execution_count": 67,
   "id": "53ef6a22-11db-41b8-8b6b-027a02f40af3",
   "metadata": {},
   "outputs": [
    {
     "data": {
      "text/html": [
       "<div>\n",
       "<style scoped>\n",
       "    .dataframe tbody tr th:only-of-type {\n",
       "        vertical-align: middle;\n",
       "    }\n",
       "\n",
       "    .dataframe tbody tr th {\n",
       "        vertical-align: top;\n",
       "    }\n",
       "\n",
       "    .dataframe thead th {\n",
       "        text-align: right;\n",
       "    }\n",
       "</style>\n",
       "<table border=\"1\" class=\"dataframe\">\n",
       "  <thead>\n",
       "    <tr style=\"text-align: right;\">\n",
       "      <th></th>\n",
       "      <th>id</th>\n",
       "      <th>first_name</th>\n",
       "      <th>last_name</th>\n",
       "      <th>email</th>\n",
       "      <th>shoe_type</th>\n",
       "      <th>shoe_material</th>\n",
       "      <th>shoe_color</th>\n",
       "    </tr>\n",
       "  </thead>\n",
       "  <tbody>\n",
       "    <tr>\n",
       "      <th>8</th>\n",
       "      <td>21586.0</td>\n",
       "      <td>Gabriel</td>\n",
       "      <td>Porter</td>\n",
       "      <td>GabrielPorter24@gmail.com</td>\n",
       "      <td>clogs</td>\n",
       "      <td>leather</td>\n",
       "      <td>brown</td>\n",
       "    </tr>\n",
       "    <tr>\n",
       "      <th>9</th>\n",
       "      <td>62083.0</td>\n",
       "      <td>Frances</td>\n",
       "      <td>Palmer</td>\n",
       "      <td>FrancesPalmer50@gmail.com</td>\n",
       "      <td>wedges</td>\n",
       "      <td>leather</td>\n",
       "      <td>white</td>\n",
       "    </tr>\n",
       "    <tr>\n",
       "      <th>10</th>\n",
       "      <td>NaN</td>\n",
       "      <td>NaN</td>\n",
       "      <td>NaN</td>\n",
       "      <td>NaN</td>\n",
       "      <td>NaN</td>\n",
       "      <td>NaN</td>\n",
       "      <td>NaN</td>\n",
       "    </tr>\n",
       "  </tbody>\n",
       "</table>\n",
       "</div>"
      ],
      "text/plain": [
       "         id first_name last_name                      email shoe_type  \\\n",
       "8   21586.0    Gabriel    Porter  GabrielPorter24@gmail.com     clogs   \n",
       "9   62083.0    Frances    Palmer  FrancesPalmer50@gmail.com    wedges   \n",
       "10      NaN        NaN       NaN                        NaN       NaN   \n",
       "\n",
       "   shoe_material shoe_color  \n",
       "8        leather      brown  \n",
       "9        leather      white  \n",
       "10           NaN        NaN  "
      ]
     },
     "execution_count": 67,
     "metadata": {},
     "output_type": "execute_result"
    }
   ],
   "source": [
    "orders_df.iloc[-3:]"
   ]
  },
  {
   "cell_type": "markdown",
   "id": "02fabcbd-9a9b-4739-9c57-b73c42976761",
   "metadata": {},
   "source": [
    "### Example 2:\n"
   ]
  },
  {
   "cell_type": "code",
   "execution_count": null,
   "id": "ab59cb36-1367-41c5-923b-e0563891ed0b",
   "metadata": {},
   "outputs": [],
   "source": [
    "One of your doctors thinks that there are more clinic visits in the late Spring.\n",
    "\n",
    "Write a command that will produce a DataFrame made up of the data for April, May, and June from df \n",
    "for all four sites (rows 3 through 6), and save it to april_may_june."
   ]
  },
  {
   "cell_type": "code",
   "execution_count": 68,
   "id": "eadec4c2-9a43-449c-9895-688456c15572",
   "metadata": {
    "scrolled": true
   },
   "outputs": [
    {
     "data": {
      "text/html": [
       "<div>\n",
       "<style scoped>\n",
       "    .dataframe tbody tr th:only-of-type {\n",
       "        vertical-align: middle;\n",
       "    }\n",
       "\n",
       "    .dataframe tbody tr th {\n",
       "        vertical-align: top;\n",
       "    }\n",
       "\n",
       "    .dataframe thead th {\n",
       "        text-align: right;\n",
       "    }\n",
       "</style>\n",
       "<table border=\"1\" class=\"dataframe\">\n",
       "  <thead>\n",
       "    <tr style=\"text-align: right;\">\n",
       "      <th></th>\n",
       "      <th>month</th>\n",
       "      <th>clinic_east</th>\n",
       "      <th>clinic_north</th>\n",
       "      <th>clinic_south</th>\n",
       "      <th>clinic_west</th>\n",
       "    </tr>\n",
       "  </thead>\n",
       "  <tbody>\n",
       "    <tr>\n",
       "      <th>0</th>\n",
       "      <td>January</td>\n",
       "      <td>100</td>\n",
       "      <td>100</td>\n",
       "      <td>23</td>\n",
       "      <td>100</td>\n",
       "    </tr>\n",
       "    <tr>\n",
       "      <th>1</th>\n",
       "      <td>February</td>\n",
       "      <td>51</td>\n",
       "      <td>45</td>\n",
       "      <td>145</td>\n",
       "      <td>45</td>\n",
       "    </tr>\n",
       "    <tr>\n",
       "      <th>2</th>\n",
       "      <td>March</td>\n",
       "      <td>81</td>\n",
       "      <td>96</td>\n",
       "      <td>65</td>\n",
       "      <td>96</td>\n",
       "    </tr>\n",
       "    <tr>\n",
       "      <th>3</th>\n",
       "      <td>April</td>\n",
       "      <td>80</td>\n",
       "      <td>80</td>\n",
       "      <td>54</td>\n",
       "      <td>180</td>\n",
       "    </tr>\n",
       "    <tr>\n",
       "      <th>4</th>\n",
       "      <td>May</td>\n",
       "      <td>51</td>\n",
       "      <td>54</td>\n",
       "      <td>54</td>\n",
       "      <td>154</td>\n",
       "    </tr>\n",
       "    <tr>\n",
       "      <th>5</th>\n",
       "      <td>June</td>\n",
       "      <td>112</td>\n",
       "      <td>109</td>\n",
       "      <td>79</td>\n",
       "      <td>129</td>\n",
       "    </tr>\n",
       "  </tbody>\n",
       "</table>\n",
       "</div>"
      ],
      "text/plain": [
       "      month  clinic_east  clinic_north  clinic_south  clinic_west\n",
       "0   January          100           100            23          100\n",
       "1  February           51            45           145           45\n",
       "2     March           81            96            65           96\n",
       "3     April           80            80            54          180\n",
       "4       May           51            54            54          154\n",
       "5      June          112           109            79          129"
      ]
     },
     "execution_count": 68,
     "metadata": {},
     "output_type": "execute_result"
    }
   ],
   "source": [
    "health_clinics_df"
   ]
  },
  {
   "cell_type": "code",
   "execution_count": 71,
   "id": "0bc8c835-3679-47dd-9dbe-d4fc5178ca13",
   "metadata": {},
   "outputs": [],
   "source": [
    "april_may_june = health_clinics_df.iloc[3:6]"
   ]
  },
  {
   "cell_type": "code",
   "execution_count": 72,
   "id": "82a0a164-5077-470d-965c-e483b8ab4033",
   "metadata": {},
   "outputs": [
    {
     "name": "stdout",
     "output_type": "stream",
     "text": [
      "   month  clinic_east  clinic_north  clinic_south  clinic_west\n",
      "3  April           80            80            54          180\n",
      "4    May           51            54            54          154\n",
      "5   June          112           109            79          129\n"
     ]
    }
   ],
   "source": [
    "print(april_may_june)"
   ]
  },
  {
   "cell_type": "markdown",
   "id": "5d42e928-b1b9-4b16-a1f7-1b602591d6ad",
   "metadata": {},
   "source": [
    "###  When using iloc to select ranges of Pandas dataframe rows, can we skip rows? \n",
    "\n",
    "You can! Selecting multiple rows using .iloc is very similar to list slicing in Python. There are a few ways to select rows using iloc.\n",
    "\n",
    "To select just a single row, we pass in a single value, the index. For example with Python lists,\n",
    "numbers[0] # First element of numbers list\n",
    "\n",
    "And with Dataframes, we would do something similar,\n",
    "orders.iloc[0].\n",
    "\n",
    "Selecting a range of elements of a list and a range of rows in Pandas is also very similar.\n",
    "\n",
    "# Python list\n",
    "numbers[3:7]\n",
    "\n",
    "# Pandas\n",
    "orders.iloc[3:7]\n",
    "\n",
    "To skip a certain number of indexes per index, we can include a third, step, value.\n",
    "\n",
    "# This selects values at indexes 0, 3, 6, 9.\n",
    "# Python list\n",
    "numbers[0:10:3]\n",
    "\n",
    "# This selects rows at indexes 0, 3, 6, 9\n",
    "# Pandas\n",
    "orders.iloc[0:10:3]\n"
   ]
  },
  {
   "cell_type": "code",
   "execution_count": 80,
   "id": "1033f279-2fb4-4edb-bafb-fbb712238bbc",
   "metadata": {},
   "outputs": [
    {
     "data": {
      "text/html": [
       "<div>\n",
       "<style scoped>\n",
       "    .dataframe tbody tr th:only-of-type {\n",
       "        vertical-align: middle;\n",
       "    }\n",
       "\n",
       "    .dataframe tbody tr th {\n",
       "        vertical-align: top;\n",
       "    }\n",
       "\n",
       "    .dataframe thead th {\n",
       "        text-align: right;\n",
       "    }\n",
       "</style>\n",
       "<table border=\"1\" class=\"dataframe\">\n",
       "  <thead>\n",
       "    <tr style=\"text-align: right;\">\n",
       "      <th></th>\n",
       "      <th>month</th>\n",
       "      <th>clinic_east</th>\n",
       "      <th>clinic_north</th>\n",
       "      <th>clinic_south</th>\n",
       "      <th>clinic_west</th>\n",
       "    </tr>\n",
       "  </thead>\n",
       "  <tbody>\n",
       "    <tr>\n",
       "      <th>0</th>\n",
       "      <td>January</td>\n",
       "      <td>100</td>\n",
       "      <td>100</td>\n",
       "      <td>23</td>\n",
       "      <td>100</td>\n",
       "    </tr>\n",
       "    <tr>\n",
       "      <th>2</th>\n",
       "      <td>March</td>\n",
       "      <td>81</td>\n",
       "      <td>96</td>\n",
       "      <td>65</td>\n",
       "      <td>96</td>\n",
       "    </tr>\n",
       "    <tr>\n",
       "      <th>4</th>\n",
       "      <td>May</td>\n",
       "      <td>51</td>\n",
       "      <td>54</td>\n",
       "      <td>54</td>\n",
       "      <td>154</td>\n",
       "    </tr>\n",
       "  </tbody>\n",
       "</table>\n",
       "</div>"
      ],
      "text/plain": [
       "     month  clinic_east  clinic_north  clinic_south  clinic_west\n",
       "0  January          100           100            23          100\n",
       "2    March           81            96            65           96\n",
       "4      May           51            54            54          154"
      ]
     },
     "execution_count": 80,
     "metadata": {},
     "output_type": "execute_result"
    }
   ],
   "source": [
    "# For instance, can we choose to select every second or third row only?\n",
    "\n",
    "# To select every 2nd row --- i.e 0, 2, 4, 6 --- even indexed rows\n",
    "\n",
    "health_clinics_df.iloc[0:6:2]"
   ]
  },
  {
   "cell_type": "code",
   "execution_count": 81,
   "id": "838872a1-0262-4b4f-93ed-5c2b960b47ec",
   "metadata": {},
   "outputs": [
    {
     "data": {
      "text/html": [
       "<div>\n",
       "<style scoped>\n",
       "    .dataframe tbody tr th:only-of-type {\n",
       "        vertical-align: middle;\n",
       "    }\n",
       "\n",
       "    .dataframe tbody tr th {\n",
       "        vertical-align: top;\n",
       "    }\n",
       "\n",
       "    .dataframe thead th {\n",
       "        text-align: right;\n",
       "    }\n",
       "</style>\n",
       "<table border=\"1\" class=\"dataframe\">\n",
       "  <thead>\n",
       "    <tr style=\"text-align: right;\">\n",
       "      <th></th>\n",
       "      <th>month</th>\n",
       "      <th>clinic_east</th>\n",
       "      <th>clinic_north</th>\n",
       "      <th>clinic_south</th>\n",
       "      <th>clinic_west</th>\n",
       "    </tr>\n",
       "  </thead>\n",
       "  <tbody>\n",
       "    <tr>\n",
       "      <th>0</th>\n",
       "      <td>January</td>\n",
       "      <td>100</td>\n",
       "      <td>100</td>\n",
       "      <td>23</td>\n",
       "      <td>100</td>\n",
       "    </tr>\n",
       "    <tr>\n",
       "      <th>3</th>\n",
       "      <td>April</td>\n",
       "      <td>80</td>\n",
       "      <td>80</td>\n",
       "      <td>54</td>\n",
       "      <td>180</td>\n",
       "    </tr>\n",
       "  </tbody>\n",
       "</table>\n",
       "</div>"
      ],
      "text/plain": [
       "     month  clinic_east  clinic_north  clinic_south  clinic_west\n",
       "0  January          100           100            23          100\n",
       "3    April           80            80            54          180"
      ]
     },
     "execution_count": 81,
     "metadata": {},
     "output_type": "execute_result"
    }
   ],
   "source": [
    "# To select every 3rd row --- i.e 0, 2, 4, 6 --- even indexed rows\n",
    "\n",
    "health_clinics_df.iloc[0:6:3]"
   ]
  },
  {
   "cell_type": "markdown",
   "id": "8496778e-e304-4eed-be7b-829022255be4",
   "metadata": {},
   "source": [
    "# Select Rows with Logic I\n",
    "\n",
    "select a subset of a DataFrame by using logical statements:  \n",
    "\n",
    "df[ df.MyColumnName == desired_column_value ]"
   ]
  },
  {
   "cell_type": "code",
   "execution_count": 83,
   "id": "b5c27351-7de0-447f-acd6-90d22d9771e5",
   "metadata": {},
   "outputs": [
    {
     "data": {
      "text/html": [
       "<div>\n",
       "<style scoped>\n",
       "    .dataframe tbody tr th:only-of-type {\n",
       "        vertical-align: middle;\n",
       "    }\n",
       "\n",
       "    .dataframe tbody tr th {\n",
       "        vertical-align: top;\n",
       "    }\n",
       "\n",
       "    .dataframe thead th {\n",
       "        text-align: right;\n",
       "    }\n",
       "</style>\n",
       "<table border=\"1\" class=\"dataframe\">\n",
       "  <thead>\n",
       "    <tr style=\"text-align: right;\">\n",
       "      <th></th>\n",
       "      <th>name</th>\n",
       "      <th>address</th>\n",
       "      <th>phone</th>\n",
       "      <th>age</th>\n",
       "    </tr>\n",
       "  </thead>\n",
       "  <tbody>\n",
       "    <tr>\n",
       "      <th>0</th>\n",
       "      <td>Martha Jones</td>\n",
       "      <td>123 Main St.</td>\n",
       "      <td>234-567-8910</td>\n",
       "      <td>28</td>\n",
       "    </tr>\n",
       "    <tr>\n",
       "      <th>1</th>\n",
       "      <td>Rose Tyler</td>\n",
       "      <td>456 Maple Ave.</td>\n",
       "      <td>212-867-5309</td>\n",
       "      <td>22</td>\n",
       "    </tr>\n",
       "    <tr>\n",
       "      <th>2</th>\n",
       "      <td>Donna Noble</td>\n",
       "      <td>789 Broadway</td>\n",
       "      <td>949-123-4567</td>\n",
       "      <td>35</td>\n",
       "    </tr>\n",
       "    <tr>\n",
       "      <th>3</th>\n",
       "      <td>Amy Pond</td>\n",
       "      <td>98 West End Ave.</td>\n",
       "      <td>646-555-1234</td>\n",
       "      <td>29</td>\n",
       "    </tr>\n",
       "    <tr>\n",
       "      <th>4</th>\n",
       "      <td>Clara Oswald</td>\n",
       "      <td>54 Columbus Ave.</td>\n",
       "      <td>714-225-1957</td>\n",
       "      <td>31</td>\n",
       "    </tr>\n",
       "  </tbody>\n",
       "</table>\n",
       "</div>"
      ],
      "text/plain": [
       "           name           address         phone  age\n",
       "0  Martha Jones      123 Main St.  234-567-8910   28\n",
       "1    Rose Tyler    456 Maple Ave.  212-867-5309   22\n",
       "2   Donna Noble      789 Broadway  949-123-4567   35\n",
       "3      Amy Pond  98 West End Ave.  646-555-1234   29\n",
       "4  Clara Oswald  54 Columbus Ave.  714-225-1957   31"
      ]
     },
     "execution_count": 83,
     "metadata": {},
     "output_type": "execute_result"
    }
   ],
   "source": [
    "customers_df = pd.read_csv(r'D:\\GIT_Repositories\\pandas\\Customers.csv')\n",
    "customers_df"
   ]
  },
  {
   "cell_type": "markdown",
   "id": "b41a20fd-3288-460c-becc-0195edaf4bc6",
   "metadata": {},
   "source": [
    "### To select all rows where the customer’s age is greater or equal to 30. "
   ]
  },
  {
   "cell_type": "code",
   "execution_count": 87,
   "id": "a8d44c09-ea4f-44d0-9b01-475ac87b8c18",
   "metadata": {},
   "outputs": [
    {
     "data": {
      "text/html": [
       "<div>\n",
       "<style scoped>\n",
       "    .dataframe tbody tr th:only-of-type {\n",
       "        vertical-align: middle;\n",
       "    }\n",
       "\n",
       "    .dataframe tbody tr th {\n",
       "        vertical-align: top;\n",
       "    }\n",
       "\n",
       "    .dataframe thead th {\n",
       "        text-align: right;\n",
       "    }\n",
       "</style>\n",
       "<table border=\"1\" class=\"dataframe\">\n",
       "  <thead>\n",
       "    <tr style=\"text-align: right;\">\n",
       "      <th></th>\n",
       "      <th>name</th>\n",
       "      <th>address</th>\n",
       "      <th>phone</th>\n",
       "      <th>age</th>\n",
       "    </tr>\n",
       "  </thead>\n",
       "  <tbody>\n",
       "    <tr>\n",
       "      <th>2</th>\n",
       "      <td>Donna Noble</td>\n",
       "      <td>789 Broadway</td>\n",
       "      <td>949-123-4567</td>\n",
       "      <td>35</td>\n",
       "    </tr>\n",
       "    <tr>\n",
       "      <th>4</th>\n",
       "      <td>Clara Oswald</td>\n",
       "      <td>54 Columbus Ave.</td>\n",
       "      <td>714-225-1957</td>\n",
       "      <td>31</td>\n",
       "    </tr>\n",
       "  </tbody>\n",
       "</table>\n",
       "</div>"
      ],
      "text/plain": [
       "           name           address         phone  age\n",
       "2   Donna Noble      789 Broadway  949-123-4567   35\n",
       "4  Clara Oswald  54 Columbus Ave.  714-225-1957   31"
      ]
     },
     "execution_count": 87,
     "metadata": {},
     "output_type": "execute_result"
    }
   ],
   "source": [
    "customers_df[ customers_df.age >= 30]"
   ]
  },
  {
   "cell_type": "code",
   "execution_count": 89,
   "id": "01eb2cef-ad01-4c8d-9106-d8f51a9c2f2f",
   "metadata": {},
   "outputs": [
    {
     "data": {
      "text/html": [
       "<div>\n",
       "<style scoped>\n",
       "    .dataframe tbody tr th:only-of-type {\n",
       "        vertical-align: middle;\n",
       "    }\n",
       "\n",
       "    .dataframe tbody tr th {\n",
       "        vertical-align: top;\n",
       "    }\n",
       "\n",
       "    .dataframe thead th {\n",
       "        text-align: right;\n",
       "    }\n",
       "</style>\n",
       "<table border=\"1\" class=\"dataframe\">\n",
       "  <thead>\n",
       "    <tr style=\"text-align: right;\">\n",
       "      <th></th>\n",
       "      <th>name</th>\n",
       "      <th>address</th>\n",
       "      <th>phone</th>\n",
       "      <th>age</th>\n",
       "    </tr>\n",
       "  </thead>\n",
       "  <tbody>\n",
       "    <tr>\n",
       "      <th>0</th>\n",
       "      <td>Martha Jones</td>\n",
       "      <td>123 Main St.</td>\n",
       "      <td>234-567-8910</td>\n",
       "      <td>28</td>\n",
       "    </tr>\n",
       "    <tr>\n",
       "      <th>1</th>\n",
       "      <td>Rose Tyler</td>\n",
       "      <td>456 Maple Ave.</td>\n",
       "      <td>212-867-5309</td>\n",
       "      <td>22</td>\n",
       "    </tr>\n",
       "    <tr>\n",
       "      <th>3</th>\n",
       "      <td>Amy Pond</td>\n",
       "      <td>98 West End Ave.</td>\n",
       "      <td>646-555-1234</td>\n",
       "      <td>29</td>\n",
       "    </tr>\n",
       "  </tbody>\n",
       "</table>\n",
       "</div>"
      ],
      "text/plain": [
       "           name           address         phone  age\n",
       "0  Martha Jones      123 Main St.  234-567-8910   28\n",
       "1    Rose Tyler    456 Maple Ave.  212-867-5309   22\n",
       "3      Amy Pond  98 West End Ave.  646-555-1234   29"
      ]
     },
     "execution_count": 89,
     "metadata": {},
     "output_type": "execute_result"
    }
   ],
   "source": [
    "# Customer age < 30\n",
    "\n",
    "customers_df[ customers_df.age < 30]"
   ]
  },
  {
   "cell_type": "markdown",
   "id": "8edf8139-d341-44c6-949b-3dcbc376732b",
   "metadata": {},
   "source": [
    "### Excercise"
   ]
  },
  {
   "cell_type": "code",
   "execution_count": null,
   "id": "40e2e33e-19a9-4dfd-b898-c8635a38fc48",
   "metadata": {},
   "outputs": [],
   "source": [
    "You’re going to staff the clinic for January of this year. \n",
    "\n",
    "You want to know how many visits took place in January of last year, to help you prepare.\n",
    "\n",
    "Create variable january using a logical statement that selects the row of df where the 'month' column is 'January'."
   ]
  },
  {
   "cell_type": "code",
   "execution_count": 91,
   "id": "e3a83268-aa9a-4f39-96e2-aa98298cd660",
   "metadata": {},
   "outputs": [
    {
     "data": {
      "text/html": [
       "<div>\n",
       "<style scoped>\n",
       "    .dataframe tbody tr th:only-of-type {\n",
       "        vertical-align: middle;\n",
       "    }\n",
       "\n",
       "    .dataframe tbody tr th {\n",
       "        vertical-align: top;\n",
       "    }\n",
       "\n",
       "    .dataframe thead th {\n",
       "        text-align: right;\n",
       "    }\n",
       "</style>\n",
       "<table border=\"1\" class=\"dataframe\">\n",
       "  <thead>\n",
       "    <tr style=\"text-align: right;\">\n",
       "      <th></th>\n",
       "      <th>month</th>\n",
       "      <th>clinic_east</th>\n",
       "      <th>clinic_north</th>\n",
       "      <th>clinic_south</th>\n",
       "      <th>clinic_west</th>\n",
       "    </tr>\n",
       "  </thead>\n",
       "  <tbody>\n",
       "    <tr>\n",
       "      <th>0</th>\n",
       "      <td>January</td>\n",
       "      <td>100</td>\n",
       "      <td>100</td>\n",
       "      <td>23</td>\n",
       "      <td>100</td>\n",
       "    </tr>\n",
       "    <tr>\n",
       "      <th>1</th>\n",
       "      <td>February</td>\n",
       "      <td>51</td>\n",
       "      <td>45</td>\n",
       "      <td>145</td>\n",
       "      <td>45</td>\n",
       "    </tr>\n",
       "    <tr>\n",
       "      <th>2</th>\n",
       "      <td>March</td>\n",
       "      <td>81</td>\n",
       "      <td>96</td>\n",
       "      <td>65</td>\n",
       "      <td>96</td>\n",
       "    </tr>\n",
       "    <tr>\n",
       "      <th>3</th>\n",
       "      <td>April</td>\n",
       "      <td>80</td>\n",
       "      <td>80</td>\n",
       "      <td>54</td>\n",
       "      <td>180</td>\n",
       "    </tr>\n",
       "    <tr>\n",
       "      <th>4</th>\n",
       "      <td>May</td>\n",
       "      <td>51</td>\n",
       "      <td>54</td>\n",
       "      <td>54</td>\n",
       "      <td>154</td>\n",
       "    </tr>\n",
       "    <tr>\n",
       "      <th>5</th>\n",
       "      <td>June</td>\n",
       "      <td>112</td>\n",
       "      <td>109</td>\n",
       "      <td>79</td>\n",
       "      <td>129</td>\n",
       "    </tr>\n",
       "  </tbody>\n",
       "</table>\n",
       "</div>"
      ],
      "text/plain": [
       "      month  clinic_east  clinic_north  clinic_south  clinic_west\n",
       "0   January          100           100            23          100\n",
       "1  February           51            45           145           45\n",
       "2     March           81            96            65           96\n",
       "3     April           80            80            54          180\n",
       "4       May           51            54            54          154\n",
       "5      June          112           109            79          129"
      ]
     },
     "execution_count": 91,
     "metadata": {},
     "output_type": "execute_result"
    }
   ],
   "source": [
    "health_clinics_df"
   ]
  },
  {
   "cell_type": "code",
   "execution_count": 94,
   "id": "5ea2da6b-7fc3-4d99-9640-1dfd03d420d4",
   "metadata": {},
   "outputs": [],
   "source": [
    "january = health_clinics_df[health_clinics_df.month == 'January']"
   ]
  },
  {
   "cell_type": "code",
   "execution_count": 95,
   "id": "e15e090d-0bae-4196-90dc-04a30f81fa4c",
   "metadata": {},
   "outputs": [
    {
     "name": "stdout",
     "output_type": "stream",
     "text": [
      "     month  clinic_east  clinic_north  clinic_south  clinic_west\n",
      "0  January          100           100            23          100\n"
     ]
    }
   ],
   "source": [
    "print(january)"
   ]
  },
  {
   "cell_type": "markdown",
   "id": "65832f5c-baf7-4ade-8f91-7d7f06ffcaf7",
   "metadata": {},
   "source": [
    "### Question: In Pandas, can we compare the values of two columns in the same dataframe?\n"
   ]
  },
  {
   "cell_type": "code",
   "execution_count": null,
   "id": "14d32210-2569-4cef-85e5-3e4d978a1cfa",
   "metadata": {},
   "outputs": [],
   "source": [
    "\n",
    "Yes, you can compare values of different columns of a dataframe within the logical statement.\n",
    "    \n",
    "Say for example, you had data that stored the buy price and sell price of stocks in two columns.\n",
    "If you wanted to select rows of the data for which the buy price was less than the sell price,\n",
    "you could compare their values in the logical statement.\n",
    "\n",
    "# This logical statement is comparing\n",
    "# the values of column `buy_price`\n",
    "# and column `sell_price`\n",
    "gains = df[df.buy_price < df.sell_price]     \n"
   ]
  },
  {
   "cell_type": "markdown",
   "id": "50f6402b-bddc-49bc-8bcd-92f53be2394c",
   "metadata": {},
   "source": [
    "# Select Rows with Logic II\n",
    "\n",
    "We can also combine multiple logical statements, as long as each statement is in parentheses.\n",
    "\n",
    "In Python, | means “or” and & means “and”.\n"
   ]
  },
  {
   "cell_type": "markdown",
   "id": "c9659bc7-3d63-4e83-973a-f5c3088f1387",
   "metadata": {},
   "source": [
    "### Example\n",
    "\n",
    "Suppose we wanted to select all rows where the customer’s age was under 30 or \n",
    "the customer’s name was “Martha Jones”"
   ]
  },
  {
   "cell_type": "code",
   "execution_count": 96,
   "id": "c576fff8-cff2-478d-bd68-11b836be89a5",
   "metadata": {},
   "outputs": [
    {
     "data": {
      "text/html": [
       "<div>\n",
       "<style scoped>\n",
       "    .dataframe tbody tr th:only-of-type {\n",
       "        vertical-align: middle;\n",
       "    }\n",
       "\n",
       "    .dataframe tbody tr th {\n",
       "        vertical-align: top;\n",
       "    }\n",
       "\n",
       "    .dataframe thead th {\n",
       "        text-align: right;\n",
       "    }\n",
       "</style>\n",
       "<table border=\"1\" class=\"dataframe\">\n",
       "  <thead>\n",
       "    <tr style=\"text-align: right;\">\n",
       "      <th></th>\n",
       "      <th>name</th>\n",
       "      <th>address</th>\n",
       "      <th>phone</th>\n",
       "      <th>age</th>\n",
       "    </tr>\n",
       "  </thead>\n",
       "  <tbody>\n",
       "    <tr>\n",
       "      <th>0</th>\n",
       "      <td>Martha Jones</td>\n",
       "      <td>123 Main St.</td>\n",
       "      <td>234-567-8910</td>\n",
       "      <td>28</td>\n",
       "    </tr>\n",
       "    <tr>\n",
       "      <th>1</th>\n",
       "      <td>Rose Tyler</td>\n",
       "      <td>456 Maple Ave.</td>\n",
       "      <td>212-867-5309</td>\n",
       "      <td>22</td>\n",
       "    </tr>\n",
       "    <tr>\n",
       "      <th>2</th>\n",
       "      <td>Donna Noble</td>\n",
       "      <td>789 Broadway</td>\n",
       "      <td>949-123-4567</td>\n",
       "      <td>35</td>\n",
       "    </tr>\n",
       "    <tr>\n",
       "      <th>3</th>\n",
       "      <td>Amy Pond</td>\n",
       "      <td>98 West End Ave.</td>\n",
       "      <td>646-555-1234</td>\n",
       "      <td>29</td>\n",
       "    </tr>\n",
       "    <tr>\n",
       "      <th>4</th>\n",
       "      <td>Clara Oswald</td>\n",
       "      <td>54 Columbus Ave.</td>\n",
       "      <td>714-225-1957</td>\n",
       "      <td>31</td>\n",
       "    </tr>\n",
       "  </tbody>\n",
       "</table>\n",
       "</div>"
      ],
      "text/plain": [
       "           name           address         phone  age\n",
       "0  Martha Jones      123 Main St.  234-567-8910   28\n",
       "1    Rose Tyler    456 Maple Ave.  212-867-5309   22\n",
       "2   Donna Noble      789 Broadway  949-123-4567   35\n",
       "3      Amy Pond  98 West End Ave.  646-555-1234   29\n",
       "4  Clara Oswald  54 Columbus Ave.  714-225-1957   31"
      ]
     },
     "execution_count": 96,
     "metadata": {},
     "output_type": "execute_result"
    }
   ],
   "source": [
    "customers_df"
   ]
  },
  {
   "cell_type": "code",
   "execution_count": 98,
   "id": "f07b4824-633e-4876-947b-177aed4a254b",
   "metadata": {},
   "outputs": [
    {
     "data": {
      "text/html": [
       "<div>\n",
       "<style scoped>\n",
       "    .dataframe tbody tr th:only-of-type {\n",
       "        vertical-align: middle;\n",
       "    }\n",
       "\n",
       "    .dataframe tbody tr th {\n",
       "        vertical-align: top;\n",
       "    }\n",
       "\n",
       "    .dataframe thead th {\n",
       "        text-align: right;\n",
       "    }\n",
       "</style>\n",
       "<table border=\"1\" class=\"dataframe\">\n",
       "  <thead>\n",
       "    <tr style=\"text-align: right;\">\n",
       "      <th></th>\n",
       "      <th>name</th>\n",
       "      <th>address</th>\n",
       "      <th>phone</th>\n",
       "      <th>age</th>\n",
       "    </tr>\n",
       "  </thead>\n",
       "  <tbody>\n",
       "    <tr>\n",
       "      <th>0</th>\n",
       "      <td>Martha Jones</td>\n",
       "      <td>123 Main St.</td>\n",
       "      <td>234-567-8910</td>\n",
       "      <td>28</td>\n",
       "    </tr>\n",
       "    <tr>\n",
       "      <th>1</th>\n",
       "      <td>Rose Tyler</td>\n",
       "      <td>456 Maple Ave.</td>\n",
       "      <td>212-867-5309</td>\n",
       "      <td>22</td>\n",
       "    </tr>\n",
       "    <tr>\n",
       "      <th>3</th>\n",
       "      <td>Amy Pond</td>\n",
       "      <td>98 West End Ave.</td>\n",
       "      <td>646-555-1234</td>\n",
       "      <td>29</td>\n",
       "    </tr>\n",
       "  </tbody>\n",
       "</table>\n",
       "</div>"
      ],
      "text/plain": [
       "           name           address         phone  age\n",
       "0  Martha Jones      123 Main St.  234-567-8910   28\n",
       "1    Rose Tyler    456 Maple Ave.  212-867-5309   22\n",
       "3      Amy Pond  98 West End Ave.  646-555-1234   29"
      ]
     },
     "execution_count": 98,
     "metadata": {},
     "output_type": "execute_result"
    }
   ],
   "source": [
    "customers_df[ ( customers_df['age'] < 30 ) | \n",
    "              ( customers_df['name'] == 'Martha Jones' ) ]"
   ]
  },
  {
   "cell_type": "markdown",
   "id": "d2ce5a22-73a3-48e3-b7a8-2b953542cb53",
   "metadata": {},
   "source": [
    "# Excercise\n",
    "\n",
    "You want to see how the number of clinic visits changed between March and April.\n",
    "\n",
    "Create the variable march_april, which contains the data from March and April. \n",
    "\n",
    "Do this using two logical statements combined using |, which means “or”.\n"
   ]
  },
  {
   "cell_type": "code",
   "execution_count": 99,
   "id": "51d23834-8fd1-4253-96df-7fc6eae9d4e6",
   "metadata": {},
   "outputs": [
    {
     "data": {
      "text/html": [
       "<div>\n",
       "<style scoped>\n",
       "    .dataframe tbody tr th:only-of-type {\n",
       "        vertical-align: middle;\n",
       "    }\n",
       "\n",
       "    .dataframe tbody tr th {\n",
       "        vertical-align: top;\n",
       "    }\n",
       "\n",
       "    .dataframe thead th {\n",
       "        text-align: right;\n",
       "    }\n",
       "</style>\n",
       "<table border=\"1\" class=\"dataframe\">\n",
       "  <thead>\n",
       "    <tr style=\"text-align: right;\">\n",
       "      <th></th>\n",
       "      <th>month</th>\n",
       "      <th>clinic_east</th>\n",
       "      <th>clinic_north</th>\n",
       "      <th>clinic_south</th>\n",
       "      <th>clinic_west</th>\n",
       "    </tr>\n",
       "  </thead>\n",
       "  <tbody>\n",
       "    <tr>\n",
       "      <th>0</th>\n",
       "      <td>January</td>\n",
       "      <td>100</td>\n",
       "      <td>100</td>\n",
       "      <td>23</td>\n",
       "      <td>100</td>\n",
       "    </tr>\n",
       "    <tr>\n",
       "      <th>1</th>\n",
       "      <td>February</td>\n",
       "      <td>51</td>\n",
       "      <td>45</td>\n",
       "      <td>145</td>\n",
       "      <td>45</td>\n",
       "    </tr>\n",
       "    <tr>\n",
       "      <th>2</th>\n",
       "      <td>March</td>\n",
       "      <td>81</td>\n",
       "      <td>96</td>\n",
       "      <td>65</td>\n",
       "      <td>96</td>\n",
       "    </tr>\n",
       "    <tr>\n",
       "      <th>3</th>\n",
       "      <td>April</td>\n",
       "      <td>80</td>\n",
       "      <td>80</td>\n",
       "      <td>54</td>\n",
       "      <td>180</td>\n",
       "    </tr>\n",
       "    <tr>\n",
       "      <th>4</th>\n",
       "      <td>May</td>\n",
       "      <td>51</td>\n",
       "      <td>54</td>\n",
       "      <td>54</td>\n",
       "      <td>154</td>\n",
       "    </tr>\n",
       "    <tr>\n",
       "      <th>5</th>\n",
       "      <td>June</td>\n",
       "      <td>112</td>\n",
       "      <td>109</td>\n",
       "      <td>79</td>\n",
       "      <td>129</td>\n",
       "    </tr>\n",
       "  </tbody>\n",
       "</table>\n",
       "</div>"
      ],
      "text/plain": [
       "      month  clinic_east  clinic_north  clinic_south  clinic_west\n",
       "0   January          100           100            23          100\n",
       "1  February           51            45           145           45\n",
       "2     March           81            96            65           96\n",
       "3     April           80            80            54          180\n",
       "4       May           51            54            54          154\n",
       "5      June          112           109            79          129"
      ]
     },
     "execution_count": 99,
     "metadata": {},
     "output_type": "execute_result"
    }
   ],
   "source": [
    "health_clinics_df"
   ]
  },
  {
   "cell_type": "code",
   "execution_count": 100,
   "id": "42579ad2-dbae-446d-9b78-07bf0b447149",
   "metadata": {},
   "outputs": [],
   "source": [
    "march_april = health_clinics_df[ ( health_clinics_df.month == 'March') |\n",
    "                                 ( health_clinics_df.month == 'April') ]"
   ]
  },
  {
   "cell_type": "code",
   "execution_count": 102,
   "id": "1c5d3c9c-21fc-45b4-a171-d4822e00a62b",
   "metadata": {},
   "outputs": [
    {
     "name": "stdout",
     "output_type": "stream",
     "text": [
      "   month  clinic_east  clinic_north  clinic_south  clinic_west\n",
      "2  March           81            96            65           96\n",
      "3  April           80            80            54          180\n"
     ]
    }
   ],
   "source": [
    "print(march_april)"
   ]
  },
  {
   "cell_type": "markdown",
   "id": "786674d7-f26f-4d87-b12b-185faa85d36e",
   "metadata": {},
   "source": [
    "# Select Rows with Logic III\n"
   ]
  },
  {
   "cell_type": "code",
   "execution_count": null,
   "id": "17c09bd3-eb34-4dd3-b314-31822f9c57fe",
   "metadata": {},
   "outputs": [],
   "source": [
    "Example\n",
    "\n",
    "Suppose we want to select the rows where the customer’s name is either “Martha Jones”, “Rose Tyler” or “Amy Pond”.\n",
    "\n",
    "Use ----> isin( [list] ) command to check that df.name is one of a list of values:"
   ]
  },
  {
   "cell_type": "code",
   "execution_count": 107,
   "id": "89711e5e-3025-433e-95ba-90b806f320c8",
   "metadata": {},
   "outputs": [
    {
     "data": {
      "text/html": [
       "<div>\n",
       "<style scoped>\n",
       "    .dataframe tbody tr th:only-of-type {\n",
       "        vertical-align: middle;\n",
       "    }\n",
       "\n",
       "    .dataframe tbody tr th {\n",
       "        vertical-align: top;\n",
       "    }\n",
       "\n",
       "    .dataframe thead th {\n",
       "        text-align: right;\n",
       "    }\n",
       "</style>\n",
       "<table border=\"1\" class=\"dataframe\">\n",
       "  <thead>\n",
       "    <tr style=\"text-align: right;\">\n",
       "      <th></th>\n",
       "      <th>name</th>\n",
       "      <th>address</th>\n",
       "      <th>phone</th>\n",
       "      <th>age</th>\n",
       "    </tr>\n",
       "  </thead>\n",
       "  <tbody>\n",
       "    <tr>\n",
       "      <th>0</th>\n",
       "      <td>Martha Jones</td>\n",
       "      <td>123 Main St.</td>\n",
       "      <td>234-567-8910</td>\n",
       "      <td>28</td>\n",
       "    </tr>\n",
       "    <tr>\n",
       "      <th>1</th>\n",
       "      <td>Rose Tyler</td>\n",
       "      <td>456 Maple Ave.</td>\n",
       "      <td>212-867-5309</td>\n",
       "      <td>22</td>\n",
       "    </tr>\n",
       "    <tr>\n",
       "      <th>2</th>\n",
       "      <td>Donna Noble</td>\n",
       "      <td>789 Broadway</td>\n",
       "      <td>949-123-4567</td>\n",
       "      <td>35</td>\n",
       "    </tr>\n",
       "    <tr>\n",
       "      <th>3</th>\n",
       "      <td>Amy Pond</td>\n",
       "      <td>98 West End Ave.</td>\n",
       "      <td>646-555-1234</td>\n",
       "      <td>29</td>\n",
       "    </tr>\n",
       "    <tr>\n",
       "      <th>4</th>\n",
       "      <td>Clara Oswald</td>\n",
       "      <td>54 Columbus Ave.</td>\n",
       "      <td>714-225-1957</td>\n",
       "      <td>31</td>\n",
       "    </tr>\n",
       "  </tbody>\n",
       "</table>\n",
       "</div>"
      ],
      "text/plain": [
       "           name           address         phone  age\n",
       "0  Martha Jones      123 Main St.  234-567-8910   28\n",
       "1    Rose Tyler    456 Maple Ave.  212-867-5309   22\n",
       "2   Donna Noble      789 Broadway  949-123-4567   35\n",
       "3      Amy Pond  98 West End Ave.  646-555-1234   29\n",
       "4  Clara Oswald  54 Columbus Ave.  714-225-1957   31"
      ]
     },
     "execution_count": 107,
     "metadata": {},
     "output_type": "execute_result"
    }
   ],
   "source": [
    "customers_df"
   ]
  },
  {
   "cell_type": "code",
   "execution_count": 108,
   "id": "f07c8bf1-5244-458e-bfa5-5a9b268f5bfa",
   "metadata": {},
   "outputs": [
    {
     "data": {
      "text/html": [
       "<div>\n",
       "<style scoped>\n",
       "    .dataframe tbody tr th:only-of-type {\n",
       "        vertical-align: middle;\n",
       "    }\n",
       "\n",
       "    .dataframe tbody tr th {\n",
       "        vertical-align: top;\n",
       "    }\n",
       "\n",
       "    .dataframe thead th {\n",
       "        text-align: right;\n",
       "    }\n",
       "</style>\n",
       "<table border=\"1\" class=\"dataframe\">\n",
       "  <thead>\n",
       "    <tr style=\"text-align: right;\">\n",
       "      <th></th>\n",
       "      <th>name</th>\n",
       "      <th>address</th>\n",
       "      <th>phone</th>\n",
       "      <th>age</th>\n",
       "    </tr>\n",
       "  </thead>\n",
       "  <tbody>\n",
       "    <tr>\n",
       "      <th>0</th>\n",
       "      <td>Martha Jones</td>\n",
       "      <td>123 Main St.</td>\n",
       "      <td>234-567-8910</td>\n",
       "      <td>28</td>\n",
       "    </tr>\n",
       "    <tr>\n",
       "      <th>1</th>\n",
       "      <td>Rose Tyler</td>\n",
       "      <td>456 Maple Ave.</td>\n",
       "      <td>212-867-5309</td>\n",
       "      <td>22</td>\n",
       "    </tr>\n",
       "    <tr>\n",
       "      <th>3</th>\n",
       "      <td>Amy Pond</td>\n",
       "      <td>98 West End Ave.</td>\n",
       "      <td>646-555-1234</td>\n",
       "      <td>29</td>\n",
       "    </tr>\n",
       "  </tbody>\n",
       "</table>\n",
       "</div>"
      ],
      "text/plain": [
       "           name           address         phone  age\n",
       "0  Martha Jones      123 Main St.  234-567-8910   28\n",
       "1    Rose Tyler    456 Maple Ave.  212-867-5309   22\n",
       "3      Amy Pond  98 West End Ave.  646-555-1234   29"
      ]
     },
     "execution_count": 108,
     "metadata": {},
     "output_type": "execute_result"
    }
   ],
   "source": [
    "customers_df[ customers_df['name'].isin( ['Martha Jones', 'Rose Tyler', 'Amy Pond'] ) ]\n"
   ]
  },
  {
   "cell_type": "markdown",
   "id": "6ef26e4c-e436-4442-82ff-14b564b61c85",
   "metadata": {},
   "source": [
    "# Excercise\n",
    "\n",
    "Another doctor thinks that you have a lot of clinic visits in the late Winter.\n",
    "\n",
    "Create the variable january_february_march, containing the data from January, February, and March. \n",
    "\n",
    "Do this using a single logical statement with the isin command."
   ]
  },
  {
   "cell_type": "code",
   "execution_count": 109,
   "id": "19e293de-de45-47ae-8c2c-1e6958c7b6ad",
   "metadata": {},
   "outputs": [
    {
     "data": {
      "text/html": [
       "<div>\n",
       "<style scoped>\n",
       "    .dataframe tbody tr th:only-of-type {\n",
       "        vertical-align: middle;\n",
       "    }\n",
       "\n",
       "    .dataframe tbody tr th {\n",
       "        vertical-align: top;\n",
       "    }\n",
       "\n",
       "    .dataframe thead th {\n",
       "        text-align: right;\n",
       "    }\n",
       "</style>\n",
       "<table border=\"1\" class=\"dataframe\">\n",
       "  <thead>\n",
       "    <tr style=\"text-align: right;\">\n",
       "      <th></th>\n",
       "      <th>month</th>\n",
       "      <th>clinic_east</th>\n",
       "      <th>clinic_north</th>\n",
       "      <th>clinic_south</th>\n",
       "      <th>clinic_west</th>\n",
       "    </tr>\n",
       "  </thead>\n",
       "  <tbody>\n",
       "    <tr>\n",
       "      <th>0</th>\n",
       "      <td>January</td>\n",
       "      <td>100</td>\n",
       "      <td>100</td>\n",
       "      <td>23</td>\n",
       "      <td>100</td>\n",
       "    </tr>\n",
       "    <tr>\n",
       "      <th>1</th>\n",
       "      <td>February</td>\n",
       "      <td>51</td>\n",
       "      <td>45</td>\n",
       "      <td>145</td>\n",
       "      <td>45</td>\n",
       "    </tr>\n",
       "    <tr>\n",
       "      <th>2</th>\n",
       "      <td>March</td>\n",
       "      <td>81</td>\n",
       "      <td>96</td>\n",
       "      <td>65</td>\n",
       "      <td>96</td>\n",
       "    </tr>\n",
       "    <tr>\n",
       "      <th>3</th>\n",
       "      <td>April</td>\n",
       "      <td>80</td>\n",
       "      <td>80</td>\n",
       "      <td>54</td>\n",
       "      <td>180</td>\n",
       "    </tr>\n",
       "    <tr>\n",
       "      <th>4</th>\n",
       "      <td>May</td>\n",
       "      <td>51</td>\n",
       "      <td>54</td>\n",
       "      <td>54</td>\n",
       "      <td>154</td>\n",
       "    </tr>\n",
       "    <tr>\n",
       "      <th>5</th>\n",
       "      <td>June</td>\n",
       "      <td>112</td>\n",
       "      <td>109</td>\n",
       "      <td>79</td>\n",
       "      <td>129</td>\n",
       "    </tr>\n",
       "  </tbody>\n",
       "</table>\n",
       "</div>"
      ],
      "text/plain": [
       "      month  clinic_east  clinic_north  clinic_south  clinic_west\n",
       "0   January          100           100            23          100\n",
       "1  February           51            45           145           45\n",
       "2     March           81            96            65           96\n",
       "3     April           80            80            54          180\n",
       "4       May           51            54            54          154\n",
       "5      June          112           109            79          129"
      ]
     },
     "execution_count": 109,
     "metadata": {},
     "output_type": "execute_result"
    }
   ],
   "source": [
    "health_clinics_df"
   ]
  },
  {
   "cell_type": "code",
   "execution_count": 110,
   "id": "2d232f2f-f10b-4767-b72f-57fa432076b9",
   "metadata": {},
   "outputs": [
    {
     "data": {
      "text/html": [
       "<div>\n",
       "<style scoped>\n",
       "    .dataframe tbody tr th:only-of-type {\n",
       "        vertical-align: middle;\n",
       "    }\n",
       "\n",
       "    .dataframe tbody tr th {\n",
       "        vertical-align: top;\n",
       "    }\n",
       "\n",
       "    .dataframe thead th {\n",
       "        text-align: right;\n",
       "    }\n",
       "</style>\n",
       "<table border=\"1\" class=\"dataframe\">\n",
       "  <thead>\n",
       "    <tr style=\"text-align: right;\">\n",
       "      <th></th>\n",
       "      <th>month</th>\n",
       "      <th>clinic_east</th>\n",
       "      <th>clinic_north</th>\n",
       "      <th>clinic_south</th>\n",
       "      <th>clinic_west</th>\n",
       "    </tr>\n",
       "  </thead>\n",
       "  <tbody>\n",
       "    <tr>\n",
       "      <th>0</th>\n",
       "      <td>January</td>\n",
       "      <td>100</td>\n",
       "      <td>100</td>\n",
       "      <td>23</td>\n",
       "      <td>100</td>\n",
       "    </tr>\n",
       "    <tr>\n",
       "      <th>1</th>\n",
       "      <td>February</td>\n",
       "      <td>51</td>\n",
       "      <td>45</td>\n",
       "      <td>145</td>\n",
       "      <td>45</td>\n",
       "    </tr>\n",
       "    <tr>\n",
       "      <th>2</th>\n",
       "      <td>March</td>\n",
       "      <td>81</td>\n",
       "      <td>96</td>\n",
       "      <td>65</td>\n",
       "      <td>96</td>\n",
       "    </tr>\n",
       "  </tbody>\n",
       "</table>\n",
       "</div>"
      ],
      "text/plain": [
       "      month  clinic_east  clinic_north  clinic_south  clinic_west\n",
       "0   January          100           100            23          100\n",
       "1  February           51            45           145           45\n",
       "2     March           81            96            65           96"
      ]
     },
     "execution_count": 110,
     "metadata": {},
     "output_type": "execute_result"
    }
   ],
   "source": [
    "january_february_march = health_clinics_df[ health_clinics_df['month'].isin( ['January', 'February', 'March'] )]\n",
    "january_february_march"
   ]
  },
  {
   "cell_type": "markdown",
   "id": "66fe30e6-3f13-4bea-b598-ddbdd85d869a",
   "metadata": {},
   "source": [
    "### Question: Cam we pass other types of values to the pandas isin() command otherthan lists ??"
   ]
  },
  {
   "cell_type": "code",
   "execution_count": null,
   "id": "57523fa4-d617-42ed-ab60-5bd8ca683364",
   "metadata": {},
   "outputs": [],
   "source": [
    "in the case of pandas isin() we can pass as a parameter not only lists, but also dictionaries, and even dataframes."
   ]
  },
  {
   "cell_type": "markdown",
   "id": "1792cf73-e58a-404a-9f48-b2175bc1610f",
   "metadata": {},
   "source": [
    "### Example"
   ]
  },
  {
   "cell_type": "code",
   "execution_count": 113,
   "id": "72eb48a9-deff-4282-9721-2f76aaaaf461",
   "metadata": {},
   "outputs": [
    {
     "data": {
      "text/html": [
       "<div>\n",
       "<style scoped>\n",
       "    .dataframe tbody tr th:only-of-type {\n",
       "        vertical-align: middle;\n",
       "    }\n",
       "\n",
       "    .dataframe tbody tr th {\n",
       "        vertical-align: top;\n",
       "    }\n",
       "\n",
       "    .dataframe thead th {\n",
       "        text-align: right;\n",
       "    }\n",
       "</style>\n",
       "<table border=\"1\" class=\"dataframe\">\n",
       "  <thead>\n",
       "    <tr style=\"text-align: right;\">\n",
       "      <th></th>\n",
       "      <th>num_legs</th>\n",
       "      <th>num_wings</th>\n",
       "    </tr>\n",
       "  </thead>\n",
       "  <tbody>\n",
       "    <tr>\n",
       "      <th>falcon</th>\n",
       "      <td>2</td>\n",
       "      <td>2</td>\n",
       "    </tr>\n",
       "    <tr>\n",
       "      <th>dog</th>\n",
       "      <td>4</td>\n",
       "      <td>0</td>\n",
       "    </tr>\n",
       "  </tbody>\n",
       "</table>\n",
       "</div>"
      ],
      "text/plain": [
       "        num_legs  num_wings\n",
       "falcon         2          2\n",
       "dog            4          0"
      ]
     },
     "execution_count": 113,
     "metadata": {},
     "output_type": "execute_result"
    }
   ],
   "source": [
    "animals_df = pd.DataFrame({'num_legs': [2, 4], 'num_wings': [2, 0]},\n",
    "                  index=['falcon', 'dog'])\n",
    "animals_df"
   ]
  },
  {
   "cell_type": "code",
   "execution_count": null,
   "id": "34a66897-bdd2-4b92-b62d-afb78a0b4a63",
   "metadata": {},
   "outputs": [],
   "source": [
    "When values is a list check whether every value in the DataFrame is present in the list `"
   ]
  },
  {
   "cell_type": "markdown",
   "id": "29c109f3-a205-48e1-8f11-4e737eccee98",
   "metadata": {},
   "source": [
    "#### which animals have 0 or 2 legs or wings ??"
   ]
  },
  {
   "cell_type": "code",
   "execution_count": 118,
   "id": "fb957064-ab25-4eb1-88f8-960ddcc3a0ea",
   "metadata": {},
   "outputs": [
    {
     "data": {
      "text/html": [
       "<div>\n",
       "<style scoped>\n",
       "    .dataframe tbody tr th:only-of-type {\n",
       "        vertical-align: middle;\n",
       "    }\n",
       "\n",
       "    .dataframe tbody tr th {\n",
       "        vertical-align: top;\n",
       "    }\n",
       "\n",
       "    .dataframe thead th {\n",
       "        text-align: right;\n",
       "    }\n",
       "</style>\n",
       "<table border=\"1\" class=\"dataframe\">\n",
       "  <thead>\n",
       "    <tr style=\"text-align: right;\">\n",
       "      <th></th>\n",
       "      <th>num_legs</th>\n",
       "      <th>num_wings</th>\n",
       "    </tr>\n",
       "  </thead>\n",
       "  <tbody>\n",
       "    <tr>\n",
       "      <th>falcon</th>\n",
       "      <td>True</td>\n",
       "      <td>True</td>\n",
       "    </tr>\n",
       "    <tr>\n",
       "      <th>dog</th>\n",
       "      <td>False</td>\n",
       "      <td>True</td>\n",
       "    </tr>\n",
       "  </tbody>\n",
       "</table>\n",
       "</div>"
      ],
      "text/plain": [
       "        num_legs  num_wings\n",
       "falcon      True       True\n",
       "dog        False       True"
      ]
     },
     "execution_count": 118,
     "metadata": {},
     "output_type": "execute_result"
    }
   ],
   "source": [
    "animals_df.isin([0, 2])"
   ]
  },
  {
   "cell_type": "code",
   "execution_count": 119,
   "id": "d558225f-91a8-4cf0-926a-9aa54e9aaa33",
   "metadata": {},
   "outputs": [
    {
     "data": {
      "text/html": [
       "<div>\n",
       "<style scoped>\n",
       "    .dataframe tbody tr th:only-of-type {\n",
       "        vertical-align: middle;\n",
       "    }\n",
       "\n",
       "    .dataframe tbody tr th {\n",
       "        vertical-align: top;\n",
       "    }\n",
       "\n",
       "    .dataframe thead th {\n",
       "        text-align: right;\n",
       "    }\n",
       "</style>\n",
       "<table border=\"1\" class=\"dataframe\">\n",
       "  <thead>\n",
       "    <tr style=\"text-align: right;\">\n",
       "      <th></th>\n",
       "      <th>num_legs</th>\n",
       "      <th>num_wings</th>\n",
       "    </tr>\n",
       "  </thead>\n",
       "  <tbody>\n",
       "    <tr>\n",
       "      <th>falcon</th>\n",
       "      <td>2</td>\n",
       "      <td>2</td>\n",
       "    </tr>\n",
       "    <tr>\n",
       "      <th>dog</th>\n",
       "      <td>4</td>\n",
       "      <td>0</td>\n",
       "    </tr>\n",
       "  </tbody>\n",
       "</table>\n",
       "</div>"
      ],
      "text/plain": [
       "        num_legs  num_wings\n",
       "falcon         2          2\n",
       "dog            4          0"
      ]
     },
     "execution_count": 119,
     "metadata": {},
     "output_type": "execute_result"
    }
   ],
   "source": [
    "# check\n",
    "\n",
    "animals_df[ animals_df['num_legs'].isin([0,2]) |\n",
    "            animals_df['num_wings'].isin([0,2]) ]\n",
    "                                        "
   ]
  },
  {
   "cell_type": "markdown",
   "id": "60f5b93d-75b7-4745-8ae2-9c605e180b79",
   "metadata": {},
   "source": [
    "### To check if values is not in the DataFrame, use the ~ operator:"
   ]
  },
  {
   "cell_type": "code",
   "execution_count": 121,
   "id": "a9ce574f-9f6d-4837-8657-c29643016d73",
   "metadata": {},
   "outputs": [
    {
     "data": {
      "text/html": [
       "<div>\n",
       "<style scoped>\n",
       "    .dataframe tbody tr th:only-of-type {\n",
       "        vertical-align: middle;\n",
       "    }\n",
       "\n",
       "    .dataframe tbody tr th {\n",
       "        vertical-align: top;\n",
       "    }\n",
       "\n",
       "    .dataframe thead th {\n",
       "        text-align: right;\n",
       "    }\n",
       "</style>\n",
       "<table border=\"1\" class=\"dataframe\">\n",
       "  <thead>\n",
       "    <tr style=\"text-align: right;\">\n",
       "      <th></th>\n",
       "      <th>num_legs</th>\n",
       "      <th>num_wings</th>\n",
       "    </tr>\n",
       "  </thead>\n",
       "  <tbody>\n",
       "    <tr>\n",
       "      <th>falcon</th>\n",
       "      <td>False</td>\n",
       "      <td>False</td>\n",
       "    </tr>\n",
       "    <tr>\n",
       "      <th>dog</th>\n",
       "      <td>True</td>\n",
       "      <td>False</td>\n",
       "    </tr>\n",
       "  </tbody>\n",
       "</table>\n",
       "</div>"
      ],
      "text/plain": [
       "        num_legs  num_wings\n",
       "falcon     False      False\n",
       "dog         True      False"
      ]
     },
     "execution_count": 121,
     "metadata": {},
     "output_type": "execute_result"
    }
   ],
   "source": [
    "~animals_df.isin([0, 2])"
   ]
  },
  {
   "cell_type": "markdown",
   "id": "ced5107d-318f-4c06-bc5c-c7a7c03a8e0c",
   "metadata": {},
   "source": [
    "#### When values is a dict, we can pass values to check for each column separately:\n",
    "\n"
   ]
  },
  {
   "cell_type": "code",
   "execution_count": 122,
   "id": "bf1bb799-8b7a-47dc-a1b8-bd80b78d0629",
   "metadata": {},
   "outputs": [
    {
     "data": {
      "text/html": [
       "<div>\n",
       "<style scoped>\n",
       "    .dataframe tbody tr th:only-of-type {\n",
       "        vertical-align: middle;\n",
       "    }\n",
       "\n",
       "    .dataframe tbody tr th {\n",
       "        vertical-align: top;\n",
       "    }\n",
       "\n",
       "    .dataframe thead th {\n",
       "        text-align: right;\n",
       "    }\n",
       "</style>\n",
       "<table border=\"1\" class=\"dataframe\">\n",
       "  <thead>\n",
       "    <tr style=\"text-align: right;\">\n",
       "      <th></th>\n",
       "      <th>num_legs</th>\n",
       "      <th>num_wings</th>\n",
       "    </tr>\n",
       "  </thead>\n",
       "  <tbody>\n",
       "    <tr>\n",
       "      <th>falcon</th>\n",
       "      <td>False</td>\n",
       "      <td>False</td>\n",
       "    </tr>\n",
       "    <tr>\n",
       "      <th>dog</th>\n",
       "      <td>False</td>\n",
       "      <td>True</td>\n",
       "    </tr>\n",
       "  </tbody>\n",
       "</table>\n",
       "</div>"
      ],
      "text/plain": [
       "        num_legs  num_wings\n",
       "falcon     False      False\n",
       "dog        False       True"
      ]
     },
     "execution_count": 122,
     "metadata": {},
     "output_type": "execute_result"
    }
   ],
   "source": [
    "animals_df.isin({'num_wings': [0, 3]})"
   ]
  },
  {
   "cell_type": "markdown",
   "id": "58d641ae-1887-4549-bf0a-ff44a5cf9344",
   "metadata": {},
   "source": [
    "### which animals have 0 or 2 legs or wings ??"
   ]
  },
  {
   "cell_type": "code",
   "execution_count": 125,
   "id": "019a08c2-4d52-4d00-82f4-a031e596796d",
   "metadata": {},
   "outputs": [
    {
     "data": {
      "text/html": [
       "<div>\n",
       "<style scoped>\n",
       "    .dataframe tbody tr th:only-of-type {\n",
       "        vertical-align: middle;\n",
       "    }\n",
       "\n",
       "    .dataframe tbody tr th {\n",
       "        vertical-align: top;\n",
       "    }\n",
       "\n",
       "    .dataframe thead th {\n",
       "        text-align: right;\n",
       "    }\n",
       "</style>\n",
       "<table border=\"1\" class=\"dataframe\">\n",
       "  <thead>\n",
       "    <tr style=\"text-align: right;\">\n",
       "      <th></th>\n",
       "      <th>num_legs</th>\n",
       "      <th>num_wings</th>\n",
       "    </tr>\n",
       "  </thead>\n",
       "  <tbody>\n",
       "    <tr>\n",
       "      <th>falcon</th>\n",
       "      <td>True</td>\n",
       "      <td>True</td>\n",
       "    </tr>\n",
       "    <tr>\n",
       "      <th>dog</th>\n",
       "      <td>False</td>\n",
       "      <td>True</td>\n",
       "    </tr>\n",
       "  </tbody>\n",
       "</table>\n",
       "</div>"
      ],
      "text/plain": [
       "        num_legs  num_wings\n",
       "falcon      True       True\n",
       "dog        False       True"
      ]
     },
     "execution_count": 125,
     "metadata": {},
     "output_type": "execute_result"
    }
   ],
   "source": [
    "# animals_df[ animals_df['num_legs'].isin([0,2]) |\n",
    "#             animals_df['num_wings'].isin([0,2]) ] \n",
    "\n",
    "# the above query can be simplified using dictionaries as below\n",
    "\n",
    "animals_df.isin( {'num_legs': [0, 2], \n",
    "                  'num_wings': [0, 2]} )"
   ]
  },
  {
   "cell_type": "markdown",
   "id": "7efd7e6e-dec2-464f-8f98-9356bd1ecf2e",
   "metadata": {},
   "source": [
    "# Setting indices  --- .reset_index()\n",
    "\n",
    "When we select a subset of a DataFrame using logic, we end up with non-consecutive indices. \n",
    "\n",
    "This is in-elegant and makes it hard to use .iloc().\n",
    "\n",
    "We can fix this using the method ---> .reset_index()"
   ]
  },
  {
   "cell_type": "code",
   "execution_count": null,
   "id": "3bc086cf-614a-42f3-addb-3e2bfa1b6eb7",
   "metadata": {},
   "outputs": [],
   "source": [
    "# Setting indices  --- .reset_index()\n",
    "\n",
    "For example, here is a DataFrame called df with non-consecutive indices:\n",
    "\tFirst Name\tLast Name\n",
    "0\tJohn\t    Smith\n",
    "4\tJane\t    Doe\n",
    "7\tJoe\t        Schmo\n",
    "\n",
    "If we use the command df.reset_index(), we get a new DataFrame with a new set of indices:\n",
    "   index\tFirst Name\tLast Name\n",
    "0\t0\t    John\t    Smith\n",
    "1\t4\t    Jane\t    Doe\n",
    "2\t7\t    Joe\t        Schmo\n",
    "\n",
    "Note that the old indices have been moved into a new column called 'index'.\n",
    "\n",
    "Unless you need those values for something special, it’s probably better to use the keyword drop=True so that you don’t end up \n",
    "with that extra column.\n",
    "\n",
    "If we run the command df.reset_index(drop=True), we get a new DataFrame that looks like this:\n",
    "\n",
    "\tFirst Name\tLast Name\n",
    "0\tJohn\t    Smith\n",
    "1\tJane\t    Doe\n",
    "2\tJoe\t        Schmo\n",
    "\n",
    "Using .reset_index() will return a new DataFrame, but we usually just want to modify our existing DataFrame. \n",
    "If we use the keyword inplace=True we can just modify our existing DataFrame."
   ]
  },
  {
   "cell_type": "markdown",
   "id": "20a54056-c6cf-40fe-baaf-c58415d20d69",
   "metadata": {},
   "source": [
    "# Excercise"
   ]
  },
  {
   "cell_type": "code",
   "execution_count": 127,
   "id": "6a18b932-346e-43f9-9762-85d4c3d1d0c2",
   "metadata": {},
   "outputs": [
    {
     "data": {
      "text/html": [
       "<div>\n",
       "<style scoped>\n",
       "    .dataframe tbody tr th:only-of-type {\n",
       "        vertical-align: middle;\n",
       "    }\n",
       "\n",
       "    .dataframe tbody tr th {\n",
       "        vertical-align: top;\n",
       "    }\n",
       "\n",
       "    .dataframe thead th {\n",
       "        text-align: right;\n",
       "    }\n",
       "</style>\n",
       "<table border=\"1\" class=\"dataframe\">\n",
       "  <thead>\n",
       "    <tr style=\"text-align: right;\">\n",
       "      <th></th>\n",
       "      <th>month</th>\n",
       "      <th>clinic_east</th>\n",
       "      <th>clinic_north</th>\n",
       "      <th>clinic_south</th>\n",
       "      <th>clinic_west</th>\n",
       "    </tr>\n",
       "  </thead>\n",
       "  <tbody>\n",
       "    <tr>\n",
       "      <th>1</th>\n",
       "      <td>February</td>\n",
       "      <td>51</td>\n",
       "      <td>45</td>\n",
       "      <td>145</td>\n",
       "      <td>45</td>\n",
       "    </tr>\n",
       "    <tr>\n",
       "      <th>3</th>\n",
       "      <td>April</td>\n",
       "      <td>80</td>\n",
       "      <td>80</td>\n",
       "      <td>54</td>\n",
       "      <td>180</td>\n",
       "    </tr>\n",
       "    <tr>\n",
       "      <th>5</th>\n",
       "      <td>June</td>\n",
       "      <td>112</td>\n",
       "      <td>109</td>\n",
       "      <td>79</td>\n",
       "      <td>129</td>\n",
       "    </tr>\n",
       "  </tbody>\n",
       "</table>\n",
       "</div>"
      ],
      "text/plain": [
       "      month  clinic_east  clinic_north  clinic_south  clinic_west\n",
       "1  February           51            45           145           45\n",
       "3     April           80            80            54          180\n",
       "5      June          112           109            79          129"
      ]
     },
     "execution_count": 127,
     "metadata": {},
     "output_type": "execute_result"
    }
   ],
   "source": [
    "# health_clinics_df2 is a subset of health_clinics_df\n",
    "\n",
    "health_clinics_df2 = health_clinics_df.loc[[1, 3, 5]]\n",
    "health_clinics_df2"
   ]
  },
  {
   "cell_type": "code",
   "execution_count": 128,
   "id": "53ecc6e9-9db3-4928-b059-e91f6c1fde04",
   "metadata": {},
   "outputs": [
    {
     "data": {
      "text/html": [
       "<div>\n",
       "<style scoped>\n",
       "    .dataframe tbody tr th:only-of-type {\n",
       "        vertical-align: middle;\n",
       "    }\n",
       "\n",
       "    .dataframe tbody tr th {\n",
       "        vertical-align: top;\n",
       "    }\n",
       "\n",
       "    .dataframe thead th {\n",
       "        text-align: right;\n",
       "    }\n",
       "</style>\n",
       "<table border=\"1\" class=\"dataframe\">\n",
       "  <thead>\n",
       "    <tr style=\"text-align: right;\">\n",
       "      <th></th>\n",
       "      <th>index</th>\n",
       "      <th>month</th>\n",
       "      <th>clinic_east</th>\n",
       "      <th>clinic_north</th>\n",
       "      <th>clinic_south</th>\n",
       "      <th>clinic_west</th>\n",
       "    </tr>\n",
       "  </thead>\n",
       "  <tbody>\n",
       "    <tr>\n",
       "      <th>0</th>\n",
       "      <td>1</td>\n",
       "      <td>February</td>\n",
       "      <td>51</td>\n",
       "      <td>45</td>\n",
       "      <td>145</td>\n",
       "      <td>45</td>\n",
       "    </tr>\n",
       "    <tr>\n",
       "      <th>1</th>\n",
       "      <td>3</td>\n",
       "      <td>April</td>\n",
       "      <td>80</td>\n",
       "      <td>80</td>\n",
       "      <td>54</td>\n",
       "      <td>180</td>\n",
       "    </tr>\n",
       "    <tr>\n",
       "      <th>2</th>\n",
       "      <td>5</td>\n",
       "      <td>June</td>\n",
       "      <td>112</td>\n",
       "      <td>109</td>\n",
       "      <td>79</td>\n",
       "      <td>129</td>\n",
       "    </tr>\n",
       "  </tbody>\n",
       "</table>\n",
       "</div>"
      ],
      "text/plain": [
       "   index     month  clinic_east  clinic_north  clinic_south  clinic_west\n",
       "0      1  February           51            45           145           45\n",
       "1      3     April           80            80            54          180\n",
       "2      5      June          112           109            79          129"
      ]
     },
     "execution_count": 128,
     "metadata": {},
     "output_type": "execute_result"
    }
   ],
   "source": [
    "health_clinics_df3 = health_clinics_df2.reset_index()\n",
    "health_clinics_df3"
   ]
  },
  {
   "cell_type": "code",
   "execution_count": 129,
   "id": "26f075fa-6115-4d5f-b7ad-0a1d75c57d50",
   "metadata": {},
   "outputs": [],
   "source": [
    "health_clinics_df2.reset_index(inplace=True, drop=True)"
   ]
  },
  {
   "cell_type": "code",
   "execution_count": 130,
   "id": "5749d2b2-404b-440b-82f3-b367b70302ee",
   "metadata": {},
   "outputs": [
    {
     "data": {
      "text/html": [
       "<div>\n",
       "<style scoped>\n",
       "    .dataframe tbody tr th:only-of-type {\n",
       "        vertical-align: middle;\n",
       "    }\n",
       "\n",
       "    .dataframe tbody tr th {\n",
       "        vertical-align: top;\n",
       "    }\n",
       "\n",
       "    .dataframe thead th {\n",
       "        text-align: right;\n",
       "    }\n",
       "</style>\n",
       "<table border=\"1\" class=\"dataframe\">\n",
       "  <thead>\n",
       "    <tr style=\"text-align: right;\">\n",
       "      <th></th>\n",
       "      <th>month</th>\n",
       "      <th>clinic_east</th>\n",
       "      <th>clinic_north</th>\n",
       "      <th>clinic_south</th>\n",
       "      <th>clinic_west</th>\n",
       "    </tr>\n",
       "  </thead>\n",
       "  <tbody>\n",
       "    <tr>\n",
       "      <th>0</th>\n",
       "      <td>February</td>\n",
       "      <td>51</td>\n",
       "      <td>45</td>\n",
       "      <td>145</td>\n",
       "      <td>45</td>\n",
       "    </tr>\n",
       "    <tr>\n",
       "      <th>1</th>\n",
       "      <td>April</td>\n",
       "      <td>80</td>\n",
       "      <td>80</td>\n",
       "      <td>54</td>\n",
       "      <td>180</td>\n",
       "    </tr>\n",
       "    <tr>\n",
       "      <th>2</th>\n",
       "      <td>June</td>\n",
       "      <td>112</td>\n",
       "      <td>109</td>\n",
       "      <td>79</td>\n",
       "      <td>129</td>\n",
       "    </tr>\n",
       "  </tbody>\n",
       "</table>\n",
       "</div>"
      ],
      "text/plain": [
       "      month  clinic_east  clinic_north  clinic_south  clinic_west\n",
       "0  February           51            45           145           45\n",
       "1     April           80            80            54          180\n",
       "2      June          112           109            79          129"
      ]
     },
     "execution_count": 130,
     "metadata": {},
     "output_type": "execute_result"
    }
   ],
   "source": [
    "health_clinics_df2"
   ]
  },
  {
   "cell_type": "markdown",
   "id": "82990238-3761-4003-b0cb-e09b5ab6a90e",
   "metadata": {},
   "source": [
    "# Question\n",
    "\n",
    "In the context of this exercise 56, when should I generally use the reset_index() method in Pandas?"
   ]
  },
  {
   "cell_type": "code",
   "execution_count": null,
   "id": "1a22fe25-0e67-4c36-9657-010723bf5f7f",
   "metadata": {},
   "outputs": [],
   "source": [
    "You can always use the method any time you’d like, but there are some common situations in which it would be particularly useful to apply.\n",
    "\n",
    "Situation 1:\n",
    "============\n",
    "    \n",
    "One common situation, which is given in the example text of the exercise, is when the dataframe has non-consecutive indices, \n",
    "meaning the indices are not sequential like 0, 1, 2,… and skip some values. \n",
    "This can occur when we create a new dataframe by selecting the rows from another dataframe, causing some of the indices to be out of order. \n",
    "By using reset_index() it will set the indices in order, starting from 0, and make it easier for us to work with the dataframe.\n",
    "\n",
    "Situation 2:\n",
    "============\n",
    "\n",
    "Another situation you might encounter is when the default index column was changed to some other values other than integers, \n",
    "such as the values of another column in the dataframe. \n",
    "For example, we might have updated the index column of a dataframe for country populations to be the country names, instead of integers. \n",
    "This is possible because in Pandas we have the option to change the index values from the default, integer values, \n",
    "to the values of another column in the dataframe, which can be strings or other value types. \n",
    "\n",
    "If we need to change the first column back to the integer indices, we can use reset_index()."
   ]
  },
  {
   "cell_type": "markdown",
   "id": "64a818fe-0d7e-4a77-ad0d-5e6a3380dc55",
   "metadata": {},
   "source": [
    "# Excercise - Practicing learning"
   ]
  },
  {
   "cell_type": "code",
   "execution_count": 134,
   "id": "8f8e1493-7da3-455c-92bd-88af8809dae8",
   "metadata": {},
   "outputs": [
    {
     "data": {
      "text/html": [
       "<div>\n",
       "<style scoped>\n",
       "    .dataframe tbody tr th:only-of-type {\n",
       "        vertical-align: middle;\n",
       "    }\n",
       "\n",
       "    .dataframe tbody tr th {\n",
       "        vertical-align: top;\n",
       "    }\n",
       "\n",
       "    .dataframe thead th {\n",
       "        text-align: right;\n",
       "    }\n",
       "</style>\n",
       "<table border=\"1\" class=\"dataframe\">\n",
       "  <thead>\n",
       "    <tr style=\"text-align: right;\">\n",
       "      <th></th>\n",
       "      <th>id</th>\n",
       "      <th>first_name</th>\n",
       "      <th>last_name</th>\n",
       "      <th>email</th>\n",
       "      <th>shoe_type</th>\n",
       "      <th>shoe_material</th>\n",
       "      <th>shoe_color</th>\n",
       "    </tr>\n",
       "  </thead>\n",
       "  <tbody>\n",
       "    <tr>\n",
       "      <th>0</th>\n",
       "      <td>54791.0</td>\n",
       "      <td>Rebecca</td>\n",
       "      <td>Lindsay</td>\n",
       "      <td>RebeccaLindsay57@hotmail.com</td>\n",
       "      <td>clogs</td>\n",
       "      <td>faux-leather</td>\n",
       "      <td>black</td>\n",
       "    </tr>\n",
       "    <tr>\n",
       "      <th>1</th>\n",
       "      <td>53450.0</td>\n",
       "      <td>Emily</td>\n",
       "      <td>Joyce</td>\n",
       "      <td>EmilyJoyce25@gmail.com</td>\n",
       "      <td>ballet flats</td>\n",
       "      <td>faux-leather</td>\n",
       "      <td>navy</td>\n",
       "    </tr>\n",
       "    <tr>\n",
       "      <th>2</th>\n",
       "      <td>91987.0</td>\n",
       "      <td>Joyce</td>\n",
       "      <td>Waller</td>\n",
       "      <td>Joyce.Waller@gmail.com</td>\n",
       "      <td>sandals</td>\n",
       "      <td>fabric</td>\n",
       "      <td>black</td>\n",
       "    </tr>\n",
       "    <tr>\n",
       "      <th>3</th>\n",
       "      <td>14437.0</td>\n",
       "      <td>Justin</td>\n",
       "      <td>Erickson</td>\n",
       "      <td>Justin.Erickson@outlook.com</td>\n",
       "      <td>clogs</td>\n",
       "      <td>faux-leather</td>\n",
       "      <td>red</td>\n",
       "    </tr>\n",
       "    <tr>\n",
       "      <th>4</th>\n",
       "      <td>79357.0</td>\n",
       "      <td>Andrew</td>\n",
       "      <td>Banks</td>\n",
       "      <td>AB4318@gmail.com</td>\n",
       "      <td>boots</td>\n",
       "      <td>leather</td>\n",
       "      <td>brown</td>\n",
       "    </tr>\n",
       "    <tr>\n",
       "      <th>5</th>\n",
       "      <td>52386.0</td>\n",
       "      <td>Julie</td>\n",
       "      <td>Marsh</td>\n",
       "      <td>JulieMarsh59@gmail.com</td>\n",
       "      <td>sandals</td>\n",
       "      <td>fabric</td>\n",
       "      <td>black</td>\n",
       "    </tr>\n",
       "    <tr>\n",
       "      <th>6</th>\n",
       "      <td>20487.0</td>\n",
       "      <td>Thomas</td>\n",
       "      <td>Jensen</td>\n",
       "      <td>TJ5470@gmail.com</td>\n",
       "      <td>clogs</td>\n",
       "      <td>fabric</td>\n",
       "      <td>navy</td>\n",
       "    </tr>\n",
       "    <tr>\n",
       "      <th>7</th>\n",
       "      <td>76971.0</td>\n",
       "      <td>Janice</td>\n",
       "      <td>Hicks</td>\n",
       "      <td>Janice.Hicks@gmail.com</td>\n",
       "      <td>clogs</td>\n",
       "      <td>faux-leather</td>\n",
       "      <td>navy</td>\n",
       "    </tr>\n",
       "    <tr>\n",
       "      <th>8</th>\n",
       "      <td>21586.0</td>\n",
       "      <td>Gabriel</td>\n",
       "      <td>Porter</td>\n",
       "      <td>GabrielPorter24@gmail.com</td>\n",
       "      <td>clogs</td>\n",
       "      <td>leather</td>\n",
       "      <td>brown</td>\n",
       "    </tr>\n",
       "    <tr>\n",
       "      <th>9</th>\n",
       "      <td>62083.0</td>\n",
       "      <td>Frances</td>\n",
       "      <td>Palmer</td>\n",
       "      <td>FrancesPalmer50@gmail.com</td>\n",
       "      <td>wedges</td>\n",
       "      <td>leather</td>\n",
       "      <td>white</td>\n",
       "    </tr>\n",
       "    <tr>\n",
       "      <th>10</th>\n",
       "      <td>NaN</td>\n",
       "      <td>NaN</td>\n",
       "      <td>NaN</td>\n",
       "      <td>NaN</td>\n",
       "      <td>NaN</td>\n",
       "      <td>NaN</td>\n",
       "      <td>NaN</td>\n",
       "    </tr>\n",
       "  </tbody>\n",
       "</table>\n",
       "</div>"
      ],
      "text/plain": [
       "         id first_name last_name                         email     shoe_type  \\\n",
       "0   54791.0    Rebecca   Lindsay  RebeccaLindsay57@hotmail.com         clogs   \n",
       "1   53450.0      Emily     Joyce        EmilyJoyce25@gmail.com  ballet flats   \n",
       "2   91987.0      Joyce    Waller        Joyce.Waller@gmail.com       sandals   \n",
       "3   14437.0     Justin  Erickson   Justin.Erickson@outlook.com         clogs   \n",
       "4   79357.0     Andrew     Banks              AB4318@gmail.com         boots   \n",
       "5   52386.0      Julie     Marsh        JulieMarsh59@gmail.com       sandals   \n",
       "6   20487.0     Thomas    Jensen              TJ5470@gmail.com         clogs   \n",
       "7   76971.0     Janice     Hicks        Janice.Hicks@gmail.com         clogs   \n",
       "8   21586.0    Gabriel    Porter     GabrielPorter24@gmail.com         clogs   \n",
       "9   62083.0    Frances    Palmer     FrancesPalmer50@gmail.com        wedges   \n",
       "10      NaN        NaN       NaN                           NaN           NaN   \n",
       "\n",
       "   shoe_material shoe_color  \n",
       "0   faux-leather      black  \n",
       "1   faux-leather       navy  \n",
       "2         fabric      black  \n",
       "3   faux-leather        red  \n",
       "4        leather      brown  \n",
       "5         fabric      black  \n",
       "6         fabric       navy  \n",
       "7   faux-leather       navy  \n",
       "8        leather      brown  \n",
       "9        leather      white  \n",
       "10           NaN        NaN  "
      ]
     },
     "execution_count": 134,
     "metadata": {},
     "output_type": "execute_result"
    }
   ],
   "source": [
    "orders_df"
   ]
  },
  {
   "cell_type": "code",
   "execution_count": null,
   "id": "a6ae4f0e-b19a-4944-9d01-4387d1c2020f",
   "metadata": {},
   "outputs": [],
   "source": [
    "'''\n",
    "Your marketing department wants to send out an email blast to everyone who ordered shoes!\n",
    "\n",
    "Select all of the email addresses from the column email and save them to a variable called emails.\n",
    "\n",
    "'''"
   ]
  },
  {
   "cell_type": "code",
   "execution_count": 133,
   "id": "503c88f9-20ac-4911-a726-db9bb177f191",
   "metadata": {},
   "outputs": [
    {
     "data": {
      "text/plain": [
       "0     RebeccaLindsay57@hotmail.com\n",
       "1           EmilyJoyce25@gmail.com\n",
       "2           Joyce.Waller@gmail.com\n",
       "3      Justin.Erickson@outlook.com\n",
       "4                 AB4318@gmail.com\n",
       "5           JulieMarsh59@gmail.com\n",
       "6                 TJ5470@gmail.com\n",
       "7           Janice.Hicks@gmail.com\n",
       "8        GabrielPorter24@gmail.com\n",
       "9        FrancesPalmer50@gmail.com\n",
       "10                             NaN\n",
       "Name: email, dtype: object"
      ]
     },
     "execution_count": 133,
     "metadata": {},
     "output_type": "execute_result"
    }
   ],
   "source": [
    "emails = orders_df['email']\n",
    "emails"
   ]
  },
  {
   "cell_type": "code",
   "execution_count": null,
   "id": "8208f30f-85fa-4016-b162-5bc5903bfaa3",
   "metadata": {},
   "outputs": [],
   "source": [
    "'''\n",
    "Frances Palmer claims that her order was wrong. What did Frances Palmer order?\n",
    "\n",
    "Use logic to select that row of orders and save it to the variable frances_palmer.\n",
    "\n",
    "'''"
   ]
  },
  {
   "cell_type": "code",
   "execution_count": 139,
   "id": "3713b438-fbea-47c0-91e1-f229921f6c17",
   "metadata": {},
   "outputs": [
    {
     "data": {
      "text/html": [
       "<div>\n",
       "<style scoped>\n",
       "    .dataframe tbody tr th:only-of-type {\n",
       "        vertical-align: middle;\n",
       "    }\n",
       "\n",
       "    .dataframe tbody tr th {\n",
       "        vertical-align: top;\n",
       "    }\n",
       "\n",
       "    .dataframe thead th {\n",
       "        text-align: right;\n",
       "    }\n",
       "</style>\n",
       "<table border=\"1\" class=\"dataframe\">\n",
       "  <thead>\n",
       "    <tr style=\"text-align: right;\">\n",
       "      <th></th>\n",
       "      <th>id</th>\n",
       "      <th>first_name</th>\n",
       "      <th>last_name</th>\n",
       "      <th>email</th>\n",
       "      <th>shoe_type</th>\n",
       "      <th>shoe_material</th>\n",
       "      <th>shoe_color</th>\n",
       "    </tr>\n",
       "  </thead>\n",
       "  <tbody>\n",
       "    <tr>\n",
       "      <th>9</th>\n",
       "      <td>62083.0</td>\n",
       "      <td>Frances</td>\n",
       "      <td>Palmer</td>\n",
       "      <td>FrancesPalmer50@gmail.com</td>\n",
       "      <td>wedges</td>\n",
       "      <td>leather</td>\n",
       "      <td>white</td>\n",
       "    </tr>\n",
       "  </tbody>\n",
       "</table>\n",
       "</div>"
      ],
      "text/plain": [
       "        id first_name last_name                      email shoe_type  \\\n",
       "9  62083.0    Frances    Palmer  FrancesPalmer50@gmail.com    wedges   \n",
       "\n",
       "  shoe_material shoe_color  \n",
       "9       leather      white  "
      ]
     },
     "execution_count": 139,
     "metadata": {},
     "output_type": "execute_result"
    }
   ],
   "source": [
    "frances_palmer = orders_df[ ( orders_df['first_name'] == 'Frances' ) & \n",
    "                            ( orders_df['last_name'] == 'Palmer' ) ]\n",
    "frances_palmer"
   ]
  },
  {
   "cell_type": "code",
   "execution_count": null,
   "id": "b0c16c72-1a0b-4d86-96af-c5b88e617401",
   "metadata": {},
   "outputs": [],
   "source": [
    "'''\n",
    "We need some customer reviews for our comfortable shoes. \n",
    "\n",
    "Select all orders for shoe_type: clogs, boots, and ballet flats and save them to the variable comfy_shoes.\n",
    "\n",
    "'''"
   ]
  },
  {
   "cell_type": "code",
   "execution_count": 140,
   "id": "1933debb-0ca3-4e52-9dea-3357a0bb0da8",
   "metadata": {},
   "outputs": [
    {
     "data": {
      "text/html": [
       "<div>\n",
       "<style scoped>\n",
       "    .dataframe tbody tr th:only-of-type {\n",
       "        vertical-align: middle;\n",
       "    }\n",
       "\n",
       "    .dataframe tbody tr th {\n",
       "        vertical-align: top;\n",
       "    }\n",
       "\n",
       "    .dataframe thead th {\n",
       "        text-align: right;\n",
       "    }\n",
       "</style>\n",
       "<table border=\"1\" class=\"dataframe\">\n",
       "  <thead>\n",
       "    <tr style=\"text-align: right;\">\n",
       "      <th></th>\n",
       "      <th>id</th>\n",
       "      <th>first_name</th>\n",
       "      <th>last_name</th>\n",
       "      <th>email</th>\n",
       "      <th>shoe_type</th>\n",
       "      <th>shoe_material</th>\n",
       "      <th>shoe_color</th>\n",
       "    </tr>\n",
       "  </thead>\n",
       "  <tbody>\n",
       "    <tr>\n",
       "      <th>0</th>\n",
       "      <td>54791.0</td>\n",
       "      <td>Rebecca</td>\n",
       "      <td>Lindsay</td>\n",
       "      <td>RebeccaLindsay57@hotmail.com</td>\n",
       "      <td>clogs</td>\n",
       "      <td>faux-leather</td>\n",
       "      <td>black</td>\n",
       "    </tr>\n",
       "    <tr>\n",
       "      <th>1</th>\n",
       "      <td>53450.0</td>\n",
       "      <td>Emily</td>\n",
       "      <td>Joyce</td>\n",
       "      <td>EmilyJoyce25@gmail.com</td>\n",
       "      <td>ballet flats</td>\n",
       "      <td>faux-leather</td>\n",
       "      <td>navy</td>\n",
       "    </tr>\n",
       "    <tr>\n",
       "      <th>3</th>\n",
       "      <td>14437.0</td>\n",
       "      <td>Justin</td>\n",
       "      <td>Erickson</td>\n",
       "      <td>Justin.Erickson@outlook.com</td>\n",
       "      <td>clogs</td>\n",
       "      <td>faux-leather</td>\n",
       "      <td>red</td>\n",
       "    </tr>\n",
       "    <tr>\n",
       "      <th>4</th>\n",
       "      <td>79357.0</td>\n",
       "      <td>Andrew</td>\n",
       "      <td>Banks</td>\n",
       "      <td>AB4318@gmail.com</td>\n",
       "      <td>boots</td>\n",
       "      <td>leather</td>\n",
       "      <td>brown</td>\n",
       "    </tr>\n",
       "    <tr>\n",
       "      <th>6</th>\n",
       "      <td>20487.0</td>\n",
       "      <td>Thomas</td>\n",
       "      <td>Jensen</td>\n",
       "      <td>TJ5470@gmail.com</td>\n",
       "      <td>clogs</td>\n",
       "      <td>fabric</td>\n",
       "      <td>navy</td>\n",
       "    </tr>\n",
       "    <tr>\n",
       "      <th>7</th>\n",
       "      <td>76971.0</td>\n",
       "      <td>Janice</td>\n",
       "      <td>Hicks</td>\n",
       "      <td>Janice.Hicks@gmail.com</td>\n",
       "      <td>clogs</td>\n",
       "      <td>faux-leather</td>\n",
       "      <td>navy</td>\n",
       "    </tr>\n",
       "    <tr>\n",
       "      <th>8</th>\n",
       "      <td>21586.0</td>\n",
       "      <td>Gabriel</td>\n",
       "      <td>Porter</td>\n",
       "      <td>GabrielPorter24@gmail.com</td>\n",
       "      <td>clogs</td>\n",
       "      <td>leather</td>\n",
       "      <td>brown</td>\n",
       "    </tr>\n",
       "  </tbody>\n",
       "</table>\n",
       "</div>"
      ],
      "text/plain": [
       "        id first_name last_name                         email     shoe_type  \\\n",
       "0  54791.0    Rebecca   Lindsay  RebeccaLindsay57@hotmail.com         clogs   \n",
       "1  53450.0      Emily     Joyce        EmilyJoyce25@gmail.com  ballet flats   \n",
       "3  14437.0     Justin  Erickson   Justin.Erickson@outlook.com         clogs   \n",
       "4  79357.0     Andrew     Banks              AB4318@gmail.com         boots   \n",
       "6  20487.0     Thomas    Jensen              TJ5470@gmail.com         clogs   \n",
       "7  76971.0     Janice     Hicks        Janice.Hicks@gmail.com         clogs   \n",
       "8  21586.0    Gabriel    Porter     GabrielPorter24@gmail.com         clogs   \n",
       "\n",
       "  shoe_material shoe_color  \n",
       "0  faux-leather      black  \n",
       "1  faux-leather       navy  \n",
       "3  faux-leather        red  \n",
       "4       leather      brown  \n",
       "6        fabric       navy  \n",
       "7  faux-leather       navy  \n",
       "8       leather      brown  "
      ]
     },
     "execution_count": 140,
     "metadata": {},
     "output_type": "execute_result"
    }
   ],
   "source": [
    "comfy_shoes = orders_df[orders_df['shoe_type'].isin(['clogs', 'boots', 'ballet flats'])]\n",
    "comfy_shoes"
   ]
  }
 ],
 "metadata": {
  "kernelspec": {
   "display_name": "Python 3 (ipykernel)",
   "language": "python",
   "name": "python3"
  },
  "language_info": {
   "codemirror_mode": {
    "name": "ipython",
    "version": 3
   },
   "file_extension": ".py",
   "mimetype": "text/x-python",
   "name": "python",
   "nbconvert_exporter": "python",
   "pygments_lexer": "ipython3",
   "version": "3.12.3"
  }
 },
 "nbformat": 4,
 "nbformat_minor": 5
}
