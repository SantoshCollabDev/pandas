{
 "cells": [
  {
   "cell_type": "markdown",
   "id": "145ee922-19be-44db-9951-ebccfcc26ae8",
   "metadata": {},
   "source": [
    "# Practice_Challenge_1 Tasks"
   ]
  },
  {
   "cell_type": "markdown",
   "id": "133a9f28-7dc6-443a-bca5-f6f393757b70",
   "metadata": {},
   "source": [
    "#### PART A"
   ]
  },
  {
   "cell_type": "markdown",
   "id": "419353dc-fa15-42dd-af18-84ce6fef6f46",
   "metadata": {},
   "source": [
    "In this project, we would like to create a portfolio of 3 cryptocurrencies ( BTC, ETH, and ADA ) and 3 stocks ( AMZN, TSLA, and AAPL).\n",
    "\n",
    "Using Pandas perform the following:\n",
    "===================================\n",
    "\n",
    "1. Using Yahoo Finance, search for the current closing price of the aforementioned list of cryptos and stocks\n",
    "\n",
    "2. create a Python dictionary that lists the ticker symbol(Keys) and prices (values) \n",
    "\n",
    "3. create a pandas series from a dictionary to show the cryptos/stocks ticker symbols and their corresponding prices\n",
    "\n",
    "4. Assume that you have the following number of assets in your portfolio: BTC = 3, ETH = 10, ADA = 1000, AMZN = 20, TSLA = 20, APPL = 5.\n",
    "Create a new Pandas series that contains these number of securities. Use the ticker symbols as the Pandas series lables.\n",
    "\n",
    "5. Multiply the number of securities by the price of each security. Calculate the total value of the portfolio including all securities\n"
   ]
  },
  {
   "cell_type": "code",
   "execution_count": 1,
   "id": "d7bb2523-1818-4ad7-b6cd-3d8afa78a8ea",
   "metadata": {},
   "outputs": [],
   "source": [
    "import pandas as pd"
   ]
  },
  {
   "cell_type": "markdown",
   "id": "ed7b6582-46ed-4a5d-8ef7-364c75515a5c",
   "metadata": {},
   "source": [
    "#### Task 1 & 2"
   ]
  },
  {
   "cell_type": "markdown",
   "id": "135900ba-5dff-4ac4-8714-774a5ad4b992",
   "metadata": {},
   "source": [
    "1. Using Yahoo Finance, search for the current closing price of the aforementioned list of cryptos and stocks\n",
    "\n",
    "2. create a Python dictionary that lists the ticker symbol(Keys) and prices (values) "
   ]
  },
  {
   "cell_type": "code",
   "execution_count": 2,
   "id": "df56d1c4-a97c-4b6d-b711-ad8251c5a16e",
   "metadata": {},
   "outputs": [],
   "source": [
    "portfolio = {'BTC':  43500,\n",
    "             'ETH':  3200,\n",
    "             'ADA':  1,\n",
    "             'AAPL': 171,\n",
    "             'TSLA': 1000, \n",
    "             'AMZN': 3175}"
   ]
  },
  {
   "cell_type": "code",
   "execution_count": 3,
   "id": "26e408e8-e4cc-4011-a810-efcdcbe28e00",
   "metadata": {},
   "outputs": [
    {
     "data": {
      "text/plain": [
       "{'BTC': 43500, 'ETH': 3200, 'ADA': 1, 'AAPL': 171, 'TSLA': 1000, 'AMZN': 3175}"
      ]
     },
     "execution_count": 3,
     "metadata": {},
     "output_type": "execute_result"
    }
   ],
   "source": [
    "portfolio"
   ]
  },
  {
   "cell_type": "markdown",
   "id": "636b621d-6cf9-44e6-8f08-b1e1eaa1175c",
   "metadata": {},
   "source": [
    "#### Task 3"
   ]
  },
  {
   "cell_type": "markdown",
   "id": "3d76b97d-ff06-4dad-8900-727b405e1b5d",
   "metadata": {},
   "source": [
    "3. create a pandas series from a dictionary to show the cryptos/stocks ticker symbols and their corresponding prices\n"
   ]
  },
  {
   "cell_type": "code",
   "execution_count": 7,
   "id": "76e74ceb-098d-479a-8b57-90c081f28290",
   "metadata": {},
   "outputs": [
    {
     "data": {
      "text/plain": [
       "BTC     43500\n",
       "ETH      3200\n",
       "ADA         1\n",
       "AAPL      171\n",
       "TSLA     1000\n",
       "AMZN     3175\n",
       "dtype: int64"
      ]
     },
     "execution_count": 7,
     "metadata": {},
     "output_type": "execute_result"
    }
   ],
   "source": [
    "portfolio_series = pd.Series( data = portfolio)\n",
    "portfolio_series"
   ]
  },
  {
   "cell_type": "code",
   "execution_count": 8,
   "id": "82eb886a-e30e-4942-8a81-57cc3b5c6117",
   "metadata": {},
   "outputs": [
    {
     "data": {
      "text/plain": [
       "pandas.core.series.Series"
      ]
     },
     "execution_count": 8,
     "metadata": {},
     "output_type": "execute_result"
    }
   ],
   "source": [
    "type(portfolio_series)"
   ]
  },
  {
   "cell_type": "code",
   "execution_count": 9,
   "id": "efad587a-e7cc-452d-9fb8-f3b1fa8e54e0",
   "metadata": {},
   "outputs": [
    {
     "data": {
      "text/plain": [
       "BTC     43500\n",
       "ETH      3200\n",
       "ADA         1\n",
       "AAPL      171\n",
       "TSLA     1000\n",
       "AMZN     3175\n",
       "dtype: int64"
      ]
     },
     "execution_count": 9,
     "metadata": {},
     "output_type": "execute_result"
    }
   ],
   "source": [
    "portfolio_series.squeeze()"
   ]
  },
  {
   "cell_type": "code",
   "execution_count": 10,
   "id": "5efd86c4-05a6-4f27-86b1-09492258a4ef",
   "metadata": {},
   "outputs": [
    {
     "data": {
      "text/plain": [
       "pandas.core.series.Series"
      ]
     },
     "execution_count": 10,
     "metadata": {},
     "output_type": "execute_result"
    }
   ],
   "source": [
    "type(portfolio_series)"
   ]
  },
  {
   "cell_type": "markdown",
   "id": "d47e488a-7cbd-437b-8e23-f35e56598a5f",
   "metadata": {},
   "source": [
    "#### Task 4"
   ]
  },
  {
   "cell_type": "code",
   "execution_count": null,
   "id": "c1c6ebe0-c498-43fa-adf9-2708b75106ae",
   "metadata": {},
   "outputs": [],
   "source": [
    "4. Assume that you have the following number of assets in your portfolio: BTC = 3, ETH = 10, ADA = 1000, AMZN = 20, TSLA = 20, APPL = 5.\n",
    "Create a new Pandas series that contains these number of securities. \n",
    "\n",
    "Use the ticker symbols as the Pandas series lables."
   ]
  },
  {
   "cell_type": "code",
   "execution_count": 11,
   "id": "aaa27337-2171-4023-b1d5-6ccb1933149d",
   "metadata": {},
   "outputs": [
    {
     "data": {
      "text/plain": [
       "BTC     10\n",
       "ETH      5\n",
       "ADA      2\n",
       "AAPL     4\n",
       "TSLA     5\n",
       "AMZN     6\n",
       "dtype: int64"
      ]
     },
     "execution_count": 11,
     "metadata": {},
     "output_type": "execute_result"
    }
   ],
   "source": [
    "number_securities = pd.Series(data = [10, 5, 2, 4, 5, 6],  index = ['BTC', 'ETH', 'ADA', 'AAPL', 'TSLA', 'AMZN'])\n",
    "number_securities"
   ]
  },
  {
   "cell_type": "markdown",
   "id": "8121526e-90fd-47a8-ad69-40afc84eb6d7",
   "metadata": {},
   "source": [
    "#### Task 5"
   ]
  },
  {
   "cell_type": "markdown",
   "id": "c368e869-7ce7-4049-8d6a-393bea987873",
   "metadata": {},
   "source": [
    "5. Multiply the number of securities by the price of each security. Calculate the total value of the portfolio including all securities"
   ]
  },
  {
   "cell_type": "code",
   "execution_count": 16,
   "id": "4adc9097-4b30-4fa0-979f-46cc20d586be",
   "metadata": {},
   "outputs": [
    {
     "data": {
      "text/plain": [
       "BTC     435000\n",
       "ETH      16000\n",
       "ADA          2\n",
       "AAPL       684\n",
       "TSLA      5000\n",
       "AMZN     19050\n",
       "dtype: int64"
      ]
     },
     "execution_count": 16,
     "metadata": {},
     "output_type": "execute_result"
    }
   ],
   "source": [
    "Total_dollar_value = portfolio_series.mul(number_securities)\n",
    "Total_dollar_value"
   ]
  },
  {
   "cell_type": "code",
   "execution_count": 18,
   "id": "4f5c43ad-d045-4f84-a2d2-2d93fca15715",
   "metadata": {},
   "outputs": [
    {
     "name": "stdout",
     "output_type": "stream",
     "text": [
      "Total portfolio Value = $475736\n"
     ]
    }
   ],
   "source": [
    "print('Total portfolio Value = ${}'.format(Total_dollar_value.sum()))"
   ]
  },
  {
   "cell_type": "code",
   "execution_count": 19,
   "id": "2160e6e0-d42c-4062-b7cb-623df604dc93",
   "metadata": {},
   "outputs": [
    {
     "name": "stdout",
     "output_type": "stream",
     "text": [
      "TOtal portfolio Value = $475736\n"
     ]
    }
   ],
   "source": [
    "print(f'TOtal portfolio Value = ${Total_dollar_value.sum()}')"
   ]
  },
  {
   "cell_type": "markdown",
   "id": "a8d8f259-5b30-4f83-9a0b-064cf1f86948",
   "metadata": {},
   "source": [
    "## PART - B"
   ]
  },
  {
   "cell_type": "markdown",
   "id": "77e73bf5-561c-4146-b2a1-ac9fd39a661c",
   "metadata": {},
   "source": [
    "Using the attached \"S&P500_Proces.csv\" perform the following:\n",
    "\n",
    "1. Using pandas, read the csv file into Pandas Data Frame. Check the datatype.\n",
    "\n",
    "2. Using pandas, read the csv fiel into a Pandas Data Series. Check the datatype.\n",
    "\n",
    "3. Obtain the maximum, minimum and average values of the S&P500\n",
    "\n",
    "4. Sort the Pandas Series in an ascending and descending order. Enforce the change in memory.\n",
    "\n",
    "5. Use describe() method to obtain a statistical summary of S&P500. What is standard deviation?\n",
    "\n",
    "6. With and without rounding the series to the nearest integer, search the price 3349"
   ]
  },
  {
   "cell_type": "markdown",
   "id": "ef5a8a42-d39d-4338-af27-a090c80093b6",
   "metadata": {},
   "source": [
    "#### Task 1"
   ]
  },
  {
   "cell_type": "code",
   "execution_count": 23,
   "id": "269907bc-ff8a-4cda-9eff-d458d23faede",
   "metadata": {},
   "outputs": [
    {
     "data": {
      "text/html": [
       "<div>\n",
       "<style scoped>\n",
       "    .dataframe tbody tr th:only-of-type {\n",
       "        vertical-align: middle;\n",
       "    }\n",
       "\n",
       "    .dataframe tbody tr th {\n",
       "        vertical-align: top;\n",
       "    }\n",
       "\n",
       "    .dataframe thead th {\n",
       "        text-align: right;\n",
       "    }\n",
       "</style>\n",
       "<table border=\"1\" class=\"dataframe\">\n",
       "  <thead>\n",
       "    <tr style=\"text-align: right;\">\n",
       "      <th></th>\n",
       "      <th>sp500</th>\n",
       "    </tr>\n",
       "  </thead>\n",
       "  <tbody>\n",
       "    <tr>\n",
       "      <th>0</th>\n",
       "      <td>1295.500000</td>\n",
       "    </tr>\n",
       "    <tr>\n",
       "      <th>1</th>\n",
       "      <td>1289.089966</td>\n",
       "    </tr>\n",
       "    <tr>\n",
       "      <th>2</th>\n",
       "      <td>1293.670044</td>\n",
       "    </tr>\n",
       "    <tr>\n",
       "      <th>3</th>\n",
       "      <td>1308.040039</td>\n",
       "    </tr>\n",
       "    <tr>\n",
       "      <th>4</th>\n",
       "      <td>1314.500000</td>\n",
       "    </tr>\n",
       "    <tr>\n",
       "      <th>...</th>\n",
       "      <td>...</td>\n",
       "    </tr>\n",
       "    <tr>\n",
       "      <th>2154</th>\n",
       "      <td>3327.770020</td>\n",
       "    </tr>\n",
       "    <tr>\n",
       "      <th>2155</th>\n",
       "      <td>3349.159912</td>\n",
       "    </tr>\n",
       "    <tr>\n",
       "      <th>2156</th>\n",
       "      <td>3351.280029</td>\n",
       "    </tr>\n",
       "    <tr>\n",
       "      <th>2157</th>\n",
       "      <td>3360.469971</td>\n",
       "    </tr>\n",
       "    <tr>\n",
       "      <th>2158</th>\n",
       "      <td>3333.689941</td>\n",
       "    </tr>\n",
       "  </tbody>\n",
       "</table>\n",
       "<p>2159 rows × 1 columns</p>\n",
       "</div>"
      ],
      "text/plain": [
       "            sp500\n",
       "0     1295.500000\n",
       "1     1289.089966\n",
       "2     1293.670044\n",
       "3     1308.040039\n",
       "4     1314.500000\n",
       "...           ...\n",
       "2154  3327.770020\n",
       "2155  3349.159912\n",
       "2156  3351.280029\n",
       "2157  3360.469971\n",
       "2158  3333.689941\n",
       "\n",
       "[2159 rows x 1 columns]"
      ]
     },
     "execution_count": 23,
     "metadata": {},
     "output_type": "execute_result"
    }
   ],
   "source": [
    "#1. Using pandas, read the csv file into Pandas Data Frame. Check the datatype.\n",
    "\n",
    "SP_prices = pd.read_csv('S&P500_Prices.csv')\n",
    "SP_prices"
   ]
  },
  {
   "cell_type": "code",
   "execution_count": 24,
   "id": "a23826c0-0bac-4f6e-a980-3c40a5fd4896",
   "metadata": {},
   "outputs": [
    {
     "data": {
      "text/plain": [
       "pandas.core.frame.DataFrame"
      ]
     },
     "execution_count": 24,
     "metadata": {},
     "output_type": "execute_result"
    }
   ],
   "source": [
    "type(SP_prices)"
   ]
  },
  {
   "cell_type": "markdown",
   "id": "e5329c74-7da5-4cb3-b633-ea3217f4dc3b",
   "metadata": {},
   "source": [
    "#### Task 2"
   ]
  },
  {
   "cell_type": "markdown",
   "id": "93c794b3-9007-4ff2-9612-e0f38219de9b",
   "metadata": {},
   "source": [
    "2. Using pandas, read the csv fiel into a Pandas Data Series. Check the datatype.\n"
   ]
  },
  {
   "cell_type": "code",
   "execution_count": 32,
   "id": "0f0fe329-40e7-4db9-8a9a-e82b6a6c1167",
   "metadata": {},
   "outputs": [],
   "source": [
    "SP_prices_series = SP_prices.squeeze()"
   ]
  },
  {
   "cell_type": "code",
   "execution_count": 33,
   "id": "d96b3dd3-e761-496a-9f7b-08a15c5a6849",
   "metadata": {},
   "outputs": [
    {
     "data": {
      "text/plain": [
       "pandas.core.series.Series"
      ]
     },
     "execution_count": 33,
     "metadata": {},
     "output_type": "execute_result"
    }
   ],
   "source": [
    "type(SP_prices_series)"
   ]
  },
  {
   "cell_type": "markdown",
   "id": "f12c7956-681e-4f25-ac8e-858b3d1c747f",
   "metadata": {},
   "source": [
    "#### Task 3"
   ]
  },
  {
   "cell_type": "code",
   "execution_count": null,
   "id": "500fc951-fa92-4440-83f8-e48a3389aab8",
   "metadata": {},
   "outputs": [],
   "source": [
    "3. Obtain the maximum, minimum and average values of the S&P500\n"
   ]
  },
  {
   "cell_type": "code",
   "execution_count": 40,
   "id": "8690637c-5489-485e-a74b-ac86748abddd",
   "metadata": {},
   "outputs": [
    {
     "name": "stdout",
     "output_type": "stream",
     "text": [
      "3386.149902\n"
     ]
    }
   ],
   "source": [
    "print(SP_prices_series.max())"
   ]
  },
  {
   "cell_type": "code",
   "execution_count": 41,
   "id": "4c2049fa-3269-486a-b13f-60633d6b5abd",
   "metadata": {},
   "outputs": [
    {
     "name": "stdout",
     "output_type": "stream",
     "text": [
      "1278.040039\n"
     ]
    }
   ],
   "source": [
    "print(SP_prices_series.min())"
   ]
  },
  {
   "cell_type": "code",
   "execution_count": 50,
   "id": "9dcf0104-5b29-4527-baf8-078665552a45",
   "metadata": {},
   "outputs": [
    {
     "name": "stdout",
     "output_type": "stream",
     "text": [
      "2218.7495540592868\n"
     ]
    }
   ],
   "source": [
    "# find avg - approach 1\n",
    "\n",
    "print(SP_prices_series.mean())"
   ]
  },
  {
   "cell_type": "code",
   "execution_count": 49,
   "id": "8f67cbcf-810c-4717-8508-249148b770a5",
   "metadata": {},
   "outputs": [
    {
     "name": "stdout",
     "output_type": "stream",
     "text": [
      "2218.7495540592868\n"
     ]
    }
   ],
   "source": [
    "# find avg - approach 2\n",
    "\n",
    "print(SP_prices_series.sum() / SP_prices_series.count())"
   ]
  },
  {
   "cell_type": "markdown",
   "id": "67968ea4-3003-42ed-ba70-d120d591882c",
   "metadata": {},
   "source": [
    "#### Task 4"
   ]
  },
  {
   "cell_type": "markdown",
   "id": "69f1ef47-e571-48e8-a51b-8480e7bbb038",
   "metadata": {},
   "source": [
    "4. Sort the Pandas Series in an ascending and descending order. Enforce the change in memory.\n"
   ]
  },
  {
   "cell_type": "code",
   "execution_count": 43,
   "id": "046019f5-6d34-4540-b820-6ef05b298c62",
   "metadata": {},
   "outputs": [
    {
     "data": {
      "text/plain": [
       "97      1278.040039\n",
       "98      1278.180054\n",
       "99      1285.500000\n",
       "1       1289.089966\n",
       "2       1293.670044\n",
       "           ...     \n",
       "2038    3373.229980\n",
       "2034    3373.939941\n",
       "2033    3379.449951\n",
       "2035    3380.159912\n",
       "2037    3386.149902\n",
       "Name: sp500, Length: 2159, dtype: float64"
      ]
     },
     "execution_count": 43,
     "metadata": {},
     "output_type": "execute_result"
    }
   ],
   "source": [
    "SP_prices_series.sort_values(inplace = True)\n",
    "SP_prices_series"
   ]
  },
  {
   "cell_type": "code",
   "execution_count": 44,
   "id": "2e8edd07-77c3-4f3e-b21c-a3d0b5338c20",
   "metadata": {},
   "outputs": [
    {
     "data": {
      "text/plain": [
       "0       1295.500000\n",
       "1       1289.089966\n",
       "2       1293.670044\n",
       "3       1308.040039\n",
       "4       1314.500000\n",
       "           ...     \n",
       "2154    3327.770020\n",
       "2155    3349.159912\n",
       "2156    3351.280029\n",
       "2157    3360.469971\n",
       "2158    3333.689941\n",
       "Name: sp500, Length: 2159, dtype: float64"
      ]
     },
     "execution_count": 44,
     "metadata": {},
     "output_type": "execute_result"
    }
   ],
   "source": [
    "SP_prices_series.sort_index(inplace = True)\n",
    "SP_prices_series"
   ]
  },
  {
   "cell_type": "code",
   "execution_count": 45,
   "id": "404002a3-9935-4c8c-a1a5-6ea32caf57ae",
   "metadata": {},
   "outputs": [
    {
     "data": {
      "text/plain": [
       "2158    3333.689941\n",
       "2157    3360.469971\n",
       "2156    3351.280029\n",
       "2155    3349.159912\n",
       "2154    3327.770020\n",
       "           ...     \n",
       "4       1314.500000\n",
       "3       1308.040039\n",
       "2       1293.670044\n",
       "1       1289.089966\n",
       "0       1295.500000\n",
       "Name: sp500, Length: 2159, dtype: float64"
      ]
     },
     "execution_count": 45,
     "metadata": {},
     "output_type": "execute_result"
    }
   ],
   "source": [
    "SP_prices_series.sort_index(ascending = False, inplace = True)\n",
    "SP_prices_series"
   ]
  },
  {
   "cell_type": "markdown",
   "id": "8788fb72-6c8d-4e03-932f-c3622f07f135",
   "metadata": {},
   "source": [
    "#### Task 5"
   ]
  },
  {
   "cell_type": "markdown",
   "id": "15825e86-a332-421c-9cc0-8cf36df1af4d",
   "metadata": {},
   "source": [
    "5. Use describe() method to obtain a statistical summary of S&P500. What is standard deviation?\n"
   ]
  },
  {
   "cell_type": "code",
   "execution_count": 46,
   "id": "3e799adf-08d2-4a2c-a700-b2163f15a1e1",
   "metadata": {},
   "outputs": [
    {
     "data": {
      "text/plain": [
       "count    2159.000000\n",
       "mean     2218.749554\n",
       "std       537.321727\n",
       "min      1278.040039\n",
       "25%      1847.984985\n",
       "50%      2106.629883\n",
       "75%      2705.810059\n",
       "max      3386.149902\n",
       "Name: sp500, dtype: float64"
      ]
     },
     "execution_count": 46,
     "metadata": {},
     "output_type": "execute_result"
    }
   ],
   "source": [
    "SP_prices_series.describe()"
   ]
  },
  {
   "cell_type": "markdown",
   "id": "a4fec55b-7d16-4922-aa23-fda1ed0c6250",
   "metadata": {},
   "source": [
    "Standard deciation is 537.321727"
   ]
  },
  {
   "cell_type": "markdown",
   "id": "9a98a8e4-ec93-48f9-9bd4-1b0e1e8163d1",
   "metadata": {},
   "source": [
    "#### Task 6"
   ]
  },
  {
   "cell_type": "markdown",
   "id": "7b597126-9885-419d-913c-69971aee5242",
   "metadata": {},
   "source": [
    "6. With and without rounding the series to the nearest integer, search the price 3349"
   ]
  },
  {
   "cell_type": "code",
   "execution_count": 52,
   "id": "13fa1bd5-8460-4bf4-91ec-fd3cef252f7d",
   "metadata": {},
   "outputs": [
    {
     "data": {
      "text/plain": [
       "2158    3333.689941\n",
       "2157    3360.469971\n",
       "2156    3351.280029\n",
       "2155    3349.159912\n",
       "2154    3327.770020\n",
       "           ...     \n",
       "4       1314.500000\n",
       "3       1308.040039\n",
       "2       1293.670044\n",
       "1       1289.089966\n",
       "0       1295.500000\n",
       "Name: sp500, Length: 2159, dtype: float64"
      ]
     },
     "execution_count": 52,
     "metadata": {},
     "output_type": "execute_result"
    }
   ],
   "source": [
    "SP_prices_series"
   ]
  },
  {
   "cell_type": "code",
   "execution_count": 54,
   "id": "0aceaaab-c984-4850-bde1-b8c44e67dbcd",
   "metadata": {},
   "outputs": [
    {
     "data": {
      "text/plain": [
       "False"
      ]
     },
     "execution_count": 54,
     "metadata": {},
     "output_type": "execute_result"
    }
   ],
   "source": [
    "3349 in SP_prices_series.values"
   ]
  },
  {
   "cell_type": "code",
   "execution_count": 55,
   "id": "c6c31470-4244-4155-8f13-22306928655f",
   "metadata": {},
   "outputs": [
    {
     "data": {
      "text/plain": [
       "True"
      ]
     },
     "execution_count": 55,
     "metadata": {},
     "output_type": "execute_result"
    }
   ],
   "source": [
    "3349.159912 in SP_prices_series.values"
   ]
  },
  {
   "cell_type": "code",
   "execution_count": 62,
   "id": "be72626a-2cbd-4162-ac1b-e3615e70cefa",
   "metadata": {},
   "outputs": [
    {
     "data": {
      "text/plain": [
       "pandas.core.frame.DataFrame"
      ]
     },
     "execution_count": 62,
     "metadata": {},
     "output_type": "execute_result"
    }
   ],
   "source": [
    "BTC_price = pd.read_csv('crypto.csv')\n",
    "BTC_price.squeeze()\n",
    "type(BTC_price)"
   ]
  }
 ],
 "metadata": {
  "kernelspec": {
   "display_name": "Python 3 (ipykernel)",
   "language": "python",
   "name": "python3"
  },
  "language_info": {
   "codemirror_mode": {
    "name": "ipython",
    "version": 3
   },
   "file_extension": ".py",
   "mimetype": "text/x-python",
   "name": "python",
   "nbconvert_exporter": "python",
   "pygments_lexer": "ipython3",
   "version": "3.12.3"
  }
 },
 "nbformat": 4,
 "nbformat_minor": 5
}
